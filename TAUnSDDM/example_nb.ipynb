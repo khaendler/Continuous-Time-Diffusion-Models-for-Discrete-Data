{
 "cells": [
  {
   "cell_type": "code",
   "execution_count": 1,
   "metadata": {},
   "outputs": [
    {
     "name": "stderr",
     "output_type": "stream",
     "text": [
      "2024-07-07 11:40:36.220739: I tensorflow/core/platform/cpu_feature_guard.cc:182] This TensorFlow binary is optimized to use available CPU instructions in performance-critical operations.\n",
      "To enable the following instructions: AVX2 FMA, in other operations, rebuild TensorFlow with the appropriate compiler flags.\n",
      "/Users/paulheller/PythonRepositories/Master-Thesis/TAUnSDDM/lib/networks/dit.py:165: SyntaxWarning: assertion is always true, perhaps remove parentheses?\n",
      "  assert (\n",
      "/Users/paulheller/PythonRepositories/Master-Thesis/TAUnSDDM/lib/networks/dit.py:169: SyntaxWarning: assertion is always true, perhaps remove parentheses?\n",
      "  assert (\n",
      "/Users/paulheller/PythonRepositories/Master-Thesis/TAUnSDDM/lib/networks/dit.py:174: SyntaxWarning: assertion is always true, perhaps remove parentheses?\n",
      "  assert (\n",
      "/Users/paulheller/PythonRepositories/Master-Thesis/TAUnSDDM/lib/networks/dit.py:178: SyntaxWarning: assertion is always true, perhaps remove parentheses?\n",
      "  assert (\n"
     ]
    },
    {
     "ename": "ModuleNotFoundError",
     "evalue": "No module named 'timm'",
     "output_type": "error",
     "traceback": [
      "\u001b[0;31m---------------------------------------------------------------------------\u001b[0m",
      "\u001b[0;31mModuleNotFoundError\u001b[0m                       Traceback (most recent call last)",
      "Cell \u001b[0;32mIn[1], line 7\u001b[0m\n\u001b[1;32m      5\u001b[0m \u001b[38;5;28;01mimport\u001b[39;00m \u001b[38;5;21;01mnumpy\u001b[39;00m \u001b[38;5;28;01mas\u001b[39;00m \u001b[38;5;21;01mnp\u001b[39;00m\n\u001b[1;32m      6\u001b[0m \u001b[38;5;28;01mimport\u001b[39;00m \u001b[38;5;21;01mmatplotlib\u001b[39;00m\u001b[38;5;21;01m.\u001b[39;00m\u001b[38;5;21;01mpyplot\u001b[39;00m \u001b[38;5;28;01mas\u001b[39;00m \u001b[38;5;21;01mplt\u001b[39;00m\n\u001b[0;32m----> 7\u001b[0m \u001b[38;5;28;01mimport\u001b[39;00m \u001b[38;5;21;01mlib\u001b[39;00m\u001b[38;5;21;01m.\u001b[39;00m\u001b[38;5;21;01mmodels\u001b[39;00m\u001b[38;5;21;01m.\u001b[39;00m\u001b[38;5;21;01mmodels\u001b[39;00m \u001b[38;5;28;01mas\u001b[39;00m \u001b[38;5;21;01mmodels\u001b[39;00m\n\u001b[1;32m      8\u001b[0m \u001b[38;5;28;01mimport\u001b[39;00m \u001b[38;5;21;01mlib\u001b[39;00m\u001b[38;5;21;01m.\u001b[39;00m\u001b[38;5;21;01mmodels\u001b[39;00m\u001b[38;5;21;01m.\u001b[39;00m\u001b[38;5;21;01mmodel_utils\u001b[39;00m \u001b[38;5;28;01mas\u001b[39;00m \u001b[38;5;21;01mmodel_utils\u001b[39;00m\n\u001b[1;32m      9\u001b[0m \u001b[38;5;28;01mfrom\u001b[39;00m \u001b[38;5;21;01mlib\u001b[39;00m\u001b[38;5;21;01m.\u001b[39;00m\u001b[38;5;21;01mdatasets\u001b[39;00m \u001b[38;5;28;01mimport\u001b[39;00m mnist, maze, protein, synthetic\n",
      "File \u001b[0;32m~/PythonRepositories/Master-Thesis/TAUnSDDM/lib/models/models.py:9\u001b[0m\n\u001b[1;32m      7\u001b[0m \u001b[38;5;28;01mimport\u001b[39;00m \u001b[38;5;21;01mtorch\u001b[39;00m\u001b[38;5;21;01m.\u001b[39;00m\u001b[38;5;21;01mautograd\u001b[39;00m\u001b[38;5;21;01m.\u001b[39;00m\u001b[38;5;21;01mprofiler\u001b[39;00m \u001b[38;5;28;01mas\u001b[39;00m \u001b[38;5;21;01mprofiler\u001b[39;00m\n\u001b[1;32m      8\u001b[0m \u001b[38;5;28;01mfrom\u001b[39;00m \u001b[38;5;21;01mtorch\u001b[39;00m\u001b[38;5;21;01m.\u001b[39;00m\u001b[38;5;21;01mnn\u001b[39;00m\u001b[38;5;21;01m.\u001b[39;00m\u001b[38;5;21;01mparallel\u001b[39;00m \u001b[38;5;28;01mimport\u001b[39;00m DistributedDataParallel \u001b[38;5;28;01mas\u001b[39;00m DDP\n\u001b[0;32m----> 9\u001b[0m \u001b[38;5;28;01mfrom\u001b[39;00m \u001b[38;5;21;01mlib\u001b[39;00m\u001b[38;5;21;01m.\u001b[39;00m\u001b[38;5;21;01mnetworks\u001b[39;00m \u001b[38;5;28;01mimport\u001b[39;00m hollow_networks, ebm_networks, tau_networks, unet, dit, u_vit\n\u001b[1;32m     10\u001b[0m \u001b[38;5;28;01mfrom\u001b[39;00m \u001b[38;5;21;01mlib\u001b[39;00m\u001b[38;5;21;01m.\u001b[39;00m\u001b[38;5;21;01mmodels\u001b[39;00m\u001b[38;5;21;01m.\u001b[39;00m\u001b[38;5;21;01mforward_model\u001b[39;00m \u001b[38;5;28;01mimport\u001b[39;00m (\n\u001b[1;32m     11\u001b[0m     UniformRate,\n\u001b[1;32m     12\u001b[0m     UniformVariantRate,\n\u001b[1;32m     13\u001b[0m     GaussianTargetRate,\n\u001b[1;32m     14\u001b[0m     BirthDeathForwardBase,\n\u001b[1;32m     15\u001b[0m )\n\u001b[1;32m     16\u001b[0m \u001b[38;5;28;01mfrom\u001b[39;00m \u001b[38;5;21;01mlib\u001b[39;00m\u001b[38;5;21;01m.\u001b[39;00m\u001b[38;5;21;01mdatasets\u001b[39;00m\u001b[38;5;21;01m.\u001b[39;00m\u001b[38;5;21;01msudoku\u001b[39;00m \u001b[38;5;28;01mimport\u001b[39;00m define_relative_encoding\n",
      "File \u001b[0;32m~/PythonRepositories/Master-Thesis/TAUnSDDM/lib/networks/dit.py:5\u001b[0m\n\u001b[1;32m      3\u001b[0m \u001b[38;5;28;01mimport\u001b[39;00m \u001b[38;5;21;01mnumpy\u001b[39;00m \u001b[38;5;28;01mas\u001b[39;00m \u001b[38;5;21;01mnp\u001b[39;00m\n\u001b[1;32m      4\u001b[0m \u001b[38;5;28;01mimport\u001b[39;00m \u001b[38;5;21;01mmath\u001b[39;00m\n\u001b[0;32m----> 5\u001b[0m \u001b[38;5;28;01mfrom\u001b[39;00m \u001b[38;5;21;01mtimm\u001b[39;00m\u001b[38;5;21;01m.\u001b[39;00m\u001b[38;5;21;01mmodels\u001b[39;00m\u001b[38;5;21;01m.\u001b[39;00m\u001b[38;5;21;01mvision_transformer\u001b[39;00m \u001b[38;5;28;01mimport\u001b[39;00m Attention, Mlp  \u001b[38;5;66;03m# PatchEmbed\u001b[39;00m\n\u001b[1;32m      6\u001b[0m \u001b[38;5;28;01mfrom\u001b[39;00m \u001b[38;5;21;01mtorchtyping\u001b[39;00m \u001b[38;5;28;01mimport\u001b[39;00m TensorType\n\u001b[1;32m      7\u001b[0m \u001b[38;5;28;01mfrom\u001b[39;00m \u001b[38;5;21;01mtyping\u001b[39;00m \u001b[38;5;28;01mimport\u001b[39;00m Callable, List, Optional, Tuple, Union\n",
      "\u001b[0;31mModuleNotFoundError\u001b[0m: No module named 'timm'"
     ]
    }
   ],
   "source": [
    "import torch\n",
    "import lib.utils.bookkeeping as bookkeeping\n",
    "from torch.utils.data import DataLoader\n",
    "from pathlib import Path\n",
    "import numpy as np\n",
    "import matplotlib.pyplot as plt\n",
    "import lib.models.models as models\n",
    "import lib.models.model_utils as model_utils\n",
    "from lib.datasets import mnist, maze, protein, synthetic\n",
    "import lib.datasets.dataset_utils as dataset_utils\n",
    "import lib.losses.losses as losses\n",
    "import lib.losses.losses_utils as losses_utils\n",
    "import lib.training.training as training\n",
    "import lib.training.training_utils as training_utils\n",
    "import lib.optimizers.optimizers as optimizers\n",
    "import lib.optimizers.optimizers_utils as optimizers_utils\n",
    "import lib.sampling.sampling as sampling\n",
    "import lib.sampling.sampling_utils as sampling_utils\n",
    "import os\n",
    "from lib.datasets.maze import maze_acc\n",
    "from config.cifar10_config.config_uvit_cifar10 import get_config\n",
    "from tqdm import tqdm"
   ]
  },
  {
   "cell_type": "code",
   "execution_count": 2,
   "metadata": {},
   "outputs": [],
   "source": [
    "\n",
    "cfg = get_config()"
   ]
  },
  {
   "cell_type": "code",
   "execution_count": 3,
   "metadata": {},
   "outputs": [],
   "source": [
    "dataset = dataset_utils.get_dataset(cfg, cfg.device, cfg.data.location)\n",
    "dataloader = torch.utils.data.DataLoader(dataset,\n",
    "    batch_size=1,\n",
    "    shuffle=cfg.data.shuffle)"
   ]
  },
  {
   "cell_type": "code",
   "execution_count": null,
   "metadata": {},
   "outputs": [],
   "source": [
    "for minib in tqdm(dataloader):\n",
    "    plt.axis(\"off\")\n",
    "    plt.imshow(np.transpose(minib (1, 2, 0)), cmap=\"gray\")"
   ]
  },
  {
   "cell_type": "code",
   "execution_count": null,
   "metadata": {},
   "outputs": [],
   "source": [
    "\n",
    "\n",
    "import numpy as np\n",
    "import matplotlib.pyplot as plt\n",
    "import matplotlib.animation as animation\n",
    "\n",
    "# Überprüfen der verfügbaren Writer\n",
    "print(animation.writers.list())\n",
    "\n",
    "# Sicherstellen, dass 'ffmpeg' als Writer verwendet wird\n",
    "plt.rcParams['animation.ffmpeg_path'] = '/usr/local/bin/ffmpeg'  # Pfad zu ffmpeg, anpassen falls nötig\n",
    "\n",
    "# Parameter der Monte Carlo-Simulation\n",
    "num_paths = 10\n",
    "num_steps = 100\n",
    "dt = 0.1\n",
    "mu = 0.1\n",
    "sigma = 0.2\n",
    "\n",
    "fig, ax = plt.subplots(figsize=(10, 6), dpi=300)\n",
    "# Erstellen einer Figur und einer Achse\n",
    "\n",
    "x = np.linspace(0, num_steps * dt, num_steps)\n",
    "ax.set_xlim(0, num_steps * dt)\n",
    "ax.set_ylim(15.25, 18.5)  # Setze die y-Grenzen für bessere Sichtbarkeit\n",
    "\n",
    "# Beschriftung der Achsen\n",
    "ax.set_xlabel('Time', fontsize=12, color='black')\n",
    "ax.set_ylabel('Price of Commerzbank Stock', fontsize=12, color='black')\n",
    "ax.set_xticklabels([])\n",
    "\n",
    "# Achsenstile definieren\n",
    "ax.tick_params(axis='x', colors='black', width=1)\n",
    "ax.tick_params(axis='y', colors='black', width=1)\n",
    "for spine in ax.spines.values():\n",
    "    spine.set_edgecolor('black')\n",
    "    spine.set_linewidth(1)\n",
    "\n",
    "# Erstellen von Linienobjekten für jeden Pfad\n",
    "lines = [ax.plot([], [])[0] for _ in range(num_paths)]\n",
    "\n",
    "# Funktion zur Initialisierung des Plots\n",
    "def init():\n",
    "    for line in lines:\n",
    "        line.set_data([], [])\n",
    "    return lines\n",
    "\n",
    "# Funktion zur Animation des Plots\n",
    "def update(frame):\n",
    "    for line in lines:\n",
    "        xdata, ydata = line.get_data()\n",
    "        if len(xdata) == 0:\n",
    "            xdata = [0]\n",
    "            ydata = [16]  # Starte bei y = 16\n",
    "        xdata.append(frame * dt)\n",
    "        ydata.append(ydata[-1] + mu * dt + sigma * np.sqrt(dt) * np.random.normal())\n",
    "        line.set_data(xdata, ydata)\n",
    "    return lines\n",
    "\n",
    "# Initialisierung der Y-Daten mit Startwerten\n",
    "for line in lines:\n",
    "    line.set_data([], [])\n",
    "\n",
    "# Erstellen der Animation\n",
    "ani = animation.FuncAnimation(fig, update, frames=num_steps, init_func=init, blit=True)\n",
    "\n",
    "# Speichern der Animation als Video\n",
    "Writer = animation.writers['ffmpeg']\n",
    "writer = Writer(fps=30, metadata=dict(artist='Me'), bitrate=1800)\n",
    "ani.save('monte_carlo_simulation.mp4', writer=writer)\n",
    "\n",
    "plt.show()\n",
    "\n"
   ]
  },
  {
   "cell_type": "code",
   "execution_count": 7,
   "metadata": {},
   "outputs": [
    {
     "name": "stderr",
     "output_type": "stream",
     "text": [
      "  0%|          | 0/938 [00:00<?, ?it/s]"
     ]
    },
    {
     "name": "stdout",
     "output_type": "stream",
     "text": [
      "torch.Size([64, 1, 28, 28]) cuda:0 <built-in method type of Tensor object at 0x7fa7f926c230>\n",
      "after patch torch.Size([64, 16, 32])\n",
      "after pos torch.Size([64, 16, 32])\n",
      "after transf torch.Size([64, 16, 32])\n",
      "after mean torch.Size([64, 32])\n",
      "after latent torch.Size([64, 32])\n",
      "torch.Size([64, 10])\n"
     ]
    },
    {
     "name": "stderr",
     "output_type": "stream",
     "text": [
      "\n"
     ]
    }
   ],
   "source": [
    "from lib.networks.vit import SimpleViT\n",
    "nn_vit = SimpleViT(image_size=28, patch_size=7, num_classes=10, dim=32, depth=2, heads=4, mlp_dim=512, channels=1, dim_head=32, device=cfg.device).to(cfg.device).to(torch.float32) \n",
    "for minib in tqdm(dataloader):\n",
    "    break"
   ]
  },
  {
   "cell_type": "code",
   "execution_count": 8,
   "metadata": {},
   "outputs": [],
   "source": [
    "a = torch.rand(32,2, 28, 28)"
   ]
  },
  {
   "cell_type": "code",
   "execution_count": 11,
   "metadata": {},
   "outputs": [
    {
     "name": "stdout",
     "output_type": "stream",
     "text": [
      "b torch.Size([32, 1, 28, 28, 1])\n",
      "c torch.Size([32, 1, 28, 28])\n"
     ]
    }
   ],
   "source": [
    "b = a[:, 0:1, :, :]\n",
    "print(\"b\", b.unsqueeze(-1).shape)\n",
    "c = a[:, 1:, :, :]\n",
    "print(\"c\", c.shape)"
   ]
  }
 ],
 "metadata": {
  "kernelspec": {
   "display_name": "my_python_env",
   "language": "python",
   "name": "python3"
  },
  "language_info": {
   "codemirror_mode": {
    "name": "ipython",
    "version": 3
   },
   "file_extension": ".py",
   "mimetype": "text/x-python",
   "name": "python",
   "nbconvert_exporter": "python",
   "pygments_lexer": "ipython3",
   "version": "3.10.4"
  }
 },
 "nbformat": 4,
 "nbformat_minor": 2
}
