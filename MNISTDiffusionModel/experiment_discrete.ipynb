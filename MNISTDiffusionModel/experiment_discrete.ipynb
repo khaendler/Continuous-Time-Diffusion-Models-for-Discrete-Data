{
 "cells": [
  {
   "cell_type": "code",
   "execution_count": null,
   "metadata": {},
   "outputs": [],
   "source": [
    "from models.unet import Unet\n",
    "from models.diffusion_model_discrete import BitDiffusionModel\n",
    "import torch\n",
    "from utils.trainer_utils import Trainer\n",
    "import numpy as np"
   ]
  },
  {
   "cell_type": "code",
   "execution_count": null,
   "metadata": {},
   "outputs": [],
   "source": [
    "num_classes = len(np.arange(0, 10))\n",
    "# you can always set num_classes \n",
    "unet_model = Unet(dim=32, channels=1, dim_mults=(1, 2, 2), resnet_block_groups=2, num_classes=num_classes, use_bits=True, use_sinposemb=False) # 8 blocks\n",
    "#optimizer = torch.optim.Adam(unet_model.parameters(), lr=2e-5)\n",
    "optimizer = torch.optim.Adam(unet_model.parameters(), lr=1e-4)\n",
    "bit_diffusion_model = BitDiffusionModel(model=unet_model, image_size=32, timesteps=1000, beta_schedule='linear', bit_scale=1.)"
   ]
  },
  {
   "cell_type": "code",
   "execution_count": null,
   "metadata": {},
   "outputs": [],
   "source": [
    "trainer = Trainer(diffusion_model=bit_diffusion_model, optimizer=optimizer, loss_type='l2', use_ema=True, use_cfg=False, nb_epochs=2, batch_size=64, device='cpu')\n",
    "trainer.train_loop()"
   ]
  },
  {
   "cell_type": "code",
   "execution_count": null,
   "metadata": {},
   "outputs": [],
   "source": [
    "trainer.load(\"checkpoints/epoch_1_model.pt\")\n",
    "trainer.nb_epochs = 4\n",
    "trainer.train_loop()"
   ]
  }
 ],
 "metadata": {
  "kernelspec": {
   "display_name": "diffvenv",
   "language": "python",
   "name": "python3"
  },
  "language_info": {
   "codemirror_mode": {
    "name": "ipython",
    "version": 3
   },
   "file_extension": ".py",
   "mimetype": "text/x-python",
   "name": "python",
   "nbconvert_exporter": "python",
   "pygments_lexer": "ipython3",
   "version": "3.10.4"
  },
  "orig_nbformat": 4
 },
 "nbformat": 4,
 "nbformat_minor": 2
}
