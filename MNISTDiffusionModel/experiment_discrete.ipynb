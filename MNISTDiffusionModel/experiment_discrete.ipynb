{
 "cells": [
  {
   "cell_type": "code",
   "execution_count": 2,
   "metadata": {},
   "outputs": [],
   "source": [
    "from models.unet import Unet\n",
    "from models.diffusion_model_discrete import BitDiffusionModel\n",
    "import torch\n",
    "from trainer import Trainer\n",
    "import numpy as np"
   ]
  },
  {
   "cell_type": "code",
   "execution_count": 2,
   "metadata": {},
   "outputs": [
    {
     "name": "stdout",
     "output_type": "stream",
     "text": [
      "using bits\n",
      "dims [32, 32, 64, 64]\n",
      "final 32 8 Conv2d(32, 8, kernel_size=(1, 1), stride=(1, 1))\n"
     ]
    }
   ],
   "source": [
    "num_classes = len(np.arange(0, 10))\n",
    "# you can always set num_classes \n",
    "unet_model = Unet(dim=32, channels=1, dim_mults=(1, 2, 2), resnet_block_groups=2, num_classes=num_classes, use_bits=True, use_sinposemb=False) # 8 blocks\n",
    "#optimizer = torch.optim.Adam(unet_model.parameters(), lr=2e-5)\n",
    "optimizer = torch.optim.Adam(unet_model.parameters(), lr=1e-4)\n",
    "bit_diffusion_model = BitDiffusionModel(model=unet_model, image_size=32, timesteps=1000, beta_schedule='linear', bit_scale=1.)"
   ]
  },
  {
   "cell_type": "code",
   "execution_count": 3,
   "metadata": {},
   "outputs": [
    {
     "name": "stdout",
     "output_type": "stream",
     "text": [
      "Epoch: 1\n"
     ]
    },
    {
     "name": "stderr",
     "output_type": "stream",
     "text": [
      "100%|██████████| 938/938 [1:09:39<00:00,  4.46s/it]\n"
     ]
    },
    {
     "name": "stdout",
     "output_type": "stream",
     "text": [
      "Epoch: 2\n"
     ]
    },
    {
     "name": "stderr",
     "output_type": "stream",
     "text": [
      "100%|██████████| 938/938 [1:06:39<00:00,  4.26s/it]\n"
     ]
    },
    {
     "name": "stdout",
     "output_type": "stream",
     "text": [
      " Epoch 1 Loss: 0.08329617977142334\n",
      "shape b sample loop (16, 8, 32, 32)\n"
     ]
    }
   ],
   "source": [
    "trainer = Trainer(diffusion_model=bit_diffusion_model, optimizer=optimizer, loss_type='l2', use_ema=True, use_guided_diff=False, nb_epochs=2, batch_size=64, device='cpu')\n",
    "trainer.train_loop()"
   ]
  },
  {
   "cell_type": "code",
   "execution_count": 4,
   "metadata": {},
   "outputs": [
    {
     "name": "stdout",
     "output_type": "stream",
     "text": [
      "Epoch: 2\n"
     ]
    },
    {
     "name": "stderr",
     "output_type": "stream",
     "text": [
      "100%|██████████| 938/938 [1:08:38<00:00,  4.39s/it]\n"
     ]
    },
    {
     "name": "stdout",
     "output_type": "stream",
     "text": [
      "Epoch: 3\n"
     ]
    },
    {
     "name": "stderr",
     "output_type": "stream",
     "text": [
      "100%|██████████| 938/938 [1:05:24<00:00,  4.18s/it]\n"
     ]
    },
    {
     "name": "stdout",
     "output_type": "stream",
     "text": [
      "Epoch: 4\n"
     ]
    },
    {
     "name": "stderr",
     "output_type": "stream",
     "text": [
      "100%|██████████| 938/938 [1:08:43<00:00,  4.40s/it]\n"
     ]
    },
    {
     "name": "stdout",
     "output_type": "stream",
     "text": [
      " Epoch 3 Loss: 0.060378123074769974\n",
      "shape b sample loop (16, 8, 32, 32)\n"
     ]
    }
   ],
   "source": [
    "trainer.load(\"checkpoints/epoch_1_model.pt\")\n",
    "trainer.nb_epochs = 4\n",
    "trainer.train_loop()"
   ]
  }
 ],
 "metadata": {
  "kernelspec": {
   "display_name": "diffvenv",
   "language": "python",
   "name": "python3"
  },
  "language_info": {
   "codemirror_mode": {
    "name": "ipython",
    "version": 3
   },
   "file_extension": ".py",
   "mimetype": "text/x-python",
   "name": "python",
   "nbconvert_exporter": "python",
   "pygments_lexer": "ipython3",
   "version": "3.10.4"
  },
  "orig_nbformat": 4
 },
 "nbformat": 4,
 "nbformat_minor": 2
}
