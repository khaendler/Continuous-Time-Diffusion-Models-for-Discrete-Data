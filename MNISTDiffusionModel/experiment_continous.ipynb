{
 "cells": [
  {
   "cell_type": "code",
   "execution_count": null,
   "metadata": {},
   "outputs": [],
   "source": [
    "from models.unet import Unet\n",
    "from models.diffusion_model import DiffusionModel, DiffusionModelExtended, DiffusionModelTest\n",
    "#from diffusion_model_improved import TargetDiffusion, LearnedVarDiffusion\n",
    "import torch\n",
    "from utils.trainer import Trainer\n",
    "import numpy as np\n"
   ]
  },
  {
   "cell_type": "code",
   "execution_count": null,
   "metadata": {},
   "outputs": [],
   "source": [
    "num_classes = len(np.arange(0, 10))\n",
    "\n",
    "# you can always set num_classes \n",
    "unet_model = Unet(dim=32, channels=1, dim_mults=(1, 2, 2), resnet_block_groups=2, num_classes=num_classes, use_sinposemb=False) \n",
    "#unet_model = Unet(dim=32, channels=1, dim_mults=(1, 2, 4), resnet_block_groups=8, num_classes=num_classes, use_sinposemb=False, use_learned_var=True)# 8 blocks\n",
    "# for \n",
    "#unet_model = Unet(dim=32, channels=1, dim_mults=(1, 2, 2), resnet_block_groups=2, num_classes=num_classes, use_sinposemb=False, self_condition=True) \n",
    "#optimizer = torch.optim.Adam(unet_model.parameters(), lr=2e-5)\n",
    "optimizer = torch.optim.Adam(unet_model.parameters(), lr=1e-4)\n",
    "\n",
    "diffusion_model = DiffusionModelExtended(model=unet_model, image_size=32, in_channels=1, timesteps=1000, beta_schedule='linear', loss_weighing=True, min_snr_gamma=5, offset_noise_strength=0.0)\n",
    "#diffusion_model = DiffusionModel(model=unet_model, image_size=32, in_channels=1, timesteps=1000, beta_schedule='linear')\n",
    "diffusion_model = DiffusionModelTest(model=unet_model, image_size=32, in_channels=1, timesteps=1000, beta_schedule='linear', use_cfg_me=True)\n",
    "#diffusion_model = TargetDiffusion(model=unet_model, image_size=32, in_channels=1, timesteps=10, beta_schedule='linear', objective='pred_noise', min_snr_loss_weight=True)\n",
    "#diffusion_model = LearnedVarDiffusion(model=unet_model, image_size=32, in_channels=1, timesteps=10, beta_schedule='linear', objective='pred_noise', min_snr_loss_weight=True)\n",
    "\n"
   ]
  },
  {
   "cell_type": "code",
   "execution_count": 3,
   "metadata": {},
   "outputs": [
    {
     "name": "stderr",
     "output_type": "stream",
     "text": [
      "Training Loop:   0%|          | 1/938 [00:21<5:29:38, 21.11s/it]"
     ]
    }
   ],
   "source": [
    "trainer = Trainer(diffusion_model=diffusion_model, optimizer=optimizer, use_ema=True, use_guided_diff=True, nb_epochs=2, batch_size=64, device='cpu')\n",
    "trainer.train_loop()\n",
    "# model saved with this:\n",
    "# unet_model = Unet(dim=128, channels=1, dim_mults=(1, 2, 4), resnet_block_groups=8, num_classes=num_classes, use_sinposemb=False) \n",
    "# diffusion_model = DiffusionModel(model=unet_model, image_size=32, in_channels=1, timesteps=1000, beta_schedule='linear')\n",
    "# trainer.load(\"checkpoints/saved_epoch_1_model.pt\")\n",
    "# trainer.sampling(epoch=1, n_samples=16)\n",
    "\n",
    "\"\"\"\n",
    "trainer.load(\"checkpoints/epoch_0_model.pt\")\n",
    "trainer.sampling(epoch=1)\n",
    "trainer.nb_epochs = 2\n",
    "trainer.train_loop()\n",
    "trainer.load(\"checkpoints/epoch_1_model.pt\")\n",
    "print(\"trainer.diffusion_model.timesteps\", trainer.diffusion_model.timesteps)\n",
    "\"\"\"\n",
    "# right now: training with dome classifier free guidance implementation => had a mistake in rand_zeros(x)\n",
    "# right now: training extend without offset-noise\n",
    "# right now: training with dome classifier free guidance implementation \n",
    "# ToDo: right now: training extend without offset-noise => noise reingeben anstatt x_0\n",
    "# rn: old cfg method => dna-dif\n",
    "# late nite: dome method mit scaling\n",
    "\n"
   ]
  },
  {
   "cell_type": "code",
   "execution_count": null,
   "metadata": {},
   "outputs": [],
   "source": [
    "\n",
    "image = torch.randn(10, 1, 32, 32)\n",
    "t = (torch.rand(10) * 10).long()\n",
    "unet = Unet(dim=128, dim_mults=(1, 2, 2), channels=1, resnet_block_groups=8, learned_sinusoidal_dim=18, num_classes=None)\n",
    "num_param = sum([p.numel() for p in unet.parameters()])\n",
    "print(num_param)\n",
    "x_after = unet(image, t)\n",
    "print(x_after.shape)\n"
   ]
  }
 ],
 "metadata": {
  "kernelspec": {
   "display_name": "diffvenv",
   "language": "python",
   "name": "python3"
  },
  "language_info": {
   "codemirror_mode": {
    "name": "ipython",
    "version": 3
   },
   "file_extension": ".py",
   "mimetype": "text/x-python",
   "name": "python",
   "nbconvert_exporter": "python",
   "pygments_lexer": "ipython3",
   "version": "3.10.4"
  },
  "orig_nbformat": 4
 },
 "nbformat": 4,
 "nbformat_minor": 2
}
