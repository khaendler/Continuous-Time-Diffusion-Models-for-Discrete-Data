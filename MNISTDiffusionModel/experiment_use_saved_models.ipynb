{
 "cells": [
  {
   "cell_type": "code",
   "execution_count": 1,
   "metadata": {},
   "outputs": [],
   "source": [
    "from models.unet import Unet\n",
    "from models.diffusion_model import DiffusionModelTest\n",
    "import copy\n",
    "import torch\n",
    "from utils.trainer import Trainer\n",
    "from utils.model_utils import load_config_from_yaml"
   ]
  },
  {
   "cell_type": "code",
   "execution_count": 2,
   "metadata": {},
   "outputs": [
    {
     "name": "stdout",
     "output_type": "stream",
     "text": [
      "self.out_dim 1\n",
      "dims [32, 32, 64, 64]\n",
      "final 32 1 Conv2d(32, 1, kernel_size=(1, 1), stride=(1, 1))\n"
     ]
    },
    {
     "name": "stderr",
     "output_type": "stream",
     "text": [
      "Sampling Time Step:: 1it [00:01,  1.17s/it]\n",
      "Sampling Time Step:: 1it [00:00,  1.59it/s]\n"
     ]
    }
   ],
   "source": [
    "# Loading the model and configurations and \n",
    "checkpoint = torch.load('checkpoints/checkpoint_1.pth.tar')\n",
    "config = load_config_from_yaml(\"configs/config.yaml\")\n",
    "\n",
    "config_unet = config['model']\n",
    "config_diffusion_model = config['diffusion']\n",
    "\n",
    "# create instance of unet\n",
    "unet_model = Unet(**config_unet)\n",
    "unet_model.load_state_dict(checkpoint[\"unet_model_state\"])\n",
    "\n",
    "# create instance of ema mdoel\n",
    "ema_model = (copy.deepcopy(unet_model).eval().requires_grad_(False))\n",
    "ema_model.load_state_dict(checkpoint[\"ema_model_state\"])\n",
    "\n",
    "# create instance of DiffusionModel\n",
    "diffusion_model = DiffusionModelTest(model=unet_model, **config_diffusion_model)\n",
    "diffusion_model.load_state_dict(checkpoint[\"diffusion_model_state\"])\n",
    "\n",
    "n_samples = 10\n",
    "classes = torch.arange(0, 10).to(\"cpu\") \n",
    "samples = diffusion_model.sample(n_samples=n_samples, ema_model=None, classes=classes, cond_weight=2)\n",
    "samples_ema = diffusion_model.sample(n_samples=n_samples, ema_model=ema_model, classes=classes, cond_weight=2)"
   ]
  },
  {
   "cell_type": "code",
   "execution_count": 3,
   "metadata": {},
   "outputs": [
    {
     "name": "stdout",
     "output_type": "stream",
     "text": [
      "Epoch: 2\n"
     ]
    },
    {
     "name": "stderr",
     "output_type": "stream",
     "text": [
      "Training Loop:   0%|          | 0/938 [00:22<?, ?it/s]\n"
     ]
    },
    {
     "name": "stdout",
     "output_type": "stream",
     "text": [
      "Epoch 2 Loss: 1.0512707233428955\n",
      "We sample the following classes: \n",
      "tensor([0, 1, 2, 3, 4, 5, 6, 7, 8, 9])\n"
     ]
    },
    {
     "name": "stderr",
     "output_type": "stream",
     "text": [
      "Sampling Time Step:: 1it [00:00,  1.32it/s]\n",
      "Sampling Time Step:: 1it [00:00,  2.86it/s]\n"
     ]
    },
    {
     "name": "stdout",
     "output_type": "stream",
     "text": [
      "Epoch: 3\n"
     ]
    },
    {
     "name": "stderr",
     "output_type": "stream",
     "text": [
      "Training Loop:   0%|          | 0/938 [00:16<?, ?it/s]\n"
     ]
    },
    {
     "name": "stdout",
     "output_type": "stream",
     "text": [
      "Epoch 3 Loss: 1.0436534881591797\n",
      "Epoch: 4\n"
     ]
    },
    {
     "name": "stderr",
     "output_type": "stream",
     "text": [
      "Training Loop:   0%|          | 0/938 [00:29<?, ?it/s]\n"
     ]
    },
    {
     "name": "stdout",
     "output_type": "stream",
     "text": [
      "Epoch 4 Loss: 1.046654224395752\n",
      "We sample the following classes: \n",
      "tensor([0, 1, 2, 3, 4, 5, 6, 7, 8, 9])\n"
     ]
    },
    {
     "name": "stderr",
     "output_type": "stream",
     "text": [
      "Sampling Time Step:: 1it [00:00,  1.28it/s]\n",
      "Sampling Time Step:: 1it [00:00,  2.84it/s]\n"
     ]
    },
    {
     "name": "stdout",
     "output_type": "stream",
     "text": [
      "Epoch: 5\n"
     ]
    },
    {
     "name": "stderr",
     "output_type": "stream",
     "text": [
      "Training Loop:   0%|          | 0/938 [00:15<?, ?it/s]\n"
     ]
    },
    {
     "name": "stdout",
     "output_type": "stream",
     "text": [
      "Epoch 5 Loss: 1.0216786861419678\n",
      "We sample the following classes: \n",
      "tensor([0, 1, 2, 3, 4, 5, 6, 7, 8, 9])\n"
     ]
    },
    {
     "name": "stderr",
     "output_type": "stream",
     "text": [
      "Sampling Time Step:: 1it [00:00,  1.39it/s]\n",
      "Sampling Time Step:: 1it [00:00,  2.99it/s]\n"
     ]
    }
   ],
   "source": [
    "# train again\n",
    "optimizer = torch.optim.Adam(unet_model.parameters(), lr=config['optimizer']['lr'])\n",
    "optimizer.load_state_dict(checkpoint[\"optimizer_state\"])\n",
    "trainer = Trainer(**config['trainer'], diffusion_model=diffusion_model, optimizer=optimizer)\n",
    "trainer.nb_epochs = 5\n",
    "trainer.start_epoch = checkpoint['epoch']\n",
    "trainer.train_loop()\n"
   ]
  },
  {
   "cell_type": "code",
   "execution_count": 7,
   "metadata": {},
   "outputs": [
    {
     "name": "stdout",
     "output_type": "stream",
     "text": [
      "self.out_dim 1\n",
      "dims [32, 32, 64, 64]\n",
      "final 32 1 Conv2d(32, 1, kernel_size=(1, 1), stride=(1, 1))\n",
      "Epoch: 1\n"
     ]
    },
    {
     "name": "stderr",
     "output_type": "stream",
     "text": [
      "Training Loop:   0%|          | 0/938 [00:26<?, ?it/s]\n"
     ]
    },
    {
     "name": "stdout",
     "output_type": "stream",
     "text": [
      "Epoch 1 Loss: 1.1690998077392578\n",
      "We sample the following classes: \n",
      "tensor([0, 1, 2, 3, 4, 5, 6, 7, 8, 9])\n"
     ]
    },
    {
     "name": "stderr",
     "output_type": "stream",
     "text": [
      "Sampling Time Step:: 1it [00:01,  1.21s/it]\n",
      "Sampling Time Step:: 1it [00:00,  1.20it/s]\n"
     ]
    }
   ],
   "source": [
    "# train model from beginning with same configurations: to reproduce results\n",
    "# makes no use of existing states\n",
    "config = load_config_from_yaml(\"configs/config.yaml\")\n",
    "\n",
    "config_unet = config['model']\n",
    "config_diffusion_model = config['diffusion']\n",
    "\n",
    "unet_model = Unet(**config_unet)\n",
    "diffusion_model = DiffusionModelTest(model=unet_model, **config_diffusion_model)\n",
    "\n",
    "optimizer = torch.optim.Adam(unet_model.parameters(), lr=config['optimizer']['lr'])\n",
    "trainer = Trainer(**config['trainer'], diffusion_model=diffusion_model, optimizer=optimizer)\n",
    "trainer.train_loop()"
   ]
  }
 ],
 "metadata": {
  "kernelspec": {
   "display_name": "diffvenv",
   "language": "python",
   "name": "python3"
  },
  "language_info": {
   "codemirror_mode": {
    "name": "ipython",
    "version": 3
   },
   "file_extension": ".py",
   "mimetype": "text/x-python",
   "name": "python",
   "nbconvert_exporter": "python",
   "pygments_lexer": "ipython3",
   "version": "3.10.4"
  },
  "orig_nbformat": 4
 },
 "nbformat": 4,
 "nbformat_minor": 2
}
