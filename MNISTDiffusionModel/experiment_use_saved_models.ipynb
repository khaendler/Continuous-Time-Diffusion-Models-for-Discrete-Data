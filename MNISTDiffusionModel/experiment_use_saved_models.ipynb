{
 "cells": [
  {
   "cell_type": "code",
   "execution_count": 1,
   "metadata": {},
   "outputs": [],
   "source": [
    "from models.unet import Unet\n",
    "from models.diffusion_model import DiffusionModel\n",
    "from utils import load_config_from_file\n",
    "import torch\n",
    "import copy"
   ]
  },
  {
   "cell_type": "code",
   "execution_count": null,
   "metadata": {},
   "outputs": [],
   "source": [
    "# Loading the configurations\n",
    "checkpoint = torch.load('checkpoints/checkpoint_1.pth.tar')\n",
    "config_unet = checkpoint('config_unet')\n",
    "config_diffusion_model = checkpoint('config_diffusion_model')\n",
    "\n",
    "# create instance of unet\n",
    "unet_model = Unet(**config_unet)\n",
    "unet_model.load_state_dict(checkpoint[\"unet_state_dict\"])\n",
    "\n",
    "ema_model = (copy.deepcopy(unet_model).eval().requires_grad_(False))\n",
    "ema_model.load_state_dict(checkpoint[\"ema_model\"])\n",
    "\n",
    "# create instance of DiffusionModel\n",
    "# keine learnable params\n",
    "diffusion_model = DiffusionModel(unet_model, **config_diffusion_model)\n",
    "\n",
    "n_samples = 10\n",
    "classes = torch.arange(0, 10).to(\"cpu\") \n",
    "samples = diffusion_model.sample(n_samples=n_samples, ema_model=None, classes=classes, cond_weight=2)\n",
    "samples_ema = diffusion_model.sample(n_samples=n_samples, ema_model=ema_model, classes=classes, cond_weight=2)"
   ]
  }
 ],
 "metadata": {
  "kernelspec": {
   "display_name": "diffvenv",
   "language": "python",
   "name": "python3"
  },
  "language_info": {
   "codemirror_mode": {
    "name": "ipython",
    "version": 3
   },
   "file_extension": ".py",
   "mimetype": "text/x-python",
   "name": "python",
   "nbconvert_exporter": "python",
   "pygments_lexer": "ipython3",
   "version": "3.10.4"
  },
  "orig_nbformat": 4
 },
 "nbformat": 4,
 "nbformat_minor": 2
}
