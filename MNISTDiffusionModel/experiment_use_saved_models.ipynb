{
 "cells": [
  {
   "cell_type": "code",
   "execution_count": 1,
   "metadata": {},
   "outputs": [
    {
     "ename": "ModuleNotFoundError",
     "evalue": "No module named 'layers'",
     "output_type": "error",
     "traceback": [
      "\u001b[0;31m---------------------------------------------------------------------------\u001b[0m",
      "\u001b[0;31mModuleNotFoundError\u001b[0m                       Traceback (most recent call last)",
      "Cell \u001b[0;32mIn[1], line 1\u001b[0m\n\u001b[0;32m----> 1\u001b[0m \u001b[39mfrom\u001b[39;00m \u001b[39mmodels\u001b[39;00m\u001b[39m.\u001b[39;00m\u001b[39munet\u001b[39;00m \u001b[39mimport\u001b[39;00m Unet\n\u001b[1;32m      2\u001b[0m \u001b[39mfrom\u001b[39;00m \u001b[39mmodels\u001b[39;00m\u001b[39m.\u001b[39;00m\u001b[39mdiffusion_model\u001b[39;00m \u001b[39mimport\u001b[39;00m DiffusionModel\n\u001b[1;32m      3\u001b[0m \u001b[39mfrom\u001b[39;00m \u001b[39mutils\u001b[39;00m \u001b[39mimport\u001b[39;00m load_config_from_file\n",
      "File \u001b[0;32m~/PythonRepositories/Master-Thesis/MNISTDiffusionModel/models/unet.py:3\u001b[0m\n\u001b[1;32m      1\u001b[0m \u001b[39mfrom\u001b[39;00m \u001b[39mfunctools\u001b[39;00m \u001b[39mimport\u001b[39;00m partial\n\u001b[1;32m      2\u001b[0m \u001b[39mfrom\u001b[39;00m \u001b[39mtyping\u001b[39;00m \u001b[39mimport\u001b[39;00m Optional\n\u001b[0;32m----> 3\u001b[0m \u001b[39mfrom\u001b[39;00m \u001b[39mlayers\u001b[39;00m \u001b[39mimport\u001b[39;00m \u001b[39m*\u001b[39m\n\u001b[1;32m      4\u001b[0m \u001b[39mfrom\u001b[39;00m \u001b[39mutils\u001b[39;00m \u001b[39mimport\u001b[39;00m \u001b[39m*\u001b[39m\n\u001b[1;32m      7\u001b[0m \u001b[39mclass\u001b[39;00m \u001b[39mUnet\u001b[39;00m(nn\u001b[39m.\u001b[39mModule):\n",
      "\u001b[0;31mModuleNotFoundError\u001b[0m: No module named 'layers'"
     ]
    }
   ],
   "source": [
    "from models.unet import Unet\n",
    "from models.diffusion_model import DiffusionModel\n",
    "import copy"
   ]
  },
  {
   "cell_type": "code",
   "execution_count": null,
   "metadata": {},
   "outputs": [],
   "source": [
    "# Loading the configurations\n",
    "checkpoint = torch.load('checkpoints/checkpoint_1.pth.tar')\n",
    "config_unet = checkpoint('config_unet')\n",
    "config_diffusion_model = checkpoint('config_diffusion_model')\n",
    "\n",
    "# create instance of unet\n",
    "unet_model = Unet(**config_unet)\n",
    "unet_model.load_state_dict(checkpoint[\"unet_state_dict\"])\n",
    "\n",
    "ema_model = (copy.deepcopy(unet_model).eval().requires_grad_(False))\n",
    "ema_model.load_state_dict(checkpoint[\"ema_model\"])\n",
    "\n",
    "# create instance of DiffusionModel\n",
    "# keine learnable params\n",
    "diffusion_model = DiffusionModel(unet_model, **config_diffusion_model)\n",
    "\n",
    "n_samples = 10\n",
    "classes = torch.arange(0, 10).to(\"cpu\") \n",
    "samples = diffusion_model.sample(n_samples=n_samples, ema_model=None, classes=classes, cond_weight=2)\n",
    "samples_ema = diffusion_model.sample(n_samples=n_samples, ema_model=ema_model, classes=classes, cond_weight=2)"
   ]
  }
 ],
 "metadata": {
  "kernelspec": {
   "display_name": "diffvenv",
   "language": "python",
   "name": "python3"
  },
  "language_info": {
   "codemirror_mode": {
    "name": "ipython",
    "version": 3
   },
   "file_extension": ".py",
   "mimetype": "text/x-python",
   "name": "python",
   "nbconvert_exporter": "python",
   "pygments_lexer": "ipython3",
   "version": "3.10.4"
  },
  "orig_nbformat": 4
 },
 "nbformat": 4,
 "nbformat_minor": 2
}
