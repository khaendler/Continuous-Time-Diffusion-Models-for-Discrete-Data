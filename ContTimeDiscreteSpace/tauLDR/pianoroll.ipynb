{
 "cells": [
  {
   "cell_type": "code",
   "execution_count": null,
   "metadata": {},
   "outputs": [],
   "source": [
    "import torch\n",
    "from torch.utils.data import Dataset\n",
    "from . import dataset_utils\n",
    "import numpy as np\n",
    "import torchvision.datasets\n",
    "import torchvision.transforms\n",
    "import os\n",
    "import ml_collections\n"
   ]
  },
  {
   "cell_type": "code",
   "execution_count": null,
   "metadata": {},
   "outputs": [],
   "source": []
  },
  {
   "cell_type": "code",
   "execution_count": null,
   "metadata": {},
   "outputs": [],
   "source": [
    "def get_config():\n",
    "    save_directory = 'path/to/output' \n",
    "    pianoroll_dataset_path = 'path/to/pianoroll_dataset'\n",
    "\n",
    "\n",
    "    config = ml_collections.ConfigDict()\n",
    "    config.data = data = ml_collections.ConfigDict()\n",
    "    data.name = 'LakhPianoroll'\n",
    "    data.path = pianoroll_dataset_path + '/train.npy'\n",
    "    data.S = 129\n",
    "    data.batch_size = 64\n",
    "    data.shuffle = True\n",
    "    data.shape = [256]\n",
    "    return config\n",
    "\n",
    "# DNA sequences: N, L in [A, C, G, T]\n",
    "class LakhPianoroll(Dataset):\n",
    "    def __init__(self, cfg, device):\n",
    "        S = cfg.data.S\n",
    "        L = cfg.data.shape[0]\n",
    "        np_data = np.load(cfg.data.path) # (N, L) in range [0, S)\n",
    "\n",
    "        self.data = torch.from_numpy(np_data).to(device)\n",
    "\n",
    "    def __len__(self):\n",
    "        return self.data.shape[0]\n",
    "\n",
    "    def __getitem__(self, index):\n",
    "\n",
    "        return self.data[index]"
   ]
  }
 ],
 "metadata": {
  "language_info": {
   "name": "python"
  },
  "orig_nbformat": 4
 },
 "nbformat": 4,
 "nbformat_minor": 2
}
