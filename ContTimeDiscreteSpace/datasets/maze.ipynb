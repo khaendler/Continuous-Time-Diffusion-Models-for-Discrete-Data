{
 "cells": [
  {
   "cell_type": "code",
   "execution_count": 13,
   "metadata": {},
   "outputs": [],
   "source": [
    "#Code by David Roberts https://www.kaggle.com/code/davidbroberts/tensorflow-transfer-learning/notebook\n",
    "\n",
    "import os\n",
    "os.environ['TF_CPP_MIN_LOG_LEVEL'] = '2' # Set the log level to keep the warnings down\n",
    "\n",
    "import tensorflow as tf\n",
    "from tensorflow import keras\n",
    "import matplotlib.pyplot as plt\n",
    "from datasets import MazeDataset\n",
    "from tqdm import tqdm\n",
    "from torch.utils.data import Dataset, DataLoader\n",
    "import torchvision"
   ]
  },
  {
   "cell_type": "code",
   "execution_count": null,
   "metadata": {},
   "outputs": [],
   "source": []
  },
  {
   "cell_type": "code",
   "execution_count": 18,
   "metadata": {},
   "outputs": [
    {
     "name": "stdout",
     "output_type": "stream",
     "text": [
      "Found 1000 files belonging to 1 classes.\n"
     ]
    }
   ],
   "source": [
    "train_ds = tf.keras.preprocessing.image_dataset_from_directory(\n",
    "    'rectangular_mazes/',\n",
    "    labels = 'inferred',\n",
    "    color_mode='grayscale',\n",
    "    batch_size = 64,\n",
    "    image_size = (28,28),\n",
    "    shuffle = True,\n",
    "    seed = 82\n",
    ")"
   ]
  },
  {
   "cell_type": "code",
   "execution_count": 19,
   "metadata": {},
   "outputs": [],
   "source": [
    "torch_ds = MazeDataset(train_ds)\n",
    "torch_dataloader = DataLoader(torch_ds, batch_size=64, shuffle=True)\n"
   ]
  },
  {
   "cell_type": "code",
   "execution_count": 20,
   "metadata": {},
   "outputs": [
    {
     "name": "stderr",
     "output_type": "stream",
     "text": [
      "  0%|          | 0/16 [00:00<?, ?it/s]"
     ]
    },
    {
     "name": "stdout",
     "output_type": "stream",
     "text": [
      "tensor([[[[  0.,   0.,   0.,  ...,   0.,   0.,   0.],\n",
      "          [255., 255., 255.,  ..., 255., 255.,   0.],\n",
      "          [255., 255., 255.,  ..., 255., 255.,   0.],\n",
      "          ...,\n",
      "          [  0., 255., 255.,  ..., 255., 255., 255.],\n",
      "          [  0., 255., 255.,  ..., 255., 255., 255.],\n",
      "          [  0.,   0.,   0.,  ...,   0.,   0.,   0.]]],\n",
      "\n",
      "\n",
      "        [[[  0.,   0.,   0.,  ...,   0.,   0.,   0.],\n",
      "          [255., 255., 255.,  ..., 255., 255.,   0.],\n",
      "          [255., 255., 255.,  ..., 255., 255.,   0.],\n",
      "          ...,\n",
      "          [  0., 255., 255.,  ..., 255., 255., 255.],\n",
      "          [  0., 255., 255.,  ..., 255., 255., 255.],\n",
      "          [  0.,   0.,   0.,  ...,   0.,   0.,   0.]]],\n",
      "\n",
      "\n",
      "        [[[  0.,   0.,   0.,  ...,   0.,   0.,   0.],\n",
      "          [255., 255., 255.,  ..., 255., 255.,   0.],\n",
      "          [255., 255., 255.,  ..., 255., 255.,   0.],\n",
      "          ...,\n",
      "          [  0., 255., 255.,  ..., 255., 255., 255.],\n",
      "          [  0., 255., 255.,  ..., 255., 255., 255.],\n",
      "          [  0.,   0.,   0.,  ...,   0.,   0.,   0.]]],\n",
      "\n",
      "\n",
      "        ...,\n",
      "\n",
      "\n",
      "        [[[  0.,   0.,   0.,  ...,   0.,   0.,   0.],\n",
      "          [255., 255., 255.,  ..., 255., 255.,   0.],\n",
      "          [255., 255., 255.,  ..., 255., 255.,   0.],\n",
      "          ...,\n",
      "          [  0., 255., 255.,  ..., 255., 255., 255.],\n",
      "          [  0., 255., 255.,  ..., 255., 255., 255.],\n",
      "          [  0.,   0.,   0.,  ...,   0.,   0.,   0.]]],\n",
      "\n",
      "\n",
      "        [[[  0.,   0.,   0.,  ...,   0.,   0.,   0.],\n",
      "          [255., 255., 255.,  ..., 255., 255.,   0.],\n",
      "          [255., 255., 255.,  ..., 255., 255.,   0.],\n",
      "          ...,\n",
      "          [  0., 255., 255.,  ..., 255., 255., 255.],\n",
      "          [  0., 255., 255.,  ..., 255., 255., 255.],\n",
      "          [  0.,   0.,   0.,  ...,   0.,   0.,   0.]]],\n",
      "\n",
      "\n",
      "        [[[  0.,   0.,   0.,  ...,   0.,   0.,   0.],\n",
      "          [255., 255., 255.,  ..., 255., 255.,   0.],\n",
      "          [255., 255., 255.,  ..., 255., 255.,   0.],\n",
      "          ...,\n",
      "          [  0., 255., 255.,  ..., 255., 255., 255.],\n",
      "          [  0., 255., 255.,  ..., 255., 255., 255.],\n",
      "          [  0.,   0.,   0.,  ...,   0.,   0.,   0.]]]]) torch.Size([64, 1, 28, 28])\n"
     ]
    },
    {
     "name": "stderr",
     "output_type": "stream",
     "text": [
      "\n"
     ]
    }
   ],
   "source": [
    "for i in tqdm(torch_dataloader):\n",
    "    print(i, i.shape)\n",
    "    break"
   ]
  },
  {
   "cell_type": "code",
   "execution_count": 23,
   "metadata": {},
   "outputs": [
    {
     "data": {
      "image/png": "[encoded data removed]",
      "text/plain": [
       "<Figure size 1500x1500 with 8 Axes>"
      ]
     },
     "metadata": {},
     "output_type": "display_data"
    }
   ],
   "source": [
    "import matplotlib.pyplot as plt\n",
    "\n",
    "# Eine Funktion, um einige Bilder zu plotten\n",
    "def show_images(images, n=8):\n",
    "    plt.figure(figsize=(15, 15))\n",
    "    for i in range(n):\n",
    "        ax = plt.subplot(1, n, i + 1)\n",
    "        plt.imshow(images[i].permute(1, 2, 0).numpy().astype(\"uint8\"), cmap='gray')\n",
    "        plt.axis(\"off\")\n",
    "    plt.show()\n",
    "\n",
    "# Nehmen Sie einen Batch von Bildern\n",
    "images = next(iter(torch_dataloader))\n",
    "show_images(images)"
   ]
  }
 ],
 "metadata": {
  "kernelspec": {
   "display_name": "diffvenv",
   "language": "python",
   "name": "python3"
  },
  "language_info": {
   "codemirror_mode": {
    "name": "ipython",
    "version": 3
   },
   "file_extension": ".py",
   "mimetype": "text/x-python",
   "name": "python",
   "nbconvert_exporter": "python",
   "pygments_lexer": "ipython3",
   "version": "3.10.4"
  },
  "orig_nbformat": 4
 },
 "nbformat": 4,
 "nbformat_minor": 2
}
