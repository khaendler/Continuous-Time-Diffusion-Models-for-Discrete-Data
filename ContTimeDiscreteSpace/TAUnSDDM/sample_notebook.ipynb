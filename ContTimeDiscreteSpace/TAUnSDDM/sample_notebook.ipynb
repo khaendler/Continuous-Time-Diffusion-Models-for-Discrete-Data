{
 "cells": [
  {
   "cell_type": "code",
   "execution_count": 1,
   "metadata": {},
   "outputs": [],
   "source": [
    "import torch\n",
    "import lib.utils.bookkeeping as bookkeeping\n",
    "from torch.utils.data import DataLoader\n",
    "from pathlib import Path\n",
    "import numpy as np\n",
    "import matplotlib.pyplot as plt\n",
    "import lib.models.models as models\n",
    "import lib.models.model_utils as model_utils\n",
    "from lib.datasets import mnist, maze, protein, synthetic\n",
    "import lib.datasets.dataset_utils as dataset_utils\n",
    "import lib.losses.losses as losses\n",
    "import lib.losses.losses_utils as losses_utils\n",
    "import lib.training.training as training\n",
    "import lib.training.training_utils as training_utils\n",
    "import lib.optimizers.optimizers as optimizers\n",
    "import lib.optimizers.optimizers_utils as optimizers_utils\n",
    "import lib.sampling.sampling as sampling\n",
    "import lib.sampling.sampling_utils as sampling_utils\n",
    "import os\n",
    "from ruamel.yaml.scalarfloat import ScalarFloat"
   ]
  },
  {
   "cell_type": "code",
   "execution_count": 2,
   "metadata": {},
   "outputs": [],
   "source": [
    "# creating paths\n",
    "path = 'SavedModels/BIN-MNIST/' # 'SavedModels/MAZE/' 'SavedModels/MNIST/'\n",
    "date = '2023-12-13' # 2\n",
    "config_name = 'config_001_unet.yaml' # config_001_hollowMLEProb.yaml\n",
    "model_name = 'model_59999.pt' #  model_299999_hollowMLEProb.pt\n",
    "\n",
    "#config_name = 'config_001_r07.yaml' \n",
    "#model_name = 'model_84999_hollowr07.pt' \n",
    "config_path = os.path.join(path, date, config_name)\n",
    "checkpoint_path = os.path.join(path, date, model_name)"
   ]
  },
  {
   "cell_type": "code",
   "execution_count": 3,
   "metadata": {},
   "outputs": [
    {
     "name": "stdout",
     "output_type": "stream",
     "text": [
      "number of parameters:  6138946\n",
      "ema state dict function\n"
     ]
    }
   ],
   "source": [
    "# creating models\n",
    "cfg = bookkeeping.load_config(config_path)\n",
    "cfg.sampler.name = 'ElboLBJF' #ExactSampling' # ElboLBJF CRMTauL CRMLBJF\n",
    "cfg.loss.logit_type = 'reverse_prob'\n",
    "cfg.sampler.num_corrector_steps = 3\n",
    "cfg.sampler.corrector_entry_time = ScalarFloat(0.1)\n",
    "cfg.sampler.num_steps = 1000\n",
    "cfg.sampler.is_ordinal = False\n",
    "\n",
    "#print(cfg)\n",
    "device = torch.device(cfg.device)\n",
    "\n",
    "model = model_utils.create_model(cfg, device)\n",
    "print(\"number of parameters: \", sum([p.numel() for p in model.parameters()]))\n",
    "\n",
    "#modified_model_state = utils.remove_module_from_keys(loaded_state['model'])\n",
    "#model.load_state_dict(modified_model_state)\n",
    "#optimizer = optimizers_utils.get_optimizer(model.parameters(), cfg)\n",
    "optimizer = torch.optim.Adam(model.parameters(), cfg.optimizer.lr)\n",
    "\n",
    "sampler = sampling_utils.get_sampler(cfg)\n",
    "\n",
    "state = {\"model\": model, \"optimizer\": optimizer, \"n_iter\": 0}\n",
    "state = bookkeeping.load_state(state, checkpoint_path)\n",
    "state['model'].eval()"
   ]
  },
  {
   "cell_type": "code",
   "execution_count": 4,
   "metadata": {},
   "outputs": [
    {
     "name": "stderr",
     "output_type": "stream",
     "text": [
      "904it [00:36, 31.04it/s]"
     ]
    },
    {
     "name": "stdout",
     "output_type": "stream",
     "text": [
      "corrector\n",
      "corrector\n"
     ]
    },
    {
     "name": "stderr",
     "output_type": "stream",
     "text": [
      "908it [00:37, 20.01it/s]"
     ]
    },
    {
     "name": "stdout",
     "output_type": "stream",
     "text": [
      "corrector\n",
      "corrector\n"
     ]
    },
    {
     "name": "stderr",
     "output_type": "stream",
     "text": [
      "911it [00:37, 14.82it/s]"
     ]
    },
    {
     "name": "stdout",
     "output_type": "stream",
     "text": [
      "corrector\n",
      "corrector\n",
      "corrector\n"
     ]
    },
    {
     "name": "stderr",
     "output_type": "stream",
     "text": [
      "914it [00:38, 10.85it/s]"
     ]
    },
    {
     "name": "stdout",
     "output_type": "stream",
     "text": [
      "corrector\n",
      "corrector\n"
     ]
    },
    {
     "name": "stderr",
     "output_type": "stream",
     "text": [
      "916it [00:38, 10.21it/s]"
     ]
    },
    {
     "name": "stdout",
     "output_type": "stream",
     "text": [
      "corrector\n",
      "corrector\n"
     ]
    },
    {
     "name": "stderr",
     "output_type": "stream",
     "text": [
      "918it [00:38,  9.31it/s]"
     ]
    },
    {
     "name": "stdout",
     "output_type": "stream",
     "text": [
      "corrector\n",
      "corrector\n"
     ]
    },
    {
     "name": "stderr",
     "output_type": "stream",
     "text": [
      "920it [00:38,  8.41it/s]"
     ]
    },
    {
     "name": "stdout",
     "output_type": "stream",
     "text": [
      "corrector\n",
      "corrector\n"
     ]
    },
    {
     "name": "stderr",
     "output_type": "stream",
     "text": [
      "922it [00:39,  8.01it/s]"
     ]
    },
    {
     "name": "stdout",
     "output_type": "stream",
     "text": [
      "corrector\n",
      "corrector\n"
     ]
    },
    {
     "name": "stderr",
     "output_type": "stream",
     "text": [
      "924it [00:39,  8.48it/s]"
     ]
    },
    {
     "name": "stdout",
     "output_type": "stream",
     "text": [
      "corrector\n",
      "corrector\n"
     ]
    },
    {
     "name": "stderr",
     "output_type": "stream",
     "text": [
      "926it [00:39,  8.00it/s]"
     ]
    },
    {
     "name": "stdout",
     "output_type": "stream",
     "text": [
      "corrector\n",
      "corrector\n"
     ]
    },
    {
     "name": "stderr",
     "output_type": "stream",
     "text": [
      "928it [00:39,  7.86it/s]"
     ]
    },
    {
     "name": "stdout",
     "output_type": "stream",
     "text": [
      "corrector\n",
      "corrector\n"
     ]
    },
    {
     "name": "stderr",
     "output_type": "stream",
     "text": [
      "930it [00:40,  6.34it/s]"
     ]
    },
    {
     "name": "stdout",
     "output_type": "stream",
     "text": [
      "corrector\n",
      "corrector\n"
     ]
    },
    {
     "name": "stderr",
     "output_type": "stream",
     "text": [
      "932it [00:40,  7.01it/s]"
     ]
    },
    {
     "name": "stdout",
     "output_type": "stream",
     "text": [
      "corrector\n",
      "corrector\n"
     ]
    },
    {
     "name": "stderr",
     "output_type": "stream",
     "text": [
      "934it [00:40,  6.12it/s]"
     ]
    },
    {
     "name": "stdout",
     "output_type": "stream",
     "text": [
      "corrector\n",
      "corrector\n"
     ]
    },
    {
     "name": "stderr",
     "output_type": "stream",
     "text": [
      "936it [00:41,  6.15it/s]"
     ]
    },
    {
     "name": "stdout",
     "output_type": "stream",
     "text": [
      "corrector\n",
      "corrector\n"
     ]
    },
    {
     "name": "stderr",
     "output_type": "stream",
     "text": [
      "939it [00:41,  7.78it/s]"
     ]
    },
    {
     "name": "stdout",
     "output_type": "stream",
     "text": [
      "corrector\n",
      "corrector\n",
      "corrector\n"
     ]
    },
    {
     "name": "stderr",
     "output_type": "stream",
     "text": [
      "941it [00:41,  8.40it/s]"
     ]
    },
    {
     "name": "stdout",
     "output_type": "stream",
     "text": [
      "corrector\n",
      "corrector\n"
     ]
    },
    {
     "name": "stderr",
     "output_type": "stream",
     "text": [
      "943it [00:42,  8.19it/s]"
     ]
    },
    {
     "name": "stdout",
     "output_type": "stream",
     "text": [
      "corrector\n",
      "corrector\n"
     ]
    },
    {
     "name": "stderr",
     "output_type": "stream",
     "text": [
      "946it [00:42,  7.95it/s]"
     ]
    },
    {
     "name": "stdout",
     "output_type": "stream",
     "text": [
      "corrector\n",
      "corrector\n"
     ]
    },
    {
     "name": "stderr",
     "output_type": "stream",
     "text": [
      "947it [00:42,  7.77it/s]"
     ]
    },
    {
     "name": "stdout",
     "output_type": "stream",
     "text": [
      "corrector\n",
      "corrector\n"
     ]
    },
    {
     "name": "stderr",
     "output_type": "stream",
     "text": [
      "950it [00:42,  9.02it/s]"
     ]
    },
    {
     "name": "stdout",
     "output_type": "stream",
     "text": [
      "corrector\n",
      "corrector\n",
      "corrector\n"
     ]
    },
    {
     "name": "stderr",
     "output_type": "stream",
     "text": [
      "952it [00:43,  7.65it/s]"
     ]
    },
    {
     "name": "stdout",
     "output_type": "stream",
     "text": [
      "corrector\n",
      "corrector\n"
     ]
    },
    {
     "name": "stderr",
     "output_type": "stream",
     "text": [
      "953it [00:43,  7.58it/s]"
     ]
    },
    {
     "name": "stdout",
     "output_type": "stream",
     "text": [
      "corrector\n",
      "corrector\n"
     ]
    },
    {
     "name": "stderr",
     "output_type": "stream",
     "text": [
      "956it [00:43,  6.50it/s]"
     ]
    },
    {
     "name": "stdout",
     "output_type": "stream",
     "text": [
      "corrector\n"
     ]
    },
    {
     "name": "stderr",
     "output_type": "stream",
     "text": [
      "957it [00:44,  5.66it/s]"
     ]
    },
    {
     "name": "stdout",
     "output_type": "stream",
     "text": [
      "corrector\n"
     ]
    },
    {
     "name": "stderr",
     "output_type": "stream",
     "text": [
      "958it [00:44,  5.30it/s]"
     ]
    },
    {
     "name": "stdout",
     "output_type": "stream",
     "text": [
      "corrector\n",
      "corrector\n"
     ]
    },
    {
     "name": "stderr",
     "output_type": "stream",
     "text": [
      "960it [00:44,  6.02it/s]"
     ]
    },
    {
     "name": "stdout",
     "output_type": "stream",
     "text": [
      "corrector\n",
      "corrector\n"
     ]
    },
    {
     "name": "stderr",
     "output_type": "stream",
     "text": [
      "962it [00:44,  6.47it/s]"
     ]
    },
    {
     "name": "stdout",
     "output_type": "stream",
     "text": [
      "corrector\n",
      "corrector\n",
      "corrector\n"
     ]
    },
    {
     "name": "stderr",
     "output_type": "stream",
     "text": [
      "966it [00:45,  9.38it/s]"
     ]
    },
    {
     "name": "stdout",
     "output_type": "stream",
     "text": [
      "corrector\n",
      "corrector\n",
      "corrector\n"
     ]
    },
    {
     "name": "stderr",
     "output_type": "stream",
     "text": [
      "970it [00:45, 11.14it/s]"
     ]
    },
    {
     "name": "stdout",
     "output_type": "stream",
     "text": [
      "corrector\n",
      "corrector\n",
      "corrector\n",
      "corrector\n",
      "corrector\n"
     ]
    },
    {
     "name": "stderr",
     "output_type": "stream",
     "text": [
      "972it [00:45,  9.63it/s]"
     ]
    },
    {
     "name": "stdout",
     "output_type": "stream",
     "text": [
      "corrector\n",
      "corrector\n"
     ]
    },
    {
     "name": "stderr",
     "output_type": "stream",
     "text": [
      "975it [00:46,  8.12it/s]"
     ]
    },
    {
     "name": "stdout",
     "output_type": "stream",
     "text": [
      "corrector\n",
      "corrector\n"
     ]
    },
    {
     "name": "stderr",
     "output_type": "stream",
     "text": [
      "977it [00:46,  7.31it/s]"
     ]
    },
    {
     "name": "stdout",
     "output_type": "stream",
     "text": [
      "corrector\n",
      "corrector\n"
     ]
    },
    {
     "name": "stderr",
     "output_type": "stream",
     "text": [
      "979it [00:46,  7.02it/s]"
     ]
    },
    {
     "name": "stdout",
     "output_type": "stream",
     "text": [
      "corrector\n",
      "corrector\n"
     ]
    },
    {
     "name": "stderr",
     "output_type": "stream",
     "text": [
      "981it [00:47,  7.31it/s]"
     ]
    },
    {
     "name": "stdout",
     "output_type": "stream",
     "text": [
      "corrector\n",
      "corrector\n"
     ]
    },
    {
     "name": "stderr",
     "output_type": "stream",
     "text": [
      "983it [00:47,  7.59it/s]"
     ]
    },
    {
     "name": "stdout",
     "output_type": "stream",
     "text": [
      "corrector\n",
      "corrector\n"
     ]
    },
    {
     "name": "stderr",
     "output_type": "stream",
     "text": [
      "985it [00:47,  7.03it/s]"
     ]
    },
    {
     "name": "stdout",
     "output_type": "stream",
     "text": [
      "corrector\n",
      "corrector\n"
     ]
    },
    {
     "name": "stderr",
     "output_type": "stream",
     "text": [
      "987it [00:47,  7.08it/s]"
     ]
    },
    {
     "name": "stdout",
     "output_type": "stream",
     "text": [
      "corrector\n",
      "corrector\n"
     ]
    },
    {
     "name": "stderr",
     "output_type": "stream",
     "text": [
      "989it [00:48,  6.70it/s]"
     ]
    },
    {
     "name": "stdout",
     "output_type": "stream",
     "text": [
      "corrector\n",
      "corrector\n"
     ]
    },
    {
     "name": "stderr",
     "output_type": "stream",
     "text": [
      "991it [00:48,  5.77it/s]"
     ]
    },
    {
     "name": "stdout",
     "output_type": "stream",
     "text": [
      "corrector\n"
     ]
    },
    {
     "name": "stderr",
     "output_type": "stream",
     "text": [
      "992it [00:48,  5.63it/s]"
     ]
    },
    {
     "name": "stdout",
     "output_type": "stream",
     "text": [
      "corrector\n",
      "corrector\n"
     ]
    },
    {
     "name": "stderr",
     "output_type": "stream",
     "text": [
      "994it [00:49,  6.21it/s]"
     ]
    },
    {
     "name": "stdout",
     "output_type": "stream",
     "text": [
      "corrector\n",
      "corrector\n"
     ]
    },
    {
     "name": "stderr",
     "output_type": "stream",
     "text": [
      "996it [00:49,  6.15it/s]"
     ]
    },
    {
     "name": "stdout",
     "output_type": "stream",
     "text": [
      "corrector\n",
      "corrector\n"
     ]
    },
    {
     "name": "stderr",
     "output_type": "stream",
     "text": [
      "998it [00:49,  6.83it/s]"
     ]
    },
    {
     "name": "stdout",
     "output_type": "stream",
     "text": [
      "corrector\n",
      "corrector\n"
     ]
    },
    {
     "name": "stderr",
     "output_type": "stream",
     "text": [
      "1000it [00:50, 20.00it/s]"
     ]
    },
    {
     "name": "stdout",
     "output_type": "stream",
     "text": [
      "corrector\n"
     ]
    },
    {
     "name": "stderr",
     "output_type": "stream",
     "text": [
      "\n"
     ]
    }
   ],
   "source": [
    "n_samples = 36\n",
    "samples, changes = sampler.sample(model, n_samples)\n",
    "saved_samples = samples"
   ]
  },
  {
   "cell_type": "code",
   "execution_count": 5,
   "metadata": {},
   "outputs": [
    {
     "data": {
      "image/png": "[encoded data removed]",
      "text/plain": [
       "<Figure size 900x900 with 36 Axes>"
      ]
     },
     "metadata": {},
     "output_type": "display_data"
    }
   ],
   "source": [
    "is_img = True\n",
    "\n",
    "if is_img:\n",
    "    samples = samples.reshape(n_samples, 1, cfg.data.image_size, cfg.data.image_size)\n",
    "    saving_train_path = os.path.join(cfg.saving.sample_plot_path, f\"{cfg.model.name}{state['n_iter']}_{cfg.sampler.name}{cfg.sampler.num_steps}.png\")\n",
    "    fig = plt.figure(figsize=(9, 9)) \n",
    "    for i in range(n_samples):\n",
    "        plt.subplot(int(np.sqrt(n_samples)), int(np.sqrt(n_samples)), 1 + i)\n",
    "        plt.axis(\"off\")\n",
    "        plt.imshow(np.transpose(samples[i, ...], (1,2,0)), cmap=\"gray\")\n",
    " \n",
    " \n",
    "    plt.savefig(saving_train_path)\n",
    "    plt.show()\n",
    "    plt.close()\n",
    "else:\n",
    "    bm, inv_bm = synthetic.get_binmap(cfg.model.concat_dim, cfg.data.binmode)\n",
    "    print(inv_bm)\n",
    "    samples = synthetic.bin2float(samples.astype(np.int32), inv_bm, cfg.model.concat_dim, cfg.data.int_scale)\n",
    " \n",
    "    saving_plot_path = os.path.join(cfg.saving.sample_plot_path, f\"{cfg.model.name}{state['n_iter']}_{cfg.sampler.name}{cfg.sampler.num_steps}.png\")\n",
    "    #aving_plot_path = '/Users/paulheller/PythonRepositories/Master-Thesis/ContTimeDiscreteSpace/TAUnSDDM/SavedModels/MNIST/'\n",
    "    synthetic.plot_samples(samples, saving_plot_path, im_size=cfg.data.plot_size, im_fmt=\"png\")"
   ]
  },
  {
   "cell_type": "code",
   "execution_count": 6,
   "metadata": {},
   "outputs": [
    {
     "name": "stdout",
     "output_type": "stream",
     "text": [
      "[0.9973781108856201, 0.6871102452278137, 0.5233135223388672, 0.4166312515735626, 0.34144699573516846, 0.29644984006881714, 0.2608772814273834, 0.23295776546001434, 0.21067176759243011, 0.18703940510749817, 0.17152069509029388, 0.15780895948410034, 0.1456916183233261, 0.14023526012897491, 0.12981858849525452, 0.1245039701461792, 0.11571712046861649, 0.10749717056751251, 0.10402494668960571, 0.10065901279449463, 0.09651360660791397, 0.09208475053310394, 0.08623865991830826, 0.08180981129407883, 0.08042800426483154, 0.07596372067928314, 0.07433389872312546, 0.07231434434652328, 0.06958616524934769, 0.06707058101892471, 0.06593678891658783, 0.06377550959587097, 0.0615079365670681, 0.058708902448415756, 0.059169501066207886, 0.05647675693035126, 0.05509495362639427, 0.052969105541706085, 0.05063067004084587, 0.050949547439813614, 0.050240930169820786, 0.048504818230867386, 0.04673327878117561, 0.04708758741617203, 0.0448908731341362, 0.043296486139297485, 0.041560374200344086, 0.041808389127254486, 0.040780894458293915, 0.041808389127254486, 0.04099348187446594, 0.040284864604473114, 0.04021400213241577, 0.035607993602752686, 0.036068595945835114, 0.036564625799655914, 0.0357142873108387, 0.0334821417927742, 0.03493480756878853, 0.03277352824807167, 0.03128543123602867, 0.03277352824807167, 0.030895691365003586, 0.0314980149269104, 0.0319940485060215, 0.031108276918530464, 0.0300099216401577, 0.029407596215605736, 0.030612245202064514, 0.02880527265369892, 0.02781320922076702, 0.027210883796215057, 0.026147959753870964, 0.027919501066207886, 0.026962868869304657, 0.02607709728181362, 0.027104591950774193, 0.024624433368444443, 0.026183390989899635, 0.02405753917992115, 0.024872450157999992, 0.025935374200344086, 0.024872450157999992, 0.02427012473344803, 0.02327806130051613, 0.02228599786758423, 0.024199264124035835, 0.022144274786114693, 0.022675737738609314, 0.022179706022143364, 0.0223214291036129, 0.02161281183362007, 0.021754534915089607, 0.02178996615111828, 0.021329365670681, 0.02086876519024372, 0.021223071962594986, 0.022463152185082436, 0.02008928544819355, 0.021258503198623657, 0.0193452388048172, 0.0203373022377491, 0.01884920708835125, 0.01913265325129032, 0.02030187100172043, 0.01863662153482437, 0.018990930169820786, 0.01906179077923298, 0.01980583928525448, 0.01814058981835842, 0.017254818230867386, 0.01810515858232975, 0.017538266256451607, 0.017467403784394264, 0.01831774413585663, 0.017750849947333336, 0.01640447787940502, 0.01583758555352688, 0.0176091268658638, 0.017006803303956985, 0.015518708154559135, 0.015802154317498207, 0.01757369562983513, 0.015518708154559135, 0.015199829824268818, 0.015447845682501793, 0.016298186033964157, 0.015199829824268818, 0.01403061207383871, 0.014845522120594978, 0.016794217750430107, 0.014668367803096771, 0.014951813966035843, 0.015058106742799282, 0.012471655383706093, 0.013924320228397846, 0.01403061207383871, 0.014420351944863796, 0.013818027451634407, 0.013747165910899639, 0.014349490404129028, 0.012577948160469532, 0.01424319762736559, 0.0146329365670681, 0.011727607809007168, 0.012967687100172043, 0.013357426039874554, 0.013428288511931896, 0.012613378465175629, 0.0126488097012043, 0.013676304370164871, 0.012613378465175629, 0.013215702958405018, 0.012471655383706093, 0.013357426039874554, 0.011727607809007168, 0.012613378465175629, 0.01353458035737276, 0.011125283315777779, 0.012471655383706093, 0.011089853011071682, 0.012117346748709679, 0.010983560234308243, 0.010310374200344086, 0.010948128998279572, 0.010381235741078854, 0.012188209220767021, 0.011479591950774193, 0.010381235741078854, 0.010629251599311829, 0.01254251692444086, 0.01215277798473835, 0.011444160714745522, 0.010487528517842293, 0.011089853011071682, 0.011125283315777779, 0.010806405916810036, 0.010133219882845879, 0.01016865111887455, 0.011267007328569889, 0.010239512659609318, 0.010593821294605732, 0.010700113140046597, 0.010487528517842293, 0.010345805436372757, 0.008751417510211468, 0.010133219882845879, 0.009460033848881721, 0.009778911247849464, 0.00956632662564516, 0.00953089538961649, 0.010097789578139782, 0.009601757861673832, 0.008751417510211468, 0.009424603544175625, 0.00953089538961649, 0.009282879531383514, 0.00907029490917921, 0.008751417510211468, 0.008786847814917564, 0.010204081423580647, 0.009601757861673832, 0.008893140591681004, 0.00853883195668459, 0.00917658768594265, 0.010522959753870964, 0.00853883195668459, 0.009105726145207882, 0.00853883195668459, 0.008999433368444443, 0.008255385793745518, 0.008715986274182796, 0.008290816098451614, 0.009743480943143368, 0.008609694428741932, 0.0076530613005161285, 0.008503401651978493, 0.008503401651978493, 0.008822279050946236, 0.007830215618014336, 0.00804280024021864, 0.008326247334480286, 0.00736961467191577, 0.008397108875215054, 0.007794784847646952, 0.00807823147624731, 0.0071924603544175625, 0.00807823147624731, 0.0069798752665519714, 0.007298753131181002, 0.007971938699483871, 0.008432540111243725, 0.008290816098451614, 0.00736961467191577, 0.007794784847646952, 0.008007369935512543, 0.007511337753385305, 0.007511337753385305, 0.006483843550086021, 0.0071924603544175625, 0.007546768989413977, 0.006235827691853046, 0.0074759069830179214, 0.0069798752665519714, 0.0071570295840501785, 0.0072278911247849464, 0.00726332189515233, 0.00736961467191577, 0.007794784847646952, 0.006554705090820789, 0.006519274320453405, 0.007121598813682795, 0.006802720949053764, 0.006590136326849461, 0.00627125846222043, 0.006731859408318996, 0.0064129820093512535, 0.006342120468616486, 0.005987811833620071, 0.0063775512389838696, 0.005562641657888889, 0.0056335036642849445, 0.0063775512389838696, 0.0066964286379516125, 0.006342120468616486, 0.00627125846222043, 0.0059523810632526875, 0.0051729027181863785, 0.005810657516121864, 0.00627125846222043, 0.004995748400688171, 0.0056335036642849445, 0.0051374719478189945, 0.006483843550086021, 0.005598072428256273, 0.006094104610383511, 0.005810657516121864, 0.005739795975387096, 0.0056335036642849445, 0.006023242603987455, 0.0058815195225179195, 0.0068735829554498196, 0.006058673374354839, 0.005810657516121864, 0.005846088286489248, 0.004818594083189964, 0.00577522674575448, 0.00527919502928853, 0.005243764258921146, 0.004464285913854837, 0.005066609941422939, 0.0038265306502580643, 0.0061295353807508945, 0.006235827691853046, 0.004322562366724014, 0.005066609941422939, 0.005562641657888889, 0.005031179171055555, 0.0046768710017204285, 0.0044288551434874535, 0.004322562366724014, 0.004854024853557348, 0.005739795975387096, 0.0051374719478189945, 0.004641439765691757, 0.0056689344346523285, 0.004464285913854837, 0.005350056570023298, 0.004535147454589605, 0.0056689344346523285, 0.004357993137091398, 0.004960317630320787, 0.004322562366724014, 0.004499716684222221, 0.004995748400688171, 0.004322562366724014, 0.005314625799655914, 0.004712301772087812, 0.004854024853557348, 0.004889455623924732, 0.004535147454589605, 0.0036139455623924732, 0.005066609941422939, 0.004499716684222221, 0.004216270055621862, 0.004606008995324373, 0.004747732542455196, 0.003968254197388887, 0.004039115738123655, 0.0041808392852544785, 0.003897392423823476, 0.004393423907458782, 0.0035076530184596777, 0.003968254197388887, 0.0034722222480922937, 0.004464285913854837, 0.0038265306502580643, 0.003968254197388887, 0.003897392423823476, 0.003649376565590501, 0.0030824830755591393, 0.004039115738123655, 0.004216270055621862, 0.0035076530184596777, 0.004216270055621862, 0.003932822961360216, 0.003932822961360216, 0.0038619614206254482, 0.004109977278858423, 0.0037556688766926527, 0.004393423907458782, 0.004216270055621862, 0.0034367914777249098, 0.0035785147920250893, 0.0038619614206254482, 0.0034722222480922937, 0.0035076530184596777, 0.0033304989337921143, 0.004039115738123655, 0.003684807335957885, 0.0032950681634247303, 0.0037556688766926527, 0.0030824830755591393, 0.003684807335957885, 0.0032242063898593187, 0.003968254197388887, 0.003649376565590501, 0.002621882129460573, 0.003153344616293907, 0.0038619614206254482, 0.0031887756194919348, 0.003153344616293907, 0.0032596371602267027, 0.0032242063898593187, 0.003401360474526882, 0.003968254197388887, 0.0025510203558951616, 0.0035430840216577053, 0.0027281746733933687, 0.0029761905316263437, 0.002905328758060932, 0.0035076530184596777, 0.0035785147920250893, 0.0032596371602267027, 0.002621882129460573, 0.003117913845926523, 0.002657312899827957, 0.0027636054437607527, 0.003153344616293907, 0.0029761905316263437, 0.002444727811962366, 0.0027990362141281366, 0.0030470523051917553, 0.0027281746733933687, 0.002869897987693548, 0.002657312899827957, 0.0029407597612589598, 0.002409297041594982, 0.0028344672173261642, 0.002409297041594982, 0.0029407597612589598, 0.002621882129460573, 0.002905328758060932, 0.002869897987693548, 0.002161281183362007, 0.0025510203558951616, 0.002657312899827957, 0.0025864513590931892, 0.0031887756194919348, 0.002373866271227598, 0.002621882129460573, 0.0022321429569274187, 0.0022675737272948027, 0.0024801588151603937, 0.002409297041594982, 0.0025864513590931892, 0.002373866271227598, 0.0023384355008602142, 0.0022675737272948027, 0.0022321429569274187, 0.0024801588151603937, 0.0025510203558951616, 0.0026927439030259848, 0.001700680237263441, 0.0022675737272948027, 0.0019132653251290321, 0.0025155895855277777, 0.0025510203558951616, 0.0023384355008602142, 0.0020904196426272392, 0.0020904196426272392, 0.002125850412994623, 0.0023030044976621866, 0.001700680237263441, 0.002161281183362007, 0.002196711953729391, 0.0025155895855277777, 0.0020904196426272392, 0.0025864513590931892, 0.002409297041594982, 0.0018424036679789424, 0.002125850412994623, 0.0022321429569274187, 0.0016298185801133513, 0.002409297041594982, 0.0016652494668960571, 0.0020549886394292116, 0.001700680237263441, 0.0015943878097459674, 0.002161281183362007, 0.0012755101779475808, 0.0020195578690618277, 0.002125850412994623, 0.001700680237263441, 0.0020195578690618277, 0.001700680237263441, 0.0018778344383463264, 0.001700680237263441, 0.001948696211911738, 0.0015589569229632616, 0.0023384355008602142, 0.0017715420108288527, 0.001948696211911738, 0.0022321429569274187, 0.0019841270986944437, 0.002196711953729391, 0.0016652494668960571, 0.001452664379030466, 0.0015235261525958776, 0.0018424036679789424, 0.0018069727811962366, 0.001452664379030466, 0.0013463719515129924, 0.0014172336086630821, 0.0017715420108288527, 0.001452664379030466, 0.0014880952658131719, 0.0018069727811962366, 0.0016298185801133513, 0.0012755101779475808, 0.0015589569229632616, 0.0012400794075801969, 0.0012755101779475808, 0.0016298185801133513, 0.0013463719515129924, 0.001700680237263441, 0.0012400794075801969, 0.0014880952658131719, 0.0017361111240461469, 0.0015235261525958776, 0.0014172336086630821, 0.001452664379030466, 0.0015943878097459674, 0.001452664379030466, 0.0013109410647302866, 0.001452664379030466, 0.0013463719515129924, 0.0016298185801133513, 0.0013109410647302866, 0.0010983559768646955, 0.0010629252064973116, 0.0010983559768646955, 0.0010274943197146058, 0.0016298185801133513, 0.0016652494668960571, 0.0016298185801133513, 0.0015589569229632616, 0.0014172336086630821, 0.0014172336086630821, 0.0013818027218803763, 0.0010274943197146058, 0.0016298185801133513, 0.0010274943197146058, 0.0015235261525958776, 0.0013463719515129924, 0.0010983559768646955, 0.001204648520797491, 0.0010274943197146058, 0.0007794784614816308, 0.0012400794075801969, 0.0010983559768646955, 0.0010983559768646955, 0.0007794784614816308, 0.0007086168043315411, 0.0010629252064973116, 0.0009566326625645161, 0.0008503401186317205, 0.0009566326625645161, 0.0010629252064973116, 0.001452664379030466, 0.0008857710054144263, 0.001204648520797491, 0.0010983559768646955, 0.0008857710054144263, 0.0008503401186317205, 0.0010629252064973116, 0.0008149092900566757, 0.0010983559768646955, 0.0008503401186317205, 0.0007440476329065859, 0.0009566326625645161, 0.0009212018339894712, 0.0009212018339894712, 0.0008857710054144263, 0.0007086168043315411, 0.0006023242603987455, 0.0009566326625645161, 0.0007440476329065859, 0.0009920635493472219, 0.0007440476329065859, 0.0007440476329065859, 0.0008149092900566757, 0.0008857710054144263, 0.0005314626032486558, 0.0009566326625645161, 0.0010983559768646955, 0.0004606009169947356, 0.0006023242603987455, 0.0005668934318237007, 0.0007440476329065859, 0.0009920635493472219, 0.0007440476329065859, 0.0010983559768646955, 0.0011337868636474013, 0.0008149092900566757, 0.0007794784614816308, 0.0006377550889737904, 0.0009566326625645161, 0.0006023242603987455, 0.0013109410647302866, 0.0007086168043315411, 0.0004960317746736109, 0.0010629252064973116, 0.0008149092900566757, 0.0005314626032486558, 0.0007440476329065859, 0.0006377550889737904, 0.0005668934318237007, 0.0010983559768646955, 0.0007086168043315411, 0.0009212018339894712, 0.0007440476329065859, 0.0006023242603987455, 0.00028344671591185033, 0.0004960317746736109, 0.0007440476329065859, 0.0009212018339894712, 0.0006023242603987455, 0.0004606009169947356, 0.0005668934318237007, 0.0006377550889737904, 0.0006023242603987455, 0.0006377550889737904, 0.0005668934318237007, 0.0007794784614816308, 0.0007440476329065859, 0.0006023242603987455, 0.0007086168043315411, 0.0005668934318237007, 0.0004960317746736109, 0.0007440476329065859, 0.0005314626032486558, 0.0006731859757564962, 0.0006377550889737904, 0.0006731859757564962, 0.0006023242603987455, 0.0005668934318237007, 0.0003188775444868952, 0.00035430840216577053, 0.00017715420108288527, 0.0007086168043315411, 0.0007440476329065859, 0.0005314626032486558, 0.0004606009169947356, 0.00035430840216577053, 0.0009212018339894712, 0.00035430840216577053, 0.00042517005931586027, 0.0003897392307408154, 0.0005668934318237007, 0.00042517005931586027, 0.00042517005931586027, 0.00042517005931586027, 0.00035430840216577053, 0.00035430840216577053, 0.00042517005931586027, 0.0005668934318237007, 0.00035430840216577053, 0.0005668934318237007, 0.0005668934318237007, 0.00028344671591185033, 0.0003188775444868952, 0.0003188775444868952, 0.00042517005931586027, 0.0004960317746736109, 0.00024801588733680546, 0.00024801588733680546, 0.00021258502965793014, 0.00028344671591185033, 0.00028344671591185033, 0.00024801588733680546, 0.00028344671591185033, 0.0005314626032486558, 0.0004960317746736109, 0.00035430840216577053, 0.00042517005931586027, 0.00035430840216577053, 0.00021258502965793014, 0.0003897392307408154, 0.00042517005931586027, 0.00042517005931586027, 0.0003188775444868952, 0.0003188775444868952, 0.0004606009169947356, 0.00035430840216577053, 0.0004960317746736109, 0.00021258502965793014, 0.00028344671591185033, 0.0004606009169947356, 0.00035430840216577053, 0.0004960317746736109, 0.00028344671591185033, 0.00035430840216577053, 3.543083948898129e-05, 0.0003188775444868952, 0.00028344671591185033, 0.00021258502965793014, 0.00010629251482896507, 0.00035430840216577053, 0.00021258502965793014, 0.00028344671591185033, 0.00028344671591185033, 0.00028344671591185033, 0.00035430840216577053, 0.0003188775444868952, 0.00035430840216577053, 0.0004606009169947356, 0.00014172335795592517, 0.00042517005931586027, 0.00035430840216577053, 0.00028344671591185033, 0.00024801588733680546, 0.00028344671591185033, 0.00017715420108288527, 0.00017715420108288527, 0.00017715420108288527, 0.00017715420108288527, 0.00014172335795592517, 0.00035430840216577053, 0.00035430840216577053, 0.0003897392307408154, 0.00024801588733680546, 0.00014172335795592517, 0.00035430840216577053, 0.00028344671591185033, 0.00024801588733680546, 0.00024801588733680546, 0.00042517005931586027, 0.00035430840216577053, 0.00014172335795592517, 0.00028344671591185033, 0.00017715420108288527, 0.00021258502965793014, 0.00014172335795592517, 0.00021258502965793014, 0.00021258502965793014, 0.00021258502965793014, 0.00028344671591185033, 0.00010629251482896507, 0.00035430840216577053, 0.00014172335795592517, 0.00021258502965793014, 0.00035430840216577053, 0.00017715420108288527, 0.00035430840216577053, 3.543083948898129e-05, 0.00017715420108288527, 0.00014172335795592517, 0.00017715420108288527, 0.00024801588733680546, 0.00014172335795592517, 0.00010629251482896507, 0.0003188775444868952, 0.00014172335795592517, 0.00017715420108288527, 0.00021258502965793014, 0.00017715420108288527, 0.00028344671591185033, 0.00017715420108288527, 3.543083948898129e-05, 0.0003188775444868952, 0.00010629251482896507, 0.00021258502965793014, 0.00010629251482896507, 7.086167897796258e-05, 0.00014172335795592517, 0.00024801588733680546, 0.00028344671591185033, 0.00021258502965793014, 0.00021258502965793014, 0.00010629251482896507, 7.086167897796258e-05, 0.00010629251482896507, 3.543083948898129e-05, 0.00021258502965793014, 0.0003188775444868952, 0.00021258502965793014, 7.086167897796258e-05, 0.00042517005931586027, 0.00021258502965793014, 0.00010629251482896507, 0.00014172335795592517, 0.00014172335795592517, 7.086167897796258e-05, 0.00010629251482896507, 7.086167897796258e-05, 7.086167897796258e-05, 0.00014172335795592517, 7.086167897796258e-05, 7.086167897796258e-05, 3.543083948898129e-05, 7.086167897796258e-05, 0.00021258502965793014, 7.086167897796258e-05, 0.0003188775444868952, 0.00017715420108288527, 0.00017715420108288527, 7.086167897796258e-05, 7.086167897796258e-05, 0.00014172335795592517, 0.00021258502965793014, 0.00014172335795592517, 0.00017715420108288527, 0.00010629251482896507, 0.00017715420108288527, 0.00014172335795592517, 0.00017715420108288527, 0.00010629251482896507, 0.00010629251482896507, 0.00010629251482896507, 0.00014172335795592517, 0.00014172335795592517, 0.00010629251482896507, 0.00010629251482896507, 7.086167897796258e-05, 0.00014172335795592517, 0.00017715420108288527, 0.00010629251482896507, 0.00014172335795592517, 3.543083948898129e-05, 7.086167897796258e-05, 0.00014172335795592517, 7.086167897796258e-05, 0.00017715420108288527, 7.086167897796258e-05, 3.543083948898129e-05, 7.086167897796258e-05, 0.00014172335795592517, 0.00014172335795592517, 0.00017715420108288527, 0.00010629251482896507, 0.00010629251482896507, 0.00014172335795592517, 3.543083948898129e-05, 3.543083948898129e-05, 3.543083948898129e-05, 7.086167897796258e-05, 0.0, 7.086167897796258e-05, 3.543083948898129e-05, 0.00010629251482896507, 0.00021258502965793014, 0.00017715420108288527, 0.00010629251482896507, 0.0, 0.00014172335795592517, 3.543083948898129e-05, 7.086167897796258e-05, 0.00010629251482896507, 0.00010629251482896507, 0.00017715420108288527, 7.086167897796258e-05, 7.086167897796258e-05, 7.086167897796258e-05, 3.543083948898129e-05, 3.543083948898129e-05, 3.543083948898129e-05, 0.00010629251482896507, 0.00014172335795592517, 7.086167897796258e-05, 0.00014172335795592517, 0.00014172335795592517, 0.00017715420108288527, 0.0, 7.086167897796258e-05, 0.0, 0.00017715420108288527, 0.00014172335795592517, 0.00010629251482896507, 0.00014172335795592517, 0.0, 7.086167897796258e-05, 3.543083948898129e-05, 7.086167897796258e-05, 0.00010629251482896507, 7.086167897796258e-05, 0.0, 0.00014172335795592517, 0.00010629251482896507, 0.00021258502965793014, 3.543083948898129e-05, 7.086167897796258e-05, 7.086167897796258e-05, 7.086167897796258e-05, 7.086167897796258e-05, 3.543083948898129e-05, 0.00017715420108288527, 3.543083948898129e-05, 0.0, 7.086167897796258e-05, 0.00010629251482896507, 7.086167897796258e-05, 0.00010629251482896507, 7.086167897796258e-05, 7.086167897796258e-05, 7.086167897796258e-05, 0.00017715420108288527, 7.086167897796258e-05, 3.543083948898129e-05, 7.086167897796258e-05, 0.0, 7.086167897796258e-05, 0.00010629251482896507, 0.0, 3.543083948898129e-05, 0.0, 0.00010629251482896507, 3.543083948898129e-05, 0.00010629251482896507, 0.00010629251482896507, 3.543083948898129e-05, 3.543083948898129e-05, 0.0, 7.086167897796258e-05, 3.543083948898129e-05, 3.543083948898129e-05, 7.086167897796258e-05, 0.00014172335795592517, 3.543083948898129e-05, 7.086167897796258e-05, 0.0, 3.543083948898129e-05, 7.086167897796258e-05, 0.00014172335795592517, 0.0, 7.086167897796258e-05, 3.543083948898129e-05, 3.543083948898129e-05, 7.086167897796258e-05, 7.086167897796258e-05, 7.086167897796258e-05, 3.543083948898129e-05, 0.00010629251482896507, 0.0, 3.543083948898129e-05, 3.543083948898129e-05, 0.0006377550889737904, 0.0005314626032486558, 0.0004960317746736109, 0.0007440476329065859, 0.0007086168043315411, 0.0004606009169947356, 0.0008857710054144263, 0.0008503401186317205, 0.0006023242603987455, 0.0006731859757564962, 0.0008149092900566757, 0.0005668934318237007, 0.0006731859757564962, 0.0007794784614816308, 0.0006377550889737904, 0.0006377550889737904, 0.0005668934318237007, 0.0004960317746736109, 0.0003897392307408154, 0.00042517005931586027, 0.0003188775444868952, 0.0003188775444868952, 0.0006023242603987455, 0.0004960317746736109, 0.00042517005931586027, 0.00042517005931586027, 0.00021258502965793014, 0.00042517005931586027, 0.0005668934318237007, 0.0003897392307408154, 0.0003188775444868952, 0.00024801588733680546, 0.00021258502965793014, 0.00028344671591185033, 0.00042517005931586027, 0.00021258502965793014, 0.0003188775444868952, 0.00024801588733680546, 0.0003897392307408154, 0.00024801588733680546, 0.0004960317746736109, 0.00035430840216577053, 0.00021258502965793014, 0.00024801588733680546, 7.086167897796258e-05, 0.00024801588733680546, 0.00021258502965793014, 0.00021258502965793014, 0.00028344671591185033, 0.00021258502965793014, 0.00021258502965793014, 0.00035430840216577053, 0.00014172335795592517, 0.00014172335795592517, 0.00014172335795592517, 0.00017715420108288527, 0.00021258502965793014, 0.00021258502965793014, 0.00021258502965793014, 0.00021258502965793014, 0.00024801588733680546, 0.00028344671591185033, 0.00017715420108288527, 0.00024801588733680546, 7.086167897796258e-05, 0.00021258502965793014, 0.00024801588733680546, 0.00017715420108288527, 0.00010629251482896507, 0.00017715420108288527, 3.543083948898129e-05, 0.00010629251482896507, 0.00014172335795592517, 0.00014172335795592517, 0.0, 3.543083948898129e-05, 7.086167897796258e-05, 0.00014172335795592517, 7.086167897796258e-05, 0.00010629251482896507, 0.00010629251482896507, 0.00014172335795592517, 0.00010629251482896507, 0.0, 0.00010629251482896507, 0.00021258502965793014, 3.543083948898129e-05, 0.0, 3.543083948898129e-05, 3.543083948898129e-05, 3.543083948898129e-05, 3.543083948898129e-05, 0.0, 0.00014172335795592517]\n"
     ]
    },
    {
     "data": {
      "image/png": "[encoded data removed]",
      "text/plain": [
       "<Figure size 640x480 with 1 Axes>"
      ]
     },
     "metadata": {},
     "output_type": "display_data"
    }
   ],
   "source": [
    "plt.plot(changes)\n",
    "print(changes)\n",
    "plt.show()"
   ]
  }
 ],
 "metadata": {
  "kernelspec": {
   "display_name": "diffvenv",
   "language": "python",
   "name": "python3"
  },
  "language_info": {
   "codemirror_mode": {
    "name": "ipython",
    "version": 3
   },
   "file_extension": ".py",
   "mimetype": "text/x-python",
   "name": "python",
   "nbconvert_exporter": "python",
   "pygments_lexer": "ipython3",
   "version": "3.11.5"
  },
  "orig_nbformat": 4
 },
 "nbformat": 4,
 "nbformat_minor": 2
}
