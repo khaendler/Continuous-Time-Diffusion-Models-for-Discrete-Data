{
 "cells": [
  {
   "cell_type": "code",
   "execution_count": 1,
   "metadata": {},
   "outputs": [],
   "source": [
    "import torch\n",
    "import lib.utils.bookkeeping as bookkeeping\n",
    "from torch.utils.data import DataLoader\n",
    "from pathlib import Path\n",
    "import numpy as np\n",
    "import matplotlib.pyplot as plt\n",
    "import lib.models.models as models\n",
    "import lib.models.model_utils as model_utils\n",
    "from lib.datasets import mnist, maze, protein, synthetic\n",
    "import lib.datasets.dataset_utils as dataset_utils\n",
    "import lib.losses.losses as losses\n",
    "import lib.losses.losses_utils as losses_utils\n",
    "import lib.training.training as training\n",
    "import lib.training.training_utils as training_utils\n",
    "import lib.optimizers.optimizers as optimizers\n",
    "import lib.optimizers.optimizers_utils as optimizers_utils\n",
    "import lib.sampling.sampling as sampling\n",
    "import lib.sampling.sampling_utils as sampling_utils\n",
    "import os\n",
    "from lib.datasets.maze import maze_acc\n",
    "from ruamel.yaml.scalarfloat import ScalarFloat"
   ]
  },
  {
   "cell_type": "code",
   "execution_count": 2,
   "metadata": {},
   "outputs": [],
   "source": [
    "# creating path\n",
    "\n",
    "\n",
    "path = 'SavedModels/MNISTHollow/' # 'SavedModels/MAZE/' 'SavedModels/MNIST/'\n",
    "date = '2024-01-03' # 2\n",
    "config_name = 'config_001_hollow.yaml' # config_001_hollowMLEProb.yaml\n",
    "model_name = 'model_539999_hollow.pt'\n",
    "\n",
    "path = 'SavedModels/MNIST/' # 'SavedModels/MAZE/' 'SavedModels/MNIST/'\n",
    "date = '2023-12-25' # 2\n",
    "config_name = 'config_001_unet14Mlogits.yaml' # config_001_hollowMLEProb.yaml\n",
    "model_name = 'model_599999_unet14Mlogits.pt'\n",
    "\n",
    "\n",
    "path = 'SavedModels/MAZEunet/' # 'SavedModels/MAZE/' 'SavedModels/MNIST/'\n",
    "date = '2023-12-30' # 2\n",
    "config_name = 'config_001_lastunet.yaml' # config_001_hollowMLEProb.yaml\n",
    "model_name = 'model_399999_lastunet.pt'\n",
    "\n",
    "\n",
    "path = \"SavedModels/Synthetic/\"\n",
    "date = '2023-12-20' # 2\n",
    "config_name = 'config_001_hollowCEProb500K.yaml' # config_001_hollowMLEProb.yaml\n",
    "model_name = 'model_199999_hollowCEProb500K.pt'\n",
    "\n",
    "\n",
    "path = \"SavedModels/SyntheticMasked/\"\n",
    "date = '2023-12-17' # 2\n",
    "config_name = 'config_001_masked.yaml' # config_001_hollowMLEProb.yaml\n",
    "model_name = 'model_199999_masked.pt'\n",
    "\n",
    "path = 'SavedModels/MNISTHollow/' # 'SavedModels/MAZE/' 'SavedModels/MNIST/'\n",
    "date = '2024-01-03' # 2\n",
    "config_name = 'config_001_hollow.yaml' # config_001_hollowMLEProb.yaml\n",
    "model_name = 'model_539999_hollow.pt'\n",
    "\n",
    "path = 'SavedModels/MNIST/' # 'SavedModels/MAZE/' 'SavedModels/MNIST/'\n",
    "date = '2023-12-25' # 2\n",
    "config_name = 'config_001_unet14Mlogits.yaml' # config_001_hollowMLEProb.yaml\n",
    "model_name = 'model_599999_unet14Mlogits.pt'\n",
    "\n",
    "path = 'SavedModels/MNISTHollow/' # 'SavedModels/MAZE/' 'SavedModels/MNIST/'\n",
    "date = '2024-01-03' # 2\n",
    "config_name = 'config_001_hollow.yaml' # config_001_hollowMLEProb.yaml\n",
    "model_name = 'model_539999_hollow.pt'\n",
    "\n",
    "path = 'SavedModels/MAZE/' # 'SavedModels/MAZE/' 'SavedModels/MNIST/'\n",
    "date = '2023-12-22' # 2\n",
    "config_name = 'config_001_hollow8M.yaml' # config_001_hollowMLEProb.yaml\n",
    "model_name = 'model_299999_hollow8M.pt' \n",
    "\n",
    "path = 'SavedModels/MAZE/' # 'SavedModels/MAZE/' 'SavedModels/MNIST/'\n",
    "date = '2023-12-28' # 2\n",
    "config_name = 'config_001_hollowelbo.yaml' # config_001_hollowMLEProb.yaml\n",
    "model_name = 'model_259999_hollowelbo.pt'\n",
    "\n",
    "path = 'SavedModels/MAZE/' # 'SavedModels/MAZE/' 'SavedModels/MNIST/'\n",
    "date = '2024-01-05' # 2\n",
    "config_name = 'config_001_hollowdirect.yaml' # config_001_hollowMLEProb.yaml\n",
    "model_name = 'model_299999_hollowdirect.pt' \n",
    "\n",
    "path = 'SavedModels/MAZEunet/' # 'SavedModels/MAZE/' 'SavedModels/MNIST/'\n",
    "date = '2023-12-30' # 2\n",
    "config_name = 'config_001_lastunet.yaml' # config_001_hollowMLEProb.yaml\n",
    "model_name = 'model_399999_lastunet.pt'\n",
    "\n",
    "\n",
    "\n",
    "path = \"SavedModels/SyntheticRMDirect/\"\n",
    "date = '2023-12-20' # 2023-10-30 'Hollow-2023-10-29'\n",
    "config_name = 'config_001_hollowCEDirect500K.yaml' # 'config_001_maze.yaml' 'config_001_rate001.yaml'\n",
    "model_name = 'model_199999_hollowCEDirect500K.pt' \n",
    "\n",
    "path = \"SavedModels/SyntheticBert/\"\n",
    "date = '2023-12-28' # 2\n",
    "config_name = 'config_001_bert500K.yaml' # config_001_hollowMLEProb.yaml\n",
    "model_name = 'model_199999_bert500K.pt'\n",
    "path = \"SavedModels/Synthetic/\"\n",
    "date = '2023-12-18' # 2\n",
    "config_name = 'config_001_hollowelbo.yaml' # config_001_hollowMLEProb.yaml\n",
    "model_name = 'model_199999_hollowelbo.pt'\n",
    "\n",
    "path = \"SavedModels/SyntheticMasked/\"\n",
    "date = '2023-12-17' # 2\n",
    "config_name = 'config_001_masked.yaml' # config_001_hollowMLEProb.yaml\n",
    "model_name = 'model_199999_masked.pt'\n",
    "\n",
    "path = \"SavedModels/SyntheticMasked/\"\n",
    "date = '2023-12-25' # 2\n",
    "config_name = 'config_001_maskedelbo.yaml' # config_001_hollowMLEProb.yaml\n",
    "model_name = 'model_199999_maskedelbo.pt'\n",
    "\n",
    "path = \"SavedModels/SyntheticMasked/\"\n",
    "date = '2023-12-17' # 2\n",
    "config_name = 'config_001_maskeddirect.yaml' # config_001_hollowMLEProb.yaml\n",
    "model_name = 'model_199999_maskeddirect.pt'\n",
    "\n",
    "path = \"SavedModels/MNISTHollow/\"\n",
    "date = '2024-01-13' # 2\n",
    "config_name = 'config_001_hollow_elbo.yaml' # config_001_hollowMLEProb.yaml\n",
    "model_name = 'model_109999_hollow_elbo.pt'\n",
    "\n",
    "config_path = os.path.join(path, date, config_name)\n",
    "checkpoint_path = os.path.join(path, date, model_name)\n",
    "\n"
   ]
  },
  {
   "cell_type": "code",
   "execution_count": 3,
   "metadata": {},
   "outputs": [
    {
     "name": "stdout",
     "output_type": "stream",
     "text": [
      "cuda\n",
      "self.input_embedding torch.float32\n",
      "number of parameters:  14082304\n",
      "ema state dict function\n"
     ]
    }
   ],
   "source": [
    "# creating models\n",
    "cfg = bookkeeping.load_config(config_path)\n",
    "cfg.sampler.name = 'CRMTauL' #ExactSampling' # ElboLBJF CRMTauL CRMLBJF\n",
    "cfg.sampler.num_corrector_steps = 0\n",
    "cfg.sampler.corrector_entry_time = ScalarFloat(0.0)\n",
    "cfg.sampler.num_steps = 1000\n",
    "cfg.sampler.is_ordinal = True\n",
    "\n",
    "#print(cfg)\n",
    "device = torch.device(cfg.device)\n",
    "print(device)\n",
    "\n",
    "model = model_utils.create_model(cfg, device)\n",
    "print(\"number of parameters: \", sum([p.numel() for p in model.parameters()]))\n",
    "\n",
    "#modified_model_state = utils.remove_module_from_keys(loaded_state['model'])\n",
    "#model.load_state_dict(modified_model_state)\n",
    "#optimizer = optimizers_utils.get_optimizer(model.parameters(), cfg)\n",
    "optimizer = torch.optim.Adam(model.parameters(), cfg.optimizer.lr)\n",
    "\n",
    "sampler = sampling_utils.get_sampler(cfg)\n",
    "\n",
    "state = {\"model\": model, \"optimizer\": optimizer, \"n_iter\": 0}\n",
    "state = bookkeeping.load_state(state, checkpoint_path)\n",
    "state['model'].eval()\n",
    "\n",
    "# Maze:\n",
    "# 80% TauL\n",
    "# 84% LBJF\n",
    "# 96%"
   ]
  },
  {
   "cell_type": "code",
   "execution_count": 4,
   "metadata": {},
   "outputs": [
    {
     "name": "stderr",
     "output_type": "stream",
     "text": [
      "0it [00:00, ?it/s]/home/pheller/my_python_env/lib/python3.11/site-packages/torch/nn/modules/activation.py:1160: UserWarning: Converting mask without torch.bool dtype to bool; this will negatively affect performance. Prefer to use a boolean mask directly. (Triggered internally at ../aten/src/ATen/native/transformers/attention.cpp:150.)\n",
      "  return torch._native_multi_head_attention(\n",
      "1000it [02:04,  8.04it/s]\n"
     ]
    },
    {
     "data": {
      "text/plain": [
       "\"\\nn_samples = 2000\\nn_steps = 1000\\nfor _, n_name in enumerate(['CRMLBJF', 'CRMTauL']):\\n    cfg.sampler.name = n_name \\n    cfg.sampler.num_steps = n_steps\\n    sampler = sampling_utils.get_sampler(cfg)\\n    samples, changes= sampler.sample(model, n_samples)\\n    saved_samples = samples\\n    #np.save(f'hollow_direct_{cfg.sampler.name}{cfg.sampler.num_steps}_synthetic', saved_samples.reshape(n_samples, 1, cfg.data.image_size, cfg.data.image_size))\\n    np.save(f'masked_direct_{cfg.sampler.name}{cfg.sampler.num_steps}_synthetic', saved_samples) #.reshape(n_samples, 1, cfg.data.image_size, cfg.data.image_size))\\n\""
      ]
     },
     "execution_count": 4,
     "metadata": {},
     "output_type": "execute_result"
    }
   ],
   "source": [
    "n_samples = 9\n",
    "samples, changes= sampler.sample(model, n_samples)\n",
    "saved_samples = samples\n",
    "\"\"\"\n",
    "n_samples = 2000\n",
    "n_steps = 1000\n",
    "for _, n_name in enumerate(['CRMLBJF', 'CRMTauL']):\n",
    "    cfg.sampler.name = n_name \n",
    "    cfg.sampler.num_steps = n_steps\n",
    "    sampler = sampling_utils.get_sampler(cfg)\n",
    "    samples, changes= sampler.sample(model, n_samples)\n",
    "    saved_samples = samples\n",
    "    #np.save(f'hollow_direct_{cfg.sampler.name}{cfg.sampler.num_steps}_synthetic', saved_samples.reshape(n_samples, 1, cfg.data.image_size, cfg.data.image_size))\n",
    "    np.save(f'masked_direct_{cfg.sampler.name}{cfg.sampler.num_steps}_synthetic', saved_samples) #.reshape(n_samples, 1, cfg.data.image_size, cfg.data.image_size))\n",
    "\"\"\""
   ]
  },
  {
   "cell_type": "code",
   "execution_count": 5,
   "metadata": {},
   "outputs": [
    {
     "data": {
      "text/plain": [
       "\"\\n#steps = [10, 20, 30, 50, 100, 250, 500, 750, 1000, 2000]\\nn_samples = 35\\nsteps = [1000]\\n\\nfor _, n_name in enumerate(['ExactSampling']):\\n    for _, n_steps in enumerate(steps):\\n        for i in range(200):\\n            cfg.sampler.name = n_name \\n            cfg.sampler.num_steps = n_steps\\n            sampler = sampling_utils.get_sampler(cfg)\\n            samples, changes= sampler.sample(model, n_samples)\\n            saved_samples = samples\\n            np.save(f'hollow_{cfg.sampler.name}{cfg.sampler.num_steps}_mnist{i}', saved_samples.reshape(n_samples, 1, cfg.data.image_size, cfg.data.image_size))\\n#print(samples)\\n\""
      ]
     },
     "execution_count": 5,
     "metadata": {},
     "output_type": "execute_result"
    }
   ],
   "source": [
    "\"\"\"\n",
    "#steps = [10, 20, 30, 50, 100, 250, 500, 750, 1000, 2000]\n",
    "n_samples = 35\n",
    "steps = [1000]\n",
    "\n",
    "for _, n_name in enumerate(['ExactSampling']):\n",
    "    for _, n_steps in enumerate(steps):\n",
    "        for i in range(200):\n",
    "            cfg.sampler.name = n_name \n",
    "            cfg.sampler.num_steps = n_steps\n",
    "            sampler = sampling_utils.get_sampler(cfg)\n",
    "            samples, changes= sampler.sample(model, n_samples)\n",
    "            saved_samples = samples\n",
    "            np.save(f'hollow_{cfg.sampler.name}{cfg.sampler.num_steps}_mnist{i}', saved_samples.reshape(n_samples, 1, cfg.data.image_size, cfg.data.image_size))\n",
    "#print(samples)\n",
    "\"\"\""
   ]
  },
  {
   "cell_type": "code",
   "execution_count": 6,
   "metadata": {},
   "outputs": [
    {
     "data": {
      "text/plain": [
       "\"\\nsteps = [1000]\\nsampler_name = ['ExactSampling']\\nfor sampler_n_i in sampler_name:\\n    for step in steps:\\n        data_list = []\\n        for i in range(111):\\n            print(f'hollow_{sampler_n_i}{step}_mnist{i}.npy')\\n            data_list.append(np.load(f'hollow_{sampler_n_i}{step}_mnist{i}.npy'))\\n        data = np.vstack(data_list)\\n        print(data.shape)\\n        np.save(f'Samples/mnist_hollow_{sampler_n_i}{step}.npy', data)\\n\""
      ]
     },
     "execution_count": 6,
     "metadata": {},
     "output_type": "execute_result"
    }
   ],
   "source": [
    "#steps = [10, 20, 30, 50, 100, 250, 500, 750, 1000]#, 2000]\n",
    "# 1000 noch TauL, 2000 noch eins LBJF\n",
    "# 5 a 200 noch hollow CRMLBJF und CRMTAUL\n",
    "# \n",
    "\"\"\"\n",
    "steps = [1000]\n",
    "sampler_name = ['ExactSampling']\n",
    "for sampler_n_i in sampler_name:\n",
    "    for step in steps:\n",
    "        data_list = []\n",
    "        for i in range(111):\n",
    "            print(f'hollow_{sampler_n_i}{step}_mnist{i}.npy')\n",
    "            data_list.append(np.load(f'hollow_{sampler_n_i}{step}_mnist{i}.npy'))\n",
    "        data = np.vstack(data_list)\n",
    "        print(data.shape)\n",
    "        np.save(f'Samples/mnist_hollow_{sampler_n_i}{step}.npy', data)\n",
    "\"\"\""
   ]
  },
  {
   "cell_type": "code",
   "execution_count": 7,
   "metadata": {},
   "outputs": [
    {
     "data": {
      "text/plain": [
       "\"\\nsteps = [1000]# , 2000]\\nsampler_name = ['CRMTauL']\\n\\nfor sampler_n_i in sampler_name:\\n    for step in steps:\\n        data_list = []\\n        for i in range(20):\\n            print(f'hollow_{sampler_n_i}{step}_mnist{i+1}.npy')\\n            data_list.append(np.load(f'hollow_{sampler_n_i}{step}_mnist{i+1}.npy'))\\n        data = np.vstack(data_list)\\n        print(data.shape)\\n        np.save(f'Samples/mnist_hollow_{sampler_n_i}{step}_new.npy', data)\\n\""
      ]
     },
     "execution_count": 7,
     "metadata": {},
     "output_type": "execute_result"
    }
   ],
   "source": [
    "\"\"\"\n",
    "steps = [1000]# , 2000]\n",
    "sampler_name = ['CRMTauL']\n",
    "\n",
    "for sampler_n_i in sampler_name:\n",
    "    for step in steps:\n",
    "        data_list = []\n",
    "        for i in range(20):\n",
    "            print(f'hollow_{sampler_n_i}{step}_mnist{i+1}.npy')\n",
    "            data_list.append(np.load(f'hollow_{sampler_n_i}{step}_mnist{i+1}.npy'))\n",
    "        data = np.vstack(data_list)\n",
    "        print(data.shape)\n",
    "        np.save(f'Samples/mnist_hollow_{sampler_n_i}{step}_new.npy', data)\n",
    "\"\"\""
   ]
  },
  {
   "cell_type": "code",
   "execution_count": 8,
   "metadata": {},
   "outputs": [
    {
     "data": {
      "text/plain": [
       "'\\nsteps = [1000]\\nprint(\"model Name\", model_name)\\nn_samples = 200 # 1mal Taul 750 2500 samples und einmal LBJF 1000 25000 samples \\nfor i in range(40):\\n    for _, n_steps in enumerate(steps):\\n        for _, n_name in enumerate([\\'CRMLBJF\\', \\'CRMTauL\\']):\\n            cfg.sampler.name = n_name \\n            cfg.sampler.num_steps = n_steps\\n            sampler = sampling_utils.get_sampler(cfg)\\n            samples, changes= sampler.sample(model, n_samples)\\n            saved_samples = samples\\n            np.save(f\\'hollow_{cfg.sampler.name}{cfg.sampler.num_steps}_mnist{i+15}\\', saved_samples.reshape(n_samples, 1, cfg.data.image_size, cfg.data.image_size))\\n#print(samples)\\n'"
      ]
     },
     "execution_count": 8,
     "metadata": {},
     "output_type": "execute_result"
    }
   ],
   "source": [
    "\"\"\"\n",
    "steps = [1000]\n",
    "print(\"model Name\", model_name)\n",
    "n_samples = 200 # 1mal Taul 750 2500 samples und einmal LBJF 1000 25000 samples \n",
    "for i in range(40):\n",
    "    for _, n_steps in enumerate(steps):\n",
    "        for _, n_name in enumerate(['CRMLBJF', 'CRMTauL']):\n",
    "            cfg.sampler.name = n_name \n",
    "            cfg.sampler.num_steps = n_steps\n",
    "            sampler = sampling_utils.get_sampler(cfg)\n",
    "            samples, changes= sampler.sample(model, n_samples)\n",
    "            saved_samples = samples\n",
    "            np.save(f'hollow_{cfg.sampler.name}{cfg.sampler.num_steps}_mnist{i+15}', saved_samples.reshape(n_samples, 1, cfg.data.image_size, cfg.data.image_size))\n",
    "#print(samples)\n",
    "\"\"\"\n"
   ]
  },
  {
   "cell_type": "code",
   "execution_count": 9,
   "metadata": {},
   "outputs": [
    {
     "data": {
      "image/png": "[encoded data removed]",
      "text/plain": [
       "<Figure size 900x900 with 9 Axes>"
      ]
     },
     "metadata": {},
     "output_type": "display_data"
    }
   ],
   "source": [
    "\n",
    "is_img = cfg.data.is_img\n",
    "#n_samples = 9\n",
    "if is_img:\n",
    "    samples = samples.reshape(-1, 1, cfg.data.image_size, cfg.data.image_size)\n",
    "    saving_train_path = os.path.join(cfg.saving.sample_plot_path, f\"{cfg.model.name}{state['n_iter']}_{cfg.sampler.name}{cfg.sampler.num_steps}.png\")\n",
    "    fig = plt.figure(figsize=(9, 9)) \n",
    "    for i in range(n_samples):\n",
    "        plt.subplot(int(np.sqrt(n_samples)), int(np.sqrt(n_samples)), 1 + i)\n",
    "        plt.axis(\"off\")\n",
    "        plt.imshow(np.transpose(samples[i, ...], (1,2,0)), cmap=\"gray\")\n",
    " \n",
    " \n",
    "    plt.savefig(saving_train_path, transparent=True)\n",
    "    plt.show()\n",
    "    plt.close()\n",
    "else:\n",
    "    bm, inv_bm = synthetic.get_binmap(cfg.model.concat_dim, cfg.data.binmode)\n",
    "    print(inv_bm)\n",
    "    samples = synthetic.bin2float(samples.astype(np.int32), inv_bm, cfg.model.concat_dim, cfg.data.int_scale)\n",
    "\n",
    " \n",
    "    saving_plot_path = os.path.join(path, f\"{cfg.model.name}{state['n_iter']}_{cfg.sampler.name}{cfg.sampler.num_steps}.png\")\n",
    "    saving_np_path = os.path.join(path, f\"samples_{cfg.model.name}{state['n_iter']}_{cfg.sampler.name}{cfg.sampler.num_steps}.npy\")\n",
    "    np.save(f'{saving_np_path}', samples)\n",
    "\n",
    "    #aving_plot_path = '/Users/paulheller/PythonRepositories/Master-Thesis/ContTimeDiscreteSpace/TAUnSDDM/SavedModels/MNIST/'\n",
    "    synthetic.plot_samples(samples, saving_plot_path, im_size=cfg.data.plot_size, im_fmt=\"png\")\n"
   ]
  },
  {
   "cell_type": "code",
   "execution_count": 10,
   "metadata": {},
   "outputs": [
    {
     "data": {
      "text/plain": [
       "\"\\n#np.save('PNGs/changing_dim_taul_maze50_ordinal.npy', changes)\\n#np.save('PNGs/changing_dim_lbjf_maze50.npy', changes)\\nchanges_jump_taul = np.load('PNGs/changing_dim_taul_maze50_ordinal.npy')\\nchanges_jump_lbjf = np.load('PNGs/changing_dim_lbjf_maze50.npy')\\nsteps = np.linspace(1, 0, len(changes_jump_lbjf[:-1]))\\nplt.gca().invert_xaxis()\\nplt.plot(steps, changes_jump_lbjf[:-1], label='Euler')\\nplt.plot(steps, changes_jump_taul[:-1], label='Tau-Leaping', color='green')\\nplt.xlabel('Time', fontsize=13)\\nplt.ylabel('Avg. Proportion of Changing Dimensions', fontsize=13)\\nplt.legend()\\nplt.grid(True)\\nplt.savefig('PNGs/changing_dim_maze50_ordinal.png')\\nplt.show()\\n\""
      ]
     },
     "execution_count": 10,
     "metadata": {},
     "output_type": "execute_result"
    }
   ],
   "source": [
    "\"\"\"\n",
    "#np.save('PNGs/changing_dim_taul_maze50_ordinal.npy', changes)\n",
    "#np.save('PNGs/changing_dim_lbjf_maze50.npy', changes)\n",
    "changes_jump_taul = np.load('PNGs/changing_dim_taul_maze50_ordinal.npy')\n",
    "changes_jump_lbjf = np.load('PNGs/changing_dim_lbjf_maze50.npy')\n",
    "steps = np.linspace(1, 0, len(changes_jump_lbjf[:-1]))\n",
    "plt.gca().invert_xaxis()\n",
    "plt.plot(steps, changes_jump_lbjf[:-1], label='Euler')\n",
    "plt.plot(steps, changes_jump_taul[:-1], label='Tau-Leaping', color='green')\n",
    "plt.xlabel('Time', fontsize=13)\n",
    "plt.ylabel('Avg. Proportion of Changing Dimensions', fontsize=13)\n",
    "plt.legend()\n",
    "plt.grid(True)\n",
    "plt.savefig('PNGs/changing_dim_maze50_ordinal.png')\n",
    "plt.show()\n",
    "\"\"\"\n"
   ]
  },
  {
   "cell_type": "code",
   "execution_count": 11,
   "metadata": {},
   "outputs": [
    {
     "data": {
      "text/plain": [
       "\"\\ns_changes_taul = np.load('PNGs/state_changes_taul.npy')\\nchanges[-1, 0, :].reshape(28,28)\\nshaped_changes = s_changes_taul[:, 0, :].reshape(-1, 28,28)\\nindices = np.where((shaped_changes[-1, :, :] > 20) & (shaped_changes[-1, :, :] < 250))\\nprint(indices[0])\\nprint(indices[1])\\nsteps = np.linspace(1, 0, cfg.sampler.num_steps)\\nplt.gca().invert_xaxis()\\n#for i in range(max_number):\\nplt.plot(steps, shaped_changes[:, 14, 14])\\nplt.plot(steps, shaped_changes[:, 9, 8])\\nplt.plot(steps, shaped_changes[:, 10, 10])\\nplt.plot(steps, shaped_changes[:, 13, 7])\\nplt.plot(steps, shaped_changes[:, 24, 20])\\nplt.xlabel('Time', fontsize=13)\\nplt.ylabel('State',fontsize=13)\\nplt.legend()\\nplt.grid(True)\\nplt.savefig('PNGs/state_changes_taul.png')\\nplt.show()\\n\""
      ]
     },
     "execution_count": 11,
     "metadata": {},
     "output_type": "execute_result"
    }
   ],
   "source": [
    "#np.save('PNGs/state_changes_taul.npy', changes.detach().cpu().numpy())\n",
    "\"\"\"\n",
    "s_changes_taul = np.load('PNGs/state_changes_taul.npy')\n",
    "changes[-1, 0, :].reshape(28,28)\n",
    "shaped_changes = s_changes_taul[:, 0, :].reshape(-1, 28,28)\n",
    "indices = np.where((shaped_changes[-1, :, :] > 20) & (shaped_changes[-1, :, :] < 250))\n",
    "print(indices[0])\n",
    "print(indices[1])\n",
    "steps = np.linspace(1, 0, cfg.sampler.num_steps)\n",
    "plt.gca().invert_xaxis()\n",
    "#for i in range(max_number):\n",
    "plt.plot(steps, shaped_changes[:, 14, 14])\n",
    "plt.plot(steps, shaped_changes[:, 9, 8])\n",
    "plt.plot(steps, shaped_changes[:, 10, 10])\n",
    "plt.plot(steps, shaped_changes[:, 13, 7])\n",
    "plt.plot(steps, shaped_changes[:, 24, 20])\n",
    "plt.xlabel('Time', fontsize=13)\n",
    "plt.ylabel('State',fontsize=13)\n",
    "plt.legend()\n",
    "plt.grid(True)\n",
    "plt.savefig('PNGs/state_changes_taul.png')\n",
    "plt.show()\n",
    "\"\"\""
   ]
  },
  {
   "cell_type": "code",
   "execution_count": 12,
   "metadata": {},
   "outputs": [
    {
     "data": {
      "text/plain": [
       "\"\\n#np.save('PNGs/state_changes_lbjf.npy', changes)\\ns_changes_lbjf = np.load('PNGs/state_changes_lbjf.npy')\\nchanges[-1, 0, :].reshape(28,28)\\nshaped_changes = s_changes_lbjf[:, 0, :].reshape(-1, 28,28)\\nindices = np.where((shaped_changes[-1, :, :] > 20) & (shaped_changes[-1, :, :] < 250))\\nprint(indices[0])\\nprint(indices[1])\\nsteps = np.linspace(1, 0, cfg.sampler.num_steps)\\nplt.gca().invert_xaxis()\\n#for i in range(max_number):\\nplt.plot(steps, shaped_changes[:, 10, 13])\\nplt.plot(steps, shaped_changes[:, 7, 18])\\nplt.plot(steps, shaped_changes[:, 9, 12])\\nplt.plot(steps, shaped_changes[:, 25, 10])\\nplt.plot(steps, shaped_changes[:, 17, 14])\\nplt.xlabel('Time', fontsize=13)\\nplt.ylabel('State',fontsize=13)\\nplt.legend()\\nplt.grid(True)\\nplt.savefig('PNGs/state_changes_lbjf.png')\\nplt.show()\\n\""
      ]
     },
     "execution_count": 12,
     "metadata": {},
     "output_type": "execute_result"
    }
   ],
   "source": [
    "\"\"\"\n",
    "#np.save('PNGs/state_changes_lbjf.npy', changes)\n",
    "s_changes_lbjf = np.load('PNGs/state_changes_lbjf.npy')\n",
    "changes[-1, 0, :].reshape(28,28)\n",
    "shaped_changes = s_changes_lbjf[:, 0, :].reshape(-1, 28,28)\n",
    "indices = np.where((shaped_changes[-1, :, :] > 20) & (shaped_changes[-1, :, :] < 250))\n",
    "print(indices[0])\n",
    "print(indices[1])\n",
    "steps = np.linspace(1, 0, cfg.sampler.num_steps)\n",
    "plt.gca().invert_xaxis()\n",
    "#for i in range(max_number):\n",
    "plt.plot(steps, shaped_changes[:, 10, 13])\n",
    "plt.plot(steps, shaped_changes[:, 7, 18])\n",
    "plt.plot(steps, shaped_changes[:, 9, 12])\n",
    "plt.plot(steps, shaped_changes[:, 25, 10])\n",
    "plt.plot(steps, shaped_changes[:, 17, 14])\n",
    "plt.xlabel('Time', fontsize=13)\n",
    "plt.ylabel('State',fontsize=13)\n",
    "plt.legend()\n",
    "plt.grid(True)\n",
    "plt.savefig('PNGs/state_changes_lbjf.png')\n",
    "plt.show()\n",
    "\"\"\""
   ]
  },
  {
   "cell_type": "code",
   "execution_count": 13,
   "metadata": {},
   "outputs": [
    {
     "data": {
      "text/plain": [
       "\"\\n#np.save('PNGs/jumps_over_1_taul.npy', changes)\\nchanges_jump_over1 = np.load('PNGs/jumps_over_1_taul.npy')\\nsteps = np.linspace(1, 0, len(changes_jump_over1[:-1]))\\n\\nplt.gca().invert_xaxis()\\nplt.plot(steps, changes_jump_over1[:-1], color='black')\\nplt.xlabel('Time', fontsize=13)\\nplt.ylabel('Avg. Proportion of Multiple Jumps', fontsize=13)\\nplt.title('Avg. Proportion of Multiple Jumps in one Dim. for Tau-Leaping', fontsize=14)\\nplt.legend()\\nplt.grid(True)\\nplt.savefig('PNGs/jumps_over_1_taul.png')\\nplt.show()\\n\""
      ]
     },
     "execution_count": 13,
     "metadata": {},
     "output_type": "execute_result"
    }
   ],
   "source": [
    "# multiple jumps in a single dim: MNIST\n",
    "\"\"\"\n",
    "#np.save('PNGs/jumps_over_1_taul.npy', changes)\n",
    "changes_jump_over1 = np.load('PNGs/jumps_over_1_taul.npy')\n",
    "steps = np.linspace(1, 0, len(changes_jump_over1[:-1]))\n",
    "\n",
    "plt.gca().invert_xaxis()\n",
    "plt.plot(steps, changes_jump_over1[:-1], color='black')\n",
    "plt.xlabel('Time', fontsize=13)\n",
    "plt.ylabel('Avg. Proportion of Multiple Jumps', fontsize=13)\n",
    "plt.title('Avg. Proportion of Multiple Jumps in one Dim. for Tau-Leaping', fontsize=14)\n",
    "plt.legend()\n",
    "plt.grid(True)\n",
    "plt.savefig('PNGs/jumps_over_1_taul.png')\n",
    "plt.show()\n",
    "\"\"\""
   ]
  },
  {
   "cell_type": "code",
   "execution_count": 14,
   "metadata": {},
   "outputs": [
    {
     "data": {
      "text/plain": [
       "'\\n#np.save(\\'PNGs/clipped_taul.npy\\', changes_clipped)\\nchanges_clipped = np.load(\\'PNGs/clipped_taul.npy\\')\\nsteps = np.linspace(1, 0, len(changes_clipped[:-15]))\\nplt.gca().invert_xaxis()\\nplt.plot(steps, changes_clipped[:-15], color=\\'black\\')\\nplt.xlabel(\\'Time\\', fontsize=13)\\nplt.ylabel(\\'Average Proportion of Clipped Jumps\\', fontsize=13)\\nplt.title(\\'Average Proportion of Clipped Jumps for Tau-Leaping\\', fontsize=14)\\nplt.legend()\\nplt.grid(True)\\nplt.savefig(\"PNGs/clipped_taul.png\")\\nplt.show()\\n'"
      ]
     },
     "execution_count": 14,
     "metadata": {},
     "output_type": "execute_result"
    }
   ],
   "source": [
    "# clipped jumps: MNIST\n",
    "\"\"\"\n",
    "#np.save('PNGs/clipped_taul.npy', changes_clipped)\n",
    "changes_clipped = np.load('PNGs/clipped_taul.npy')\n",
    "steps = np.linspace(1, 0, len(changes_clipped[:-15]))\n",
    "plt.gca().invert_xaxis()\n",
    "plt.plot(steps, changes_clipped[:-15], color='black')\n",
    "plt.xlabel('Time', fontsize=13)\n",
    "plt.ylabel('Average Proportion of Clipped Jumps', fontsize=13)\n",
    "plt.title('Average Proportion of Clipped Jumps for Tau-Leaping', fontsize=14)\n",
    "plt.legend()\n",
    "plt.grid(True)\n",
    "plt.savefig(\"PNGs/clipped_taul.png\")\n",
    "plt.show()\n",
    "\"\"\""
   ]
  },
  {
   "cell_type": "code",
   "execution_count": 15,
   "metadata": {},
   "outputs": [
    {
     "data": {
      "text/plain": [
       "\"\\n#np.save('PNGs/changing_dim_lbjf.npy', changes)\\n#np.save('PNGs/changing_dim_taul.npy', changes_jump)\\nchanges_jump_taul = np.load('PNGs/changing_dim_taul.npy')\\nchanges_jump_lbjf = np.load('PNGs/changing_dim_lbjf.npy')\\nsteps = np.linspace(1, 0, len(changes_jump_taul[:-1]))\\nplt.gca().invert_xaxis()\\nplt.plot(steps, changes_jump_lbjf[:-1], label='Euler')\\nplt.plot(steps, changes[:-1], label='Tau-Leaping', color='green')\\nplt.xlabel('Time', fontsize=13)\\nplt.ylabel('Avg. Proportion of Changing Dimensions', fontsize=13)\\nplt.legend()\\nplt.grid(True)\\n#plt.savefig('PNGs/changing_dim.png')\\nplt.show()\\n\""
      ]
     },
     "execution_count": 15,
     "metadata": {},
     "output_type": "execute_result"
    }
   ],
   "source": [
    "# changing dim mnist\n",
    "\"\"\"\n",
    "#np.save('PNGs/changing_dim_lbjf.npy', changes)\n",
    "#np.save('PNGs/changing_dim_taul.npy', changes_jump)\n",
    "changes_jump_taul = np.load('PNGs/changing_dim_taul.npy')\n",
    "changes_jump_lbjf = np.load('PNGs/changing_dim_lbjf.npy')\n",
    "steps = np.linspace(1, 0, len(changes_jump_taul[:-1]))\n",
    "plt.gca().invert_xaxis()\n",
    "plt.plot(steps, changes_jump_lbjf[:-1], label='Euler')\n",
    "plt.plot(steps, changes[:-1], label='Tau-Leaping', color='green')\n",
    "plt.xlabel('Time', fontsize=13)\n",
    "plt.ylabel('Avg. Proportion of Changing Dimensions', fontsize=13)\n",
    "plt.legend()\n",
    "plt.grid(True)\n",
    "#plt.savefig('PNGs/changing_dim.png')\n",
    "plt.show()\n",
    "\"\"\""
   ]
  },
  {
   "cell_type": "code",
   "execution_count": 16,
   "metadata": {},
   "outputs": [],
   "source": [
    "#np.save(f'lib/is_mnist/data/{cfg.model.name}_{cfg.sampler.name}{cfg.sampler.num_steps}.npy', saved_samples)"
   ]
  },
  {
   "cell_type": "code",
   "execution_count": 17,
   "metadata": {},
   "outputs": [],
   "source": [
    "#np.save('lib/is_mnist/data/mnist_hollow_100exact1000.npy', saved_samples)"
   ]
  },
  {
   "cell_type": "code",
   "execution_count": 18,
   "metadata": {},
   "outputs": [],
   "source": [
    "#np.save('SavedModels/MNIST/mnist_2704LBJF1000_200.npy', saved_samples[0:200])"
   ]
  }
 ],
 "metadata": {
  "kernelspec": {
   "display_name": "diffvenv",
   "language": "python",
   "name": "python3"
  },
  "language_info": {
   "codemirror_mode": {
    "name": "ipython",
    "version": 3
   },
   "file_extension": ".py",
   "mimetype": "text/x-python",
   "name": "python",
   "nbconvert_exporter": "python",
   "pygments_lexer": "ipython3",
   "version": "3.11.5"
  },
  "orig_nbformat": 4
 },
 "nbformat": 4,
 "nbformat_minor": 2
}
