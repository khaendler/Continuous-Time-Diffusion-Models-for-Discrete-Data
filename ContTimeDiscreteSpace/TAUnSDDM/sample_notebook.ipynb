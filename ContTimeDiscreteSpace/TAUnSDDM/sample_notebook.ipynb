{
 "cells": [
  {
   "cell_type": "code",
   "execution_count": 1,
   "metadata": {},
   "outputs": [],
   "source": [
    "import torch\n",
    "import lib.utils.bookkeeping as bookkeeping\n",
    "from torch.utils.data import DataLoader\n",
    "from pathlib import Path\n",
    "import numpy as np\n",
    "import matplotlib.pyplot as plt\n",
    "import lib.models.models as models\n",
    "import lib.models.model_utils as model_utils\n",
    "from lib.datasets import mnist, maze, protein, synthetic\n",
    "import lib.datasets.dataset_utils as dataset_utils\n",
    "import lib.losses.losses as losses\n",
    "import lib.losses.losses_utils as losses_utils\n",
    "import lib.training.training as training\n",
    "import lib.training.training_utils as training_utils\n",
    "import lib.optimizers.optimizers as optimizers\n",
    "import lib.optimizers.optimizers_utils as optimizers_utils\n",
    "import lib.sampling.sampling as sampling\n",
    "import lib.sampling.sampling_utils as sampling_utils\n",
    "import os\n",
    "from ruamel.yaml.scalarfloat import ScalarFloat"
   ]
  },
  {
   "cell_type": "code",
   "execution_count": 4,
   "metadata": {},
   "outputs": [],
   "source": [
    "# creating paths\n",
    "path = 'SavedModels/MAZE/' # 'SavedModels/MAZE/' 'SavedModels/MNIST/'\n",
    "date = '2023-11-24' # 2\n",
    "config_name = 'config_001_hollow10MR.yaml' # 'config_001_ebert10M.yaml'\n",
    "model_name = 'model_86999.pt' #  'model_24999.pt'\n",
    "\n",
    "#config_name = 'config_001_r07.yaml' \n",
    "#model_name = 'model_84999_hollowr07.pt' \n",
    "config_path = os.path.join(path, date, config_name)\n",
    "checkpoint_path = os.path.join(path, date, model_name)"
   ]
  },
  {
   "cell_type": "code",
   "execution_count": 14,
   "metadata": {},
   "outputs": [
    {
     "name": "stdout",
     "output_type": "stream",
     "text": [
      "number of parameters:  11452931\n",
      "ema state dict function\n"
     ]
    }
   ],
   "source": [
    "# creating models\n",
    "cfg = bookkeeping.load_config(config_path)\n",
    "cfg.sampler.name = 'CRMLBJF' #ExactSampling' # ElboLBJF CRMTauL CRMLBJF\n",
    "cfg.logit_type = 'Direct'\n",
    "cfg.sampler.num_corrector_steps = 3\n",
    "cfg.sampler.corrector_entry_time = ScalarFloat(0.2)\n",
    "cfg.sampler.num_steps = 10000\n",
    "cfg.sampler.is_ordinal = True\n",
    "\n",
    "#print(cfg)\n",
    "device = torch.device(cfg.device)\n",
    "\n",
    "model = model_utils.create_model(cfg, device)\n",
    "print(\"number of parameters: \", sum([p.numel() for p in model.parameters()]))\n",
    "\n",
    "#modified_model_state = utils.remove_module_from_keys(loaded_state['model'])\n",
    "#model.load_state_dict(modified_model_state)\n",
    "#optimizer = optimizers_utils.get_optimizer(model.parameters(), cfg)\n",
    "optimizer = torch.optim.Adam(model.parameters(), cfg.optimizer.lr)\n",
    "\n",
    "sampler = sampling_utils.get_sampler(cfg)\n",
    "\n",
    "state = {\"model\": model, \"optimizer\": optimizer, \"n_iter\": 0}\n",
    "state = bookkeeping.load_state(state, checkpoint_path)\n",
    "state['model'].eval()"
   ]
  },
  {
   "cell_type": "code",
   "execution_count": 15,
   "metadata": {},
   "outputs": [
    {
     "name": "stderr",
     "output_type": "stream",
     "text": [
      "8081it [09:10, 13.61it/s]"
     ]
    },
    {
     "name": "stdout",
     "output_type": "stream",
     "text": [
      "corrector\n",
      "corrector\n"
     ]
    },
    {
     "name": "stderr",
     "output_type": "stream",
     "text": [
      "8083it [09:10,  8.41it/s]"
     ]
    },
    {
     "name": "stdout",
     "output_type": "stream",
     "text": [
      "corrector\n"
     ]
    },
    {
     "name": "stderr",
     "output_type": "stream",
     "text": [
      "8085it [09:11,  6.16it/s]"
     ]
    },
    {
     "name": "stdout",
     "output_type": "stream",
     "text": [
      "corrector\n",
      "corrector\n"
     ]
    },
    {
     "name": "stderr",
     "output_type": "stream",
     "text": [
      "8086it [09:11,  5.63it/s]"
     ]
    },
    {
     "name": "stdout",
     "output_type": "stream",
     "text": [
      "corrector\n"
     ]
    },
    {
     "name": "stderr",
     "output_type": "stream",
     "text": [
      "8088it [09:11,  4.69it/s]"
     ]
    },
    {
     "name": "stdout",
     "output_type": "stream",
     "text": [
      "corrector\n",
      "corrector\n"
     ]
    },
    {
     "name": "stderr",
     "output_type": "stream",
     "text": [
      "8089it [09:12,  4.70it/s]"
     ]
    },
    {
     "name": "stdout",
     "output_type": "stream",
     "text": [
      "corrector\n"
     ]
    },
    {
     "name": "stderr",
     "output_type": "stream",
     "text": [
      "8091it [09:12,  3.97it/s]"
     ]
    },
    {
     "name": "stdout",
     "output_type": "stream",
     "text": [
      "corrector\n",
      "corrector\n"
     ]
    },
    {
     "name": "stderr",
     "output_type": "stream",
     "text": [
      "8092it [09:13,  4.29it/s]"
     ]
    },
    {
     "name": "stdout",
     "output_type": "stream",
     "text": [
      "corrector\n"
     ]
    },
    {
     "name": "stderr",
     "output_type": "stream",
     "text": [
      "8094it [09:13,  3.66it/s]"
     ]
    },
    {
     "name": "stdout",
     "output_type": "stream",
     "text": [
      "corrector\n"
     ]
    },
    {
     "name": "stderr",
     "output_type": "stream",
     "text": [
      "8095it [09:13,  4.04it/s]"
     ]
    },
    {
     "name": "stdout",
     "output_type": "stream",
     "text": [
      "corrector\n",
      "corrector\n"
     ]
    },
    {
     "name": "stderr",
     "output_type": "stream",
     "text": [
      "8096it [09:14,  3.65it/s]"
     ]
    },
    {
     "name": "stdout",
     "output_type": "stream",
     "text": [
      "corrector\n"
     ]
    },
    {
     "name": "stderr",
     "output_type": "stream",
     "text": [
      "8098it [09:14,  3.93it/s]"
     ]
    },
    {
     "name": "stdout",
     "output_type": "stream",
     "text": [
      "corrector\n",
      "corrector\n"
     ]
    },
    {
     "name": "stderr",
     "output_type": "stream",
     "text": [
      "8099it [09:14,  3.74it/s]"
     ]
    },
    {
     "name": "stdout",
     "output_type": "stream",
     "text": [
      "corrector\n"
     ]
    },
    {
     "name": "stderr",
     "output_type": "stream",
     "text": [
      "8101it [09:15,  3.85it/s]"
     ]
    },
    {
     "name": "stdout",
     "output_type": "stream",
     "text": [
      "corrector\n",
      "corrector\n"
     ]
    },
    {
     "name": "stderr",
     "output_type": "stream",
     "text": [
      "8102it [09:15,  3.82it/s]"
     ]
    },
    {
     "name": "stdout",
     "output_type": "stream",
     "text": [
      "corrector\n"
     ]
    },
    {
     "name": "stderr",
     "output_type": "stream",
     "text": [
      "8104it [09:16,  3.79it/s]"
     ]
    },
    {
     "name": "stdout",
     "output_type": "stream",
     "text": [
      "corrector\n",
      "corrector\n"
     ]
    },
    {
     "name": "stderr",
     "output_type": "stream",
     "text": [
      "8105it [09:16,  3.92it/s]"
     ]
    },
    {
     "name": "stdout",
     "output_type": "stream",
     "text": [
      "corrector\n"
     ]
    },
    {
     "name": "stderr",
     "output_type": "stream",
     "text": [
      "8107it [09:17,  3.70it/s]"
     ]
    },
    {
     "name": "stdout",
     "output_type": "stream",
     "text": [
      "corrector\n",
      "corrector\n"
     ]
    },
    {
     "name": "stderr",
     "output_type": "stream",
     "text": [
      "8108it [09:17,  4.03it/s]"
     ]
    },
    {
     "name": "stdout",
     "output_type": "stream",
     "text": [
      "corrector\n"
     ]
    },
    {
     "name": "stderr",
     "output_type": "stream",
     "text": [
      "8110it [09:17,  3.59it/s]"
     ]
    },
    {
     "name": "stdout",
     "output_type": "stream",
     "text": [
      "corrector\n"
     ]
    },
    {
     "name": "stderr",
     "output_type": "stream",
     "text": [
      "8111it [09:18,  4.00it/s]"
     ]
    },
    {
     "name": "stdout",
     "output_type": "stream",
     "text": [
      "corrector\n",
      "corrector\n"
     ]
    },
    {
     "name": "stderr",
     "output_type": "stream",
     "text": [
      "8112it [09:18,  3.56it/s]"
     ]
    },
    {
     "name": "stdout",
     "output_type": "stream",
     "text": [
      "corrector\n"
     ]
    },
    {
     "name": "stderr",
     "output_type": "stream",
     "text": [
      "8114it [09:19,  3.92it/s]"
     ]
    },
    {
     "name": "stdout",
     "output_type": "stream",
     "text": [
      "corrector\n",
      "corrector\n"
     ]
    },
    {
     "name": "stderr",
     "output_type": "stream",
     "text": [
      "8115it [09:19,  3.65it/s]"
     ]
    },
    {
     "name": "stdout",
     "output_type": "stream",
     "text": [
      "corrector\n"
     ]
    },
    {
     "name": "stderr",
     "output_type": "stream",
     "text": [
      "8117it [09:19,  3.87it/s]"
     ]
    },
    {
     "name": "stdout",
     "output_type": "stream",
     "text": [
      "corrector\n",
      "corrector\n"
     ]
    },
    {
     "name": "stderr",
     "output_type": "stream",
     "text": [
      "8118it [09:20,  3.74it/s]"
     ]
    },
    {
     "name": "stdout",
     "output_type": "stream",
     "text": [
      "corrector\n"
     ]
    },
    {
     "name": "stderr",
     "output_type": "stream",
     "text": [
      "8120it [09:20,  3.82it/s]"
     ]
    },
    {
     "name": "stdout",
     "output_type": "stream",
     "text": [
      "corrector\n",
      "corrector\n"
     ]
    },
    {
     "name": "stderr",
     "output_type": "stream",
     "text": [
      "8121it [09:20,  3.88it/s]"
     ]
    },
    {
     "name": "stdout",
     "output_type": "stream",
     "text": [
      "corrector\n"
     ]
    },
    {
     "name": "stderr",
     "output_type": "stream",
     "text": [
      "8123it [09:21,  3.74it/s]"
     ]
    },
    {
     "name": "stdout",
     "output_type": "stream",
     "text": [
      "corrector\n",
      "corrector\n"
     ]
    },
    {
     "name": "stderr",
     "output_type": "stream",
     "text": [
      "8124it [09:21,  4.05it/s]"
     ]
    },
    {
     "name": "stdout",
     "output_type": "stream",
     "text": [
      "corrector\n"
     ]
    },
    {
     "name": "stderr",
     "output_type": "stream",
     "text": [
      "8126it [09:22,  3.61it/s]"
     ]
    },
    {
     "name": "stdout",
     "output_type": "stream",
     "text": [
      "corrector\n"
     ]
    },
    {
     "name": "stderr",
     "output_type": "stream",
     "text": [
      "8127it [09:22,  4.02it/s]"
     ]
    },
    {
     "name": "stdout",
     "output_type": "stream",
     "text": [
      "corrector\n",
      "corrector\n"
     ]
    },
    {
     "name": "stderr",
     "output_type": "stream",
     "text": [
      "8128it [09:22,  3.63it/s]"
     ]
    },
    {
     "name": "stdout",
     "output_type": "stream",
     "text": [
      "corrector\n"
     ]
    },
    {
     "name": "stderr",
     "output_type": "stream",
     "text": [
      "8130it [09:23,  3.92it/s]"
     ]
    },
    {
     "name": "stdout",
     "output_type": "stream",
     "text": [
      "corrector\n",
      "corrector\n"
     ]
    },
    {
     "name": "stderr",
     "output_type": "stream",
     "text": [
      "8131it [09:23,  3.73it/s]"
     ]
    },
    {
     "name": "stdout",
     "output_type": "stream",
     "text": [
      "corrector\n"
     ]
    },
    {
     "name": "stderr",
     "output_type": "stream",
     "text": [
      "8133it [09:24,  3.83it/s]"
     ]
    },
    {
     "name": "stdout",
     "output_type": "stream",
     "text": [
      "corrector\n",
      "corrector\n"
     ]
    },
    {
     "name": "stderr",
     "output_type": "stream",
     "text": [
      "8134it [09:24,  3.83it/s]"
     ]
    },
    {
     "name": "stdout",
     "output_type": "stream",
     "text": [
      "corrector\n"
     ]
    },
    {
     "name": "stderr",
     "output_type": "stream",
     "text": [
      "8136it [09:25,  3.77it/s]"
     ]
    },
    {
     "name": "stdout",
     "output_type": "stream",
     "text": [
      "corrector\n",
      "corrector\n"
     ]
    },
    {
     "name": "stderr",
     "output_type": "stream",
     "text": [
      "8137it [09:25,  3.91it/s]"
     ]
    },
    {
     "name": "stdout",
     "output_type": "stream",
     "text": [
      "corrector\n"
     ]
    },
    {
     "name": "stderr",
     "output_type": "stream",
     "text": [
      "8139it [09:25,  3.70it/s]"
     ]
    },
    {
     "name": "stdout",
     "output_type": "stream",
     "text": [
      "corrector\n",
      "corrector\n"
     ]
    },
    {
     "name": "stderr",
     "output_type": "stream",
     "text": [
      "8140it [09:26,  4.03it/s]"
     ]
    },
    {
     "name": "stdout",
     "output_type": "stream",
     "text": [
      "corrector\n"
     ]
    },
    {
     "name": "stderr",
     "output_type": "stream",
     "text": [
      "8142it [09:26,  3.59it/s]"
     ]
    },
    {
     "name": "stdout",
     "output_type": "stream",
     "text": [
      "corrector\n"
     ]
    },
    {
     "name": "stderr",
     "output_type": "stream",
     "text": [
      "8143it [09:26,  4.00it/s]"
     ]
    },
    {
     "name": "stdout",
     "output_type": "stream",
     "text": [
      "corrector\n",
      "corrector\n"
     ]
    },
    {
     "name": "stderr",
     "output_type": "stream",
     "text": [
      "8144it [09:27,  3.56it/s]"
     ]
    },
    {
     "name": "stdout",
     "output_type": "stream",
     "text": [
      "corrector\n"
     ]
    },
    {
     "name": "stderr",
     "output_type": "stream",
     "text": [
      "8146it [09:27,  3.92it/s]"
     ]
    },
    {
     "name": "stdout",
     "output_type": "stream",
     "text": [
      "corrector\n",
      "corrector\n"
     ]
    },
    {
     "name": "stderr",
     "output_type": "stream",
     "text": [
      "8147it [09:28,  3.67it/s]"
     ]
    },
    {
     "name": "stdout",
     "output_type": "stream",
     "text": [
      "corrector\n"
     ]
    },
    {
     "name": "stderr",
     "output_type": "stream",
     "text": [
      "8149it [09:28,  3.85it/s]"
     ]
    },
    {
     "name": "stdout",
     "output_type": "stream",
     "text": [
      "corrector\n",
      "corrector\n"
     ]
    },
    {
     "name": "stderr",
     "output_type": "stream",
     "text": [
      "8150it [09:28,  3.73it/s]"
     ]
    },
    {
     "name": "stdout",
     "output_type": "stream",
     "text": [
      "corrector\n"
     ]
    },
    {
     "name": "stderr",
     "output_type": "stream",
     "text": [
      "8152it [09:29,  3.82it/s]"
     ]
    },
    {
     "name": "stdout",
     "output_type": "stream",
     "text": [
      "corrector\n",
      "corrector\n"
     ]
    },
    {
     "name": "stderr",
     "output_type": "stream",
     "text": [
      "8153it [09:29,  3.83it/s]"
     ]
    },
    {
     "name": "stdout",
     "output_type": "stream",
     "text": [
      "corrector\n"
     ]
    },
    {
     "name": "stderr",
     "output_type": "stream",
     "text": [
      "8155it [09:30,  3.76it/s]"
     ]
    },
    {
     "name": "stdout",
     "output_type": "stream",
     "text": [
      "corrector\n",
      "corrector\n"
     ]
    },
    {
     "name": "stderr",
     "output_type": "stream",
     "text": [
      "8156it [09:30,  3.89it/s]"
     ]
    },
    {
     "name": "stdout",
     "output_type": "stream",
     "text": [
      "corrector\n"
     ]
    },
    {
     "name": "stderr",
     "output_type": "stream",
     "text": [
      "8158it [09:31,  3.69it/s]"
     ]
    },
    {
     "name": "stdout",
     "output_type": "stream",
     "text": [
      "corrector\n",
      "corrector\n"
     ]
    },
    {
     "name": "stderr",
     "output_type": "stream",
     "text": [
      "8159it [09:31,  4.02it/s]"
     ]
    },
    {
     "name": "stdout",
     "output_type": "stream",
     "text": [
      "corrector\n"
     ]
    },
    {
     "name": "stderr",
     "output_type": "stream",
     "text": [
      "8161it [09:31,  3.59it/s]"
     ]
    },
    {
     "name": "stdout",
     "output_type": "stream",
     "text": [
      "corrector\n"
     ]
    },
    {
     "name": "stderr",
     "output_type": "stream",
     "text": [
      "8162it [09:32,  4.01it/s]"
     ]
    },
    {
     "name": "stdout",
     "output_type": "stream",
     "text": [
      "corrector\n",
      "corrector\n"
     ]
    },
    {
     "name": "stderr",
     "output_type": "stream",
     "text": [
      "8163it [09:32,  3.57it/s]"
     ]
    },
    {
     "name": "stdout",
     "output_type": "stream",
     "text": [
      "corrector\n"
     ]
    },
    {
     "name": "stderr",
     "output_type": "stream",
     "text": [
      "8165it [09:32,  3.92it/s]"
     ]
    },
    {
     "name": "stdout",
     "output_type": "stream",
     "text": [
      "corrector\n",
      "corrector\n"
     ]
    },
    {
     "name": "stderr",
     "output_type": "stream",
     "text": [
      "8166it [09:33,  3.66it/s]"
     ]
    },
    {
     "name": "stdout",
     "output_type": "stream",
     "text": [
      "corrector\n"
     ]
    },
    {
     "name": "stderr",
     "output_type": "stream",
     "text": [
      "8168it [09:33,  3.86it/s]"
     ]
    },
    {
     "name": "stdout",
     "output_type": "stream",
     "text": [
      "corrector\n",
      "corrector\n"
     ]
    },
    {
     "name": "stderr",
     "output_type": "stream",
     "text": [
      "8169it [09:34,  3.73it/s]"
     ]
    },
    {
     "name": "stdout",
     "output_type": "stream",
     "text": [
      "corrector\n"
     ]
    },
    {
     "name": "stderr",
     "output_type": "stream",
     "text": [
      "8171it [09:34,  3.81it/s]"
     ]
    },
    {
     "name": "stdout",
     "output_type": "stream",
     "text": [
      "corrector\n",
      "corrector\n"
     ]
    },
    {
     "name": "stderr",
     "output_type": "stream",
     "text": [
      "8172it [09:34,  3.82it/s]"
     ]
    },
    {
     "name": "stdout",
     "output_type": "stream",
     "text": [
      "corrector\n"
     ]
    },
    {
     "name": "stderr",
     "output_type": "stream",
     "text": [
      "8174it [09:35,  3.75it/s]"
     ]
    },
    {
     "name": "stdout",
     "output_type": "stream",
     "text": [
      "corrector\n",
      "corrector\n"
     ]
    },
    {
     "name": "stderr",
     "output_type": "stream",
     "text": [
      "8175it [09:35,  4.01it/s]"
     ]
    },
    {
     "name": "stdout",
     "output_type": "stream",
     "text": [
      "corrector\n"
     ]
    },
    {
     "name": "stderr",
     "output_type": "stream",
     "text": [
      "8177it [09:36,  3.65it/s]"
     ]
    },
    {
     "name": "stdout",
     "output_type": "stream",
     "text": [
      "corrector\n",
      "corrector\n"
     ]
    },
    {
     "name": "stderr",
     "output_type": "stream",
     "text": [
      "8178it [09:36,  4.05it/s]"
     ]
    },
    {
     "name": "stdout",
     "output_type": "stream",
     "text": [
      "corrector\n"
     ]
    },
    {
     "name": "stderr",
     "output_type": "stream",
     "text": [
      "8180it [09:37,  3.55it/s]"
     ]
    },
    {
     "name": "stdout",
     "output_type": "stream",
     "text": [
      "corrector\n"
     ]
    },
    {
     "name": "stderr",
     "output_type": "stream",
     "text": [
      "8181it [09:37,  3.97it/s]"
     ]
    },
    {
     "name": "stdout",
     "output_type": "stream",
     "text": [
      "corrector\n",
      "corrector\n"
     ]
    },
    {
     "name": "stderr",
     "output_type": "stream",
     "text": [
      "8182it [09:37,  3.60it/s]"
     ]
    },
    {
     "name": "stdout",
     "output_type": "stream",
     "text": [
      "corrector\n"
     ]
    },
    {
     "name": "stderr",
     "output_type": "stream",
     "text": [
      "8184it [09:38,  3.90it/s]"
     ]
    },
    {
     "name": "stdout",
     "output_type": "stream",
     "text": [
      "corrector\n",
      "corrector\n"
     ]
    },
    {
     "name": "stderr",
     "output_type": "stream",
     "text": [
      "8185it [09:38,  3.71it/s]"
     ]
    },
    {
     "name": "stdout",
     "output_type": "stream",
     "text": [
      "corrector\n"
     ]
    },
    {
     "name": "stderr",
     "output_type": "stream",
     "text": [
      "8187it [09:38,  3.83it/s]"
     ]
    },
    {
     "name": "stdout",
     "output_type": "stream",
     "text": [
      "corrector\n",
      "corrector\n"
     ]
    },
    {
     "name": "stderr",
     "output_type": "stream",
     "text": [
      "8188it [09:39,  3.82it/s]"
     ]
    },
    {
     "name": "stdout",
     "output_type": "stream",
     "text": [
      "corrector\n"
     ]
    },
    {
     "name": "stderr",
     "output_type": "stream",
     "text": [
      "8190it [09:39,  3.78it/s]"
     ]
    },
    {
     "name": "stdout",
     "output_type": "stream",
     "text": [
      "corrector\n",
      "corrector\n"
     ]
    },
    {
     "name": "stderr",
     "output_type": "stream",
     "text": [
      "8191it [09:39,  3.93it/s]"
     ]
    },
    {
     "name": "stdout",
     "output_type": "stream",
     "text": [
      "corrector\n"
     ]
    },
    {
     "name": "stderr",
     "output_type": "stream",
     "text": [
      "8193it [09:40,  3.68it/s]"
     ]
    },
    {
     "name": "stdout",
     "output_type": "stream",
     "text": [
      "corrector\n",
      "corrector\n"
     ]
    },
    {
     "name": "stderr",
     "output_type": "stream",
     "text": [
      "8194it [09:40,  4.03it/s]"
     ]
    },
    {
     "name": "stdout",
     "output_type": "stream",
     "text": [
      "corrector\n"
     ]
    },
    {
     "name": "stderr",
     "output_type": "stream",
     "text": [
      "8196it [09:41,  3.58it/s]"
     ]
    },
    {
     "name": "stdout",
     "output_type": "stream",
     "text": [
      "corrector\n"
     ]
    },
    {
     "name": "stderr",
     "output_type": "stream",
     "text": [
      "8197it [09:41,  3.99it/s]"
     ]
    },
    {
     "name": "stdout",
     "output_type": "stream",
     "text": [
      "corrector\n",
      "corrector\n"
     ]
    },
    {
     "name": "stderr",
     "output_type": "stream",
     "text": [
      "8198it [09:41,  3.60it/s]"
     ]
    },
    {
     "name": "stdout",
     "output_type": "stream",
     "text": [
      "corrector\n"
     ]
    },
    {
     "name": "stderr",
     "output_type": "stream",
     "text": [
      "8200it [09:42,  3.91it/s]"
     ]
    },
    {
     "name": "stdout",
     "output_type": "stream",
     "text": [
      "corrector\n",
      "corrector\n"
     ]
    },
    {
     "name": "stderr",
     "output_type": "stream",
     "text": [
      "8201it [09:42,  3.72it/s]"
     ]
    },
    {
     "name": "stdout",
     "output_type": "stream",
     "text": [
      "corrector\n"
     ]
    },
    {
     "name": "stderr",
     "output_type": "stream",
     "text": [
      "8203it [09:43,  3.85it/s]"
     ]
    },
    {
     "name": "stdout",
     "output_type": "stream",
     "text": [
      "corrector\n",
      "corrector\n"
     ]
    },
    {
     "name": "stderr",
     "output_type": "stream",
     "text": [
      "8204it [09:43,  3.82it/s]"
     ]
    },
    {
     "name": "stdout",
     "output_type": "stream",
     "text": [
      "corrector\n"
     ]
    },
    {
     "name": "stderr",
     "output_type": "stream",
     "text": [
      "8206it [09:44,  3.79it/s]"
     ]
    },
    {
     "name": "stdout",
     "output_type": "stream",
     "text": [
      "corrector\n",
      "corrector\n"
     ]
    },
    {
     "name": "stderr",
     "output_type": "stream",
     "text": [
      "8207it [09:44,  3.90it/s]"
     ]
    },
    {
     "name": "stdout",
     "output_type": "stream",
     "text": [
      "corrector\n"
     ]
    },
    {
     "name": "stderr",
     "output_type": "stream",
     "text": [
      "8209it [09:44,  3.71it/s]"
     ]
    },
    {
     "name": "stdout",
     "output_type": "stream",
     "text": [
      "corrector\n",
      "corrector\n"
     ]
    },
    {
     "name": "stderr",
     "output_type": "stream",
     "text": [
      "8210it [09:45,  4.01it/s]"
     ]
    },
    {
     "name": "stdout",
     "output_type": "stream",
     "text": [
      "corrector\n"
     ]
    },
    {
     "name": "stderr",
     "output_type": "stream",
     "text": [
      "8212it [09:45,  3.62it/s]"
     ]
    },
    {
     "name": "stdout",
     "output_type": "stream",
     "text": [
      "corrector\n",
      "corrector\n"
     ]
    },
    {
     "name": "stderr",
     "output_type": "stream",
     "text": [
      "8213it [09:45,  4.02it/s]"
     ]
    },
    {
     "name": "stdout",
     "output_type": "stream",
     "text": [
      "corrector\n"
     ]
    },
    {
     "name": "stderr",
     "output_type": "stream",
     "text": [
      "8215it [09:46,  3.52it/s]"
     ]
    },
    {
     "name": "stdout",
     "output_type": "stream",
     "text": [
      "corrector\n"
     ]
    },
    {
     "name": "stderr",
     "output_type": "stream",
     "text": [
      "8216it [09:46,  3.95it/s]"
     ]
    },
    {
     "name": "stdout",
     "output_type": "stream",
     "text": [
      "corrector\n",
      "corrector\n"
     ]
    },
    {
     "name": "stderr",
     "output_type": "stream",
     "text": [
      "8217it [09:47,  3.61it/s]"
     ]
    },
    {
     "name": "stdout",
     "output_type": "stream",
     "text": [
      "corrector\n"
     ]
    },
    {
     "name": "stderr",
     "output_type": "stream",
     "text": [
      "8219it [09:47,  3.88it/s]"
     ]
    },
    {
     "name": "stdout",
     "output_type": "stream",
     "text": [
      "corrector\n",
      "corrector\n"
     ]
    },
    {
     "name": "stderr",
     "output_type": "stream",
     "text": [
      "8220it [09:47,  3.74it/s]"
     ]
    },
    {
     "name": "stdout",
     "output_type": "stream",
     "text": [
      "corrector\n"
     ]
    },
    {
     "name": "stderr",
     "output_type": "stream",
     "text": [
      "8222it [09:48,  3.82it/s]"
     ]
    },
    {
     "name": "stdout",
     "output_type": "stream",
     "text": [
      "corrector\n",
      "corrector\n"
     ]
    },
    {
     "name": "stderr",
     "output_type": "stream",
     "text": [
      "8223it [09:48,  3.83it/s]"
     ]
    },
    {
     "name": "stdout",
     "output_type": "stream",
     "text": [
      "corrector\n"
     ]
    },
    {
     "name": "stderr",
     "output_type": "stream",
     "text": [
      "8225it [09:49,  3.77it/s]"
     ]
    },
    {
     "name": "stdout",
     "output_type": "stream",
     "text": [
      "corrector\n",
      "corrector\n"
     ]
    },
    {
     "name": "stderr",
     "output_type": "stream",
     "text": [
      "8226it [09:49,  3.92it/s]"
     ]
    },
    {
     "name": "stdout",
     "output_type": "stream",
     "text": [
      "corrector\n"
     ]
    },
    {
     "name": "stderr",
     "output_type": "stream",
     "text": [
      "8228it [09:50,  3.68it/s]"
     ]
    },
    {
     "name": "stdout",
     "output_type": "stream",
     "text": [
      "corrector\n",
      "corrector\n"
     ]
    },
    {
     "name": "stderr",
     "output_type": "stream",
     "text": [
      "8229it [09:50,  4.04it/s]"
     ]
    },
    {
     "name": "stdout",
     "output_type": "stream",
     "text": [
      "corrector\n"
     ]
    },
    {
     "name": "stderr",
     "output_type": "stream",
     "text": [
      "8231it [09:50,  3.58it/s]"
     ]
    },
    {
     "name": "stdout",
     "output_type": "stream",
     "text": [
      "corrector\n"
     ]
    },
    {
     "name": "stderr",
     "output_type": "stream",
     "text": [
      "8232it [09:51,  3.99it/s]"
     ]
    },
    {
     "name": "stdout",
     "output_type": "stream",
     "text": [
      "corrector\n",
      "corrector\n"
     ]
    },
    {
     "name": "stderr",
     "output_type": "stream",
     "text": [
      "8233it [09:51,  3.59it/s]"
     ]
    },
    {
     "name": "stdout",
     "output_type": "stream",
     "text": [
      "corrector\n"
     ]
    },
    {
     "name": "stderr",
     "output_type": "stream",
     "text": [
      "8235it [09:51,  3.91it/s]"
     ]
    },
    {
     "name": "stdout",
     "output_type": "stream",
     "text": [
      "corrector\n",
      "corrector\n"
     ]
    },
    {
     "name": "stderr",
     "output_type": "stream",
     "text": [
      "8236it [09:52,  3.70it/s]"
     ]
    },
    {
     "name": "stdout",
     "output_type": "stream",
     "text": [
      "corrector\n"
     ]
    },
    {
     "name": "stderr",
     "output_type": "stream",
     "text": [
      "8238it [09:52,  3.85it/s]"
     ]
    },
    {
     "name": "stdout",
     "output_type": "stream",
     "text": [
      "corrector\n",
      "corrector\n"
     ]
    },
    {
     "name": "stderr",
     "output_type": "stream",
     "text": [
      "8239it [09:53,  3.76it/s]"
     ]
    },
    {
     "name": "stdout",
     "output_type": "stream",
     "text": [
      "corrector\n"
     ]
    },
    {
     "name": "stderr",
     "output_type": "stream",
     "text": [
      "8241it [09:53,  3.80it/s]"
     ]
    },
    {
     "name": "stdout",
     "output_type": "stream",
     "text": [
      "corrector\n",
      "corrector\n"
     ]
    },
    {
     "name": "stderr",
     "output_type": "stream",
     "text": [
      "8242it [09:53,  3.88it/s]"
     ]
    },
    {
     "name": "stdout",
     "output_type": "stream",
     "text": [
      "corrector\n"
     ]
    },
    {
     "name": "stderr",
     "output_type": "stream",
     "text": [
      "8244it [09:54,  3.73it/s]"
     ]
    },
    {
     "name": "stdout",
     "output_type": "stream",
     "text": [
      "corrector\n",
      "corrector\n"
     ]
    },
    {
     "name": "stderr",
     "output_type": "stream",
     "text": [
      "8245it [09:54,  3.99it/s]"
     ]
    },
    {
     "name": "stdout",
     "output_type": "stream",
     "text": [
      "corrector\n"
     ]
    },
    {
     "name": "stderr",
     "output_type": "stream",
     "text": [
      "8247it [09:55,  3.63it/s]"
     ]
    },
    {
     "name": "stdout",
     "output_type": "stream",
     "text": [
      "corrector\n",
      "corrector\n"
     ]
    },
    {
     "name": "stderr",
     "output_type": "stream",
     "text": [
      "8248it [09:55,  4.03it/s]"
     ]
    },
    {
     "name": "stdout",
     "output_type": "stream",
     "text": [
      "corrector\n"
     ]
    },
    {
     "name": "stderr",
     "output_type": "stream",
     "text": [
      "8250it [09:56,  3.55it/s]"
     ]
    },
    {
     "name": "stdout",
     "output_type": "stream",
     "text": [
      "corrector\n"
     ]
    },
    {
     "name": "stderr",
     "output_type": "stream",
     "text": [
      "8251it [09:56,  3.96it/s]"
     ]
    },
    {
     "name": "stdout",
     "output_type": "stream",
     "text": [
      "corrector\n",
      "corrector\n"
     ]
    },
    {
     "name": "stderr",
     "output_type": "stream",
     "text": [
      "8252it [09:56,  3.58it/s]"
     ]
    },
    {
     "name": "stdout",
     "output_type": "stream",
     "text": [
      "corrector\n"
     ]
    },
    {
     "name": "stderr",
     "output_type": "stream",
     "text": [
      "8254it [09:57,  3.89it/s]"
     ]
    },
    {
     "name": "stdout",
     "output_type": "stream",
     "text": [
      "corrector\n",
      "corrector\n"
     ]
    },
    {
     "name": "stderr",
     "output_type": "stream",
     "text": [
      "8255it [09:57,  3.70it/s]"
     ]
    },
    {
     "name": "stdout",
     "output_type": "stream",
     "text": [
      "corrector\n"
     ]
    },
    {
     "name": "stderr",
     "output_type": "stream",
     "text": [
      "8257it [09:57,  3.84it/s]"
     ]
    },
    {
     "name": "stdout",
     "output_type": "stream",
     "text": [
      "corrector\n",
      "corrector\n"
     ]
    },
    {
     "name": "stderr",
     "output_type": "stream",
     "text": [
      "8258it [09:58,  3.82it/s]"
     ]
    },
    {
     "name": "stdout",
     "output_type": "stream",
     "text": [
      "corrector\n"
     ]
    },
    {
     "name": "stderr",
     "output_type": "stream",
     "text": [
      "8260it [09:58,  3.79it/s]"
     ]
    },
    {
     "name": "stdout",
     "output_type": "stream",
     "text": [
      "corrector\n",
      "corrector\n"
     ]
    },
    {
     "name": "stderr",
     "output_type": "stream",
     "text": [
      "8261it [09:59,  3.90it/s]"
     ]
    },
    {
     "name": "stdout",
     "output_type": "stream",
     "text": [
      "corrector\n"
     ]
    },
    {
     "name": "stderr",
     "output_type": "stream",
     "text": [
      "8263it [09:59,  3.71it/s]"
     ]
    },
    {
     "name": "stdout",
     "output_type": "stream",
     "text": [
      "corrector\n",
      "corrector\n"
     ]
    },
    {
     "name": "stderr",
     "output_type": "stream",
     "text": [
      "8264it [09:59,  4.01it/s]"
     ]
    },
    {
     "name": "stdout",
     "output_type": "stream",
     "text": [
      "corrector\n"
     ]
    },
    {
     "name": "stderr",
     "output_type": "stream",
     "text": [
      "8266it [10:00,  3.60it/s]"
     ]
    },
    {
     "name": "stdout",
     "output_type": "stream",
     "text": [
      "corrector\n"
     ]
    },
    {
     "name": "stderr",
     "output_type": "stream",
     "text": [
      "8267it [10:00,  4.01it/s]"
     ]
    },
    {
     "name": "stdout",
     "output_type": "stream",
     "text": [
      "corrector\n",
      "corrector\n"
     ]
    },
    {
     "name": "stderr",
     "output_type": "stream",
     "text": [
      "8269it [10:01,  3.51it/s]"
     ]
    },
    {
     "name": "stdout",
     "output_type": "stream",
     "text": [
      "corrector\n"
     ]
    },
    {
     "name": "stderr",
     "output_type": "stream",
     "text": [
      "8270it [10:01,  3.93it/s]"
     ]
    },
    {
     "name": "stdout",
     "output_type": "stream",
     "text": [
      "corrector\n",
      "corrector\n"
     ]
    },
    {
     "name": "stderr",
     "output_type": "stream",
     "text": [
      "8271it [10:01,  3.63it/s]"
     ]
    },
    {
     "name": "stdout",
     "output_type": "stream",
     "text": [
      "corrector\n"
     ]
    },
    {
     "name": "stderr",
     "output_type": "stream",
     "text": [
      "8273it [10:02,  3.87it/s]"
     ]
    },
    {
     "name": "stdout",
     "output_type": "stream",
     "text": [
      "corrector\n",
      "corrector\n"
     ]
    },
    {
     "name": "stderr",
     "output_type": "stream",
     "text": [
      "8274it [10:02,  3.74it/s]"
     ]
    },
    {
     "name": "stdout",
     "output_type": "stream",
     "text": [
      "corrector\n"
     ]
    },
    {
     "name": "stderr",
     "output_type": "stream",
     "text": [
      "8276it [10:03,  3.82it/s]"
     ]
    },
    {
     "name": "stdout",
     "output_type": "stream",
     "text": [
      "corrector\n",
      "corrector\n"
     ]
    },
    {
     "name": "stderr",
     "output_type": "stream",
     "text": [
      "8277it [10:03,  3.83it/s]"
     ]
    },
    {
     "name": "stdout",
     "output_type": "stream",
     "text": [
      "corrector\n"
     ]
    },
    {
     "name": "stderr",
     "output_type": "stream",
     "text": [
      "8279it [10:03,  3.76it/s]"
     ]
    },
    {
     "name": "stdout",
     "output_type": "stream",
     "text": [
      "corrector\n",
      "corrector\n"
     ]
    },
    {
     "name": "stderr",
     "output_type": "stream",
     "text": [
      "8280it [10:04,  3.97it/s]"
     ]
    },
    {
     "name": "stdout",
     "output_type": "stream",
     "text": [
      "corrector\n"
     ]
    },
    {
     "name": "stderr",
     "output_type": "stream",
     "text": [
      "8282it [10:04,  3.65it/s]"
     ]
    },
    {
     "name": "stdout",
     "output_type": "stream",
     "text": [
      "corrector\n",
      "corrector\n"
     ]
    },
    {
     "name": "stderr",
     "output_type": "stream",
     "text": [
      "8283it [10:04,  4.00it/s]"
     ]
    },
    {
     "name": "stdout",
     "output_type": "stream",
     "text": [
      "corrector\n"
     ]
    },
    {
     "name": "stderr",
     "output_type": "stream",
     "text": [
      "8285it [10:05,  3.57it/s]"
     ]
    },
    {
     "name": "stdout",
     "output_type": "stream",
     "text": [
      "corrector\n"
     ]
    },
    {
     "name": "stderr",
     "output_type": "stream",
     "text": [
      "8286it [10:05,  3.98it/s]"
     ]
    },
    {
     "name": "stdout",
     "output_type": "stream",
     "text": [
      "corrector\n",
      "corrector\n"
     ]
    },
    {
     "name": "stderr",
     "output_type": "stream",
     "text": [
      "8287it [10:06,  3.57it/s]"
     ]
    },
    {
     "name": "stdout",
     "output_type": "stream",
     "text": [
      "corrector\n"
     ]
    },
    {
     "name": "stderr",
     "output_type": "stream",
     "text": [
      "8289it [10:06,  3.91it/s]"
     ]
    },
    {
     "name": "stdout",
     "output_type": "stream",
     "text": [
      "corrector\n",
      "corrector\n"
     ]
    },
    {
     "name": "stderr",
     "output_type": "stream",
     "text": [
      "8290it [10:06,  3.66it/s]"
     ]
    },
    {
     "name": "stdout",
     "output_type": "stream",
     "text": [
      "corrector\n"
     ]
    },
    {
     "name": "stderr",
     "output_type": "stream",
     "text": [
      "8292it [10:07,  3.85it/s]"
     ]
    },
    {
     "name": "stdout",
     "output_type": "stream",
     "text": [
      "corrector\n",
      "corrector\n"
     ]
    },
    {
     "name": "stderr",
     "output_type": "stream",
     "text": [
      "8293it [10:07,  3.72it/s]"
     ]
    },
    {
     "name": "stdout",
     "output_type": "stream",
     "text": [
      "corrector\n"
     ]
    },
    {
     "name": "stderr",
     "output_type": "stream",
     "text": [
      "8295it [10:08,  3.81it/s]"
     ]
    },
    {
     "name": "stdout",
     "output_type": "stream",
     "text": [
      "corrector\n",
      "corrector\n"
     ]
    },
    {
     "name": "stderr",
     "output_type": "stream",
     "text": [
      "8296it [10:08,  3.84it/s]"
     ]
    },
    {
     "name": "stdout",
     "output_type": "stream",
     "text": [
      "corrector\n"
     ]
    },
    {
     "name": "stderr",
     "output_type": "stream",
     "text": [
      "8298it [10:09,  3.75it/s]"
     ]
    },
    {
     "name": "stdout",
     "output_type": "stream",
     "text": [
      "corrector\n",
      "corrector\n"
     ]
    },
    {
     "name": "stderr",
     "output_type": "stream",
     "text": [
      "8299it [10:09,  3.97it/s]"
     ]
    },
    {
     "name": "stdout",
     "output_type": "stream",
     "text": [
      "corrector\n"
     ]
    },
    {
     "name": "stderr",
     "output_type": "stream",
     "text": [
      "8301it [10:09,  3.66it/s]"
     ]
    },
    {
     "name": "stdout",
     "output_type": "stream",
     "text": [
      "corrector\n",
      "corrector\n"
     ]
    },
    {
     "name": "stderr",
     "output_type": "stream",
     "text": [
      "8302it [10:10,  4.03it/s]"
     ]
    },
    {
     "name": "stdout",
     "output_type": "stream",
     "text": [
      "corrector\n"
     ]
    },
    {
     "name": "stderr",
     "output_type": "stream",
     "text": [
      "8304it [10:10,  3.56it/s]"
     ]
    },
    {
     "name": "stdout",
     "output_type": "stream",
     "text": [
      "corrector\n"
     ]
    },
    {
     "name": "stderr",
     "output_type": "stream",
     "text": [
      "8305it [10:10,  3.98it/s]"
     ]
    },
    {
     "name": "stdout",
     "output_type": "stream",
     "text": [
      "corrector\n",
      "corrector\n"
     ]
    },
    {
     "name": "stderr",
     "output_type": "stream",
     "text": [
      "8306it [10:11,  3.60it/s]"
     ]
    },
    {
     "name": "stdout",
     "output_type": "stream",
     "text": [
      "corrector\n"
     ]
    },
    {
     "name": "stderr",
     "output_type": "stream",
     "text": [
      "8308it [10:11,  3.90it/s]"
     ]
    },
    {
     "name": "stdout",
     "output_type": "stream",
     "text": [
      "corrector\n",
      "corrector\n"
     ]
    },
    {
     "name": "stderr",
     "output_type": "stream",
     "text": [
      "8309it [10:12,  3.71it/s]"
     ]
    },
    {
     "name": "stdout",
     "output_type": "stream",
     "text": [
      "corrector\n"
     ]
    },
    {
     "name": "stderr",
     "output_type": "stream",
     "text": [
      "8311it [10:12,  3.84it/s]"
     ]
    },
    {
     "name": "stdout",
     "output_type": "stream",
     "text": [
      "corrector\n",
      "corrector\n"
     ]
    },
    {
     "name": "stderr",
     "output_type": "stream",
     "text": [
      "8312it [10:12,  3.76it/s]"
     ]
    },
    {
     "name": "stdout",
     "output_type": "stream",
     "text": [
      "corrector\n"
     ]
    },
    {
     "name": "stderr",
     "output_type": "stream",
     "text": [
      "8314it [10:13,  3.80it/s]"
     ]
    },
    {
     "name": "stdout",
     "output_type": "stream",
     "text": [
      "corrector\n",
      "corrector\n"
     ]
    },
    {
     "name": "stderr",
     "output_type": "stream",
     "text": [
      "8315it [10:13,  3.92it/s]"
     ]
    },
    {
     "name": "stdout",
     "output_type": "stream",
     "text": [
      "corrector\n"
     ]
    },
    {
     "name": "stderr",
     "output_type": "stream",
     "text": [
      "8317it [10:14,  3.71it/s]"
     ]
    },
    {
     "name": "stdout",
     "output_type": "stream",
     "text": [
      "corrector\n",
      "corrector\n"
     ]
    },
    {
     "name": "stderr",
     "output_type": "stream",
     "text": [
      "8318it [10:14,  4.03it/s]"
     ]
    },
    {
     "name": "stdout",
     "output_type": "stream",
     "text": [
      "corrector\n"
     ]
    },
    {
     "name": "stderr",
     "output_type": "stream",
     "text": [
      "8320it [10:15,  3.60it/s]"
     ]
    },
    {
     "name": "stdout",
     "output_type": "stream",
     "text": [
      "corrector\n"
     ]
    },
    {
     "name": "stderr",
     "output_type": "stream",
     "text": [
      "8321it [10:15,  4.01it/s]"
     ]
    },
    {
     "name": "stdout",
     "output_type": "stream",
     "text": [
      "corrector\n",
      "corrector\n"
     ]
    },
    {
     "name": "stderr",
     "output_type": "stream",
     "text": [
      "8323it [10:15,  3.52it/s]"
     ]
    },
    {
     "name": "stdout",
     "output_type": "stream",
     "text": [
      "corrector\n"
     ]
    },
    {
     "name": "stderr",
     "output_type": "stream",
     "text": [
      "8324it [10:16,  3.94it/s]"
     ]
    },
    {
     "name": "stdout",
     "output_type": "stream",
     "text": [
      "corrector\n",
      "corrector\n"
     ]
    },
    {
     "name": "stderr",
     "output_type": "stream",
     "text": [
      "8325it [10:16,  3.60it/s]"
     ]
    },
    {
     "name": "stdout",
     "output_type": "stream",
     "text": [
      "corrector\n"
     ]
    },
    {
     "name": "stderr",
     "output_type": "stream",
     "text": [
      "8327it [10:16,  3.89it/s]"
     ]
    },
    {
     "name": "stdout",
     "output_type": "stream",
     "text": [
      "corrector\n",
      "corrector\n"
     ]
    },
    {
     "name": "stderr",
     "output_type": "stream",
     "text": [
      "8328it [10:17,  3.71it/s]"
     ]
    },
    {
     "name": "stdout",
     "output_type": "stream",
     "text": [
      "corrector\n"
     ]
    },
    {
     "name": "stderr",
     "output_type": "stream",
     "text": [
      "8330it [10:17,  3.84it/s]"
     ]
    },
    {
     "name": "stdout",
     "output_type": "stream",
     "text": [
      "corrector\n",
      "corrector\n"
     ]
    },
    {
     "name": "stderr",
     "output_type": "stream",
     "text": [
      "8331it [10:18,  3.86it/s]"
     ]
    },
    {
     "name": "stdout",
     "output_type": "stream",
     "text": [
      "corrector\n"
     ]
    },
    {
     "name": "stderr",
     "output_type": "stream",
     "text": [
      "8333it [10:18,  3.77it/s]"
     ]
    },
    {
     "name": "stdout",
     "output_type": "stream",
     "text": [
      "corrector\n",
      "corrector\n"
     ]
    },
    {
     "name": "stderr",
     "output_type": "stream",
     "text": [
      "8334it [10:18,  3.94it/s]"
     ]
    },
    {
     "name": "stdout",
     "output_type": "stream",
     "text": [
      "corrector\n"
     ]
    },
    {
     "name": "stderr",
     "output_type": "stream",
     "text": [
      "8336it [10:19,  3.67it/s]"
     ]
    },
    {
     "name": "stdout",
     "output_type": "stream",
     "text": [
      "corrector\n",
      "corrector\n"
     ]
    },
    {
     "name": "stderr",
     "output_type": "stream",
     "text": [
      "8337it [10:19,  4.04it/s]"
     ]
    },
    {
     "name": "stdout",
     "output_type": "stream",
     "text": [
      "corrector\n"
     ]
    },
    {
     "name": "stderr",
     "output_type": "stream",
     "text": [
      "8339it [10:20,  3.57it/s]"
     ]
    },
    {
     "name": "stdout",
     "output_type": "stream",
     "text": [
      "corrector\n"
     ]
    },
    {
     "name": "stderr",
     "output_type": "stream",
     "text": [
      "8340it [10:20,  3.98it/s]"
     ]
    },
    {
     "name": "stdout",
     "output_type": "stream",
     "text": [
      "corrector\n",
      "corrector\n"
     ]
    },
    {
     "name": "stderr",
     "output_type": "stream",
     "text": [
      "8341it [10:20,  3.60it/s]"
     ]
    },
    {
     "name": "stdout",
     "output_type": "stream",
     "text": [
      "corrector\n"
     ]
    },
    {
     "name": "stderr",
     "output_type": "stream",
     "text": [
      "8343it [10:21,  3.90it/s]"
     ]
    },
    {
     "name": "stdout",
     "output_type": "stream",
     "text": [
      "corrector\n",
      "corrector\n"
     ]
    },
    {
     "name": "stderr",
     "output_type": "stream",
     "text": [
      "8344it [10:21,  3.72it/s]"
     ]
    },
    {
     "name": "stdout",
     "output_type": "stream",
     "text": [
      "corrector\n"
     ]
    },
    {
     "name": "stderr",
     "output_type": "stream",
     "text": [
      "8346it [10:22,  3.84it/s]"
     ]
    },
    {
     "name": "stdout",
     "output_type": "stream",
     "text": [
      "corrector\n",
      "corrector\n"
     ]
    },
    {
     "name": "stderr",
     "output_type": "stream",
     "text": [
      "8347it [10:22,  3.83it/s]"
     ]
    },
    {
     "name": "stdout",
     "output_type": "stream",
     "text": [
      "corrector\n"
     ]
    },
    {
     "name": "stderr",
     "output_type": "stream",
     "text": [
      "8349it [10:22,  3.78it/s]"
     ]
    },
    {
     "name": "stdout",
     "output_type": "stream",
     "text": [
      "corrector\n",
      "corrector\n"
     ]
    },
    {
     "name": "stderr",
     "output_type": "stream",
     "text": [
      "8350it [10:23,  3.90it/s]"
     ]
    },
    {
     "name": "stdout",
     "output_type": "stream",
     "text": [
      "corrector\n"
     ]
    },
    {
     "name": "stderr",
     "output_type": "stream",
     "text": [
      "8352it [10:23,  3.71it/s]"
     ]
    },
    {
     "name": "stdout",
     "output_type": "stream",
     "text": [
      "corrector\n",
      "corrector\n"
     ]
    },
    {
     "name": "stderr",
     "output_type": "stream",
     "text": [
      "8353it [10:24,  4.01it/s]"
     ]
    },
    {
     "name": "stdout",
     "output_type": "stream",
     "text": [
      "corrector\n"
     ]
    },
    {
     "name": "stderr",
     "output_type": "stream",
     "text": [
      "8355it [10:24,  3.60it/s]"
     ]
    },
    {
     "name": "stdout",
     "output_type": "stream",
     "text": [
      "corrector\n"
     ]
    },
    {
     "name": "stderr",
     "output_type": "stream",
     "text": [
      "8356it [10:24,  4.01it/s]"
     ]
    },
    {
     "name": "stdout",
     "output_type": "stream",
     "text": [
      "corrector\n",
      "corrector\n"
     ]
    },
    {
     "name": "stderr",
     "output_type": "stream",
     "text": [
      "8358it [10:25,  3.52it/s]"
     ]
    },
    {
     "name": "stdout",
     "output_type": "stream",
     "text": [
      "corrector\n"
     ]
    },
    {
     "name": "stderr",
     "output_type": "stream",
     "text": [
      "8359it [10:25,  3.93it/s]"
     ]
    },
    {
     "name": "stdout",
     "output_type": "stream",
     "text": [
      "corrector\n",
      "corrector\n"
     ]
    },
    {
     "name": "stderr",
     "output_type": "stream",
     "text": [
      "8360it [10:25,  3.72it/s]"
     ]
    },
    {
     "name": "stdout",
     "output_type": "stream",
     "text": [
      "corrector\n"
     ]
    },
    {
     "name": "stderr",
     "output_type": "stream",
     "text": [
      "8362it [10:26,  3.85it/s]"
     ]
    },
    {
     "name": "stdout",
     "output_type": "stream",
     "text": [
      "corrector\n",
      "corrector\n"
     ]
    },
    {
     "name": "stderr",
     "output_type": "stream",
     "text": [
      "8363it [10:26,  3.75it/s]"
     ]
    },
    {
     "name": "stdout",
     "output_type": "stream",
     "text": [
      "corrector\n"
     ]
    },
    {
     "name": "stderr",
     "output_type": "stream",
     "text": [
      "8365it [10:27,  3.81it/s]"
     ]
    },
    {
     "name": "stdout",
     "output_type": "stream",
     "text": [
      "corrector\n",
      "corrector\n"
     ]
    },
    {
     "name": "stderr",
     "output_type": "stream",
     "text": [
      "8366it [10:27,  3.86it/s]"
     ]
    },
    {
     "name": "stdout",
     "output_type": "stream",
     "text": [
      "corrector\n"
     ]
    },
    {
     "name": "stderr",
     "output_type": "stream",
     "text": [
      "8368it [10:28,  3.72it/s]"
     ]
    },
    {
     "name": "stdout",
     "output_type": "stream",
     "text": [
      "corrector\n",
      "corrector\n"
     ]
    },
    {
     "name": "stderr",
     "output_type": "stream",
     "text": [
      "8369it [10:28,  4.00it/s]"
     ]
    },
    {
     "name": "stdout",
     "output_type": "stream",
     "text": [
      "corrector\n"
     ]
    },
    {
     "name": "stderr",
     "output_type": "stream",
     "text": [
      "8371it [10:28,  3.63it/s]"
     ]
    },
    {
     "name": "stdout",
     "output_type": "stream",
     "text": [
      "corrector\n",
      "corrector\n"
     ]
    },
    {
     "name": "stderr",
     "output_type": "stream",
     "text": [
      "8372it [10:29,  4.03it/s]"
     ]
    },
    {
     "name": "stdout",
     "output_type": "stream",
     "text": [
      "corrector\n"
     ]
    },
    {
     "name": "stderr",
     "output_type": "stream",
     "text": [
      "8374it [10:29,  3.54it/s]"
     ]
    },
    {
     "name": "stdout",
     "output_type": "stream",
     "text": [
      "corrector\n"
     ]
    },
    {
     "name": "stderr",
     "output_type": "stream",
     "text": [
      "8375it [10:30,  3.96it/s]"
     ]
    },
    {
     "name": "stdout",
     "output_type": "stream",
     "text": [
      "corrector\n",
      "corrector\n"
     ]
    },
    {
     "name": "stderr",
     "output_type": "stream",
     "text": [
      "8376it [10:30,  3.59it/s]"
     ]
    },
    {
     "name": "stdout",
     "output_type": "stream",
     "text": [
      "corrector\n"
     ]
    },
    {
     "name": "stderr",
     "output_type": "stream",
     "text": [
      "8378it [10:30,  3.90it/s]"
     ]
    },
    {
     "name": "stdout",
     "output_type": "stream",
     "text": [
      "corrector\n",
      "corrector\n"
     ]
    },
    {
     "name": "stderr",
     "output_type": "stream",
     "text": [
      "8379it [10:31,  3.70it/s]"
     ]
    },
    {
     "name": "stdout",
     "output_type": "stream",
     "text": [
      "corrector\n"
     ]
    },
    {
     "name": "stderr",
     "output_type": "stream",
     "text": [
      "8381it [10:31,  3.85it/s]"
     ]
    },
    {
     "name": "stdout",
     "output_type": "stream",
     "text": [
      "corrector\n",
      "corrector\n"
     ]
    },
    {
     "name": "stderr",
     "output_type": "stream",
     "text": [
      "8382it [10:31,  3.81it/s]"
     ]
    },
    {
     "name": "stdout",
     "output_type": "stream",
     "text": [
      "corrector\n"
     ]
    },
    {
     "name": "stderr",
     "output_type": "stream",
     "text": [
      "8384it [10:32,  3.79it/s]"
     ]
    },
    {
     "name": "stdout",
     "output_type": "stream",
     "text": [
      "corrector\n",
      "corrector\n"
     ]
    },
    {
     "name": "stderr",
     "output_type": "stream",
     "text": [
      "8385it [10:32,  3.89it/s]"
     ]
    },
    {
     "name": "stdout",
     "output_type": "stream",
     "text": [
      "corrector\n"
     ]
    },
    {
     "name": "stderr",
     "output_type": "stream",
     "text": [
      "8387it [10:33,  3.71it/s]"
     ]
    },
    {
     "name": "stdout",
     "output_type": "stream",
     "text": [
      "corrector\n",
      "corrector\n"
     ]
    },
    {
     "name": "stderr",
     "output_type": "stream",
     "text": [
      "8388it [10:33,  4.04it/s]"
     ]
    },
    {
     "name": "stdout",
     "output_type": "stream",
     "text": [
      "corrector\n"
     ]
    },
    {
     "name": "stderr",
     "output_type": "stream",
     "text": [
      "8390it [10:34,  3.59it/s]"
     ]
    },
    {
     "name": "stdout",
     "output_type": "stream",
     "text": [
      "corrector\n"
     ]
    },
    {
     "name": "stderr",
     "output_type": "stream",
     "text": [
      "8391it [10:34,  4.01it/s]"
     ]
    },
    {
     "name": "stdout",
     "output_type": "stream",
     "text": [
      "corrector\n",
      "corrector\n"
     ]
    },
    {
     "name": "stderr",
     "output_type": "stream",
     "text": [
      "8392it [10:34,  3.64it/s]"
     ]
    },
    {
     "name": "stdout",
     "output_type": "stream",
     "text": [
      "corrector\n"
     ]
    },
    {
     "name": "stderr",
     "output_type": "stream",
     "text": [
      "8394it [10:35,  3.91it/s]"
     ]
    },
    {
     "name": "stdout",
     "output_type": "stream",
     "text": [
      "corrector\n",
      "corrector\n"
     ]
    },
    {
     "name": "stderr",
     "output_type": "stream",
     "text": [
      "8395it [10:35,  3.71it/s]"
     ]
    },
    {
     "name": "stdout",
     "output_type": "stream",
     "text": [
      "corrector\n"
     ]
    },
    {
     "name": "stderr",
     "output_type": "stream",
     "text": [
      "8397it [10:36,  3.84it/s]"
     ]
    },
    {
     "name": "stdout",
     "output_type": "stream",
     "text": [
      "corrector\n",
      "corrector\n"
     ]
    },
    {
     "name": "stderr",
     "output_type": "stream",
     "text": [
      "8398it [10:36,  3.82it/s]"
     ]
    },
    {
     "name": "stdout",
     "output_type": "stream",
     "text": [
      "corrector\n"
     ]
    },
    {
     "name": "stderr",
     "output_type": "stream",
     "text": [
      "8400it [10:36,  3.78it/s]"
     ]
    },
    {
     "name": "stdout",
     "output_type": "stream",
     "text": [
      "corrector\n",
      "corrector\n"
     ]
    },
    {
     "name": "stderr",
     "output_type": "stream",
     "text": [
      "8401it [10:37,  3.90it/s]"
     ]
    },
    {
     "name": "stdout",
     "output_type": "stream",
     "text": [
      "corrector\n"
     ]
    },
    {
     "name": "stderr",
     "output_type": "stream",
     "text": [
      "8403it [10:37,  3.70it/s]"
     ]
    },
    {
     "name": "stdout",
     "output_type": "stream",
     "text": [
      "corrector\n",
      "corrector\n"
     ]
    },
    {
     "name": "stderr",
     "output_type": "stream",
     "text": [
      "8404it [10:37,  4.00it/s]"
     ]
    },
    {
     "name": "stdout",
     "output_type": "stream",
     "text": [
      "corrector\n"
     ]
    },
    {
     "name": "stderr",
     "output_type": "stream",
     "text": [
      "8406it [10:38,  3.60it/s]"
     ]
    },
    {
     "name": "stdout",
     "output_type": "stream",
     "text": [
      "corrector\n"
     ]
    },
    {
     "name": "stderr",
     "output_type": "stream",
     "text": [
      "8407it [10:38,  4.02it/s]"
     ]
    },
    {
     "name": "stdout",
     "output_type": "stream",
     "text": [
      "corrector\n",
      "corrector\n"
     ]
    },
    {
     "name": "stderr",
     "output_type": "stream",
     "text": [
      "8409it [10:39,  3.52it/s]"
     ]
    },
    {
     "name": "stdout",
     "output_type": "stream",
     "text": [
      "corrector\n"
     ]
    },
    {
     "name": "stderr",
     "output_type": "stream",
     "text": [
      "8410it [10:39,  3.95it/s]"
     ]
    },
    {
     "name": "stdout",
     "output_type": "stream",
     "text": [
      "corrector\n",
      "corrector\n"
     ]
    },
    {
     "name": "stderr",
     "output_type": "stream",
     "text": [
      "8411it [10:39,  3.58it/s]"
     ]
    },
    {
     "name": "stdout",
     "output_type": "stream",
     "text": [
      "corrector\n"
     ]
    },
    {
     "name": "stderr",
     "output_type": "stream",
     "text": [
      "8413it [10:40,  3.89it/s]"
     ]
    },
    {
     "name": "stdout",
     "output_type": "stream",
     "text": [
      "corrector\n",
      "corrector\n"
     ]
    },
    {
     "name": "stderr",
     "output_type": "stream",
     "text": [
      "8414it [10:40,  3.68it/s]"
     ]
    },
    {
     "name": "stdout",
     "output_type": "stream",
     "text": [
      "corrector\n"
     ]
    },
    {
     "name": "stderr",
     "output_type": "stream",
     "text": [
      "8416it [10:41,  3.78it/s]"
     ]
    },
    {
     "name": "stdout",
     "output_type": "stream",
     "text": [
      "corrector\n",
      "corrector\n"
     ]
    },
    {
     "name": "stderr",
     "output_type": "stream",
     "text": [
      "8417it [10:41,  3.76it/s]"
     ]
    },
    {
     "name": "stdout",
     "output_type": "stream",
     "text": [
      "corrector\n"
     ]
    },
    {
     "name": "stderr",
     "output_type": "stream",
     "text": [
      "8419it [10:42,  3.71it/s]"
     ]
    },
    {
     "name": "stdout",
     "output_type": "stream",
     "text": [
      "corrector\n",
      "corrector\n"
     ]
    },
    {
     "name": "stderr",
     "output_type": "stream",
     "text": [
      "8420it [10:42,  3.79it/s]"
     ]
    },
    {
     "name": "stdout",
     "output_type": "stream",
     "text": [
      "corrector\n"
     ]
    },
    {
     "name": "stderr",
     "output_type": "stream",
     "text": [
      "8422it [10:42,  3.63it/s]"
     ]
    },
    {
     "name": "stdout",
     "output_type": "stream",
     "text": [
      "corrector\n",
      "corrector\n"
     ]
    },
    {
     "name": "stderr",
     "output_type": "stream",
     "text": [
      "8423it [10:43,  3.91it/s]"
     ]
    },
    {
     "name": "stdout",
     "output_type": "stream",
     "text": [
      "corrector\n"
     ]
    },
    {
     "name": "stderr",
     "output_type": "stream",
     "text": [
      "8425it [10:43,  3.54it/s]"
     ]
    },
    {
     "name": "stdout",
     "output_type": "stream",
     "text": [
      "corrector\n"
     ]
    },
    {
     "name": "stderr",
     "output_type": "stream",
     "text": [
      "8426it [10:43,  3.93it/s]"
     ]
    },
    {
     "name": "stdout",
     "output_type": "stream",
     "text": [
      "corrector\n",
      "corrector\n"
     ]
    },
    {
     "name": "stderr",
     "output_type": "stream",
     "text": [
      "8428it [10:44,  3.48it/s]"
     ]
    },
    {
     "name": "stdout",
     "output_type": "stream",
     "text": [
      "corrector\n"
     ]
    },
    {
     "name": "stderr",
     "output_type": "stream",
     "text": [
      "8429it [10:44,  3.90it/s]"
     ]
    },
    {
     "name": "stdout",
     "output_type": "stream",
     "text": [
      "corrector\n",
      "corrector\n"
     ]
    },
    {
     "name": "stderr",
     "output_type": "stream",
     "text": [
      "8430it [10:45,  3.59it/s]"
     ]
    },
    {
     "name": "stdout",
     "output_type": "stream",
     "text": [
      "corrector\n"
     ]
    },
    {
     "name": "stderr",
     "output_type": "stream",
     "text": [
      "8432it [10:45,  3.87it/s]"
     ]
    },
    {
     "name": "stdout",
     "output_type": "stream",
     "text": [
      "corrector\n",
      "corrector\n"
     ]
    },
    {
     "name": "stderr",
     "output_type": "stream",
     "text": [
      "8433it [10:45,  3.73it/s]"
     ]
    },
    {
     "name": "stdout",
     "output_type": "stream",
     "text": [
      "corrector\n"
     ]
    },
    {
     "name": "stderr",
     "output_type": "stream",
     "text": [
      "8435it [10:46,  3.82it/s]"
     ]
    },
    {
     "name": "stdout",
     "output_type": "stream",
     "text": [
      "corrector\n",
      "corrector\n"
     ]
    },
    {
     "name": "stderr",
     "output_type": "stream",
     "text": [
      "8436it [10:46,  3.83it/s]"
     ]
    },
    {
     "name": "stdout",
     "output_type": "stream",
     "text": [
      "corrector\n"
     ]
    },
    {
     "name": "stderr",
     "output_type": "stream",
     "text": [
      "8438it [10:47,  3.76it/s]"
     ]
    },
    {
     "name": "stdout",
     "output_type": "stream",
     "text": [
      "corrector\n",
      "corrector\n"
     ]
    },
    {
     "name": "stderr",
     "output_type": "stream",
     "text": [
      "8439it [10:47,  3.89it/s]"
     ]
    },
    {
     "name": "stdout",
     "output_type": "stream",
     "text": [
      "corrector\n"
     ]
    },
    {
     "name": "stderr",
     "output_type": "stream",
     "text": [
      "8441it [10:48,  3.69it/s]"
     ]
    },
    {
     "name": "stdout",
     "output_type": "stream",
     "text": [
      "corrector\n",
      "corrector\n"
     ]
    },
    {
     "name": "stderr",
     "output_type": "stream",
     "text": [
      "8442it [10:48,  4.00it/s]"
     ]
    },
    {
     "name": "stdout",
     "output_type": "stream",
     "text": [
      "corrector\n"
     ]
    },
    {
     "name": "stderr",
     "output_type": "stream",
     "text": [
      "8444it [10:48,  3.59it/s]"
     ]
    },
    {
     "name": "stdout",
     "output_type": "stream",
     "text": [
      "corrector\n"
     ]
    },
    {
     "name": "stderr",
     "output_type": "stream",
     "text": [
      "8445it [10:49,  4.00it/s]"
     ]
    },
    {
     "name": "stdout",
     "output_type": "stream",
     "text": [
      "corrector\n",
      "corrector\n"
     ]
    },
    {
     "name": "stderr",
     "output_type": "stream",
     "text": [
      "8447it [10:49,  3.51it/s]"
     ]
    },
    {
     "name": "stdout",
     "output_type": "stream",
     "text": [
      "corrector\n"
     ]
    },
    {
     "name": "stderr",
     "output_type": "stream",
     "text": [
      "8448it [10:49,  3.93it/s]"
     ]
    },
    {
     "name": "stdout",
     "output_type": "stream",
     "text": [
      "corrector\n",
      "corrector\n"
     ]
    },
    {
     "name": "stderr",
     "output_type": "stream",
     "text": [
      "8449it [10:50,  3.62it/s]"
     ]
    },
    {
     "name": "stdout",
     "output_type": "stream",
     "text": [
      "corrector\n"
     ]
    },
    {
     "name": "stderr",
     "output_type": "stream",
     "text": [
      "8451it [10:50,  3.88it/s]"
     ]
    },
    {
     "name": "stdout",
     "output_type": "stream",
     "text": [
      "corrector\n",
      "corrector\n"
     ]
    },
    {
     "name": "stderr",
     "output_type": "stream",
     "text": [
      "8452it [10:51,  3.74it/s]"
     ]
    },
    {
     "name": "stdout",
     "output_type": "stream",
     "text": [
      "corrector\n"
     ]
    },
    {
     "name": "stderr",
     "output_type": "stream",
     "text": [
      "8454it [10:51,  3.82it/s]"
     ]
    },
    {
     "name": "stdout",
     "output_type": "stream",
     "text": [
      "corrector\n",
      "corrector\n"
     ]
    },
    {
     "name": "stderr",
     "output_type": "stream",
     "text": [
      "8455it [10:51,  3.81it/s]"
     ]
    },
    {
     "name": "stdout",
     "output_type": "stream",
     "text": [
      "corrector\n"
     ]
    },
    {
     "name": "stderr",
     "output_type": "stream",
     "text": [
      "8457it [10:52,  3.77it/s]"
     ]
    },
    {
     "name": "stdout",
     "output_type": "stream",
     "text": [
      "corrector\n",
      "corrector\n"
     ]
    },
    {
     "name": "stderr",
     "output_type": "stream",
     "text": [
      "8458it [10:52,  3.91it/s]"
     ]
    },
    {
     "name": "stdout",
     "output_type": "stream",
     "text": [
      "corrector\n"
     ]
    },
    {
     "name": "stderr",
     "output_type": "stream",
     "text": [
      "8460it [10:53,  3.69it/s]"
     ]
    },
    {
     "name": "stdout",
     "output_type": "stream",
     "text": [
      "corrector\n",
      "corrector\n"
     ]
    },
    {
     "name": "stderr",
     "output_type": "stream",
     "text": [
      "8461it [10:53,  4.05it/s]"
     ]
    },
    {
     "name": "stdout",
     "output_type": "stream",
     "text": [
      "corrector\n"
     ]
    },
    {
     "name": "stderr",
     "output_type": "stream",
     "text": [
      "8463it [10:54,  3.58it/s]"
     ]
    },
    {
     "name": "stdout",
     "output_type": "stream",
     "text": [
      "corrector\n"
     ]
    },
    {
     "name": "stderr",
     "output_type": "stream",
     "text": [
      "8464it [10:54,  3.99it/s]"
     ]
    },
    {
     "name": "stdout",
     "output_type": "stream",
     "text": [
      "corrector\n",
      "corrector\n"
     ]
    },
    {
     "name": "stderr",
     "output_type": "stream",
     "text": [
      "8465it [10:54,  3.57it/s]"
     ]
    },
    {
     "name": "stdout",
     "output_type": "stream",
     "text": [
      "corrector\n"
     ]
    },
    {
     "name": "stderr",
     "output_type": "stream",
     "text": [
      "8467it [10:55,  3.92it/s]"
     ]
    },
    {
     "name": "stdout",
     "output_type": "stream",
     "text": [
      "corrector\n",
      "corrector\n"
     ]
    },
    {
     "name": "stderr",
     "output_type": "stream",
     "text": [
      "8468it [10:55,  3.66it/s]"
     ]
    },
    {
     "name": "stdout",
     "output_type": "stream",
     "text": [
      "corrector\n"
     ]
    },
    {
     "name": "stderr",
     "output_type": "stream",
     "text": [
      "8470it [10:55,  3.86it/s]"
     ]
    },
    {
     "name": "stdout",
     "output_type": "stream",
     "text": [
      "corrector\n",
      "corrector\n"
     ]
    },
    {
     "name": "stderr",
     "output_type": "stream",
     "text": [
      "8471it [10:56,  3.74it/s]"
     ]
    },
    {
     "name": "stdout",
     "output_type": "stream",
     "text": [
      "corrector\n"
     ]
    },
    {
     "name": "stderr",
     "output_type": "stream",
     "text": [
      "8473it [10:56,  3.81it/s]"
     ]
    },
    {
     "name": "stdout",
     "output_type": "stream",
     "text": [
      "corrector\n",
      "corrector\n"
     ]
    },
    {
     "name": "stderr",
     "output_type": "stream",
     "text": [
      "8474it [10:57,  3.84it/s]"
     ]
    },
    {
     "name": "stdout",
     "output_type": "stream",
     "text": [
      "corrector\n"
     ]
    },
    {
     "name": "stderr",
     "output_type": "stream",
     "text": [
      "8476it [10:57,  3.75it/s]"
     ]
    },
    {
     "name": "stdout",
     "output_type": "stream",
     "text": [
      "corrector\n",
      "corrector\n"
     ]
    },
    {
     "name": "stderr",
     "output_type": "stream",
     "text": [
      "8477it [10:57,  3.98it/s]"
     ]
    },
    {
     "name": "stdout",
     "output_type": "stream",
     "text": [
      "corrector\n"
     ]
    },
    {
     "name": "stderr",
     "output_type": "stream",
     "text": [
      "8479it [10:58,  3.65it/s]"
     ]
    },
    {
     "name": "stdout",
     "output_type": "stream",
     "text": [
      "corrector\n",
      "corrector\n"
     ]
    },
    {
     "name": "stderr",
     "output_type": "stream",
     "text": [
      "8480it [10:58,  4.02it/s]"
     ]
    },
    {
     "name": "stdout",
     "output_type": "stream",
     "text": [
      "corrector\n"
     ]
    },
    {
     "name": "stderr",
     "output_type": "stream",
     "text": [
      "8482it [10:59,  3.55it/s]"
     ]
    },
    {
     "name": "stdout",
     "output_type": "stream",
     "text": [
      "corrector\n"
     ]
    },
    {
     "name": "stderr",
     "output_type": "stream",
     "text": [
      "8483it [10:59,  3.96it/s]"
     ]
    }
   ],
   "source": [
    "n_samples = 64\n",
    "samples = sampler.sample(model, n_samples)\n",
    "saved_samples = samples"
   ]
  },
  {
   "cell_type": "code",
   "execution_count": null,
   "metadata": {},
   "outputs": [
    {
     "data": {
      "image/png": "[encoded data removed]",
      "text/plain": [
       "<Figure size 900x900 with 64 Axes>"
      ]
     },
     "metadata": {},
     "output_type": "display_data"
    }
   ],
   "source": [
    "is_img = cfg.data.is_img\n",
    "\n",
    "if is_img:\n",
    "    samples = samples.reshape(n_samples, 1, cfg.data.image_size, cfg.data.image_size)\n",
    "    saving_train_path = os.path.join(cfg.saving.sample_plot_path, f\"{cfg.model.name}{state['n_iter']}_{cfg.sampler.name}{cfg.sampler.num_steps}.png\")\n",
    "    fig = plt.figure(figsize=(9, 9)) \n",
    "    for i in range(n_samples):\n",
    "        plt.subplot(int(np.sqrt(n_samples)), int(np.sqrt(n_samples)), 1 + i)\n",
    "        plt.axis(\"off\")\n",
    "        plt.imshow(np.transpose(samples[i, ...], (1,2,0)), cmap=\"gray\")\n",
    " \n",
    " \n",
    "    plt.savefig(saving_train_path)\n",
    "    plt.show()\n",
    "    plt.close()\n",
    "else:\n",
    "    bm, inv_bm = synthetic.get_binmap(cfg.model.concat_dim, cfg.data.binmode)\n",
    "    print(inv_bm)\n",
    "    samples = synthetic.bin2float(samples.astype(np.int32), inv_bm, cfg.model.concat_dim, cfg.data.int_scale)\n",
    " \n",
    "    saving_plot_path = os.path.join(cfg.saving.sample_plot_path, f\"{cfg.model.name}{state['n_iter']}_{cfg.sampler.name}{cfg.sampler.num_steps}.png\")\n",
    "    #aving_plot_path = '/Users/paulheller/PythonRepositories/Master-Thesis/ContTimeDiscreteSpace/TAUnSDDM/SavedModels/MNIST/'\n",
    "    synthetic.plot_samples(samples, saving_plot_path, im_size=cfg.data.plot_size, im_fmt=\"png\")"
   ]
  }
 ],
 "metadata": {
  "kernelspec": {
   "display_name": "diffvenv",
   "language": "python",
   "name": "python3"
  },
  "language_info": {
   "codemirror_mode": {
    "name": "ipython",
    "version": 3
   },
   "file_extension": ".py",
   "mimetype": "text/x-python",
   "name": "python",
   "nbconvert_exporter": "python",
   "pygments_lexer": "ipython3",
   "version": "3.11.5"
  },
  "orig_nbformat": 4
 },
 "nbformat": 4,
 "nbformat_minor": 2
}
