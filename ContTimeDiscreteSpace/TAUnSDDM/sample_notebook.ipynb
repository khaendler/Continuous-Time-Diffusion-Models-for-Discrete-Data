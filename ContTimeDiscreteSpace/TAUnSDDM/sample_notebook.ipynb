{
 "cells": [
  {
   "cell_type": "code",
   "execution_count": 1,
   "metadata": {},
   "outputs": [],
   "source": [
    "import torch\n",
    "import lib.utils.bookkeeping as bookkeeping\n",
    "from torch.utils.data import DataLoader\n",
    "from pathlib import Path\n",
    "import numpy as np\n",
    "import matplotlib.pyplot as plt\n",
    "import lib.models.models as models\n",
    "import lib.models.model_utils as model_utils\n",
    "from lib.datasets import mnist, maze, protein, synthetic\n",
    "import lib.datasets.dataset_utils as dataset_utils\n",
    "import lib.losses.losses as losses\n",
    "import lib.losses.losses_utils as losses_utils\n",
    "import lib.training.training as training\n",
    "import lib.training.training_utils as training_utils\n",
    "import lib.optimizers.optimizers as optimizers\n",
    "import lib.optimizers.optimizers_utils as optimizers_utils\n",
    "import lib.sampling.sampling as sampling\n",
    "import lib.sampling.sampling_utils as sampling_utils\n",
    "import os\n",
    "from lib.datasets.maze import maze_acc\n",
    "from ruamel.yaml.scalarfloat import ScalarFloat"
   ]
  },
  {
   "cell_type": "code",
   "execution_count": 2,
   "metadata": {},
   "outputs": [],
   "source": [
    "# creating path\n",
    "\n",
    "path = 'SavedModels/BIN-MNIST/' # 'SavedModels/MAZE/' 'SavedModels/MNIST/'\n",
    "date = '2023-12-17' # 2\n",
    "config_name = 'config_001_unet3M.yaml' # config_001_hollowMLEProb.yaml\n",
    "model_name = 'model_199999_unet3M.pt' \n",
    "\n",
    "path = 'SavedModels/MAZEprotein/'\n",
    "date = \"2023-12-23\"\n",
    "config_name = \"config_001_score.yaml\"\n",
    "model_name = \"model_199999_score.pt\"\n",
    "\n",
    "path = 'SavedModels/MAZEunet/' # 'SavedModels/MAZE/' 'SavedModels/MNIST/'\n",
    "date = '2023-12-23' # 2\n",
    "config_name = 'config_001.yaml' # config_001_hollowMLEProb.yaml\n",
    "model_name = 'model_9999.pt' #  model_299999_hollowMLEProb.pt\n",
    "\n",
    "\n",
    "\n",
    "path = 'SavedModels/MNISTHollow/' # 'SavedModels/MAZE/' 'SavedModels/MNIST/'\n",
    "date = '2024-01-03' # 2\n",
    "config_name = 'config_001_hollow.yaml' # config_001_hollowMLEProb.yaml\n",
    "model_name = 'model_539999_hollow.pt'\n",
    "\n",
    "path = 'SavedModels/MNIST/' # 'SavedModels/MAZE/' 'SavedModels/MNIST/'\n",
    "date = '2023-12-25' # 2\n",
    "config_name = 'config_001_unet14Mlogits.yaml' # config_001_hollowMLEProb.yaml\n",
    "model_name = 'model_599999_unet14Mlogits.pt'\n",
    "\n",
    "\n",
    "path = 'SavedModels/MAZEunet/' # 'SavedModels/MAZE/' 'SavedModels/MNIST/'\n",
    "date = '2023-12-30' # 2\n",
    "config_name = 'config_001_lastunet.yaml' # config_001_hollowMLEProb.yaml\n",
    "model_name = 'model_399999_lastunet.pt'\n",
    "\n",
    "path = 'SavedModels/MNISTHollow/' # 'SavedModels/MAZE/' 'SavedModels/MNIST/'\n",
    "date = '2024-01-03' # 2\n",
    "config_name = 'config_001_hollow.yaml' # config_001_hollowMLEProb.yaml\n",
    "model_name = 'model_539999_hollow.pt'\n",
    "\n",
    "path = 'SavedModels/MAZE/' # 'SavedModels/MAZE/' 'SavedModels/MNIST/'\n",
    "date = '2023-12-22' # 2\n",
    "config_name = 'config_001_hollow8M.yaml' # config_001_hollowMLEProb.yaml\n",
    "model_name = 'model_299999_hollow8M.pt' \n",
    "\n",
    "path = 'SavedModels/MNIST/' # 'SavedModels/MAZE/' 'SavedModels/MNIST/'\n",
    "date = '2023-12-25' # 2\n",
    "config_name = 'config_001_unet14Mlogits.yaml' # config_001_hollowMLEProb.yaml\n",
    "model_name = 'model_599999_unet14Mlogits.pt'\n",
    "\n",
    "config_path = os.path.join(path, date, config_name)\n",
    "checkpoint_path = os.path.join(path, date, model_name)\n",
    "\n"
   ]
  },
  {
   "cell_type": "code",
   "execution_count": 3,
   "metadata": {},
   "outputs": [
    {
     "name": "stdout",
     "output_type": "stream",
     "text": [
      "cuda\n",
      "number of parameters:  14017696\n",
      "ema state dict function\n"
     ]
    }
   ],
   "source": [
    "# creating models\n",
    "cfg = bookkeeping.load_config(config_path)\n",
    "cfg.sampler.name = 'TauL' #ExactSampling' # ElboLBJF CRMTauL CRMLBJF\n",
    "cfg.sampler.num_corrector_steps = 0\n",
    "cfg.sampler.corrector_entry_time = ScalarFloat(0.0)\n",
    "cfg.sampler.num_steps = 10\n",
    "cfg.sampler.is_ordinal = True\n",
    "\n",
    "#print(cfg)\n",
    "device = torch.device(cfg.device)\n",
    "print(device)\n",
    "\n",
    "model = model_utils.create_model(cfg, device)\n",
    "print(\"number of parameters: \", sum([p.numel() for p in model.parameters()]))\n",
    "\n",
    "#modified_model_state = utils.remove_module_from_keys(loaded_state['model'])\n",
    "#model.load_state_dict(modified_model_state)\n",
    "#optimizer = optimizers_utils.get_optimizer(model.parameters(), cfg)\n",
    "optimizer = torch.optim.Adam(model.parameters(), cfg.optimizer.lr)\n",
    "\n",
    "sampler = sampling_utils.get_sampler(cfg)\n",
    "\n",
    "state = {\"model\": model, \"optimizer\": optimizer, \"n_iter\": 0}\n",
    "state = bookkeeping.load_state(state, checkpoint_path)\n",
    "state['model'].eval()\n",
    "\n",
    "# Maze:\n",
    "# 80% TauL\n",
    "# 84% LBJF\n",
    "# 96%"
   ]
  },
  {
   "cell_type": "code",
   "execution_count": 4,
   "metadata": {},
   "outputs": [
    {
     "name": "stderr",
     "output_type": "stream",
     "text": [
      "0it [00:00, ?it/s]\n"
     ]
    },
    {
     "ename": "OutOfMemoryError",
     "evalue": "CUDA out of memory. Tried to allocate 288.00 MiB (GPU 0; 47.54 GiB total capacity; 1.63 GiB already allocated; 260.00 MiB free; 1.66 GiB reserved in total by PyTorch) If reserved memory is >> allocated memory try setting max_split_size_mb to avoid fragmentation.  See documentation for Memory Management and PYTORCH_CUDA_ALLOC_CONF",
     "output_type": "error",
     "traceback": [
      "\u001b[0;31m---------------------------------------------------------------------------\u001b[0m",
      "\u001b[0;31mOutOfMemoryError\u001b[0m                          Traceback (most recent call last)",
      "\u001b[1;32m/home/pheller/Remote-Thesis/ContTimeDiscreteSpace/TAUnSDDM/sample_notebook.ipynb Cell 4\u001b[0m line \u001b[0;36m2\n\u001b[1;32m      <a href='vscode-notebook-cell://ssh-remote%2Blise/home/pheller/Remote-Thesis/ContTimeDiscreteSpace/TAUnSDDM/sample_notebook.ipynb#W3sdnNjb2RlLXJlbW90ZQ%3D%3D?line=0'>1</a>\u001b[0m n_samples \u001b[39m=\u001b[39m \u001b[39m1000\u001b[39m\n\u001b[0;32m----> <a href='vscode-notebook-cell://ssh-remote%2Blise/home/pheller/Remote-Thesis/ContTimeDiscreteSpace/TAUnSDDM/sample_notebook.ipynb#W3sdnNjb2RlLXJlbW90ZQ%3D%3D?line=1'>2</a>\u001b[0m samples, changes \u001b[39m=\u001b[39m sampler\u001b[39m.\u001b[39;49msample(model, n_samples)\n\u001b[1;32m      <a href='vscode-notebook-cell://ssh-remote%2Blise/home/pheller/Remote-Thesis/ContTimeDiscreteSpace/TAUnSDDM/sample_notebook.ipynb#W3sdnNjb2RlLXJlbW90ZQ%3D%3D?line=2'>3</a>\u001b[0m saved_samples \u001b[39m=\u001b[39m samples\n",
      "File \u001b[0;32m~/Remote-Thesis/ContTimeDiscreteSpace/TAUnSDDM/lib/sampling/sampling.py:115\u001b[0m, in \u001b[0;36mTauL.sample\u001b[0;34m(self, model, N)\u001b[0m\n\u001b[1;32m    112\u001b[0m h \u001b[39m=\u001b[39m ts[idx] \u001b[39m-\u001b[39m ts[idx \u001b[39m+\u001b[39m \u001b[39m1\u001b[39m]\n\u001b[1;32m    113\u001b[0m t_ones \u001b[39m=\u001b[39m t \u001b[39m*\u001b[39m torch\u001b[39m.\u001b[39mones((N,), device\u001b[39m=\u001b[39mdevice)  \u001b[39m# (N, S, S)\u001b[39;00m\n\u001b[0;32m--> 115\u001b[0m logits \u001b[39m=\u001b[39m model(x, t_ones)\n\u001b[1;32m    116\u001b[0m reverse_rates, _ \u001b[39m=\u001b[39m get_reverse_rates(\n\u001b[1;32m    117\u001b[0m     model, logits, x, t_ones, \u001b[39mself\u001b[39m\u001b[39m.\u001b[39mcfg, N, \u001b[39mself\u001b[39m\u001b[39m.\u001b[39mD, \u001b[39mself\u001b[39m\u001b[39m.\u001b[39mS\n\u001b[1;32m    118\u001b[0m )\n\u001b[1;32m    120\u001b[0m xt_onehot \u001b[39m=\u001b[39m F\u001b[39m.\u001b[39mone_hot(x\u001b[39m.\u001b[39mlong(), \u001b[39mself\u001b[39m\u001b[39m.\u001b[39mS)\n",
      "File \u001b[0;32m~/my_python_env/lib/python3.11/site-packages/torch/nn/modules/module.py:1501\u001b[0m, in \u001b[0;36mModule._call_impl\u001b[0;34m(self, *args, **kwargs)\u001b[0m\n\u001b[1;32m   1496\u001b[0m \u001b[39m# If we don't have any hooks, we want to skip the rest of the logic in\u001b[39;00m\n\u001b[1;32m   1497\u001b[0m \u001b[39m# this function, and just call forward.\u001b[39;00m\n\u001b[1;32m   1498\u001b[0m \u001b[39mif\u001b[39;00m \u001b[39mnot\u001b[39;00m (\u001b[39mself\u001b[39m\u001b[39m.\u001b[39m_backward_hooks \u001b[39mor\u001b[39;00m \u001b[39mself\u001b[39m\u001b[39m.\u001b[39m_backward_pre_hooks \u001b[39mor\u001b[39;00m \u001b[39mself\u001b[39m\u001b[39m.\u001b[39m_forward_hooks \u001b[39mor\u001b[39;00m \u001b[39mself\u001b[39m\u001b[39m.\u001b[39m_forward_pre_hooks\n\u001b[1;32m   1499\u001b[0m         \u001b[39mor\u001b[39;00m _global_backward_pre_hooks \u001b[39mor\u001b[39;00m _global_backward_hooks\n\u001b[1;32m   1500\u001b[0m         \u001b[39mor\u001b[39;00m _global_forward_hooks \u001b[39mor\u001b[39;00m _global_forward_pre_hooks):\n\u001b[0;32m-> 1501\u001b[0m     \u001b[39mreturn\u001b[39;00m forward_call(\u001b[39m*\u001b[39;49margs, \u001b[39m*\u001b[39;49m\u001b[39m*\u001b[39;49mkwargs)\n\u001b[1;32m   1502\u001b[0m \u001b[39m# Do not call functions when jit is used\u001b[39;00m\n\u001b[1;32m   1503\u001b[0m full_backward_hooks, non_full_backward_hooks \u001b[39m=\u001b[39m [], []\n",
      "File \u001b[0;32m~/Remote-Thesis/ContTimeDiscreteSpace/TAUnSDDM/lib/models/models.py:188\u001b[0m, in \u001b[0;36mImageX0PredBasePaul.forward\u001b[0;34m(self, x, times)\u001b[0m\n\u001b[1;32m    182\u001b[0m     x \u001b[39m=\u001b[39m nn\u001b[39m.\u001b[39mReplicationPad2d((\u001b[39m0\u001b[39m, \u001b[39m1\u001b[39m, \u001b[39m0\u001b[39m, \u001b[39m1\u001b[39m))(x\u001b[39m.\u001b[39mfloat())\n\u001b[1;32m    184\u001b[0m \u001b[39m# Output: 3 × 32 × 32 × 2 => mean and log scale of a logistic distribution\u001b[39;00m\n\u001b[1;32m    185\u001b[0m \u001b[39m# Truncated logistic output from https://arxiv.org/pdf/2107.03006.pdf\u001b[39;00m\n\u001b[1;32m    186\u001b[0m \u001b[39m# wenden tanh auf beides an, d3pm nur auf mu\u001b[39;00m\n\u001b[0;32m--> 188\u001b[0m net_out \u001b[39m=\u001b[39m \u001b[39mself\u001b[39;49m\u001b[39m.\u001b[39;49mnet(x, times)  \u001b[39m# (B, 2*C, H, W)\u001b[39;00m\n\u001b[1;32m    189\u001b[0m \u001b[39mif\u001b[39;00m \u001b[39mself\u001b[39m\u001b[39m.\u001b[39mcfg\u001b[39m.\u001b[39mmodel\u001b[39m.\u001b[39mmodel_output \u001b[39m==\u001b[39m \u001b[39m\"\u001b[39m\u001b[39mlogits\u001b[39m\u001b[39m\"\u001b[39m:\n\u001b[1;32m    190\u001b[0m     logits \u001b[39m=\u001b[39m net_out\n",
      "File \u001b[0;32m~/my_python_env/lib/python3.11/site-packages/torch/nn/modules/module.py:1501\u001b[0m, in \u001b[0;36mModule._call_impl\u001b[0;34m(self, *args, **kwargs)\u001b[0m\n\u001b[1;32m   1496\u001b[0m \u001b[39m# If we don't have any hooks, we want to skip the rest of the logic in\u001b[39;00m\n\u001b[1;32m   1497\u001b[0m \u001b[39m# this function, and just call forward.\u001b[39;00m\n\u001b[1;32m   1498\u001b[0m \u001b[39mif\u001b[39;00m \u001b[39mnot\u001b[39;00m (\u001b[39mself\u001b[39m\u001b[39m.\u001b[39m_backward_hooks \u001b[39mor\u001b[39;00m \u001b[39mself\u001b[39m\u001b[39m.\u001b[39m_backward_pre_hooks \u001b[39mor\u001b[39;00m \u001b[39mself\u001b[39m\u001b[39m.\u001b[39m_forward_hooks \u001b[39mor\u001b[39;00m \u001b[39mself\u001b[39m\u001b[39m.\u001b[39m_forward_pre_hooks\n\u001b[1;32m   1499\u001b[0m         \u001b[39mor\u001b[39;00m _global_backward_pre_hooks \u001b[39mor\u001b[39;00m _global_backward_hooks\n\u001b[1;32m   1500\u001b[0m         \u001b[39mor\u001b[39;00m _global_forward_hooks \u001b[39mor\u001b[39;00m _global_forward_pre_hooks):\n\u001b[0;32m-> 1501\u001b[0m     \u001b[39mreturn\u001b[39;00m forward_call(\u001b[39m*\u001b[39;49margs, \u001b[39m*\u001b[39;49m\u001b[39m*\u001b[39;49mkwargs)\n\u001b[1;32m   1502\u001b[0m \u001b[39m# Do not call functions when jit is used\u001b[39;00m\n\u001b[1;32m   1503\u001b[0m full_backward_hooks, non_full_backward_hooks \u001b[39m=\u001b[39m [], []\n",
      "File \u001b[0;32m~/Remote-Thesis/ContTimeDiscreteSpace/TAUnSDDM/lib/networks/unet.py:417\u001b[0m, in \u001b[0;36mUNet.forward\u001b[0;34m(self, input, time)\u001b[0m\n\u001b[1;32m    415\u001b[0m \u001b[39mfor\u001b[39;00m layer \u001b[39min\u001b[39;00m \u001b[39mself\u001b[39m\u001b[39m.\u001b[39mdown:\n\u001b[1;32m    416\u001b[0m     \u001b[39mif\u001b[39;00m \u001b[39misinstance\u001b[39m(layer, ResBlockWithAttention):\n\u001b[0;32m--> 417\u001b[0m         hid \u001b[39m=\u001b[39m layer(hid, time_embed)\n\u001b[1;32m    419\u001b[0m     \u001b[39melse\u001b[39;00m:\n\u001b[1;32m    420\u001b[0m         hid \u001b[39m=\u001b[39m layer(hid)\n",
      "File \u001b[0;32m~/my_python_env/lib/python3.11/site-packages/torch/nn/modules/module.py:1501\u001b[0m, in \u001b[0;36mModule._call_impl\u001b[0;34m(self, *args, **kwargs)\u001b[0m\n\u001b[1;32m   1496\u001b[0m \u001b[39m# If we don't have any hooks, we want to skip the rest of the logic in\u001b[39;00m\n\u001b[1;32m   1497\u001b[0m \u001b[39m# this function, and just call forward.\u001b[39;00m\n\u001b[1;32m   1498\u001b[0m \u001b[39mif\u001b[39;00m \u001b[39mnot\u001b[39;00m (\u001b[39mself\u001b[39m\u001b[39m.\u001b[39m_backward_hooks \u001b[39mor\u001b[39;00m \u001b[39mself\u001b[39m\u001b[39m.\u001b[39m_backward_pre_hooks \u001b[39mor\u001b[39;00m \u001b[39mself\u001b[39m\u001b[39m.\u001b[39m_forward_hooks \u001b[39mor\u001b[39;00m \u001b[39mself\u001b[39m\u001b[39m.\u001b[39m_forward_pre_hooks\n\u001b[1;32m   1499\u001b[0m         \u001b[39mor\u001b[39;00m _global_backward_pre_hooks \u001b[39mor\u001b[39;00m _global_backward_hooks\n\u001b[1;32m   1500\u001b[0m         \u001b[39mor\u001b[39;00m _global_forward_hooks \u001b[39mor\u001b[39;00m _global_forward_pre_hooks):\n\u001b[0;32m-> 1501\u001b[0m     \u001b[39mreturn\u001b[39;00m forward_call(\u001b[39m*\u001b[39;49margs, \u001b[39m*\u001b[39;49m\u001b[39m*\u001b[39;49mkwargs)\n\u001b[1;32m   1502\u001b[0m \u001b[39m# Do not call functions when jit is used\u001b[39;00m\n\u001b[1;32m   1503\u001b[0m full_backward_hooks, non_full_backward_hooks \u001b[39m=\u001b[39m [], []\n",
      "File \u001b[0;32m~/Remote-Thesis/ContTimeDiscreteSpace/TAUnSDDM/lib/networks/unet.py:248\u001b[0m, in \u001b[0;36mResBlockWithAttention.forward\u001b[0;34m(self, input, time)\u001b[0m\n\u001b[1;32m    247\u001b[0m \u001b[39mdef\u001b[39;00m \u001b[39mforward\u001b[39m(\u001b[39mself\u001b[39m, \u001b[39minput\u001b[39m, time):\n\u001b[0;32m--> 248\u001b[0m     out \u001b[39m=\u001b[39m \u001b[39mself\u001b[39;49m\u001b[39m.\u001b[39;49mresblocks(\u001b[39minput\u001b[39;49m, time)\n\u001b[1;32m    250\u001b[0m     \u001b[39mif\u001b[39;00m \u001b[39mself\u001b[39m\u001b[39m.\u001b[39mattention \u001b[39mis\u001b[39;00m \u001b[39mnot\u001b[39;00m \u001b[39mNone\u001b[39;00m:\n\u001b[1;32m    251\u001b[0m         out \u001b[39m=\u001b[39m \u001b[39mself\u001b[39m\u001b[39m.\u001b[39mattention(out)\n",
      "File \u001b[0;32m~/my_python_env/lib/python3.11/site-packages/torch/nn/modules/module.py:1501\u001b[0m, in \u001b[0;36mModule._call_impl\u001b[0;34m(self, *args, **kwargs)\u001b[0m\n\u001b[1;32m   1496\u001b[0m \u001b[39m# If we don't have any hooks, we want to skip the rest of the logic in\u001b[39;00m\n\u001b[1;32m   1497\u001b[0m \u001b[39m# this function, and just call forward.\u001b[39;00m\n\u001b[1;32m   1498\u001b[0m \u001b[39mif\u001b[39;00m \u001b[39mnot\u001b[39;00m (\u001b[39mself\u001b[39m\u001b[39m.\u001b[39m_backward_hooks \u001b[39mor\u001b[39;00m \u001b[39mself\u001b[39m\u001b[39m.\u001b[39m_backward_pre_hooks \u001b[39mor\u001b[39;00m \u001b[39mself\u001b[39m\u001b[39m.\u001b[39m_forward_hooks \u001b[39mor\u001b[39;00m \u001b[39mself\u001b[39m\u001b[39m.\u001b[39m_forward_pre_hooks\n\u001b[1;32m   1499\u001b[0m         \u001b[39mor\u001b[39;00m _global_backward_pre_hooks \u001b[39mor\u001b[39;00m _global_backward_hooks\n\u001b[1;32m   1500\u001b[0m         \u001b[39mor\u001b[39;00m _global_forward_hooks \u001b[39mor\u001b[39;00m _global_forward_pre_hooks):\n\u001b[0;32m-> 1501\u001b[0m     \u001b[39mreturn\u001b[39;00m forward_call(\u001b[39m*\u001b[39;49margs, \u001b[39m*\u001b[39;49m\u001b[39m*\u001b[39;49mkwargs)\n\u001b[1;32m   1502\u001b[0m \u001b[39m# Do not call functions when jit is used\u001b[39;00m\n\u001b[1;32m   1503\u001b[0m full_backward_hooks, non_full_backward_hooks \u001b[39m=\u001b[39m [], []\n",
      "File \u001b[0;32m~/Remote-Thesis/ContTimeDiscreteSpace/TAUnSDDM/lib/networks/unet.py:131\u001b[0m, in \u001b[0;36mResBlock.forward\u001b[0;34m(self, input, time)\u001b[0m\n\u001b[1;32m    127\u001b[0m out \u001b[39m=\u001b[39m \u001b[39mself\u001b[39m\u001b[39m.\u001b[39mconv1(\u001b[39mself\u001b[39m\u001b[39m.\u001b[39mactivation1(\u001b[39mself\u001b[39m\u001b[39m.\u001b[39mnorm1(\u001b[39minput\u001b[39m)))\n\u001b[1;32m    129\u001b[0m out \u001b[39m=\u001b[39m out \u001b[39m+\u001b[39m \u001b[39mself\u001b[39m\u001b[39m.\u001b[39mtime(time)\u001b[39m.\u001b[39mview(batch, \u001b[39m-\u001b[39m\u001b[39m1\u001b[39m, \u001b[39m1\u001b[39m, \u001b[39m1\u001b[39m)\n\u001b[0;32m--> 131\u001b[0m out \u001b[39m=\u001b[39m \u001b[39mself\u001b[39m\u001b[39m.\u001b[39mconv2(\u001b[39mself\u001b[39m\u001b[39m.\u001b[39mdropout(\u001b[39mself\u001b[39;49m\u001b[39m.\u001b[39;49mactivation2(\u001b[39mself\u001b[39;49m\u001b[39m.\u001b[39;49mnorm2(out))))\n\u001b[1;32m    133\u001b[0m \u001b[39mif\u001b[39;00m \u001b[39mself\u001b[39m\u001b[39m.\u001b[39mskip \u001b[39mis\u001b[39;00m \u001b[39mnot\u001b[39;00m \u001b[39mNone\u001b[39;00m:\n\u001b[1;32m    135\u001b[0m     \u001b[39minput\u001b[39m \u001b[39m=\u001b[39m \u001b[39mself\u001b[39m\u001b[39m.\u001b[39mskip(\u001b[39minput\u001b[39m\u001b[39m.\u001b[39mpermute(\u001b[39m0\u001b[39m, \u001b[39m2\u001b[39m, \u001b[39m3\u001b[39m, \u001b[39m1\u001b[39m)\u001b[39m.\u001b[39mcontiguous())\n",
      "File \u001b[0;32m~/my_python_env/lib/python3.11/site-packages/torch/nn/modules/module.py:1501\u001b[0m, in \u001b[0;36mModule._call_impl\u001b[0;34m(self, *args, **kwargs)\u001b[0m\n\u001b[1;32m   1496\u001b[0m \u001b[39m# If we don't have any hooks, we want to skip the rest of the logic in\u001b[39;00m\n\u001b[1;32m   1497\u001b[0m \u001b[39m# this function, and just call forward.\u001b[39;00m\n\u001b[1;32m   1498\u001b[0m \u001b[39mif\u001b[39;00m \u001b[39mnot\u001b[39;00m (\u001b[39mself\u001b[39m\u001b[39m.\u001b[39m_backward_hooks \u001b[39mor\u001b[39;00m \u001b[39mself\u001b[39m\u001b[39m.\u001b[39m_backward_pre_hooks \u001b[39mor\u001b[39;00m \u001b[39mself\u001b[39m\u001b[39m.\u001b[39m_forward_hooks \u001b[39mor\u001b[39;00m \u001b[39mself\u001b[39m\u001b[39m.\u001b[39m_forward_pre_hooks\n\u001b[1;32m   1499\u001b[0m         \u001b[39mor\u001b[39;00m _global_backward_pre_hooks \u001b[39mor\u001b[39;00m _global_backward_hooks\n\u001b[1;32m   1500\u001b[0m         \u001b[39mor\u001b[39;00m _global_forward_hooks \u001b[39mor\u001b[39;00m _global_forward_pre_hooks):\n\u001b[0;32m-> 1501\u001b[0m     \u001b[39mreturn\u001b[39;00m forward_call(\u001b[39m*\u001b[39;49margs, \u001b[39m*\u001b[39;49m\u001b[39m*\u001b[39;49mkwargs)\n\u001b[1;32m   1502\u001b[0m \u001b[39m# Do not call functions when jit is used\u001b[39;00m\n\u001b[1;32m   1503\u001b[0m full_backward_hooks, non_full_backward_hooks \u001b[39m=\u001b[39m [], []\n",
      "File \u001b[0;32m~/Remote-Thesis/ContTimeDiscreteSpace/TAUnSDDM/lib/networks/unet.py:77\u001b[0m, in \u001b[0;36mSwish.forward\u001b[0;34m(self, input)\u001b[0m\n\u001b[1;32m     76\u001b[0m \u001b[39mdef\u001b[39;00m \u001b[39mforward\u001b[39m(\u001b[39mself\u001b[39m, \u001b[39minput\u001b[39m):\n\u001b[0;32m---> 77\u001b[0m     \u001b[39mreturn\u001b[39;00m swish(\u001b[39minput\u001b[39;49m)\n",
      "File \u001b[0;32m~/Remote-Thesis/ContTimeDiscreteSpace/TAUnSDDM/lib/networks/unet.py:14\u001b[0m, in \u001b[0;36mswish\u001b[0;34m(input)\u001b[0m\n\u001b[1;32m     13\u001b[0m \u001b[39mdef\u001b[39;00m \u001b[39mswish\u001b[39m(\u001b[39minput\u001b[39m):\n\u001b[0;32m---> 14\u001b[0m     \u001b[39mreturn\u001b[39;00m \u001b[39minput\u001b[39;49m \u001b[39m*\u001b[39;49m torch\u001b[39m.\u001b[39;49msigmoid(\u001b[39minput\u001b[39;49m)\n",
      "\u001b[0;31mOutOfMemoryError\u001b[0m: CUDA out of memory. Tried to allocate 288.00 MiB (GPU 0; 47.54 GiB total capacity; 1.63 GiB already allocated; 260.00 MiB free; 1.66 GiB reserved in total by PyTorch) If reserved memory is >> allocated memory try setting max_split_size_mb to avoid fragmentation.  See documentation for Memory Management and PYTORCH_CUDA_ALLOC_CONF"
     ]
    }
   ],
   "source": [
    "n_samples = 1000\n",
    "samples, changes = sampler.sample(model, n_samples)\n",
    "saved_samples = samples"
   ]
  },
  {
   "cell_type": "code",
   "execution_count": null,
   "metadata": {},
   "outputs": [],
   "source": [
    "is_img = cfg.data.is_img\n",
    "\n",
    "if is_img:\n",
    "    samples = samples.reshape(n_samples, 1, cfg.data.image_size, cfg.data.image_size)\n",
    "    saving_train_path = os.path.join(cfg.saving.sample_plot_path, f\"{cfg.model.name}{state['n_iter']}_{cfg.sampler.name}{cfg.sampler.num_steps}.png\")\n",
    "    fig = plt.figure(figsize=(9, 9)) \n",
    "    for i in range(n_samples):\n",
    "        plt.subplot(int(np.sqrt(n_samples)), int(np.sqrt(n_samples)), 1 + i)\n",
    "        plt.axis(\"off\")\n",
    "        plt.imshow(np.transpose(samples[i, ...], (1,2,0)), cmap=\"gray\")\n",
    " \n",
    " \n",
    "    plt.savefig(saving_train_path)\n",
    "    plt.show()\n",
    "    plt.close()\n",
    "else:\n",
    "    bm, inv_bm = synthetic.get_binmap(cfg.model.concat_dim, cfg.data.binmode)\n",
    "    print(inv_bm)\n",
    "    samples = synthetic.bin2float(samples.astype(np.int32), inv_bm, cfg.model.concat_dim, cfg.data.int_scale)\n",
    "\n",
    " \n",
    "    saving_plot_path = os.path.join(path, f\"{cfg.model.name}{state['n_iter']}_{cfg.sampler.name}{cfg.sampler.num_steps}.png\")\n",
    "    saving_np_path = os.path.join(path, f\"samples_{cfg.model.name}{state['n_iter']}_{cfg.sampler.name}{cfg.sampler.num_steps}.npy\")\n",
    "    np.save(f'{saving_np_path}', samples)\n",
    "\n",
    "    #aving_plot_path = '/Users/paulheller/PythonRepositories/Master-Thesis/ContTimeDiscreteSpace/TAUnSDDM/SavedModels/MNIST/'\n",
    "    synthetic.plot_samples(samples, saving_plot_path, im_size=cfg.data.plot_size, im_fmt=\"png\")"
   ]
  },
  {
   "cell_type": "code",
   "execution_count": null,
   "metadata": {},
   "outputs": [],
   "source": [
    "np.save(f'lib/is_mnist/data/{cfg.model.name}_{cfg.sampler.name}{cfg.sampler.num_steps}.npy', saved_samples)"
   ]
  },
  {
   "cell_type": "code",
   "execution_count": null,
   "metadata": {},
   "outputs": [],
   "source": [
    "\"\"\"\n",
    "s3 = saved_samples[3, :]\n",
    "s8 = saved_samples[8, :]\n",
    "s10 = saved_samples[15, :]\n",
    "s11 = saved_samples[39, :]\n",
    "stacked_samples = np.vstack((s3, s8, s10, s11)).reshape(-1, 1, 15, 15)\n",
    "print(stacked_samples.shape)\n",
    "n_samples = 4\n",
    "saving_train_path = os.path.join(cfg.saving.sample_plot_path, f\"{cfg.model.name}{state['n_iter']}_{cfg.sampler.name}{cfg.sampler.num_steps}.png\")\n",
    "fig = plt.figure(figsize=(12, 3))  # Adjust the figure size as needed\n",
    "for i in range(n_samples):\n",
    "    plt.subplot(1, n_samples, 1+i)\n",
    "    plt.axis(\"off\")\n",
    "    plt.imshow(np.transpose(stacked_samples[i, ...], (1, 2, 0)), cmap=\"gray\")\n",
    "\n",
    "plt.savefig('simple_mazes.png', bbox_inches='tight', transparent=True)  # Use bbox_inches to remove extra white space\n",
    "plt.show()\n",
    "plt.close()\n",
    "\"\"\""
   ]
  },
  {
   "cell_type": "code",
   "execution_count": null,
   "metadata": {},
   "outputs": [],
   "source": [
    "#np.save('lib/is_mnist/data/mnist_hollow_100exact1000.npy', saved_samples)"
   ]
  },
  {
   "cell_type": "code",
   "execution_count": null,
   "metadata": {},
   "outputs": [],
   "source": [
    "#np.save('SavedModels/MNIST/mnist_2704LBJF1000_200.npy', saved_samples[0:200])"
   ]
  }
 ],
 "metadata": {
  "kernelspec": {
   "display_name": "diffvenv",
   "language": "python",
   "name": "python3"
  },
  "language_info": {
   "codemirror_mode": {
    "name": "ipython",
    "version": 3
   },
   "file_extension": ".py",
   "mimetype": "text/x-python",
   "name": "python",
   "nbconvert_exporter": "python",
   "pygments_lexer": "ipython3",
   "version": "3.11.5"
  },
  "orig_nbformat": 4
 },
 "nbformat": 4,
 "nbformat_minor": 2
}
