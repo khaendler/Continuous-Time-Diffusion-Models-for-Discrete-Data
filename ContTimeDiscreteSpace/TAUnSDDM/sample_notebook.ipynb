{
 "cells": [
  {
   "cell_type": "code",
   "execution_count": 1,
   "metadata": {},
   "outputs": [],
   "source": [
    "import torch\n",
    "import lib.utils.bookkeeping as bookkeeping\n",
    "from torch.utils.data import DataLoader\n",
    "from pathlib import Path\n",
    "import numpy as np\n",
    "import matplotlib.pyplot as plt\n",
    "import lib.models.models as models\n",
    "import lib.models.model_utils as model_utils\n",
    "from lib.datasets import mnist, maze, protein, synthetic\n",
    "import lib.datasets.dataset_utils as dataset_utils\n",
    "import lib.losses.losses as losses\n",
    "import lib.losses.losses_utils as losses_utils\n",
    "import lib.training.training as training\n",
    "import lib.training.training_utils as training_utils\n",
    "import lib.optimizers.optimizers as optimizers\n",
    "import lib.optimizers.optimizers_utils as optimizers_utils\n",
    "import lib.sampling.sampling as sampling\n",
    "import lib.sampling.sampling_utils as sampling_utils\n",
    "import os\n",
    "from lib.datasets.maze import maze_acc\n",
    "from ruamel.yaml.scalarfloat import ScalarFloat"
   ]
  },
  {
   "cell_type": "code",
   "execution_count": 2,
   "metadata": {},
   "outputs": [],
   "source": [
    "# creating paths\n",
    "\n",
    "\n",
    "path = \"SavedModels/SyntheticMasked/\"\n",
    "date = '2023-12-17' # 2\n",
    "config_name = 'config_001_maskeddirect.yaml' # config_001_hollowMLEProb.yaml\n",
    "model_name = 'model_199999_maskeddirect.pt'\n",
    "\n",
    "\n",
    "\n",
    "path = \"SavedModels/SyntheticBert/\"\n",
    "date = '2023-12-20' # 2\n",
    "config_name = 'config_001_bert500K.yaml' # config_001_hollowMLEProb.yaml\n",
    "model_name = 'model_199999_bert500K.pt'\n",
    "\n",
    "path = 'SavedModels/MAZE/' # 'SavedModels/MAZE/' 'SavedModels/MNIST/'\n",
    "date = '2023-12-14' # 2\n",
    "config_name = 'config_001_unet.yaml' # config_001_hollowMLEProb.yaml\n",
    "model_name = 'model_199999_unet.pt' #  model_299999_hollowMLEProb.pt\n",
    "\n",
    "\n",
    "path = 'SavedModels/MAZE/' # 'SavedModels/MAZE/' 'SavedModels/MNIST/'\n",
    "date = '2023-12-22' # 2\n",
    "config_name = 'config_001_bert.yaml' # config_001_hollowMLEProb.yaml\n",
    "model_name = 'model_19999_bert.pt' #  model_299999_hollowMLEProb.pt\n",
    "\n",
    "path = 'SavedModels/MAZE/' # 'SavedModels/MAZE/' 'SavedModels/MNIST/'\n",
    "date = '2023-12-22' # 2\n",
    "config_name = 'config_001_hollow8M.yaml' # config_001_hollowMLEProb.yaml\n",
    "model_name = 'model_299999_hollow8M.pt' #  model_299999_hollowMLEProb.pt\n",
    "\n",
    "path = 'SavedModels/MNIST/' # 'SavedModels/MAZE/' 'SavedModels/MNIST/'\n",
    "date = '2023-12-20' # 2\n",
    "config_name = 'config_001_unet14Mlogits.yaml' # config_001_hollowMLEProb.yaml\n",
    "model_name = 'model_349999.pt'\n",
    "\n",
    "\n",
    "\n",
    "path = 'SavedModels/BIN-MNIST/' # 'SavedModels/MAZE/' 'SavedModels/MNIST/'\n",
    "date = '2023-12-17' # 2\n",
    "config_name = 'config_001_unet3M.yaml' # config_001_hollowMLEProb.yaml\n",
    "model_name = 'model_199999_unet3M.pt' \n",
    "\n",
    "\n",
    "path = 'SavedModels/MNIST/' # 'SavedModels/MAZE/' 'SavedModels/MNIST/'\n",
    "date = '2023-12-20' # 2\n",
    "config_name = 'config_001_unet14Mlogits.yaml' # config_001_hollowMLEProb.yaml\n",
    "model_name = 'model_349999.pt'\n",
    "\n",
    "\n",
    "\n",
    "path = 'SavedModels/MAZEprotein/'\n",
    "date = \"2023-12-23\"\n",
    "config_name = \"config_001_score.yaml\"\n",
    "model_name = \"model_199999_score.pt\"\n",
    "\n",
    "path = 'SavedModels/MAZEunet/' # 'SavedModels/MAZE/' 'SavedModels/MNIST/'\n",
    "date = '2023-12-23' # 2\n",
    "config_name = 'config_001.yaml' # config_001_hollowMLEProb.yaml\n",
    "model_name = 'model_9999.pt' #  model_299999_hollowMLEProb.pt\n",
    "\n",
    "\n",
    "path = 'SavedModels/MAZEprotein/'\n",
    "date = \"2023-12-23\"\n",
    "config_name = \"config_001_score.yaml\"\n",
    "model_name = \"model_199999_score.pt\"\n",
    "\n",
    "path = 'SavedModels/MAZEunet/' # 'SavedModels/MAZE/' 'SavedModels/MNIST/'\n",
    "date = '2023-12-23' # 2\n",
    "config_name = 'config_001.yaml' # config_001_hollowMLEProb.yaml\n",
    "model_name = 'model_69999.pt' #  model_299999_hollowMLEProb.pt\n",
    "\n",
    "path = 'SavedModels/MNIST/' # 'SavedModels/MAZE/' 'SavedModels/MNIST/'\n",
    "date = '2023-12-20' # 2\n",
    "config_name = 'config_001_unet14Mlogits.yaml' # config_001_hollowMLEProb.yaml\n",
    "model_name = 'model_349999.pt'\n",
    "\n",
    "path = \"SavedModels/SyntheticBert/\"\n",
    "date = '2023-12-23' # 2\n",
    "config_name = 'config_001_uniform.yaml' # config_001_hollowMLEProb.yaml\n",
    "model_name = 'model_199999.pt'\n",
    "\n",
    "path = \"SavedModels/SyntheticMasked/\"\n",
    "date = '2023-12-24' # 2\n",
    "config_name = 'config_001_maskedelbo.yaml' # config_001_hollowMLEProb.yaml\n",
    "model_name = 'model_199999_maskedelbo.pt'\n",
    "\n",
    "path = \"SavedModels/SyntheticBert/\"\n",
    "date = '2023-12-20' # 2\n",
    "config_name = 'config_001_bert500K.yaml' # config_001_hollowMLEProb.yaml\n",
    "model_name = 'model_199999_bert500K.pt'\n",
    "\n",
    "path = 'SavedModels/MAZEunet/' # 'SavedModels/MAZE/' 'SavedModels/MNIST/'\n",
    "date = '2023-12-28' # 2\n",
    "config_name = 'config_001_unetlog.yaml' # config_001_hollowMLEProb.yaml\n",
    "model_name = 'model_299999_unetlog.pt' #  model_299999_hollowMLEProb.pt\n",
    "\n",
    "path = \"SavedModels/SyntheticBert/\"\n",
    "date = '2023-12-20' # 2\n",
    "config_name = 'config_001_bert500K.yaml' # config_001_hollowMLEProb.yaml\n",
    "model_name = 'model_199999_bert500K.pt'\n",
    "\n",
    "config_path = os.path.join(path, date, config_name)\n",
    "checkpoint_path = os.path.join(path, date, model_name)\n",
    "\n"
   ]
  },
  {
   "cell_type": "code",
   "execution_count": 3,
   "metadata": {},
   "outputs": [
    {
     "name": "stdout",
     "output_type": "stream",
     "text": [
      "number of parameters:  504834\n",
      "ema state dict function\n"
     ]
    }
   ],
   "source": [
    "# creating models\n",
    "cfg = bookkeeping.load_config(config_path)\n",
    "cfg.sampler.name = 'ElboTauL' #ExactSampling' # ElboLBJF CRMTauL CRMLBJF\n",
    "cfg.sampler.num_corrector_steps = 0\n",
    "cfg.sampler.corrector_entry_time = ScalarFloat(0.0)\n",
    "cfg.sampler.num_steps = 500\n",
    "cfg.sampler.is_ordinal = False\n",
    "\n",
    "#print(cfg)\n",
    "device = torch.device(cfg.device)\n",
    "\n",
    "model = model_utils.create_model(cfg, device)\n",
    "print(\"number of parameters: \", sum([p.numel() for p in model.parameters()]))\n",
    "\n",
    "#modified_model_state = utils.remove_module_from_keys(loaded_state['model'])\n",
    "#model.load_state_dict(modified_model_state)\n",
    "#optimizer = optimizers_utils.get_optimizer(model.parameters(), cfg)\n",
    "optimizer = torch.optim.Adam(model.parameters(), cfg.optimizer.lr)\n",
    "\n",
    "sampler = sampling_utils.get_sampler(cfg)\n",
    "\n",
    "state = {\"model\": model, \"optimizer\": optimizer, \"n_iter\": 0}\n",
    "state = bookkeeping.load_state(state, checkpoint_path)\n",
    "state['model'].eval()\n",
    "\n",
    "# Maze:\n",
    "# 80% TauL\n",
    "# 84% LBJF\n",
    "# 96%"
   ]
  },
  {
   "cell_type": "code",
   "execution_count": 4,
   "metadata": {},
   "outputs": [
    {
     "name": "stderr",
     "output_type": "stream",
     "text": [
      "0it [00:00, ?it/s]"
     ]
    },
    {
     "name": "stderr",
     "output_type": "stream",
     "text": [
      "4it [00:01,  3.28it/s]"
     ]
    },
    {
     "name": "stdout",
     "output_type": "stream",
     "text": [
      "tensor(0.7713, device='cuda:0')\n",
      "tensor(0.0600, device='cuda:0')\n",
      "tensor(0.0437, device='cuda:0')\n",
      "tensor(0.0250, device='cuda:0')\n",
      "tensor(0.0275, device='cuda:0')\n"
     ]
    },
    {
     "name": "stderr",
     "output_type": "stream",
     "text": [
      "8it [00:01,  7.16it/s]"
     ]
    },
    {
     "name": "stdout",
     "output_type": "stream",
     "text": [
      "tensor(0.0187, device='cuda:0')\n",
      "tensor(0.0162, device='cuda:0')\n",
      "tensor(0.0088, device='cuda:0')\n",
      "tensor(0.0262, device='cuda:0')\n"
     ]
    },
    {
     "name": "stderr",
     "output_type": "stream",
     "text": [
      "12it [00:01, 11.14it/s]"
     ]
    },
    {
     "name": "stdout",
     "output_type": "stream",
     "text": [
      "tensor(0.0200, device='cuda:0')\n",
      "tensor(0.0175, device='cuda:0')\n",
      "tensor(0.0175, device='cuda:0')\n",
      "tensor(0.0150, device='cuda:0')\n",
      "tensor(0.0137, device='cuda:0')\n",
      "tensor(0.0200, device='cuda:0')\n",
      "tensor(0.0150, device='cuda:0')\n",
      "tensor(0.0125, device='cuda:0')\n",
      "tensor(0.0075, device='cuda:0')\n",
      "tensor(0.0162, device='cuda:0')\n",
      "tensor(0.0088, device='cuda:0')\n",
      "tensor(0.0088, device='cuda:0')\n"
     ]
    },
    {
     "name": "stderr",
     "output_type": "stream",
     "text": [
      "23it [00:02, 30.30it/s]"
     ]
    },
    {
     "name": "stdout",
     "output_type": "stream",
     "text": [
      "tensor(0.0100, device='cuda:0')\n",
      "tensor(0.0162, device='cuda:0')\n",
      "tensor(0.0112, device='cuda:0')\n",
      "tensor(0.0100, device='cuda:0')\n",
      "tensor(0.0187, device='cuda:0')\n"
     ]
    },
    {
     "name": "stderr",
     "output_type": "stream",
     "text": [
      "28it [00:02, 24.79it/s]"
     ]
    },
    {
     "name": "stdout",
     "output_type": "stream",
     "text": [
      "tensor(0.0100, device='cuda:0')\n",
      "tensor(0.0112, device='cuda:0')\n",
      "tensor(0.0100, device='cuda:0')\n",
      "tensor(0.0112, device='cuda:0')\n",
      "tensor(0.0150, device='cuda:0')\n"
     ]
    },
    {
     "name": "stderr",
     "output_type": "stream",
     "text": [
      "35it [00:02, 22.35it/s]"
     ]
    },
    {
     "name": "stdout",
     "output_type": "stream",
     "text": [
      "tensor(0.0112, device='cuda:0')\n",
      "tensor(0.0075, device='cuda:0')\n",
      "tensor(0.0075, device='cuda:0')\n",
      "tensor(0.0075, device='cuda:0')\n"
     ]
    },
    {
     "name": "stderr",
     "output_type": "stream",
     "text": [
      "38it [00:02, 21.55it/s]"
     ]
    },
    {
     "name": "stdout",
     "output_type": "stream",
     "text": [
      "tensor(0.0062, device='cuda:0')\n",
      "tensor(0.0088, device='cuda:0')\n",
      "tensor(0.0088, device='cuda:0')\n",
      "tensor(0.0137, device='cuda:0')\n",
      "tensor(0.0100, device='cuda:0')\n"
     ]
    },
    {
     "name": "stderr",
     "output_type": "stream",
     "text": [
      "51it [00:03, 36.75it/s]"
     ]
    },
    {
     "name": "stdout",
     "output_type": "stream",
     "text": [
      "tensor(0.0025, device='cuda:0')\n",
      "tensor(0.0137, device='cuda:0')\n",
      "tensor(0.0088, device='cuda:0')\n",
      "tensor(0.0012, device='cuda:0')\n",
      "tensor(0.0088, device='cuda:0')\n",
      "tensor(0.0025, device='cuda:0')\n",
      "tensor(0.0050, device='cuda:0')\n",
      "tensor(0.0125, device='cuda:0')\n",
      "tensor(0.0062, device='cuda:0')\n",
      "tensor(0.0050, device='cuda:0')\n",
      "tensor(0.0100, device='cuda:0')\n",
      "tensor(0.0100, device='cuda:0')\n"
     ]
    },
    {
     "name": "stderr",
     "output_type": "stream",
     "text": [
      "56it [00:03, 28.27it/s]"
     ]
    },
    {
     "name": "stdout",
     "output_type": "stream",
     "text": [
      "tensor(0.0088, device='cuda:0')\n",
      "tensor(0.0088, device='cuda:0')\n",
      "tensor(0.0075, device='cuda:0')\n",
      "tensor(0.0075, device='cuda:0')\n"
     ]
    },
    {
     "name": "stderr",
     "output_type": "stream",
     "text": [
      "60it [00:03, 25.83it/s]"
     ]
    },
    {
     "name": "stdout",
     "output_type": "stream",
     "text": [
      "tensor(0.0025, device='cuda:0')\n",
      "tensor(0.0037, device='cuda:0')\n",
      "tensor(0.0075, device='cuda:0')\n",
      "tensor(0.0075, device='cuda:0')\n"
     ]
    },
    {
     "name": "stderr",
     "output_type": "stream",
     "text": [
      "63it [00:03, 24.09it/s]"
     ]
    },
    {
     "name": "stdout",
     "output_type": "stream",
     "text": [
      "tensor(0.0050, device='cuda:0')\n",
      "tensor(0.0062, device='cuda:0')\n",
      "tensor(0.0050, device='cuda:0')\n",
      "tensor(0.0100, device='cuda:0')\n"
     ]
    },
    {
     "name": "stderr",
     "output_type": "stream",
     "text": [
      "73it [00:04, 32.09it/s]"
     ]
    },
    {
     "name": "stdout",
     "output_type": "stream",
     "text": [
      "tensor(0.0112, device='cuda:0')\n",
      "tensor(0.0137, device='cuda:0')\n",
      "tensor(0.0062, device='cuda:0')\n",
      "tensor(0.0125, device='cuda:0')\n",
      "tensor(0.0025, device='cuda:0')\n",
      "tensor(0.0050, device='cuda:0')\n",
      "tensor(0.0100, device='cuda:0')\n",
      "tensor(0.0037, device='cuda:0')\n",
      "tensor(0.0062, device='cuda:0')\n",
      "tensor(0.0088, device='cuda:0')\n",
      "tensor(0.0088, device='cuda:0')\n",
      "tensor(0.0088, device='cuda:0')\n",
      "tensor(0.0050, device='cuda:0')\n"
     ]
    },
    {
     "name": "stderr",
     "output_type": "stream",
     "text": [
      "79it [00:04, 35.30it/s]"
     ]
    },
    {
     "name": "stdout",
     "output_type": "stream",
     "text": [
      "tensor(0.0137, device='cuda:0')\n",
      "tensor(0.0050, device='cuda:0')\n",
      "tensor(0.0050, device='cuda:0')\n",
      "tensor(0.0050, device='cuda:0')\n"
     ]
    },
    {
     "name": "stderr",
     "output_type": "stream",
     "text": [
      "83it [00:04, 28.49it/s]"
     ]
    },
    {
     "name": "stdout",
     "output_type": "stream",
     "text": [
      "tensor(0.0025, device='cuda:0')\n",
      "tensor(0.0025, device='cuda:0')\n",
      "tensor(0.0037, device='cuda:0')\n",
      "tensor(0.0025, device='cuda:0')\n",
      "tensor(0.0088, device='cuda:0')\n"
     ]
    },
    {
     "name": "stderr",
     "output_type": "stream",
     "text": [
      "90it [00:04, 24.03it/s]"
     ]
    },
    {
     "name": "stdout",
     "output_type": "stream",
     "text": [
      "tensor(0.0012, device='cuda:0')\n",
      "tensor(0.0037, device='cuda:0')\n",
      "tensor(0.0062, device='cuda:0')\n",
      "tensor(0.0025, device='cuda:0')\n"
     ]
    },
    {
     "name": "stderr",
     "output_type": "stream",
     "text": [
      "93it [00:04, 22.66it/s]"
     ]
    },
    {
     "name": "stdout",
     "output_type": "stream",
     "text": [
      "tensor(0.0062, device='cuda:0')\n",
      "tensor(0.0088, device='cuda:0')\n",
      "tensor(0.0062, device='cuda:0')\n",
      "tensor(0.0037, device='cuda:0')\n",
      "tensor(0.0037, device='cuda:0')\n",
      "tensor(0.0037, device='cuda:0')\n",
      "tensor(0.0100, device='cuda:0')\n"
     ]
    },
    {
     "name": "stderr",
     "output_type": "stream",
     "text": [
      "106it [00:05, 35.74it/s]"
     ]
    },
    {
     "name": "stdout",
     "output_type": "stream",
     "text": [
      "tensor(0.0062, device='cuda:0')\n",
      "tensor(0.0037, device='cuda:0')\n",
      "tensor(0.0012, device='cuda:0')\n",
      "tensor(0.0025, device='cuda:0')\n",
      "tensor(0.0062, device='cuda:0')\n",
      "tensor(0.0062, device='cuda:0')\n",
      "tensor(0.0025, device='cuda:0')\n",
      "tensor(0.0137, device='cuda:0')\n",
      "tensor(0.0037, device='cuda:0')\n"
     ]
    },
    {
     "name": "stderr",
     "output_type": "stream",
     "text": [
      "110it [00:05, 28.92it/s]"
     ]
    },
    {
     "name": "stdout",
     "output_type": "stream",
     "text": [
      "tensor(0.0062, device='cuda:0')\n",
      "tensor(0.0050, device='cuda:0')\n",
      "tensor(0.0062, device='cuda:0')\n",
      "tensor(0.0037, device='cuda:0')\n"
     ]
    },
    {
     "name": "stderr",
     "output_type": "stream",
     "text": [
      "114it [00:05, 25.73it/s]"
     ]
    },
    {
     "name": "stdout",
     "output_type": "stream",
     "text": [
      "tensor(0.0088, device='cuda:0')\n",
      "tensor(0.0050, device='cuda:0')\n",
      "tensor(0.0050, device='cuda:0')\n",
      "tensor(0.0088, device='cuda:0')\n"
     ]
    },
    {
     "name": "stderr",
     "output_type": "stream",
     "text": [
      "117it [00:05, 24.01it/s]"
     ]
    },
    {
     "name": "stdout",
     "output_type": "stream",
     "text": [
      "tensor(0.0050, device='cuda:0')\n",
      "tensor(0.0075, device='cuda:0')\n",
      "tensor(0.0037, device='cuda:0')\n",
      "tensor(0.0050, device='cuda:0')\n"
     ]
    },
    {
     "name": "stderr",
     "output_type": "stream",
     "text": [
      "125it [00:05, 28.15it/s]"
     ]
    },
    {
     "name": "stdout",
     "output_type": "stream",
     "text": [
      "tensor(0.0025, device='cuda:0')\n",
      "tensor(0.0037, device='cuda:0')\n",
      "tensor(0.0025, device='cuda:0')\n",
      "tensor(0.0025, device='cuda:0')\n",
      "tensor(0.0062, device='cuda:0')\n",
      "tensor(0.0037, device='cuda:0')\n",
      "tensor(0.0037, device='cuda:0')\n",
      "tensor(0.0037, device='cuda:0')\n",
      "tensor(0.0050, device='cuda:0')\n",
      "tensor(0.0050, device='cuda:0')\n",
      "tensor(0.0037, device='cuda:0')\n"
     ]
    },
    {
     "name": "stderr",
     "output_type": "stream",
     "text": [
      "133it [00:06, 35.43it/s]"
     ]
    },
    {
     "name": "stdout",
     "output_type": "stream",
     "text": [
      "tensor(0.0050, device='cuda:0')\n",
      "tensor(0.0050, device='cuda:0')\n",
      "tensor(0.0037, device='cuda:0')\n",
      "tensor(0.0112, device='cuda:0')\n",
      "tensor(0.0075, device='cuda:0')\n"
     ]
    },
    {
     "name": "stderr",
     "output_type": "stream",
     "text": [
      "137it [00:06, 28.78it/s]"
     ]
    },
    {
     "name": "stdout",
     "output_type": "stream",
     "text": [
      "tensor(0.0062, device='cuda:0')\n",
      "tensor(0.0012, device='cuda:0')\n",
      "tensor(0.0075, device='cuda:0')\n",
      "tensor(0.0050, device='cuda:0')\n"
     ]
    },
    {
     "name": "stderr",
     "output_type": "stream",
     "text": [
      "141it [00:06, 25.81it/s]"
     ]
    },
    {
     "name": "stdout",
     "output_type": "stream",
     "text": [
      "tensor(0.0037, device='cuda:0')\n",
      "tensor(0.0050, device='cuda:0')\n",
      "tensor(0.0012, device='cuda:0')\n",
      "tensor(0.0025, device='cuda:0')\n"
     ]
    },
    {
     "name": "stderr",
     "output_type": "stream",
     "text": [
      "144it [00:06, 24.08it/s]"
     ]
    },
    {
     "name": "stdout",
     "output_type": "stream",
     "text": [
      "tensor(0.0037, device='cuda:0')\n",
      "tensor(0.0037, device='cuda:0')\n",
      "tensor(0.0025, device='cuda:0')\n",
      "tensor(0.0012, device='cuda:0')\n"
     ]
    },
    {
     "name": "stderr",
     "output_type": "stream",
     "text": [
      "152it [00:06, 28.23it/s]"
     ]
    },
    {
     "name": "stdout",
     "output_type": "stream",
     "text": [
      "tensor(0.0037, device='cuda:0')\n",
      "tensor(0.0012, device='cuda:0')\n",
      "tensor(0.0037, device='cuda:0')\n",
      "tensor(0.0037, device='cuda:0')\n",
      "tensor(0.0050, device='cuda:0')\n",
      "tensor(0.0075, device='cuda:0')\n",
      "tensor(0.0062, device='cuda:0')\n",
      "tensor(0.0025, device='cuda:0')\n",
      "tensor(0.0037, device='cuda:0')\n",
      "tensor(0., device='cuda:0')\n",
      "tensor(0.0062, device='cuda:0')\n",
      "tensor(0.0037, device='cuda:0')\n",
      "tensor(0.0050, device='cuda:0')\n"
     ]
    },
    {
     "name": "stderr",
     "output_type": "stream",
     "text": [
      "160it [00:07, 38.21it/s]"
     ]
    },
    {
     "name": "stdout",
     "output_type": "stream",
     "text": [
      "tensor(0.0025, device='cuda:0')\n",
      "tensor(0.0062, device='cuda:0')\n",
      "tensor(0.0025, device='cuda:0')\n",
      "tensor(0.0025, device='cuda:0')\n"
     ]
    },
    {
     "name": "stderr",
     "output_type": "stream",
     "text": [
      "165it [00:07, 28.92it/s]"
     ]
    },
    {
     "name": "stdout",
     "output_type": "stream",
     "text": [
      "tensor(0.0050, device='cuda:0')\n",
      "tensor(0.0012, device='cuda:0')\n",
      "tensor(0.0050, device='cuda:0')\n",
      "tensor(0.0025, device='cuda:0')\n",
      "tensor(0.0025, device='cuda:0')\n"
     ]
    },
    {
     "name": "stderr",
     "output_type": "stream",
     "text": [
      "169it [00:07, 26.13it/s]"
     ]
    },
    {
     "name": "stdout",
     "output_type": "stream",
     "text": [
      "tensor(0.0025, device='cuda:0')\n",
      "tensor(0.0037, device='cuda:0')\n",
      "tensor(0.0012, device='cuda:0')\n",
      "tensor(0.0037, device='cuda:0')\n"
     ]
    },
    {
     "name": "stderr",
     "output_type": "stream",
     "text": [
      "176it [00:07, 22.85it/s]"
     ]
    },
    {
     "name": "stdout",
     "output_type": "stream",
     "text": [
      "tensor(0.0062, device='cuda:0')\n",
      "tensor(0.0012, device='cuda:0')\n",
      "tensor(0.0025, device='cuda:0')\n",
      "tensor(0.0025, device='cuda:0')\n",
      "tensor(0.0012, device='cuda:0')\n",
      "tensor(0.0012, device='cuda:0')\n",
      "tensor(0.0062, device='cuda:0')\n",
      "tensor(0.0025, device='cuda:0')\n"
     ]
    },
    {
     "name": "stderr",
     "output_type": "stream",
     "text": [
      "187it [00:08, 37.38it/s]"
     ]
    },
    {
     "name": "stdout",
     "output_type": "stream",
     "text": [
      "tensor(0.0100, device='cuda:0')\n",
      "tensor(0.0062, device='cuda:0')\n",
      "tensor(0.0062, device='cuda:0')\n",
      "tensor(0.0025, device='cuda:0')\n",
      "tensor(0.0037, device='cuda:0')\n",
      "tensor(0.0025, device='cuda:0')\n",
      "tensor(0.0012, device='cuda:0')\n",
      "tensor(0.0025, device='cuda:0')\n",
      "tensor(0.0037, device='cuda:0')\n"
     ]
    },
    {
     "name": "stderr",
     "output_type": "stream",
     "text": [
      "192it [00:08, 28.03it/s]"
     ]
    },
    {
     "name": "stdout",
     "output_type": "stream",
     "text": [
      "tensor(0.0025, device='cuda:0')\n",
      "tensor(0.0062, device='cuda:0')\n",
      "tensor(0.0050, device='cuda:0')\n",
      "tensor(0.0012, device='cuda:0')\n",
      "tensor(0.0025, device='cuda:0')\n"
     ]
    },
    {
     "name": "stderr",
     "output_type": "stream",
     "text": [
      "196it [00:08, 25.87it/s]"
     ]
    },
    {
     "name": "stdout",
     "output_type": "stream",
     "text": [
      "tensor(0.0037, device='cuda:0')\n",
      "tensor(0.0075, device='cuda:0')\n",
      "tensor(0.0037, device='cuda:0')\n",
      "tensor(0.0062, device='cuda:0')\n"
     ]
    },
    {
     "name": "stderr",
     "output_type": "stream",
     "text": [
      "200it [00:08, 23.87it/s]"
     ]
    },
    {
     "name": "stdout",
     "output_type": "stream",
     "text": [
      "tensor(0.0025, device='cuda:0')\n",
      "tensor(0.0012, device='cuda:0')\n",
      "tensor(0.0088, device='cuda:0')\n",
      "tensor(0.0062, device='cuda:0')\n"
     ]
    },
    {
     "name": "stderr",
     "output_type": "stream",
     "text": [
      "214it [00:09, 36.95it/s]"
     ]
    },
    {
     "name": "stdout",
     "output_type": "stream",
     "text": [
      "tensor(0.0075, device='cuda:0')\n",
      "tensor(0.0062, device='cuda:0')\n",
      "tensor(0.0037, device='cuda:0')\n",
      "tensor(0.0012, device='cuda:0')\n",
      "tensor(0.0037, device='cuda:0')\n",
      "tensor(0.0037, device='cuda:0')\n",
      "tensor(0.0012, device='cuda:0')\n",
      "tensor(0.0037, device='cuda:0')\n",
      "tensor(0.0037, device='cuda:0')\n",
      "tensor(0.0025, device='cuda:0')\n",
      "tensor(0.0012, device='cuda:0')\n",
      "tensor(0.0025, device='cuda:0')\n",
      "tensor(0.0025, device='cuda:0')\n"
     ]
    },
    {
     "name": "stderr",
     "output_type": "stream",
     "text": [
      "219it [00:09, 29.08it/s]"
     ]
    },
    {
     "name": "stdout",
     "output_type": "stream",
     "text": [
      "tensor(0.0012, device='cuda:0')\n",
      "tensor(0.0075, device='cuda:0')\n",
      "tensor(0.0012, device='cuda:0')\n",
      "tensor(0.0037, device='cuda:0')\n"
     ]
    },
    {
     "name": "stderr",
     "output_type": "stream",
     "text": [
      "223it [00:09, 26.33it/s]"
     ]
    },
    {
     "name": "stdout",
     "output_type": "stream",
     "text": [
      "tensor(0.0050, device='cuda:0')\n",
      "tensor(0.0037, device='cuda:0')\n",
      "tensor(0.0025, device='cuda:0')\n",
      "tensor(0.0037, device='cuda:0')\n"
     ]
    },
    {
     "name": "stderr",
     "output_type": "stream",
     "text": [
      "227it [00:09, 24.12it/s]"
     ]
    },
    {
     "name": "stdout",
     "output_type": "stream",
     "text": [
      "tensor(0.0012, device='cuda:0')\n",
      "tensor(0.0050, device='cuda:0')\n",
      "tensor(0.0025, device='cuda:0')\n",
      "tensor(0.0012, device='cuda:0')\n"
     ]
    },
    {
     "name": "stderr",
     "output_type": "stream",
     "text": [
      "230it [00:09, 23.02it/s]"
     ]
    },
    {
     "name": "stdout",
     "output_type": "stream",
     "text": [
      "tensor(0.0050, device='cuda:0')\n",
      "tensor(0.0075, device='cuda:0')\n",
      "tensor(0.0012, device='cuda:0')\n",
      "tensor(0.0012, device='cuda:0')\n",
      "tensor(0.0037, device='cuda:0')\n",
      "tensor(0.0012, device='cuda:0')\n",
      "tensor(0.0025, device='cuda:0')\n",
      "tensor(0.0012, device='cuda:0')\n",
      "tensor(0., device='cuda:0')\n",
      "tensor(0.0050, device='cuda:0')\n",
      "tensor(0.0025, device='cuda:0')\n"
     ]
    },
    {
     "name": "stderr",
     "output_type": "stream",
     "text": [
      "244it [00:10, 32.92it/s]"
     ]
    },
    {
     "name": "stdout",
     "output_type": "stream",
     "text": [
      "tensor(0.0025, device='cuda:0')\n",
      "tensor(0.0012, device='cuda:0')\n",
      "tensor(0.0037, device='cuda:0')\n",
      "tensor(0., device='cuda:0')\n",
      "tensor(0.0012, device='cuda:0')\n",
      "tensor(0.0025, device='cuda:0')\n"
     ]
    },
    {
     "name": "stderr",
     "output_type": "stream",
     "text": [
      "248it [00:10, 27.69it/s]"
     ]
    },
    {
     "name": "stdout",
     "output_type": "stream",
     "text": [
      "tensor(0.0012, device='cuda:0')\n",
      "tensor(0.0050, device='cuda:0')\n",
      "tensor(0.0075, device='cuda:0')\n",
      "tensor(0.0025, device='cuda:0')\n"
     ]
    },
    {
     "name": "stderr",
     "output_type": "stream",
     "text": [
      "252it [00:10, 24.85it/s]"
     ]
    },
    {
     "name": "stdout",
     "output_type": "stream",
     "text": [
      "tensor(0.0025, device='cuda:0')\n",
      "tensor(0.0025, device='cuda:0')\n",
      "tensor(0.0037, device='cuda:0')\n",
      "tensor(0.0037, device='cuda:0')\n"
     ]
    },
    {
     "name": "stderr",
     "output_type": "stream",
     "text": [
      "255it [00:10, 23.43it/s]"
     ]
    },
    {
     "name": "stdout",
     "output_type": "stream",
     "text": [
      "tensor(0.0025, device='cuda:0')\n",
      "tensor(0.0037, device='cuda:0')\n",
      "tensor(0.0012, device='cuda:0')\n",
      "tensor(0.0012, device='cuda:0')\n"
     ]
    },
    {
     "name": "stderr",
     "output_type": "stream",
     "text": [
      "269it [00:11, 37.58it/s]"
     ]
    },
    {
     "name": "stdout",
     "output_type": "stream",
     "text": [
      "tensor(0.0025, device='cuda:0')\n",
      "tensor(0.0012, device='cuda:0')\n",
      "tensor(0.0012, device='cuda:0')\n",
      "tensor(0.0012, device='cuda:0')\n",
      "tensor(0.0012, device='cuda:0')\n",
      "tensor(0.0037, device='cuda:0')\n",
      "tensor(0.0012, device='cuda:0')\n",
      "tensor(0.0025, device='cuda:0')\n",
      "tensor(0.0037, device='cuda:0')\n",
      "tensor(0.0012, device='cuda:0')\n",
      "tensor(0.0037, device='cuda:0')\n",
      "tensor(0.0037, device='cuda:0')\n",
      "tensor(0.0025, device='cuda:0')\n",
      "tensor(0.0012, device='cuda:0')\n",
      "tensor(0.0025, device='cuda:0')\n",
      "tensor(0., device='cuda:0')\n",
      "tensor(0., device='cuda:0')\n"
     ]
    },
    {
     "name": "stderr",
     "output_type": "stream",
     "text": [
      "278it [00:11, 27.38it/s]"
     ]
    },
    {
     "name": "stdout",
     "output_type": "stream",
     "text": [
      "tensor(0.0037, device='cuda:0')\n",
      "tensor(0.0012, device='cuda:0')\n",
      "tensor(0., device='cuda:0')\n",
      "tensor(0.0012, device='cuda:0')\n",
      "tensor(0.0025, device='cuda:0')\n"
     ]
    },
    {
     "name": "stderr",
     "output_type": "stream",
     "text": [
      "282it [00:11, 24.81it/s]"
     ]
    },
    {
     "name": "stdout",
     "output_type": "stream",
     "text": [
      "tensor(0.0012, device='cuda:0')\n",
      "tensor(0.0037, device='cuda:0')\n",
      "tensor(0.0025, device='cuda:0')\n",
      "tensor(0.0012, device='cuda:0')\n"
     ]
    },
    {
     "name": "stderr",
     "output_type": "stream",
     "text": [
      "285it [00:11, 23.42it/s]"
     ]
    },
    {
     "name": "stdout",
     "output_type": "stream",
     "text": [
      "tensor(0.0037, device='cuda:0')\n",
      "tensor(0.0025, device='cuda:0')\n",
      "tensor(0.0037, device='cuda:0')\n",
      "tensor(0.0037, device='cuda:0')\n",
      "tensor(0.0050, device='cuda:0')\n",
      "tensor(0.0062, device='cuda:0')\n",
      "tensor(0.0062, device='cuda:0')\n",
      "tensor(0.0050, device='cuda:0')\n",
      "tensor(0.0050, device='cuda:0')\n"
     ]
    },
    {
     "name": "stderr",
     "output_type": "stream",
     "text": [
      "298it [00:12, 34.20it/s]"
     ]
    },
    {
     "name": "stdout",
     "output_type": "stream",
     "text": [
      "tensor(0.0012, device='cuda:0')\n",
      "tensor(0., device='cuda:0')\n",
      "tensor(0., device='cuda:0')\n",
      "tensor(0.0012, device='cuda:0')\n",
      "tensor(0.0012, device='cuda:0')\n",
      "tensor(0.0062, device='cuda:0')\n",
      "tensor(0.0012, device='cuda:0')\n",
      "tensor(0.0012, device='cuda:0')\n"
     ]
    },
    {
     "name": "stderr",
     "output_type": "stream",
     "text": [
      "302it [00:12, 28.14it/s]"
     ]
    },
    {
     "name": "stdout",
     "output_type": "stream",
     "text": [
      "tensor(0.0025, device='cuda:0')\n",
      "tensor(0.0012, device='cuda:0')\n",
      "tensor(0.0012, device='cuda:0')\n",
      "tensor(0.0025, device='cuda:0')\n",
      "tensor(0.0012, device='cuda:0')\n"
     ]
    },
    {
     "name": "stderr",
     "output_type": "stream",
     "text": [
      "306it [00:12, 25.88it/s]"
     ]
    },
    {
     "name": "stdout",
     "output_type": "stream",
     "text": [
      "tensor(0., device='cuda:0')\n",
      "tensor(0.0012, device='cuda:0')\n",
      "tensor(0.0025, device='cuda:0')\n",
      "tensor(0.0037, device='cuda:0')\n",
      "tensor(0., device='cuda:0')\n"
     ]
    },
    {
     "name": "stderr",
     "output_type": "stream",
     "text": [
      "312it [00:12, 23.37it/s]"
     ]
    },
    {
     "name": "stdout",
     "output_type": "stream",
     "text": [
      "tensor(0.0012, device='cuda:0')\n",
      "tensor(0.0012, device='cuda:0')\n",
      "tensor(0., device='cuda:0')\n",
      "tensor(0., device='cuda:0')\n",
      "tensor(0.0025, device='cuda:0')\n",
      "tensor(0.0025, device='cuda:0')\n",
      "tensor(0., device='cuda:0')\n",
      "tensor(0.0012, device='cuda:0')\n"
     ]
    },
    {
     "name": "stderr",
     "output_type": "stream",
     "text": [
      "326it [00:13, 37.53it/s]"
     ]
    },
    {
     "name": "stdout",
     "output_type": "stream",
     "text": [
      "tensor(0.0012, device='cuda:0')\n",
      "tensor(0.0025, device='cuda:0')\n",
      "tensor(0., device='cuda:0')\n",
      "tensor(0., device='cuda:0')\n",
      "tensor(0.0037, device='cuda:0')\n",
      "tensor(0.0025, device='cuda:0')\n",
      "tensor(0.0012, device='cuda:0')\n",
      "tensor(0.0012, device='cuda:0')\n",
      "tensor(0., device='cuda:0')\n",
      "tensor(0.0012, device='cuda:0')\n"
     ]
    },
    {
     "name": "stderr",
     "output_type": "stream",
     "text": [
      "330it [00:13, 30.30it/s]"
     ]
    },
    {
     "name": "stdout",
     "output_type": "stream",
     "text": [
      "tensor(0.0025, device='cuda:0')\n",
      "tensor(0.0025, device='cuda:0')\n",
      "tensor(0., device='cuda:0')\n",
      "tensor(0.0012, device='cuda:0')\n"
     ]
    },
    {
     "name": "stderr",
     "output_type": "stream",
     "text": [
      "334it [00:13, 26.60it/s]"
     ]
    },
    {
     "name": "stdout",
     "output_type": "stream",
     "text": [
      "tensor(0., device='cuda:0')\n",
      "tensor(0.0012, device='cuda:0')\n",
      "tensor(0.0012, device='cuda:0')\n",
      "tensor(0.0025, device='cuda:0')\n"
     ]
    },
    {
     "name": "stderr",
     "output_type": "stream",
     "text": [
      "337it [00:13, 24.63it/s]"
     ]
    },
    {
     "name": "stdout",
     "output_type": "stream",
     "text": [
      "tensor(0.0025, device='cuda:0')\n",
      "tensor(0.0012, device='cuda:0')\n",
      "tensor(0.0012, device='cuda:0')\n",
      "tensor(0.0037, device='cuda:0')\n"
     ]
    },
    {
     "name": "stderr",
     "output_type": "stream",
     "text": [
      "345it [00:13, 28.36it/s]"
     ]
    },
    {
     "name": "stdout",
     "output_type": "stream",
     "text": [
      "tensor(0.0012, device='cuda:0')\n",
      "tensor(0.0012, device='cuda:0')\n",
      "tensor(0., device='cuda:0')\n",
      "tensor(0., device='cuda:0')\n",
      "tensor(0., device='cuda:0')\n",
      "tensor(0.0012, device='cuda:0')\n",
      "tensor(0.0012, device='cuda:0')\n",
      "tensor(0.0012, device='cuda:0')\n",
      "tensor(0., device='cuda:0')\n",
      "tensor(0.0025, device='cuda:0')\n",
      "tensor(0., device='cuda:0')\n",
      "tensor(0., device='cuda:0')\n",
      "tensor(0.0012, device='cuda:0')\n",
      "tensor(0.0012, device='cuda:0')\n"
     ]
    },
    {
     "name": "stderr",
     "output_type": "stream",
     "text": [
      "354it [00:14, 39.72it/s]"
     ]
    },
    {
     "name": "stdout",
     "output_type": "stream",
     "text": [
      "tensor(0.0062, device='cuda:0')\n",
      "tensor(0.0025, device='cuda:0')\n",
      "tensor(0., device='cuda:0')\n",
      "tensor(0.0012, device='cuda:0')\n"
     ]
    },
    {
     "name": "stderr",
     "output_type": "stream",
     "text": [
      "359it [00:14, 30.50it/s]"
     ]
    },
    {
     "name": "stdout",
     "output_type": "stream",
     "text": [
      "tensor(0., device='cuda:0')\n",
      "tensor(0.0012, device='cuda:0')\n",
      "tensor(0., device='cuda:0')\n",
      "tensor(0.0012, device='cuda:0')\n",
      "tensor(0., device='cuda:0')\n"
     ]
    },
    {
     "name": "stderr",
     "output_type": "stream",
     "text": [
      "363it [00:14, 27.81it/s]"
     ]
    },
    {
     "name": "stdout",
     "output_type": "stream",
     "text": [
      "tensor(0.0025, device='cuda:0')\n",
      "tensor(0.0025, device='cuda:0')\n",
      "tensor(0.0012, device='cuda:0')\n",
      "tensor(0.0012, device='cuda:0')\n"
     ]
    },
    {
     "name": "stderr",
     "output_type": "stream",
     "text": [
      "370it [00:14, 23.82it/s]"
     ]
    },
    {
     "name": "stdout",
     "output_type": "stream",
     "text": [
      "tensor(0.0012, device='cuda:0')\n",
      "tensor(0.0012, device='cuda:0')\n",
      "tensor(0., device='cuda:0')\n",
      "tensor(0.0012, device='cuda:0')\n",
      "tensor(0., device='cuda:0')\n",
      "tensor(0.0025, device='cuda:0')\n"
     ]
    },
    {
     "name": "stderr",
     "output_type": "stream",
     "text": [
      "379it [00:14, 36.67it/s]"
     ]
    },
    {
     "name": "stdout",
     "output_type": "stream",
     "text": [
      "tensor(0., device='cuda:0')\n",
      "tensor(0.0037, device='cuda:0')\n",
      "tensor(0.0012, device='cuda:0')\n",
      "tensor(0.0037, device='cuda:0')\n",
      "tensor(0.0012, device='cuda:0')\n",
      "tensor(0.0037, device='cuda:0')\n",
      "tensor(0., device='cuda:0')\n",
      "tensor(0., device='cuda:0')\n",
      "tensor(0.0012, device='cuda:0')\n",
      "tensor(0.0025, device='cuda:0')\n",
      "tensor(0.0012, device='cuda:0')\n"
     ]
    },
    {
     "name": "stderr",
     "output_type": "stream",
     "text": [
      "384it [00:15, 34.42it/s]"
     ]
    },
    {
     "name": "stdout",
     "output_type": "stream",
     "text": [
      "tensor(0.0012, device='cuda:0')\n",
      "tensor(0.0012, device='cuda:0')\n",
      "tensor(0.0012, device='cuda:0')\n",
      "tensor(0.0025, device='cuda:0')\n"
     ]
    },
    {
     "name": "stderr",
     "output_type": "stream",
     "text": [
      "389it [00:15, 27.92it/s]"
     ]
    },
    {
     "name": "stdout",
     "output_type": "stream",
     "text": [
      "tensor(0.0012, device='cuda:0')\n",
      "tensor(0.0012, device='cuda:0')\n",
      "tensor(0., device='cuda:0')\n",
      "tensor(0.0025, device='cuda:0')\n",
      "tensor(0., device='cuda:0')\n"
     ]
    },
    {
     "name": "stderr",
     "output_type": "stream",
     "text": [
      "396it [00:15, 24.76it/s]"
     ]
    },
    {
     "name": "stdout",
     "output_type": "stream",
     "text": [
      "tensor(0.0025, device='cuda:0')\n",
      "tensor(0.0012, device='cuda:0')\n",
      "tensor(0., device='cuda:0')\n",
      "tensor(0., device='cuda:0')\n",
      "tensor(0., device='cuda:0')\n"
     ]
    },
    {
     "name": "stderr",
     "output_type": "stream",
     "text": [
      "410it [00:15, 40.43it/s]"
     ]
    },
    {
     "name": "stdout",
     "output_type": "stream",
     "text": [
      "tensor(0.0037, device='cuda:0')\n",
      "tensor(0.0012, device='cuda:0')\n",
      "tensor(0.0025, device='cuda:0')\n",
      "tensor(0.0050, device='cuda:0')\n",
      "tensor(0.0012, device='cuda:0')\n",
      "tensor(0., device='cuda:0')\n",
      "tensor(0.0012, device='cuda:0')\n",
      "tensor(0.0037, device='cuda:0')\n",
      "tensor(0.0050, device='cuda:0')\n",
      "tensor(0.0025, device='cuda:0')\n",
      "tensor(0.0025, device='cuda:0')\n",
      "tensor(0.0012, device='cuda:0')\n",
      "tensor(0., device='cuda:0')\n",
      "tensor(0.0012, device='cuda:0')\n",
      "tensor(0., device='cuda:0')\n",
      "tensor(0., device='cuda:0')\n",
      "tensor(0., device='cuda:0')\n"
     ]
    },
    {
     "name": "stderr",
     "output_type": "stream",
     "text": [
      "419it [00:16, 28.29it/s]"
     ]
    },
    {
     "name": "stdout",
     "output_type": "stream",
     "text": [
      "tensor(0.0025, device='cuda:0')\n",
      "tensor(0.0025, device='cuda:0')\n",
      "tensor(0.0012, device='cuda:0')\n",
      "tensor(0., device='cuda:0')\n",
      "tensor(0.0012, device='cuda:0')\n"
     ]
    },
    {
     "name": "stderr",
     "output_type": "stream",
     "text": [
      "423it [00:16, 25.29it/s]"
     ]
    },
    {
     "name": "stdout",
     "output_type": "stream",
     "text": [
      "tensor(0.0012, device='cuda:0')\n",
      "tensor(0.0025, device='cuda:0')\n",
      "tensor(0.0062, device='cuda:0')\n",
      "tensor(0.0012, device='cuda:0')\n"
     ]
    },
    {
     "name": "stderr",
     "output_type": "stream",
     "text": [
      "430it [00:16, 27.31it/s]"
     ]
    },
    {
     "name": "stdout",
     "output_type": "stream",
     "text": [
      "tensor(0.0025, device='cuda:0')\n",
      "tensor(0., device='cuda:0')\n",
      "tensor(0., device='cuda:0')\n",
      "tensor(0., device='cuda:0')\n",
      "tensor(0., device='cuda:0')\n",
      "tensor(0., device='cuda:0')\n",
      "tensor(0., device='cuda:0')\n"
     ]
    },
    {
     "name": "stderr",
     "output_type": "stream",
     "text": [
      "440it [00:16, 42.84it/s]"
     ]
    },
    {
     "name": "stdout",
     "output_type": "stream",
     "text": [
      "tensor(0., device='cuda:0')\n",
      "tensor(0., device='cuda:0')\n",
      "tensor(0.0012, device='cuda:0')\n",
      "tensor(0., device='cuda:0')\n",
      "tensor(0., device='cuda:0')\n",
      "tensor(0., device='cuda:0')\n",
      "tensor(0., device='cuda:0')\n",
      "tensor(0.0025, device='cuda:0')\n",
      "tensor(0., device='cuda:0')\n",
      "tensor(0.0037, device='cuda:0')\n",
      "tensor(0.0012, device='cuda:0')\n"
     ]
    },
    {
     "name": "stderr",
     "output_type": "stream",
     "text": [
      "446it [00:17, 31.83it/s]"
     ]
    },
    {
     "name": "stdout",
     "output_type": "stream",
     "text": [
      "tensor(0.0012, device='cuda:0')\n",
      "tensor(0., device='cuda:0')\n",
      "tensor(0., device='cuda:0')\n",
      "tensor(0., device='cuda:0')\n",
      "tensor(0., device='cuda:0')\n",
      "tensor(0.0025, device='cuda:0')\n",
      "tensor(0.0012, device='cuda:0')\n",
      "tensor(0., device='cuda:0')\n",
      "tensor(0.0012, device='cuda:0')\n",
      "tensor(0.0012, device='cuda:0')\n"
     ]
    },
    {
     "name": "stderr",
     "output_type": "stream",
     "text": [
      "455it [00:17, 26.08it/s]"
     ]
    },
    {
     "name": "stdout",
     "output_type": "stream",
     "text": [
      "tensor(0., device='cuda:0')\n",
      "tensor(0., device='cuda:0')\n",
      "tensor(0.0025, device='cuda:0')\n",
      "tensor(0., device='cuda:0')\n",
      "tensor(0., device='cuda:0')\n"
     ]
    },
    {
     "name": "stderr",
     "output_type": "stream",
     "text": [
      "471it [00:17, 42.45it/s]"
     ]
    },
    {
     "name": "stdout",
     "output_type": "stream",
     "text": [
      "tensor(0., device='cuda:0')\n",
      "tensor(0., device='cuda:0')\n",
      "tensor(0., device='cuda:0')\n",
      "tensor(0., device='cuda:0')\n",
      "tensor(0.0012, device='cuda:0')\n",
      "tensor(0., device='cuda:0')\n",
      "tensor(0., device='cuda:0')\n",
      "tensor(0.0012, device='cuda:0')\n",
      "tensor(0., device='cuda:0')\n",
      "tensor(0., device='cuda:0')\n",
      "tensor(0., device='cuda:0')\n",
      "tensor(0., device='cuda:0')\n",
      "tensor(0., device='cuda:0')\n",
      "tensor(0., device='cuda:0')\n",
      "tensor(0., device='cuda:0')\n",
      "tensor(0., device='cuda:0')\n",
      "tensor(0.0025, device='cuda:0')\n",
      "tensor(0., device='cuda:0')\n",
      "tensor(0.0012, device='cuda:0')\n"
     ]
    },
    {
     "name": "stderr",
     "output_type": "stream",
     "text": [
      "477it [00:18, 32.31it/s]"
     ]
    },
    {
     "name": "stdout",
     "output_type": "stream",
     "text": [
      "tensor(0., device='cuda:0')\n",
      "tensor(0.0012, device='cuda:0')\n",
      "tensor(0.0012, device='cuda:0')\n",
      "tensor(0., device='cuda:0')\n",
      "tensor(0., device='cuda:0')\n"
     ]
    },
    {
     "name": "stderr",
     "output_type": "stream",
     "text": [
      "482it [00:18, 29.23it/s]"
     ]
    },
    {
     "name": "stdout",
     "output_type": "stream",
     "text": [
      "tensor(0., device='cuda:0')\n",
      "tensor(0., device='cuda:0')\n",
      "tensor(0., device='cuda:0')\n",
      "tensor(0., device='cuda:0')\n",
      "tensor(0., device='cuda:0')\n"
     ]
    },
    {
     "name": "stderr",
     "output_type": "stream",
     "text": [
      "490it [00:18, 26.62it/s]"
     ]
    },
    {
     "name": "stdout",
     "output_type": "stream",
     "text": [
      "tensor(0., device='cuda:0')\n",
      "tensor(0., device='cuda:0')\n",
      "tensor(0., device='cuda:0')\n",
      "tensor(0.0012, device='cuda:0')\n",
      "tensor(0.0012, device='cuda:0')\n",
      "tensor(0., device='cuda:0')\n",
      "tensor(0.0012, device='cuda:0')\n",
      "tensor(0., device='cuda:0')\n"
     ]
    },
    {
     "name": "stderr",
     "output_type": "stream",
     "text": [
      "500it [00:18, 26.48it/s]"
     ]
    },
    {
     "name": "stdout",
     "output_type": "stream",
     "text": [
      "tensor(0., device='cuda:0')\n",
      "tensor(0., device='cuda:0')\n",
      "tensor(0., device='cuda:0')\n",
      "tensor(0., device='cuda:0')\n",
      "tensor(0., device='cuda:0')\n",
      "tensor(0., device='cuda:0')\n",
      "tensor(0., device='cuda:0')\n"
     ]
    },
    {
     "name": "stderr",
     "output_type": "stream",
     "text": [
      "\n"
     ]
    }
   ],
   "source": [
    "n_samples = 25\n",
    "samples, changes = sampler.sample(model, n_samples)\n",
    "saved_samples = samples"
   ]
  },
  {
   "cell_type": "code",
   "execution_count": 5,
   "metadata": {},
   "outputs": [
    {
     "ename": "AttributeError",
     "evalue": "\"'image_size'\"",
     "output_type": "error",
     "traceback": [
      "\u001b[0;31m---------------------------------------------------------------------------\u001b[0m",
      "\u001b[0;31mKeyError\u001b[0m                                  Traceback (most recent call last)",
      "File \u001b[0;32m~/my_python_env/lib/python3.11/site-packages/ml_collections/config_dict/config_dict.py:903\u001b[0m, in \u001b[0;36mConfigDict.__getitem__\u001b[0;34m(self, key)\u001b[0m\n\u001b[1;32m    902\u001b[0m \u001b[39mtry\u001b[39;00m:\n\u001b[0;32m--> 903\u001b[0m   field \u001b[39m=\u001b[39m \u001b[39mself\u001b[39;49m\u001b[39m.\u001b[39;49m_fields[key]\n\u001b[1;32m    904\u001b[0m   \u001b[39mif\u001b[39;00m \u001b[39misinstance\u001b[39m(field, FieldReference):\n",
      "\u001b[0;31mKeyError\u001b[0m: 'image_size'",
      "\nDuring handling of the above exception, another exception occurred:\n",
      "\u001b[0;31mKeyError\u001b[0m                                  Traceback (most recent call last)",
      "File \u001b[0;32m~/my_python_env/lib/python3.11/site-packages/ml_collections/config_dict/config_dict.py:827\u001b[0m, in \u001b[0;36mConfigDict.__getattr__\u001b[0;34m(self, attribute)\u001b[0m\n\u001b[1;32m    826\u001b[0m \u001b[39mtry\u001b[39;00m:\n\u001b[0;32m--> 827\u001b[0m   \u001b[39mreturn\u001b[39;00m \u001b[39mself\u001b[39;49m[attribute]\n\u001b[1;32m    828\u001b[0m \u001b[39mexcept\u001b[39;00m \u001b[39mKeyError\u001b[39;00m \u001b[39mas\u001b[39;00m e:\n",
      "File \u001b[0;32m~/my_python_env/lib/python3.11/site-packages/ml_collections/config_dict/config_dict.py:909\u001b[0m, in \u001b[0;36mConfigDict.__getitem__\u001b[0;34m(self, key)\u001b[0m\n\u001b[1;32m    908\u001b[0m \u001b[39mexcept\u001b[39;00m \u001b[39mKeyError\u001b[39;00m \u001b[39mas\u001b[39;00m e:\n\u001b[0;32m--> 909\u001b[0m   \u001b[39mraise\u001b[39;00m \u001b[39mKeyError\u001b[39;00m(\u001b[39mself\u001b[39m\u001b[39m.\u001b[39m_generate_did_you_mean_message(key, \u001b[39mstr\u001b[39m(e)))\n",
      "\u001b[0;31mKeyError\u001b[0m: \"'image_size'\"",
      "\nDuring handling of the above exception, another exception occurred:\n",
      "\u001b[0;31mAttributeError\u001b[0m                            Traceback (most recent call last)",
      "\u001b[1;32m/home/pheller/Remote-Thesis/ContTimeDiscreteSpace/TAUnSDDM/sample_notebook.ipynb Cell 5\u001b[0m line \u001b[0;36m4\n\u001b[1;32m      <a href='vscode-notebook-cell://ssh-remote%2Blise/home/pheller/Remote-Thesis/ContTimeDiscreteSpace/TAUnSDDM/sample_notebook.ipynb#W4sdnNjb2RlLXJlbW90ZQ%3D%3D?line=0'>1</a>\u001b[0m is_img \u001b[39m=\u001b[39m \u001b[39mTrue\u001b[39;00m\u001b[39m# cfg.data.is_img\u001b[39;00m\n\u001b[1;32m      <a href='vscode-notebook-cell://ssh-remote%2Blise/home/pheller/Remote-Thesis/ContTimeDiscreteSpace/TAUnSDDM/sample_notebook.ipynb#W4sdnNjb2RlLXJlbW90ZQ%3D%3D?line=2'>3</a>\u001b[0m \u001b[39mif\u001b[39;00m is_img:\n\u001b[0;32m----> <a href='vscode-notebook-cell://ssh-remote%2Blise/home/pheller/Remote-Thesis/ContTimeDiscreteSpace/TAUnSDDM/sample_notebook.ipynb#W4sdnNjb2RlLXJlbW90ZQ%3D%3D?line=3'>4</a>\u001b[0m     samples \u001b[39m=\u001b[39m samples\u001b[39m.\u001b[39mreshape(n_samples, \u001b[39m1\u001b[39m, cfg\u001b[39m.\u001b[39;49mdata\u001b[39m.\u001b[39;49mimage_size, cfg\u001b[39m.\u001b[39mdata\u001b[39m.\u001b[39mimage_size)\n\u001b[1;32m      <a href='vscode-notebook-cell://ssh-remote%2Blise/home/pheller/Remote-Thesis/ContTimeDiscreteSpace/TAUnSDDM/sample_notebook.ipynb#W4sdnNjb2RlLXJlbW90ZQ%3D%3D?line=4'>5</a>\u001b[0m     saving_train_path \u001b[39m=\u001b[39m os\u001b[39m.\u001b[39mpath\u001b[39m.\u001b[39mjoin(cfg\u001b[39m.\u001b[39msaving\u001b[39m.\u001b[39msample_plot_path, \u001b[39mf\u001b[39m\u001b[39m\"\u001b[39m\u001b[39m{\u001b[39;00mcfg\u001b[39m.\u001b[39mmodel\u001b[39m.\u001b[39mname\u001b[39m}\u001b[39;00m\u001b[39m{\u001b[39;00mstate[\u001b[39m'\u001b[39m\u001b[39mn_iter\u001b[39m\u001b[39m'\u001b[39m]\u001b[39m}\u001b[39;00m\u001b[39m_\u001b[39m\u001b[39m{\u001b[39;00mcfg\u001b[39m.\u001b[39msampler\u001b[39m.\u001b[39mname\u001b[39m}\u001b[39;00m\u001b[39m{\u001b[39;00mcfg\u001b[39m.\u001b[39msampler\u001b[39m.\u001b[39mnum_steps\u001b[39m}\u001b[39;00m\u001b[39m.png\u001b[39m\u001b[39m\"\u001b[39m)\n\u001b[1;32m      <a href='vscode-notebook-cell://ssh-remote%2Blise/home/pheller/Remote-Thesis/ContTimeDiscreteSpace/TAUnSDDM/sample_notebook.ipynb#W4sdnNjb2RlLXJlbW90ZQ%3D%3D?line=5'>6</a>\u001b[0m     fig \u001b[39m=\u001b[39m plt\u001b[39m.\u001b[39mfigure(figsize\u001b[39m=\u001b[39m(\u001b[39m9\u001b[39m, \u001b[39m9\u001b[39m)) \n",
      "File \u001b[0;32m~/my_python_env/lib/python3.11/site-packages/ml_collections/config_dict/config_dict.py:829\u001b[0m, in \u001b[0;36mConfigDict.__getattr__\u001b[0;34m(self, attribute)\u001b[0m\n\u001b[1;32m    827\u001b[0m   \u001b[39mreturn\u001b[39;00m \u001b[39mself\u001b[39m[attribute]\n\u001b[1;32m    828\u001b[0m \u001b[39mexcept\u001b[39;00m \u001b[39mKeyError\u001b[39;00m \u001b[39mas\u001b[39;00m e:\n\u001b[0;32m--> 829\u001b[0m   \u001b[39mraise\u001b[39;00m \u001b[39mAttributeError\u001b[39;00m(e)\n",
      "\u001b[0;31mAttributeError\u001b[0m: \"'image_size'\""
     ]
    }
   ],
   "source": [
    "is_img = True# cfg.data.is_img\n",
    "\n",
    "if is_img:\n",
    "    samples = samples.reshape(n_samples, 1, cfg.data.image_size, cfg.data.image_size)\n",
    "    saving_train_path = os.path.join(cfg.saving.sample_plot_path, f\"{cfg.model.name}{state['n_iter']}_{cfg.sampler.name}{cfg.sampler.num_steps}.png\")\n",
    "    fig = plt.figure(figsize=(9, 9)) \n",
    "    for i in range(n_samples):\n",
    "        plt.subplot(int(np.sqrt(n_samples)), int(np.sqrt(n_samples)), 1 + i)\n",
    "        plt.axis(\"off\")\n",
    "        plt.imshow(np.transpose(samples[i, ...], (1,2,0)), cmap=\"gray\")\n",
    " \n",
    " \n",
    "    plt.savefig(saving_train_path)\n",
    "    plt.show()\n",
    "    plt.close()\n",
    "else:\n",
    "    bm, inv_bm = synthetic.get_binmap(cfg.model.concat_dim, cfg.data.binmode)\n",
    "    print(inv_bm)\n",
    "    samples = synthetic.bin2float(samples.astype(np.int32), inv_bm, cfg.model.concat_dim, cfg.data.int_scale)\n",
    "\n",
    " \n",
    "    saving_plot_path = os.path.join(path, f\"{cfg.model.name}{state['n_iter']}_{cfg.sampler.name}{cfg.sampler.num_steps}.png\")\n",
    "    saving_np_path = os.path.join(path, f\"samples_{cfg.model.name}{state['n_iter']}_{cfg.sampler.name}{cfg.sampler.num_steps}.npy\")\n",
    "    np.save(f'{saving_np_path}', samples)\n",
    "\n",
    "    #aving_plot_path = '/Users/paulheller/PythonRepositories/Master-Thesis/ContTimeDiscreteSpace/TAUnSDDM/SavedModels/MNIST/'\n",
    "    synthetic.plot_samples(samples, saving_plot_path, im_size=cfg.data.plot_size, im_fmt=\"png\")"
   ]
  },
  {
   "cell_type": "code",
   "execution_count": null,
   "metadata": {},
   "outputs": [
    {
     "name": "stdout",
     "output_type": "stream",
     "text": [
      "3\n",
      "5\n",
      "6\n",
      "7\n",
      "9\n",
      "10\n",
      "11\n",
      "16\n",
      "18\n",
      "21\n",
      "22\n",
      "24\n",
      "Accuracy: From 25 are 52.0% solvable.\n"
     ]
    },
    {
     "data": {
      "image/png": "[encoded data removed]",
      "text/plain": [
       "<Figure size 900x200 with 13 Axes>"
      ]
     },
     "metadata": {},
     "output_type": "display_data"
    }
   ],
   "source": [
    "correct_mazes = maze_acc(saved_samples)\n",
    "correct_mazes = correct_mazes[:, np.newaxis, :, :]\n",
    "\n",
    "fig = plt.figure(figsize=(9, 2)) \n",
    "n_c = correct_mazes.shape[0]\n",
    "n_cols = 2\n",
    "if n_c % 2 == 0:\n",
    "    n_rows = int(n_c / n_cols)\n",
    "else:\n",
    "    n_rows = int(np.ceil(n_c /n_cols))\n",
    "    #n_c = n_c - 1\n",
    "    n_cols = 3\n",
    "for i in range(n_c):\n",
    "    plt.subplot(n_cols, n_rows, 1 + i)\n",
    "    plt.axis(\"off\")\n",
    "    plt.imshow(np.transpose(correct_mazes[i, ...], (1,2,0)), cmap=\"gray\")\n",
    "plt.show()\n",
    " \n"
   ]
  },
  {
   "cell_type": "code",
   "execution_count": null,
   "metadata": {},
   "outputs": [
    {
     "name": "stdout",
     "output_type": "stream",
     "text": [
      "[0.008355556055903435, 0.00568888895213604, 0.00711111119017005, 0.006755555514246225, 0.008177777752280235, 0.01066666655242443, 0.007466666866093874, 0.00711111119017005, 0.006577777676284313, 0.010311110876500607, 0.0069333333522081375, 0.007822222076356411, 0.006044444628059864, 0.0069333333522081375, 0.006400000303983688, 0.007288889028131962, 0.007466666866093874, 0.007822222076356411, 0.00800000037997961, 0.009066666476428509, 0.01066666655242443, 0.008888889104127884, 0.00853333342820406, 0.00711111119017005, 0.009244444780051708, 0.008888889104127884, 0.007466666866093874, 0.009777777828276157, 0.009422222152352333, 0.005866666790097952, 0.008355556055903435, 0.007288889028131962, 0.00853333342820406, 0.0069333333522081375, 0.012088889256119728, 0.007644444704055786, 0.00800000037997961, 0.009244444780051708, 0.009600000455975533, 0.00800000037997961, 0.007466666866093874, 0.00853333342820406, 0.008711110800504684, 0.006577777676284313, 0.00853333342820406, 0.007644444704055786, 0.0069333333522081375, 0.008711110800504684, 0.01066666655242443, 0.006044444628059864, 0.008355556055903435, 0.007288889028131962, 0.00853333342820406, 0.007288889028131962, 0.007644444704055786, 0.007822222076356411, 0.0069333333522081375, 0.007822222076356411, 0.008355556055903435, 0.007822222076356411, 0.008355556055903435, 0.006755555514246225, 0.00711111119017005, 0.010311110876500607, 0.008355556055903435, 0.00800000037997961, 0.00711111119017005, 0.008355556055903435, 0.00711111119017005, 0.007644444704055786, 0.006044444628059864, 0.007288889028131962, 0.006755555514246225, 0.009422222152352333, 0.010133333504199982, 0.00853333342820406, 0.009066666476428509, 0.008355556055903435, 0.008711110800504684, 0.007644444704055786, 0.007644444704055786, 0.007288889028131962, 0.007466666866093874, 0.008711110800504684, 0.009422222152352333, 0.006577777676284313, 0.00711111119017005, 0.00800000037997961, 0.008355556055903435, 0.009600000455975533, 0.00853333342820406, 0.006044444628059864, 0.004800000227987766, 0.0069333333522081375, 0.00800000037997961, 0.007466666866093874, 0.007466666866093874, 0.006755555514246225, 0.00800000037997961, 0.008177777752280235, 0.006755555514246225, 0.009600000455975533, 0.00853333342820406, 0.009066666476428509, 0.008355556055903435, 0.007644444704055786, 0.006400000303983688, 0.007822222076356411, 0.005866666790097952, 0.00711111119017005, 0.009244444780051708, 0.009777777828276157, 0.007644444704055786, 0.006577777676284313, 0.00711111119017005, 0.006400000303983688, 0.009066666476428509, 0.008888889104127884, 0.007644444704055786, 0.007644444704055786, 0.008355556055903435, 0.005866666790097952, 0.008888889104127884, 0.00800000037997961, 0.005511111114174128, 0.008888889104127884, 0.008355556055903435, 0.006755555514246225, 0.006577777676284313, 0.0069333333522081375, 0.007822222076356411, 0.00800000037997961, 0.007288889028131962, 0.009244444780051708, 0.008177777752280235, 0.007288889028131962, 0.006755555514246225, 0.00853333342820406, 0.007288889028131962, 0.00711111119017005, 0.007466666866093874, 0.007466666866093874, 0.010311110876500607, 0.009955555200576782, 0.008888889104127884, 0.006222222466021776, 0.00853333342820406, 0.009422222152352333, 0.007822222076356411, 0.009066666476428509, 0.006400000303983688, 0.00711111119017005, 0.007466666866093874, 0.00568888895213604, 0.008888889104127884, 0.006577777676284313, 0.008355556055903435, 0.006044444628059864, 0.007822222076356411, 0.008711110800504684, 0.008711110800504684, 0.007466666866093874, 0.0069333333522081375, 0.007644444704055786, 0.00853333342820406, 0.00853333342820406, 0.00800000037997961, 0.006577777676284313, 0.006400000303983688, 0.005155555438250303, 0.006044444628059864, 0.006755555514246225, 0.005155555438250303, 0.006400000303983688, 0.005511111114174128, 0.005333333276212215, 0.006222222466021776, 0.0069333333522081375, 0.007644444704055786, 0.004622222390025854, 0.007288889028131962, 0.006044444628059864, 0.006222222466021776, 0.008177777752280235, 0.008355556055903435, 0.008711110800504684, 0.00711111119017005, 0.004622222390025854, 0.006044444628059864, 0.006577777676284313, 0.004800000227987766, 0.008711110800504684, 0.005155555438250303, 0.006400000303983688, 0.007466666866093874, 0.00800000037997961, 0.005333333276212215, 0.006577777676284313, 0.007288889028131962, 0.008355556055903435, 0.005155555438250303, 0.007644444704055786, 0.00800000037997961, 0.005866666790097952, 0.009422222152352333, 0.0069333333522081375, 0.00853333342820406, 0.00711111119017005, 0.005333333276212215, 0.005333333276212215, 0.0069333333522081375, 0.008711110800504684, 0.006044444628059864, 0.00853333342820406, 0.00711111119017005, 0.00711111119017005, 0.009066666476428509, 0.007466666866093874, 0.0069333333522081375, 0.006222222466021776, 0.007288889028131962, 0.006400000303983688, 0.007822222076356411, 0.006755555514246225, 0.006577777676284313, 0.008177777752280235, 0.006222222466021776, 0.00800000037997961, 0.00568888895213604, 0.007288889028131962, 0.004977777600288391, 0.007466666866093874, 0.007288889028131962, 0.00800000037997961, 0.00426666671410203, 0.008177777752280235, 0.007822222076356411, 0.006044444628059864, 0.006222222466021776, 0.006577777676284313, 0.006577777676284313, 0.00800000037997961, 0.004977777600288391, 0.008177777752280235, 0.006400000303983688, 0.005866666790097952, 0.006577777676284313, 0.005155555438250303, 0.006577777676284313, 0.0069333333522081375, 0.0069333333522081375, 0.006577777676284313, 0.006400000303983688, 0.007644444704055786, 0.006577777676284313, 0.007288889028131962, 0.005511111114174128, 0.00711111119017005, 0.0069333333522081375, 0.005155555438250303, 0.005155555438250303, 0.006222222466021776, 0.003733333433046937, 0.0069333333522081375, 0.006400000303983688, 0.005866666790097952, 0.007644444704055786, 0.004977777600288391, 0.00426666671410203, 0.006577777676284313, 0.006044444628059864, 0.005155555438250303, 0.006755555514246225, 0.006044444628059864, 0.00711111119017005, 0.005155555438250303, 0.006044444628059864, 0.00568888895213604, 0.007466666866093874, 0.00426666671410203, 0.005866666790097952, 0.004622222390025854, 0.005511111114174128, 0.00568888895213604, 0.005155555438250303, 0.004977777600288391, 0.004088888876140118, 0.005866666790097952, 0.00800000037997961, 0.007288889028131962, 0.00711111119017005, 0.005511111114174128, 0.005155555438250303, 0.003733333433046937, 0.005155555438250303, 0.005333333276212215, 0.004977777600288391, 0.005155555438250303, 0.00568888895213604, 0.00568888895213604, 0.00568888895213604, 0.00568888895213604, 0.004444444552063942, 0.005511111114174128, 0.004444444552063942, 0.004977777600288391, 0.0069333333522081375, 0.005155555438250303, 0.006044444628059864, 0.006222222466021776, 0.006400000303983688, 0.00568888895213604, 0.004444444552063942, 0.004444444552063942, 0.005511111114174128, 0.006222222466021776, 0.005155555438250303, 0.005155555438250303, 0.004800000227987766, 0.003200000151991844, 0.004444444552063942, 0.005155555438250303, 0.004977777600288391, 0.005866666790097952, 0.006577777676284313, 0.005511111114174128, 0.004444444552063942, 0.0039111110381782055, 0.004444444552063942, 0.005333333276212215, 0.004622222390025854, 0.004088888876140118, 0.004977777600288391, 0.005333333276212215, 0.004444444552063942, 0.0039111110381782055, 0.00426666671410203, 0.00426666671410203, 0.004622222390025854, 0.004800000227987766, 0.005866666790097952, 0.004444444552063942, 0.003555555595085025, 0.005866666790097952, 0.004977777600288391, 0.004622222390025854, 0.0039111110381782055, 0.004800000227987766, 0.004088888876140118, 0.003733333433046937, 0.005333333276212215, 0.0033777777571231127, 0.004622222390025854, 0.004622222390025854, 0.00284444447606802, 0.003200000151991844, 0.00426666671410203, 0.003733333433046937, 0.003022222314029932, 0.0033777777571231127, 0.005155555438250303, 0.00568888895213604, 0.005155555438250303, 0.0033777777571231127, 0.004622222390025854, 0.0039111110381782055, 0.004088888876140118, 0.002311111195012927, 0.0033777777571231127, 0.003555555595085025, 0.003733333433046937, 0.0039111110381782055, 0.004622222390025854, 0.004088888876140118, 0.004977777600288391, 0.003022222314029932, 0.004622222390025854, 0.002311111195012927, 0.004088888876140118, 0.005155555438250303, 0.002133333357051015, 0.0026666666381061077, 0.003555555595085025, 0.0026666666381061077, 0.0039111110381782055, 0.0033777777571231127, 0.004800000227987766, 0.00284444447606802, 0.003022222314029932, 0.003555555595085025, 0.0033777777571231127, 0.003022222314029932, 0.0033777777571231127, 0.004088888876140118, 0.0033777777571231127, 0.0033777777571231127, 0.003200000151991844, 0.003200000151991844, 0.003200000151991844, 0.0026666666381061077, 0.002133333357051015, 0.0033777777571231127, 0.00284444447606802, 0.003022222314029932, 0.0026666666381061077, 0.00284444447606802, 0.004088888876140118, 0.00142222223803401, 0.0033777777571231127, 0.00284444447606802, 0.003555555595085025, 0.0026666666381061077, 0.003200000151991844, 0.00284444447606802, 0.0019555555190891027, 0.001600000075995922, 0.0019555555190891027, 0.0026666666381061077, 0.0033777777571231127, 0.003555555595085025, 0.002133333357051015, 0.002133333357051015, 0.0019555555190891027, 0.002311111195012927, 0.0017777777975425124, 0.00284444447606802, 0.001600000075995922, 0.0024888888001441956, 0.0019555555190891027, 0.0010666666785255075, 0.001600000075995922, 0.0008888888987712562, 0.0012444444000720978, 0.003200000151991844, 0.002311111195012927, 0.002133333357051015, 0.0026666666381061077, 0.003200000151991844, 0.002311111195012927, 0.002311111195012927, 0.0026666666381061077, 0.002133333357051015, 0.001600000075995922, 0.0024888888001441956, 0.0019555555190891027, 0.0008888888987712562, 0.00142222223803401, 0.0019555555190891027, 0.000711111119017005, 0.002133333357051015, 0.0005333333392627537, 0.0019555555190891027, 0.00142222223803401, 0.00142222223803401, 0.00142222223803401, 0.0012444444000720978, 0.001600000075995922, 0.00142222223803401, 0.0012444444000720978, 0.0012444444000720978, 0.000711111119017005, 0.0017777777975425124, 0.000711111119017005, 0.0012444444000720978, 0.0012444444000720978, 0.0008888888987712562, 0.00142222223803401, 0.0008888888987712562, 0.00017777777975425124, 0.0012444444000720978, 0.0012444444000720978, 0.0012444444000720978, 0.0005333333392627537, 0.00142222223803401, 0.000711111119017005, 0.000711111119017005, 0.0008888888987712562, 0.0012444444000720978, 0.00017777777975425124, 0.0005333333392627537, 0.0008888888987712562, 0.0008888888987712562, 0.000711111119017005, 0.0003555555595085025, 0.0005333333392627537, 0.00017777777975425124, 0.00017777777975425124, 0.0005333333392627537, 0.0005333333392627537, 0.00017777777975425124, 0.0, 0.0005333333392627537, 0.00017777777975425124, 0.00017777777975425124, 0.0003555555595085025, 0.0]\n"
     ]
    },
    {
     "data": {
      "image/png": "[encoded data removed]",
      "text/plain": [
       "<Figure size 640x480 with 1 Axes>"
      ]
     },
     "metadata": {},
     "output_type": "display_data"
    }
   ],
   "source": [
    "plt.plot(changes)\n",
    "print(changes)\n",
    "plt.show()"
   ]
  }
 ],
 "metadata": {
  "kernelspec": {
   "display_name": "diffvenv",
   "language": "python",
   "name": "python3"
  },
  "language_info": {
   "codemirror_mode": {
    "name": "ipython",
    "version": 3
   },
   "file_extension": ".py",
   "mimetype": "text/x-python",
   "name": "python",
   "nbconvert_exporter": "python",
   "pygments_lexer": "ipython3",
   "version": "3.11.5"
  },
  "orig_nbformat": 4
 },
 "nbformat": 4,
 "nbformat_minor": 2
}
