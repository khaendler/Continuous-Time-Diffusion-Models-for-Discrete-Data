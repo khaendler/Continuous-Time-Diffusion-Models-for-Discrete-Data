{
 "cells": [
  {
   "cell_type": "code",
   "execution_count": 1,
   "metadata": {},
   "outputs": [],
   "source": [
    "import torch\n",
    "import lib.utils.bookkeeping as bookkeeping\n",
    "from torch.utils.data import DataLoader\n",
    "from pathlib import Path\n",
    "import numpy as np\n",
    "import matplotlib.pyplot as plt\n",
    "import lib.models.models as models\n",
    "import lib.models.model_utils as model_utils\n",
    "from lib.datasets import mnist, maze, protein, synthetic\n",
    "import lib.datasets.dataset_utils as dataset_utils\n",
    "import lib.losses.losses as losses\n",
    "import lib.losses.losses_utils as losses_utils\n",
    "import lib.training.training as training\n",
    "import lib.training.training_utils as training_utils\n",
    "import lib.optimizers.optimizers as optimizers\n",
    "import lib.optimizers.optimizers_utils as optimizers_utils\n",
    "import lib.sampling.sampling as sampling\n",
    "import lib.sampling.sampling_utils as sampling_utils\n",
    "import os\n",
    "from lib.datasets.maze import maze_acc\n",
    "from ruamel.yaml.scalarfloat import ScalarFloat"
   ]
  },
  {
   "cell_type": "code",
   "execution_count": 2,
   "metadata": {},
   "outputs": [],
   "source": [
    "# creating path\n",
    "\n",
    "path = 'SavedModels/BIN-MNIST/' # 'SavedModels/MAZE/' 'SavedModels/MNIST/'\n",
    "date = '2023-12-17' # 2\n",
    "config_name = 'config_001_unet3M.yaml' # config_001_hollowMLEProb.yaml\n",
    "model_name = 'model_199999_unet3M.pt' \n",
    "\n",
    "path = 'SavedModels/MAZEprotein/'\n",
    "date = \"2023-12-23\"\n",
    "config_name = \"config_001_score.yaml\"\n",
    "model_name = \"model_199999_score.pt\"\n",
    "\n",
    "path = 'SavedModels/MAZEunet/' # 'SavedModels/MAZE/' 'SavedModels/MNIST/'\n",
    "date = '2023-12-23' # 2\n",
    "config_name = 'config_001.yaml' # config_001_hollowMLEProb.yaml\n",
    "model_name = 'model_9999.pt' #  model_299999_hollowMLEProb.pt\n",
    "\n",
    "\n",
    "path = \"SavedModels/SyntheticBert/\"\n",
    "date = '2023-12-28' # 2\n",
    "config_name = 'config_001_bert500K.yaml' # config_001_hollowMLEProb.yaml\n",
    "model_name = 'model_599999_bert500K.pt'\n",
    "\n",
    "path = 'SavedModels/MAZE/' # 'SavedModels/MAZE/' 'SavedModels/MNIST/'\n",
    "date = '2023-12-28' # 2\n",
    "config_name = 'config_001_hollowelbo.yaml' # config_001_hollowMLEProb.yaml\n",
    "model_name = 'model_259999_hollowelbo.pt' \n",
    "\n",
    "\n",
    "path = 'SavedModels/MNISTHollow/' # 'SavedModels/MAZE/' 'SavedModels/MNIST/'\n",
    "date = '2024-01-03' # 2\n",
    "config_name = 'config_001_hollow.yaml' # config_001_hollowMLEProb.yaml\n",
    "model_name = 'model_539999_hollow.pt'\n",
    "\n",
    "\n",
    "\n",
    "path = 'SavedModels/MNISTHollow/' # 'SavedModels/MAZE/' 'SavedModels/MNIST/'\n",
    "date = '2024-01-03' # 2\n",
    "config_name = 'config_001_hollow.yaml' # config_001_hollowMLEProb.yaml\n",
    "model_name = 'model_539999_hollow.pt'\n",
    "\n",
    "path = 'SavedModels/MNIST/' # 'SavedModels/MAZE/' 'SavedModels/MNIST/'\n",
    "date = '2023-12-25' # 2\n",
    "config_name = 'config_001_unet14Mlogits.yaml' # config_001_hollowMLEProb.yaml\n",
    "model_name = 'model_599999_unet14Mlogits.pt'\n",
    "\n",
    "\n",
    "\n",
    "path = 'SavedModels/MNIST/' # 'SavedModels/MAZE/' 'SavedModels/MNIST/'\n",
    "date = '2023-12-25' # 2\n",
    "config_name = 'config_001_unet14Mlogits.yaml' # config_001_hollowMLEProb.yaml\n",
    "model_name = 'model_599999_unet14Mlogits.pt'\n",
    "\n",
    "path = 'SavedModels/MAZEunet/' # 'SavedModels/MAZE/' 'SavedModels/MNIST/'\n",
    "date = '2023-12-30' # 2\n",
    "config_name = 'config_001_lastunet.yaml' # config_001_hollowMLEProb.yaml\n",
    "model_name = 'model_399999_lastunet.pt'\n",
    "\n",
    "path = 'SavedModels/MNISTHollow/' # 'SavedModels/MAZE/' 'SavedModels/MNIST/'\n",
    "date = '2024-01-03' # 2\n",
    "config_name = 'config_001_hollow.yaml' # config_001_hollowMLEProb.yaml\n",
    "model_name = 'model_539999_hollow.pt'\n",
    "\n",
    "path = 'SavedModels/MAZE/' # 'SavedModels/MAZE/' 'SavedModels/MNIST/'\n",
    "date = '2023-12-22' # 2\n",
    "config_name = 'config_001_hollow8M.yaml' # config_001_hollowMLEProb.yaml\n",
    "model_name = 'model_299999_hollow8M.pt' \n",
    "\n",
    "config_path = os.path.join(path, date, config_name)\n",
    "checkpoint_path = os.path.join(path, date, model_name)\n",
    "\n"
   ]
  },
  {
   "cell_type": "code",
   "execution_count": 3,
   "metadata": {},
   "outputs": [
    {
     "name": "stdout",
     "output_type": "stream",
     "text": [
      "cuda\n",
      "number of parameters:  7808643\n",
      "ema state dict function\n"
     ]
    }
   ],
   "source": [
    "# creating models\n",
    "cfg = bookkeeping.load_config(config_path)\n",
    "cfg.sampler.name = 'CRMLBJF' #ExactSampling' # ElboLBJF CRMTauL CRMLBJF\n",
    "cfg.sampler.num_corrector_steps = 0\n",
    "cfg.sampler.corrector_entry_time = ScalarFloat(0.0)\n",
    "cfg.sampler.num_steps = 500\n",
    "cfg.sampler.is_ordinal = True\n",
    "\n",
    "#print(cfg)\n",
    "device = torch.device(cfg.device)\n",
    "print(device)\n",
    "\n",
    "model = model_utils.create_model(cfg, device)\n",
    "print(\"number of parameters: \", sum([p.numel() for p in model.parameters()]))\n",
    "\n",
    "#modified_model_state = utils.remove_module_from_keys(loaded_state['model'])\n",
    "#model.load_state_dict(modified_model_state)\n",
    "#optimizer = optimizers_utils.get_optimizer(model.parameters(), cfg)\n",
    "optimizer = torch.optim.Adam(model.parameters(), cfg.optimizer.lr)\n",
    "\n",
    "sampler = sampling_utils.get_sampler(cfg)\n",
    "\n",
    "state = {\"model\": model, \"optimizer\": optimizer, \"n_iter\": 0}\n",
    "state = bookkeeping.load_state(state, checkpoint_path)\n",
    "state['model'].eval()\n",
    "\n",
    "# Maze:\n",
    "# 80% TauL\n",
    "# 84% LBJF\n",
    "# 96%"
   ]
  },
  {
   "cell_type": "code",
   "execution_count": 7,
   "metadata": {},
   "outputs": [
    {
     "name": "stderr",
     "output_type": "stream",
     "text": [
      "500it [00:17, 28.44it/s]\n"
     ]
    }
   ],
   "source": [
    "n_samples = 49\n",
    "samples, changes = sampler.sample(model, n_samples)\n",
    "saved_samples = samples"
   ]
  },
  {
   "cell_type": "code",
   "execution_count": 8,
   "metadata": {},
   "outputs": [
    {
     "data": {
      "image/png": "[encoded data removed]",
      "text/plain": [
       "<Figure size 900x900 with 49 Axes>"
      ]
     },
     "metadata": {},
     "output_type": "display_data"
    }
   ],
   "source": [
    "is_img = cfg.data.is_img\n",
    "\n",
    "if is_img:\n",
    "    samples = samples.reshape(n_samples, 1, cfg.data.image_size, cfg.data.image_size)\n",
    "    saving_train_path = os.path.join(cfg.saving.sample_plot_path, f\"{cfg.model.name}{state['n_iter']}_{cfg.sampler.name}{cfg.sampler.num_steps}.png\")\n",
    "    fig = plt.figure(figsize=(9, 9)) \n",
    "    for i in range(n_samples):\n",
    "        plt.subplot(int(np.sqrt(n_samples)), int(np.sqrt(n_samples)), 1 + i)\n",
    "        plt.axis(\"off\")\n",
    "        plt.imshow(np.transpose(samples[i, ...], (1,2,0)), cmap=\"gray\")\n",
    " \n",
    " \n",
    "    plt.savefig(saving_train_path)\n",
    "    plt.show()\n",
    "    plt.close()\n",
    "else:\n",
    "    bm, inv_bm = synthetic.get_binmap(cfg.model.concat_dim, cfg.data.binmode)\n",
    "    print(inv_bm)\n",
    "    samples = synthetic.bin2float(samples.astype(np.int32), inv_bm, cfg.model.concat_dim, cfg.data.int_scale)\n",
    "\n",
    " \n",
    "    saving_plot_path = os.path.join(path, f\"{cfg.model.name}{state['n_iter']}_{cfg.sampler.name}{cfg.sampler.num_steps}.png\")\n",
    "    saving_np_path = os.path.join(path, f\"samples_{cfg.model.name}{state['n_iter']}_{cfg.sampler.name}{cfg.sampler.num_steps}.npy\")\n",
    "    np.save(f'{saving_np_path}', samples)\n",
    "\n",
    "    #aving_plot_path = '/Users/paulheller/PythonRepositories/Master-Thesis/ContTimeDiscreteSpace/TAUnSDDM/SavedModels/MNIST/'\n",
    "    synthetic.plot_samples(samples, saving_plot_path, im_size=cfg.data.plot_size, im_fmt=\"png\")"
   ]
  },
  {
   "cell_type": "code",
   "execution_count": 10,
   "metadata": {},
   "outputs": [],
   "source": [
    "s3 = saved_samples[3, :]\n",
    "s8 = saved_samples[8, :]\n",
    "s10 = saved_samples[15, :]\n",
    "s11 = saved_samples[39, :]"
   ]
  },
  {
   "cell_type": "code",
   "execution_count": 13,
   "metadata": {},
   "outputs": [
    {
     "name": "stdout",
     "output_type": "stream",
     "text": [
      "(4, 1, 15, 15)\n"
     ]
    }
   ],
   "source": [
    "stacked_samples = np.vstack((s3, s8, s10, s11)).reshape(-1, 1, 15, 15)\n",
    "print(stacked_samples.shape)"
   ]
  },
  {
   "cell_type": "code",
   "execution_count": 18,
   "metadata": {},
   "outputs": [
    {
     "data": {
      "image/png": "[encoded data removed]",
      "text/plain": [
       "<Figure size 1200x300 with 4 Axes>"
      ]
     },
     "metadata": {},
     "output_type": "display_data"
    }
   ],
   "source": [
    "n_samples = 4\n",
    "saving_train_path = os.path.join(cfg.saving.sample_plot_path, f\"{cfg.model.name}{state['n_iter']}_{cfg.sampler.name}{cfg.sampler.num_steps}.png\")\n",
    "fig = plt.figure(figsize=(12, 3))  # Adjust the figure size as needed\n",
    "for i in range(n_samples):\n",
    "    plt.subplot(1, n_samples, 1+i)\n",
    "    plt.axis(\"off\")\n",
    "    plt.imshow(np.transpose(stacked_samples[i, ...], (1, 2, 0)), cmap=\"gray\")\n",
    "\n",
    "plt.savefig('simple_mazes.png', bbox_inches='tight', transparent=True)  # Use bbox_inches to remove extra white space\n",
    "plt.show()\n",
    "plt.close()"
   ]
  },
  {
   "cell_type": "code",
   "execution_count": null,
   "metadata": {},
   "outputs": [],
   "source": [
    "#np.save('lib/is_mnist/data/mnist_hollow_100exact1000.npy', saved_samples)"
   ]
  },
  {
   "cell_type": "code",
   "execution_count": null,
   "metadata": {},
   "outputs": [],
   "source": [
    "#np.save('SavedModels/MNIST/mnist_2704LBJF1000_200.npy', saved_samples[0:200])"
   ]
  }
 ],
 "metadata": {
  "kernelspec": {
   "display_name": "diffvenv",
   "language": "python",
   "name": "python3"
  },
  "language_info": {
   "codemirror_mode": {
    "name": "ipython",
    "version": 3
   },
   "file_extension": ".py",
   "mimetype": "text/x-python",
   "name": "python",
   "nbconvert_exporter": "python",
   "pygments_lexer": "ipython3",
   "version": "3.11.5"
  },
  "orig_nbformat": 4
 },
 "nbformat": 4,
 "nbformat_minor": 2
}
