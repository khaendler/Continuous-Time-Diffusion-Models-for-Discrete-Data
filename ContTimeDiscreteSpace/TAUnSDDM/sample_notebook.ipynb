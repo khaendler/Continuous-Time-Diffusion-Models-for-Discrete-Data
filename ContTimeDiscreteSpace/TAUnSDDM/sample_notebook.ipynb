{
 "cells": [
  {
   "cell_type": "code",
   "execution_count": null,
   "metadata": {},
   "outputs": [],
   "source": [
    "import torch\n",
    "import lib.utils.bookkeeping as bookkeeping\n",
    "from pathlib import Path\n",
    "import numpy as np\n",
    "import matplotlib.pyplot as plt\n",
    "import lib.models.models as models\n",
    "import lib.models.model_utils as model_utils\n",
    "from lib.datasets import mnist, maze, protein, synthetic\n",
    "import lib.datasets.dataset_utils as dataset_utils\n",
    "import lib.losses.losses as losses\n",
    "import lib.losses.losses_utils as losses_utils\n",
    "import lib.training.training as training\n",
    "import lib.training.training_utils as training_utils\n",
    "import lib.optimizers.optimizers as optimizers\n",
    "import lib.optimizers.optimizers_utils as optimizers_utils\n",
    "import lib.sampling.sampling as sampling\n",
    "import lib.sampling.sampling_utils as sampling_utils\n",
    "import os\n",
    "from ruamel.yaml.scalarfloat import ScalarFloat"
   ]
  },
  {
   "cell_type": "code",
   "execution_count": null,
   "metadata": {},
   "outputs": [],
   "source": [
    "# creating paths\n",
    "path = 'SavedModels/MAZE/' # 'SavedModels/MAZE/' 'SavedModels/MNIST/'\n",
    "date = '2023-11-19' # 2023-10-30 'Hollow-2023-10-29'\n",
    "config_name = 'config_001_ebert_logsqr.yaml' # 'config_001_maze.yaml' 'config_001_rate001.yaml'\n",
    "model_name = 'model_152999_ebert_logsqr.pt' # 'model_55999_rate001.pt' 'model_5999_maze.pt'\n",
    "\n",
    "#config_name = 'config_001_r07.yaml' \n",
    "#model_name = 'model_84999_hollowr07.pt' \n",
    "config_path = os.path.join(path, date, config_name)\n",
    "checkpoint_path = os.path.join(path, date, model_name)"
   ]
  },
  {
   "cell_type": "code",
   "execution_count": null,
   "metadata": {},
   "outputs": [],
   "source": [
    "# creating models\n",
    "cfg = bookkeeping.load_config(config_path)\n",
    "cfg.sampler.name = 'ElboLBJF' #'ExactSampling' # ElboLBJF CRMTauL CRMLBJF\n",
    "cfg.logit_type = 'direct'\n",
    "cfg.sampler.num_corrector_steps = 10\n",
    "cfg.sampler.corrector_entry_time = ScalarFloat(0.1)\n",
    "cfg.sampler.num_steps = 750\n",
    "cfg.sampler.is_ordinal = True\n",
    "\n",
    "#print(cfg)\n",
    "device = torch.device(cfg.device)\n",
    "\n",
    "model = model_utils.create_model(cfg, device)\n",
    "print(\"number of parameters: \", sum([p.numel() for p in model.parameters()]))\n",
    "\n",
    "#modified_model_state = utils.remove_module_from_keys(loaded_state['model'])\n",
    "#model.load_state_dict(modified_model_state)\n",
    "#optimizer = optimizers_utils.get_optimizer(model.parameters(), cfg)\n",
    "optimizer = torch.optim.Adam(model.parameters(), cfg.optimizer.lr)\n",
    "\n",
    "sampler = sampling_utils.get_sampler(cfg)\n",
    "\n",
    "state = {\"model\": model, \"optimizer\": optimizer, \"n_iter\": 0}\n",
    "state = bookkeeping.load_state(state, checkpoint_path)\n",
    "state['model'].eval()"
   ]
  },
  {
   "cell_type": "code",
   "execution_count": null,
   "metadata": {},
   "outputs": [],
   "source": [
    "n_samples = 100\n",
    "samples = sampler.sample(model, n_samples)\n",
    "saved_samples = samples"
   ]
  },
  {
   "cell_type": "code",
   "execution_count": null,
   "metadata": {},
   "outputs": [],
   "source": [
    "is_img = cfg.data.is_img\n",
    "\n",
    "if is_img:\n",
    "    samples = samples.reshape(n_samples, 1, cfg.data.image_size, cfg.data.image_size)\n",
    "    saving_train_path = os.path.join(cfg.saving.sample_plot_path, f\"{cfg.model.name}{state['n_iter']}_{cfg.sampler.name}{cfg.sampler.num_steps}.png\")\n",
    "    fig = plt.figure(figsize=(9, 9)) \n",
    "    for i in range(n_samples):\n",
    "        plt.subplot(int(np.sqrt(n_samples)), int(np.sqrt(n_samples)), 1 + i)\n",
    "        plt.axis(\"off\")\n",
    "        plt.imshow(np.transpose(samples[i, ...], (1,2,0)), cmap=\"gray\")\n",
    " \n",
    " \n",
    "    plt.savefig(saving_train_path)\n",
    "    plt.show()\n",
    "    plt.close()\n",
    "else:\n",
    "    bm, inv_bm = synthetic.get_binmap(cfg.model.concat_dim, cfg.data.binmode)\n",
    "    print(inv_bm)\n",
    "    samples = synthetic.bin2float(samples.astype(np.int32), inv_bm, cfg.model.concat_dim, cfg.data.int_scale)\n",
    " \n",
    "    saving_plot_path = os.path.join(cfg.saving.sample_plot_path, f\"{cfg.model.name}{state['n_iter']}_{cfg.sampler.name}{cfg.sampler.num_steps}.png\")\n",
    "    #aving_plot_path = '/Users/paulheller/PythonRepositories/Master-Thesis/ContTimeDiscreteSpace/TAUnSDDM/SavedModels/MNIST/'\n",
    "    synthetic.plot_samples(samples, saving_plot_path, im_size=cfg.data.plot_size, im_fmt=\"png\")"
   ]
  }
 ],
 "metadata": {
  "kernelspec": {
   "display_name": "diffvenv",
   "language": "python",
   "name": "python3"
  },
  "language_info": {
   "codemirror_mode": {
    "name": "ipython",
    "version": 3
   },
   "file_extension": ".py",
   "mimetype": "text/x-python",
   "name": "python",
   "nbconvert_exporter": "python",
   "pygments_lexer": "ipython3",
   "version": "3.11.5"
  },
  "orig_nbformat": 4
 },
 "nbformat": 4,
 "nbformat_minor": 2
}
