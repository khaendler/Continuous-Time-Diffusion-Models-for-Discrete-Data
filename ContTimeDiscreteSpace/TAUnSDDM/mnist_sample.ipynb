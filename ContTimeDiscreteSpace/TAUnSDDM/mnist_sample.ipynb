{
 "cells": [
  {
   "cell_type": "code",
   "execution_count": null,
   "metadata": {},
   "outputs": [],
   "source": [
    "import torch\n",
    "import lib.utils.bookkeeping as bookkeeping\n",
    "from pathlib import Path\n",
    "import numpy as np\n",
    "import matplotlib.pyplot as plt\n",
    "\n",
    "import lib.models.models as models\n",
    "import lib.models.model_utils as model_utils\n",
    "import lib.datasets.datasets as datasets\n",
    "import lib.datasets.dataset_utils as dataset_utils\n",
    "import lib.losses.losses as losses\n",
    "import lib.losses.losses_utils as losses_utils\n",
    "import lib.training.training as training\n",
    "import lib.training.training_utils as training_utils\n",
    "import lib.optimizers.optimizers as optimizers\n",
    "import lib.optimizers.optimizers_utils as optimizers_utils\n",
    "import lib.loggers.loggers as loggers\n",
    "import lib.loggers.logger_utils as logger_utils\n",
    "import lib.sampling.sampling as sampling\n",
    "import lib.sampling.sampling_utils as sampling_utils\n",
    "import os\n",
    "from lib.datasets.datasets import create_train_discrete_mnist_dataloader"
   ]
  },
  {
   "cell_type": "code",
   "execution_count": null,
   "metadata": {},
   "outputs": [],
   "source": [
    "# creating paths\n",
    "path = 'SavedModels/MNIST/'\n",
    "date = '2023-10-14'\n",
    "config_name = 'config_001.yaml'\n",
    "model_name = 'model_999.pt' #ckpt_0000004999.pt'\n",
    "\n",
    "config_path = os.path.join(path, date, config_name)\n",
    "checkpoint_path = os.path.join(path, date, model_name)"
   ]
  },
  {
   "cell_type": "code",
   "execution_count": null,
   "metadata": {},
   "outputs": [],
   "source": [
    "# creating models\n",
    "cfg = bookkeeping.load_config(config_path)\n",
    "print(cfg)\n",
    "\n",
    "device = torch.device(cfg.device)\n",
    "\n",
    "model = model_utils.create_model(cfg, device)\n",
    "print(\"number of parameters: \", sum([p.numel() for p in model.parameters()]))\n",
    "\n",
    "#optimizer = optimizers_utils.get_optimizer(model.parameters(), cfg)\n",
    "optimizer = torch.optim.Adam(model.parameters(), cfg.optimizer.lr)\n",
    "\n",
    "sampler = sampling_utils.get_sampler(cfg)\n",
    "\n",
    "state = {\"model\": model, \"optimizer\": optimizer, \"n_iter\": 0}\n",
    "state = bookkeeping.load_state(state, checkpoint_path)\n",
    "state['model'].eval()"
   ]
  },
  {
   "cell_type": "code",
   "execution_count": null,
   "metadata": {},
   "outputs": [],
   "source": [
    "n_samples = 9\n",
    "samples = sampler.sample(model, n_samples, 10)\n",
    "samples = samples.reshape(n_samples, 1, cfg.data.image_size, cfg.data.image_size)"
   ]
  },
  {
   "cell_type": "code",
   "execution_count": null,
   "metadata": {},
   "outputs": [],
   "source": [
    "saving_train_path = os.path.join(cfg.saving.sample_plot_path, f\"eval_samples_hollow_{state['n_iter']}.png\")\n",
    "fig = plt.figure(figsize=(9, 9))  \n",
    "for i in range(n_samples):\n",
    "    plt.subplot(int(np.sqrt(n_samples)), int(np.sqrt(n_samples)), 1 + i)\n",
    "    plt.axis(\"off\")\n",
    "    plt.imshow(np.transpose(samples[i, ...], (1,2,0)), cmap=\"gray\")\n",
    "\n",
    "\n",
    "plt.savefig(saving_train_path)\n",
    "plt.show()\n",
    "plt.close()"
   ]
  }
 ],
 "metadata": {
  "kernelspec": {
   "display_name": "diffvenv",
   "language": "python",
   "name": "python3"
  },
  "language_info": {
   "codemirror_mode": {
    "name": "ipython",
    "version": 3
   },
   "file_extension": ".py",
   "mimetype": "text/x-python",
   "name": "python",
   "nbconvert_exporter": "python",
   "pygments_lexer": "ipython3",
   "version": "3.10.4"
  },
  "orig_nbformat": 4
 },
 "nbformat": 4,
 "nbformat_minor": 2
}
