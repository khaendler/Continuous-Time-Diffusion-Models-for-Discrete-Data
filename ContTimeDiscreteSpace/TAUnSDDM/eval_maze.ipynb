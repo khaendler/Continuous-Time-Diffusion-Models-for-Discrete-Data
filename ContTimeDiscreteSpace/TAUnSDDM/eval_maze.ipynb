{
 "cells": [
  {
   "cell_type": "code",
   "execution_count": 1,
   "metadata": {},
   "outputs": [],
   "source": [
    "import torch\n",
    "import lib.utils.bookkeeping as bookkeeping\n",
    "from torch.utils.data import DataLoader\n",
    "from pathlib import Path\n",
    "import numpy as np\n",
    "import matplotlib.pyplot as plt\n",
    "import lib.models.models as models\n",
    "import lib.models.model_utils as model_utils\n",
    "from lib.datasets import mnist, maze, protein, synthetic\n",
    "import lib.datasets.dataset_utils as dataset_utils\n",
    "import lib.losses.losses as losses\n",
    "import lib.losses.losses_utils as losses_utils\n",
    "import lib.training.training as training\n",
    "import lib.training.training_utils as training_utils\n",
    "import lib.optimizers.optimizers as optimizers\n",
    "import lib.optimizers.optimizers_utils as optimizers_utils\n",
    "import lib.sampling.sampling as sampling\n",
    "import lib.sampling.sampling_utils as sampling_utils\n",
    "import os\n",
    "from lib.datasets.maze import maze_acc\n",
    "from ruamel.yaml.scalarfloat import ScalarFloat\n",
    "def count_turns(labyrinth):\n",
    "    directions = [(0, 1), (1, 0), (0, -1), (-1, 0)]  # Rechts, Unten, Links, Oben\n",
    "    num_turns = 0\n",
    "\n",
    "    for i in range(1, labyrinth.shape[0] - 1):\n",
    "        for j in range(1, labyrinth.shape[1] - 1):\n",
    "            if labyrinth[i, j] == 1:\n",
    "                valid_neighbors = 0\n",
    "                for dx, dy in directions:\n",
    "                    ni, nj = i + dx, j + dy\n",
    "                    if labyrinth[ni, nj] == 1:\n",
    "                        valid_neighbors += 1\n",
    "                if valid_neighbors == 2:  # Zwei gültige Nachbarn bedeuten eine Richtungsänderung\n",
    "                    num_turns += 1\n",
    "\n",
    "    return num_turns"
   ]
  },
  {
   "cell_type": "code",
   "execution_count": 2,
   "metadata": {},
   "outputs": [],
   "source": [
    "\n",
    "\n",
    "path = 'SavedModels/MAZEunet/' # 'SavedModels/MAZE/' 'SavedModels/MNIST/'\n",
    "date = '2023-12-30' # 2\n",
    "config_name = 'config_001_lastunet.yaml' # config_001_hollowMLEProb.yaml\n",
    "model_name = 'model_399999_lastunet.pt' \n",
    "\n",
    "\n",
    "\n",
    "path = 'SavedModels/MAZE/' # 'SavedModels/MAZE/' 'SavedModels/MNIST/'\n",
    "date = '2023-12-30' # 2\n",
    "config_name = 'config_001_bert.yaml' # config_001_hollowMLEProb.yaml\n",
    "model_name = 'model_229999_bert.pt' \n",
    "path = 'SavedModels/MAZE/' # 'SavedModels/MAZE/' 'SavedModels/MNIST/'\n",
    "date = '2023-12-22' # 2\n",
    "config_name = 'config_001_hollow8M.yaml' # config_001_hollowMLEProb.yaml\n",
    "model_name = 'model_299999_hollow8M.pt' \n",
    "\n",
    "config_path = os.path.join(path, date, config_name)\n",
    "checkpoint_path = os.path.join(path, date, model_name)"
   ]
  },
  {
   "cell_type": "code",
   "execution_count": 3,
   "metadata": {},
   "outputs": [
    {
     "name": "stdout",
     "output_type": "stream",
     "text": [
      "number of parameters:  7808643\n",
      "ema state dict function\n"
     ]
    }
   ],
   "source": [
    "# creating models\n",
    "cfg = bookkeeping.load_config(config_path)\n",
    "cfg.sampler.name = 'MidPointTauL' #ExactSampling' # ElboLBJF CRMTauL CRMLBJF\n",
    "cfg.sampler.num_corrector_steps = 0\n",
    "cfg.sampler.corrector_entry_time = ScalarFloat(0.0)\n",
    "cfg.sampler.num_steps = 10\n",
    "cfg.sampler.is_ordinal = False\n",
    "#print(cfg)\n",
    "device = torch.device(cfg.device)\n",
    "\n",
    "model = model_utils.create_model(cfg, device)\n",
    "print(\"number of parameters: \", sum([p.numel() for p in model.parameters()]))\n",
    "\n",
    "#modified_model_state = utils.remove_module_from_keys(loaded_state['model'])\n",
    "#model.load_state_dict(modified_model_state)\n",
    "#optimizer = optimizers_utils.get_optimizer(model.parameters(), cfg)\n",
    "optimizer = torch.optim.Adam(model.parameters(), cfg.optimizer.lr)\n",
    "\n",
    "sampler = sampling_utils.get_sampler(cfg)\n",
    "\n",
    "state = {\"model\": model, \"optimizer\": optimizer, \"n_iter\": 0}\n",
    "state = bookkeeping.load_state(state, checkpoint_path)\n",
    "state['model'].eval()\n"
   ]
  },
  {
   "cell_type": "code",
   "execution_count": 4,
   "metadata": {},
   "outputs": [
    {
     "name": "stderr",
     "output_type": "stream",
     "text": [
      "/home/pheller/my_python_env/lib/python3.11/site-packages/torch/nn/modules/activation.py:1160: UserWarning: Converting mask without torch.bool dtype to bool; this will negatively affect performance. Prefer to use a boolean mask directly. (Triggered internally at ../aten/src/ATen/native/transformers/attention.cpp:150.)\n",
      "  return torch._native_multi_head_attention(\n"
     ]
    },
    {
     "name": "stdout",
     "output_type": "stream",
     "text": [
      "tensor(False, device='cuda:0')\n",
      "tensor(False, device='cuda:0')\n",
      "tensor(True, device='cuda:0')\n",
      "tensor(True, device='cuda:0')\n",
      "tensor(True, device='cuda:0')\n",
      "tensor(True, device='cuda:0')\n",
      "tensor(False, device='cuda:0')\n",
      "tensor(False, device='cuda:0')\n",
      "tensor(False, device='cuda:0')\n",
      "tensor(False, device='cuda:0')\n",
      "[]\n",
      "nan\n"
     ]
    },
    {
     "name": "stderr",
     "output_type": "stream",
     "text": [
      "/home/pheller/my_python_env/lib/python3.11/site-packages/numpy/core/fromnumeric.py:3464: RuntimeWarning: Mean of empty slice.\n",
      "  return _methods._mean(a, axis=axis, dtype=dtype,\n",
      "/home/pheller/my_python_env/lib/python3.11/site-packages/numpy/core/_methods.py:192: RuntimeWarning: invalid value encountered in scalar divide\n",
      "  ret = ret.dtype.type(ret / rcount)\n"
     ]
    }
   ],
   "source": [
    "n_samples = 1024 #cfg.data.batch_size \n",
    "samples, changes = sampler.sample(model, n_samples)\n",
    "print(changes)\n",
    "print(np.mean(changes))\n",
    "saved_samples = samples"
   ]
  },
  {
   "cell_type": "code",
   "execution_count": 5,
   "metadata": {},
   "outputs": [
    {
     "name": "stdout",
     "output_type": "stream",
     "text": [
      "nan\n"
     ]
    }
   ],
   "source": [
    "print(np.mean(changes[1:]))"
   ]
  },
  {
   "cell_type": "code",
   "execution_count": 6,
   "metadata": {},
   "outputs": [
    {
     "name": "stdout",
     "output_type": "stream",
     "text": [
      "Accuracy: From 1024 are 0.0% solvable.\n",
      "Average path length: nan and prob nan%\n",
      "Average wall length: nan and prob nan%\n",
      "Average way length: nan and prob nan%\n"
     ]
    },
    {
     "ename": "ValueError",
     "evalue": "need at least one array to stack",
     "output_type": "error",
     "traceback": [
      "\u001b[0;31m---------------------------------------------------------------------------\u001b[0m",
      "\u001b[0;31mValueError\u001b[0m                                Traceback (most recent call last)",
      "\u001b[1;32m/home/pheller/Remote-Thesis/ContTimeDiscreteSpace/TAUnSDDM/eval_maze.ipynb Cell 6\u001b[0m line \u001b[0;36m1\n\u001b[0;32m----> <a href='vscode-notebook-cell://ssh-remote%2Blise/home/pheller/Remote-Thesis/ContTimeDiscreteSpace/TAUnSDDM/eval_maze.ipynb#W6sdnNjb2RlLXJlbW90ZQ%3D%3D?line=0'>1</a>\u001b[0m correct_mazes \u001b[39m=\u001b[39m maze_acc(saved_samples)\n",
      "File \u001b[0;32m~/Remote-Thesis/ContTimeDiscreteSpace/TAUnSDDM/lib/datasets/maze.py:898\u001b[0m, in \u001b[0;36mmaze_acc\u001b[0;34m(samples)\u001b[0m\n\u001b[1;32m    895\u001b[0m \u001b[39mprint\u001b[39m(\u001b[39mf\u001b[39m\u001b[39m\"\u001b[39m\u001b[39mAverage wall length: \u001b[39m\u001b[39m{\u001b[39;00mnp\u001b[39m.\u001b[39mmean(wall_len)\u001b[39m}\u001b[39;00m\u001b[39m and prob \u001b[39m\u001b[39m{\u001b[39;00mnp\u001b[39m.\u001b[39mmean(wall_len)\u001b[39m \u001b[39m\u001b[39m*\u001b[39m\u001b[39m \u001b[39m\u001b[39m100\u001b[39m\u001b[39m/\u001b[39m\u001b[39m \u001b[39m\u001b[39m225\u001b[39m\u001b[39m}\u001b[39;00m\u001b[39m%\u001b[39m\u001b[39m\"\u001b[39m)\n\u001b[1;32m    896\u001b[0m \u001b[39mprint\u001b[39m(\u001b[39mf\u001b[39m\u001b[39m\"\u001b[39m\u001b[39mAverage way length: \u001b[39m\u001b[39m{\u001b[39;00mnp\u001b[39m.\u001b[39mmean(way_len)\u001b[39m}\u001b[39;00m\u001b[39m and prob \u001b[39m\u001b[39m{\u001b[39;00mnp\u001b[39m.\u001b[39mmean(way_len)\u001b[39m \u001b[39m\u001b[39m*\u001b[39m\u001b[39m \u001b[39m\u001b[39m100\u001b[39m\u001b[39m/\u001b[39m\u001b[39m \u001b[39m\u001b[39m225\u001b[39m\u001b[39m}\u001b[39;00m\u001b[39m%\u001b[39m\u001b[39m\"\u001b[39m)\n\u001b[0;32m--> 898\u001b[0m \u001b[39mreturn\u001b[39;00m np\u001b[39m.\u001b[39;49mstack(mazes_stack, \u001b[39m0\u001b[39;49m)\n",
      "File \u001b[0;32m<__array_function__ internals>:200\u001b[0m, in \u001b[0;36mstack\u001b[0;34m(*args, **kwargs)\u001b[0m\n",
      "File \u001b[0;32m~/my_python_env/lib/python3.11/site-packages/numpy/core/shape_base.py:460\u001b[0m, in \u001b[0;36mstack\u001b[0;34m(arrays, axis, out, dtype, casting)\u001b[0m\n\u001b[1;32m    458\u001b[0m arrays \u001b[39m=\u001b[39m [asanyarray(arr) \u001b[39mfor\u001b[39;00m arr \u001b[39min\u001b[39;00m arrays]\n\u001b[1;32m    459\u001b[0m \u001b[39mif\u001b[39;00m \u001b[39mnot\u001b[39;00m arrays:\n\u001b[0;32m--> 460\u001b[0m     \u001b[39mraise\u001b[39;00m \u001b[39mValueError\u001b[39;00m(\u001b[39m'\u001b[39m\u001b[39mneed at least one array to stack\u001b[39m\u001b[39m'\u001b[39m)\n\u001b[1;32m    462\u001b[0m shapes \u001b[39m=\u001b[39m {arr\u001b[39m.\u001b[39mshape \u001b[39mfor\u001b[39;00m arr \u001b[39min\u001b[39;00m arrays}\n\u001b[1;32m    463\u001b[0m \u001b[39mif\u001b[39;00m \u001b[39mlen\u001b[39m(shapes) \u001b[39m!=\u001b[39m \u001b[39m1\u001b[39m:\n",
      "\u001b[0;31mValueError\u001b[0m: need at least one array to stack"
     ]
    }
   ],
   "source": [
    "correct_mazes = maze_acc(saved_samples)"
   ]
  },
  {
   "cell_type": "code",
   "execution_count": null,
   "metadata": {},
   "outputs": [],
   "source": [
    "cfg.data.name = 'Maze3SComplete'\n",
    "cfg.data.batch_size = n_samples\n",
    "\n",
    "if cfg.data.name == 'Maze3SComplete':\n",
    "    limit = cfg.data.batch_size\n",
    "    cfg.data.limit = limit \n",
    "\n",
    "dataset = dataset_utils.get_dataset(cfg, device)\n",
    "dataloader = torch.utils.data.DataLoader(dataset,\n",
    "    batch_size=cfg.data.batch_size,\n",
    "    shuffle=cfg.data.shuffle)\n",
    "\n",
    "for i in dataloader:\n",
    "    true_dl = i\n",
    "    c_i = maze_acc(i.cpu().numpy())\n",
    "    true_dl = true_dl.reshape(cfg.data.batch_size, -1).flatten()"
   ]
  },
  {
   "cell_type": "code",
   "execution_count": null,
   "metadata": {},
   "outputs": [],
   "source": [
    "samples = samples.reshape(cfg.data.batch_size, -1).flatten()\n",
    "from scipy.stats import wasserstein_distance\n",
    "print(\"EMD\", wasserstein_distance(samples, true_dl.cpu().numpy()))\n",
    "# LBJF: 0.0168, 0.024355\n",
    "# MPSampler\n",
    "\n",
    "# Hollow ELbo implicit: TauL: 60 EMD 0.01805 0.0055 LBJF: 62 0.00545 Exact: 67% 0.0098 0.00515 2.5min\n",
    "# ScoreNet: LBJF 50% 0.0152 TauL: 40% 0.0098 0sek => 3 times longer \n",
    "# Unet: LBJF: 44% 0.00562 TauL: 30% 0.009856 MidPointS: 72%\n",
    "\n",
    "# Hollow Implicit: LBJF 0.0063, 0.00266 88% TauL: 78% 0.009086 0.00335 Exact: 80% 0.00888 82% 0.000926\n",
    "# LBJF 10 corrector steps: 93% 0.001: TauL: 88% 0.00148\n",
    "\n",
    "# TauL: 81%  0.0012839506172838133\n",
    "\n",
    "# Hollow CRM: LBJF: 10: 60% 0.006 20: 75% 0.01058 30: 82% 0.001606 50:: 84% 0.0163 + 0.00415 100:84 0.00311 250: 82% 0.0035 500: 85% 0.00400\n",
    "#             TauL: 10: 20: 75% 0.021 30: 50: 80% 0.00383 100: 85% 0.0051 250: 84% 0.018 500: 84% 0.001659\n",
    "# 10: 1% 20: 1% 0.0135 30: 11% 0.00567, 50: 40% 0.00567, 100: 67% 0.00438 250: 78% 0.0035111\n",
    "# Analytical: 10: 55 0.0276 20: 75% 30: 78% 0.003 0.008 50: 82%  0.006 100: 82% 0.006 250: 83% 0.00105 500: 85% 0.005\n",
    "\n",
    "# TauL: without rejecting: 10:\n",
    "\n",
    "# MPTauL: \n",
    "# 3%, 0.123"
   ]
  },
  {
   "cell_type": "code",
   "execution_count": null,
   "metadata": {},
   "outputs": [],
   "source": [
    "steps = np.array([10, 20, 30, 50, 100, 250, 500] )\n",
    "acc_lbjf = np.array([60, 75, 80, 82, 84, 85, 88] ) / 100\n",
    "acc_anal = np.array([55, 75, 78, 82, 82, 83, 85]) / 100\n",
    "acc_taul = np.array([0, 1, 11, 35, 67, 78, 80]) / 100\n",
    "rej_rate = np.array([0.1662, 0.0732, 0.0434, 0.0243, 0.0115, 0.003, 0.00084])\n",
    "#20: 0.07 30: 50: 0.0434, 0.024, 0.0"
   ]
  },
  {
   "cell_type": "code",
   "execution_count": null,
   "metadata": {},
   "outputs": [],
   "source": [
    "plt.plot(steps, acc_lbjf, label='Euler', marker='o') # 'o' für Kreise\n",
    "plt.plot(steps, acc_anal, label='Analytical', marker='o')\n",
    "plt.plot(steps, acc_taul, label='Tau-Leaping', marker='o')\n",
    "plt.xlabel('NFE', fontsize=12)\n",
    "plt.ylabel('Accuracy', fontsize=12)\n",
    "plt.title('Accuracy of Sampling Methods with Varying NFE', fontsize=13)\n",
    "plt.legend()\n",
    "plt.savefig('accuracy_plot.png')\n",
    "plt.show()"
   ]
  },
  {
   "cell_type": "code",
   "execution_count": null,
   "metadata": {},
   "outputs": [],
   "source": [
    "plt.plot(steps, rej_rate, marker='o', color='black')\n",
    "plt.ylabel('Average Rejection Rate', fontsize=12)\n",
    "plt.xlabel('NFE', fontsize=12)\n",
    "plt.title('Average Rejection Rate of Tau-Leaping Scheme', fontsize=13)\n",
    "plt.savefig('rej_rate_plot.png')\n",
    "plt.show()"
   ]
  }
 ],
 "metadata": {
  "kernelspec": {
   "display_name": "my_python_env",
   "language": "python",
   "name": "python3"
  },
  "language_info": {
   "codemirror_mode": {
    "name": "ipython",
    "version": 3
   },
   "file_extension": ".py",
   "mimetype": "text/x-python",
   "name": "python",
   "nbconvert_exporter": "python",
   "pygments_lexer": "ipython3",
   "version": "3.11.5"
  }
 },
 "nbformat": 4,
 "nbformat_minor": 2
}
