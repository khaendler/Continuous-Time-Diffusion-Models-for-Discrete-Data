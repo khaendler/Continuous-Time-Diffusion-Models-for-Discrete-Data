{
 "cells": [
  {
   "cell_type": "code",
   "execution_count": 1,
   "metadata": {},
   "outputs": [],
   "source": [
    "import torch\n",
    "import lib.utils.bookkeeping as bookkeeping\n",
    "from torch.utils.data import DataLoader\n",
    "from pathlib import Path\n",
    "import numpy as np\n",
    "import matplotlib.pyplot as plt\n",
    "import lib.models.models as models\n",
    "import lib.models.model_utils as model_utils\n",
    "from lib.datasets import mnist, maze, protein, synthetic\n",
    "import lib.datasets.dataset_utils as dataset_utils\n",
    "import lib.losses.losses as losses\n",
    "import lib.losses.losses_utils as losses_utils\n",
    "import lib.training.training as training\n",
    "import lib.training.training_utils as training_utils\n",
    "import lib.optimizers.optimizers as optimizers\n",
    "import lib.optimizers.optimizers_utils as optimizers_utils\n",
    "import lib.sampling.sampling as sampling\n",
    "import lib.sampling.sampling_utils as sampling_utils\n",
    "from lib.d3pm import make_diffusion\n",
    "import os\n",
    "from lib.datasets.maze import maze_acc\n",
    "from ruamel.yaml.scalarfloat import ScalarFloat"
   ]
  },
  {
   "cell_type": "code",
   "execution_count": 2,
   "metadata": {},
   "outputs": [],
   "source": [
    "# creating path\n",
    "\n",
    "\n",
    "path = \"SavedModels/MAZE/\"\n",
    "date = '2024-02-06' # 2\n",
    "config_name = 'config_001_d3pm_1000.yaml' # config_001_hollowMLEProb.yaml\n",
    "model_name = 'model_199999_d3pm.pt'\n",
    "\n",
    "path = \"SavedModels/MNIST/\"\n",
    "date = '2024-02-07' # 2\n",
    "config_name = 'config_001_d3pm.yaml' # config_001_hollowMLEProb.yaml\n",
    "model_name = 'model_599999_d3pm.pt'\n",
    "\n",
    "path = \"SavedModels/Synthetic/\"\n",
    "date = '2024-02-09' # 2\n",
    "config_name = 'config_001_d3pm_lin.yaml' # config_001_hollowMLEProb.yaml\n",
    "model_name = 'model_199999_d3pm_lin.pt'\n",
    "\n",
    "path = \"SavedModels/MAZE/\"\n",
    "date = '2024-02-07' # 2\n",
    "config_name = 'config_001_d3pm.yaml' # config_001_hollowMLEProb.yaml\n",
    "model_name = 'model_299999_d3pm2.pt'\n",
    "\n",
    "config_path = os.path.join(path, date, config_name)\n",
    "checkpoint_path = os.path.join(path, date, model_name)\n",
    "\n"
   ]
  },
  {
   "cell_type": "code",
   "execution_count": 3,
   "metadata": {},
   "outputs": [
    {
     "name": "stderr",
     "output_type": "stream",
     "text": [
      "\u001b[32m2024-02-15 14:28:21.230\u001b[0m | \u001b[1mINFO    \u001b[0m | \u001b[36mlib.d3pm\u001b[0m:\u001b[36m__init__\u001b[0m:\u001b[36m100\u001b[0m - \u001b[1m[compute transition matrix]: uniform\u001b[0m\n"
     ]
    },
    {
     "name": "stdout",
     "output_type": "stream",
     "text": [
      "in betas 1000\n",
      "from beta 1000\n"
     ]
    },
    {
     "name": "stderr",
     "output_type": "stream",
     "text": [
      "\u001b[32m2024-02-15 14:28:23.820\u001b[0m | \u001b[1mINFO    \u001b[0m | \u001b[36mlib.d3pm\u001b[0m:\u001b[36m__init__\u001b[0m:\u001b[36m121\u001b[0m - \u001b[1m[trainsition matrix]: torch.Size([1000, 3, 3])\u001b[0m\n",
      "\u001b[32m2024-02-15 14:28:23.822\u001b[0m | \u001b[1mINFO    \u001b[0m | \u001b[36mlib.d3pm\u001b[0m:\u001b[36m__init__\u001b[0m:\u001b[36m124\u001b[0m - \u001b[1m[Construct transition matrices for q(x_t|x_start)]\u001b[0m\n",
      "\u001b[32m2024-02-15 14:28:25.432\u001b[0m | \u001b[1mINFO    \u001b[0m | \u001b[36mlib.d3pm\u001b[0m:\u001b[36m__init__\u001b[0m:\u001b[36m144\u001b[0m - \u001b[1m[tilde(Q)t]: torch.Size([1000, 3, 3])\u001b[0m\n"
     ]
    },
    {
     "name": "stdout",
     "output_type": "stream",
     "text": [
      "cuda\n",
      "number of parameters:  8102704\n",
      "ema state dict function\n"
     ]
    }
   ],
   "source": [
    "# creating models\n",
    "cfg = bookkeeping.load_config(config_path)\n",
    "\n",
    "diffusion = make_diffusion(cfg.model)\n",
    "#print(cfg)\n",
    "device = torch.device(cfg.device)\n",
    "print(device)\n",
    "\n",
    "model = model_utils.create_model(cfg, device)\n",
    "print(\"number of parameters: \", sum([p.numel() for p in model.parameters()]))\n",
    "\n",
    "#modified_model_state = utils.remove_module_from_keys(loaded_state['model'])\n",
    "#model.load_state_dict(modified_model_state)\n",
    "#optimizer = optimizers_utils.get_optimizer(model.parameters(), cfg)\n",
    "optimizer = torch.optim.Adam(model.parameters(), cfg.optimizer.lr)\n",
    "\n",
    "sampler = sampling_utils.get_sampler(cfg)\n",
    "\n",
    "state = {\"model\": model, \"optimizer\": optimizer, \"n_iter\": 0}\n",
    "state = bookkeeping.load_state(state, checkpoint_path, device)\n",
    "state['model'].eval()\n",
    "\n",
    "# Maze:\n",
    "# 80% TauL\n",
    "# 84% LBJF\n",
    "# 96%"
   ]
  },
  {
   "cell_type": "code",
   "execution_count": 4,
   "metadata": {},
   "outputs": [
    {
     "name": "stderr",
     "output_type": "stream",
     "text": [
      "\u001b[32m2024-02-15 14:28:35.852\u001b[0m | \u001b[1mINFO    \u001b[0m | \u001b[36mlib.d3pm\u001b[0m:\u001b[36mp_sample_loop\u001b[0m:\u001b[36m585\u001b[0m - \u001b[1mcuda\u001b[0m\n",
      "378it [01:08,  5.55it/s]\n"
     ]
    },
    {
     "ename": "KeyboardInterrupt",
     "evalue": "",
     "output_type": "error",
     "traceback": [
      "\u001b[0;31m---------------------------------------------------------------------------\u001b[0m",
      "\u001b[0;31mKeyboardInterrupt\u001b[0m                         Traceback (most recent call last)",
      "Cell \u001b[0;32mIn[4], line 11\u001b[0m\n\u001b[1;32m      8\u001b[0m \u001b[38;5;28;01melse\u001b[39;00m:\n\u001b[1;32m      9\u001b[0m     \u001b[38;5;28;01mraise\u001b[39;00m \u001b[38;5;167;01mValueError\u001b[39;00m(\u001b[38;5;124m\"\u001b[39m\u001b[38;5;124mwrong\u001b[39m\u001b[38;5;124m\"\u001b[39m)\n\u001b[0;32m---> 11\u001b[0m samples \u001b[38;5;241m=\u001b[39m \u001b[43mdiffusion\u001b[49m\u001b[38;5;241;43m.\u001b[39;49m\u001b[43mp_sample_loop\u001b[49m\u001b[43m(\u001b[49m\u001b[43mstate\u001b[49m\u001b[43m[\u001b[49m\u001b[38;5;124;43m'\u001b[39;49m\u001b[38;5;124;43mmodel\u001b[39;49m\u001b[38;5;124;43m'\u001b[39;49m\u001b[43m]\u001b[49m\u001b[43m,\u001b[49m\u001b[43m \u001b[49m\u001b[43mshape\u001b[49m\u001b[43m,\u001b[49m\u001b[43m \u001b[49m\u001b[43mcfg\u001b[49m\u001b[38;5;241;43m.\u001b[39;49m\u001b[43mmodel\u001b[49m\u001b[38;5;241;43m.\u001b[39;49m\u001b[43mnum_timesteps\u001b[49m\u001b[43m)\u001b[49m\u001b[38;5;241m.\u001b[39mcpu()\u001b[38;5;241m.\u001b[39mnumpy()\n\u001b[1;32m     12\u001b[0m saved_samples \u001b[38;5;241m=\u001b[39m samples\n\u001b[1;32m     13\u001b[0m \u001b[38;5;66;03m# 11:38\u001b[39;00m\n",
      "File \u001b[0;32m~/my_python_env/lib/python3.11/site-packages/torch/utils/_contextlib.py:115\u001b[0m, in \u001b[0;36mcontext_decorator.<locals>.decorate_context\u001b[0;34m(*args, **kwargs)\u001b[0m\n\u001b[1;32m    112\u001b[0m \u001b[38;5;129m@functools\u001b[39m\u001b[38;5;241m.\u001b[39mwraps(func)\n\u001b[1;32m    113\u001b[0m \u001b[38;5;28;01mdef\u001b[39;00m \u001b[38;5;21mdecorate_context\u001b[39m(\u001b[38;5;241m*\u001b[39margs, \u001b[38;5;241m*\u001b[39m\u001b[38;5;241m*\u001b[39mkwargs):\n\u001b[1;32m    114\u001b[0m     \u001b[38;5;28;01mwith\u001b[39;00m ctx_factory():\n\u001b[0;32m--> 115\u001b[0m         \u001b[38;5;28;01mreturn\u001b[39;00m \u001b[43mfunc\u001b[49m\u001b[43m(\u001b[49m\u001b[38;5;241;43m*\u001b[39;49m\u001b[43margs\u001b[49m\u001b[43m,\u001b[49m\u001b[43m \u001b[49m\u001b[38;5;241;43m*\u001b[39;49m\u001b[38;5;241;43m*\u001b[39;49m\u001b[43mkwargs\u001b[49m\u001b[43m)\u001b[49m\n",
      "File \u001b[0;32m~/Remote-Thesis/ContTimeDiscreteSpace/TAUnSDDM/lib/d3pm.py:609\u001b[0m, in \u001b[0;36mCategoricalDiffusion.p_sample_loop\u001b[0;34m(self, model_fn, shape, num_timesteps, return_x_init)\u001b[0m\n\u001b[1;32m    607\u001b[0m x \u001b[38;5;241m=\u001b[39m x_init\n\u001b[1;32m    608\u001b[0m \u001b[38;5;28;01mfor\u001b[39;00m i \u001b[38;5;129;01min\u001b[39;00m tqdm(\u001b[38;5;28mreversed\u001b[39m(\u001b[38;5;28mrange\u001b[39m(\u001b[38;5;241m0\u001b[39m, num_timesteps))):\n\u001b[0;32m--> 609\u001b[0m     t \u001b[38;5;241m=\u001b[39m \u001b[43mtorch\u001b[49m\u001b[38;5;241;43m.\u001b[39;49m\u001b[43mfull\u001b[49m\u001b[43m(\u001b[49m\u001b[43m(\u001b[49m\u001b[43mshape\u001b[49m\u001b[43m[\u001b[49m\u001b[38;5;241;43m0\u001b[39;49m\u001b[43m]\u001b[49m\u001b[43m,\u001b[49m\u001b[43m)\u001b[49m\u001b[43m,\u001b[49m\u001b[43m \u001b[49m\u001b[43mi\u001b[49m\u001b[43m,\u001b[49m\u001b[43m \u001b[49m\u001b[43mdtype\u001b[49m\u001b[38;5;241;43m=\u001b[39;49m\u001b[43mtorch\u001b[49m\u001b[38;5;241;43m.\u001b[39;49m\u001b[43mint64\u001b[49m\u001b[43m)\u001b[49m\u001b[38;5;241;43m.\u001b[39;49m\u001b[43mto\u001b[49m\u001b[43m(\u001b[49m\u001b[43mdevice\u001b[49m\u001b[43m)\u001b[49m\n\u001b[1;32m    610\u001b[0m     x, _ \u001b[38;5;241m=\u001b[39m \u001b[38;5;28mself\u001b[39m\u001b[38;5;241m.\u001b[39mp_sample(\n\u001b[1;32m    611\u001b[0m         model_fn\u001b[38;5;241m=\u001b[39mmodel_fn,\n\u001b[1;32m    612\u001b[0m         x\u001b[38;5;241m=\u001b[39mx,\n\u001b[1;32m    613\u001b[0m         t\u001b[38;5;241m=\u001b[39mt,\n\u001b[1;32m    614\u001b[0m         noise\u001b[38;5;241m=\u001b[39mtorch\u001b[38;5;241m.\u001b[39mrand(size\u001b[38;5;241m=\u001b[39mnoise_shape)\u001b[38;5;241m.\u001b[39mto(x\u001b[38;5;241m.\u001b[39mdevice)\n\u001b[1;32m    615\u001b[0m     )\n\u001b[1;32m    617\u001b[0m \u001b[38;5;28;01massert\u001b[39;00m x\u001b[38;5;241m.\u001b[39mshape \u001b[38;5;241m==\u001b[39m shape\n",
      "\u001b[0;31mKeyboardInterrupt\u001b[0m: "
     ]
    }
   ],
   "source": [
    "n_samples = 500\n",
    "if cfg.data.name == 'Maze3S':\n",
    "    shape = (n_samples, 1, 15, 15)\n",
    "elif cfg.data.name == 'DiscreteMNIST':\n",
    "    shape = (n_samples, 1, 28, 28)\n",
    "elif cfg.data.name == 'SyntheticData':\n",
    "    shape = (n_samples, 32)\n",
    "else:\n",
    "    raise ValueError(\"wrong\")\n",
    "\n",
    "samples = diffusion.p_sample_loop(state['model'], shape, cfg.model.num_timesteps).cpu().numpy()\n",
    "saved_samples = samples\n",
    "# 11:38 D3PM\n",
    "# 12 ELBO\n"
   ]
  },
  {
   "cell_type": "code",
   "execution_count": null,
   "metadata": {},
   "outputs": [],
   "source": [
    "for i in range(5):\n",
    "    sampler = sampling_utils.get_sampler(cfg)\n",
    "    samples = diffusion.p_sample_loop(state['model'], shape, cfg.model.num_timesteps).cpu().numpy()\n",
    "    saved_samples = samples\n",
    "    print(f'mnist_unet_d3pm_1000_mnist{i}')\n",
    "    np.save(f'mnist_unet_d3pm_1000_{i}', saved_samples.reshape(n_samples, 1, cfg.data.image_size, cfg.data.image_size))"
   ]
  },
  {
   "cell_type": "code",
   "execution_count": null,
   "metadata": {},
   "outputs": [],
   "source": [
    "data_list = []\n",
    "for i in range(5):\n",
    "    print(f'mnist_unet_d3pm_1000_mnist{i}')\n",
    "    data_list.append(np.load(f'mnist_unet_d3pm_1000_{i}.npy'))\n",
    "    data = np.vstack(data_list)\n",
    "    print(data.shape)\n",
    "    np.save(f'Samples/MNIST/mnist_unet_d3pm_1000.npy', data)"
   ]
  },
  {
   "cell_type": "code",
   "execution_count": null,
   "metadata": {},
   "outputs": [],
   "source": [
    "from lib.datasets.mnist_fid import evaluate_fid_score\n",
    "data = np.load(f'Samples/MNIST/mnist_unet_d3pm_1000.npy')\n",
    "dataset_location = \"lib/datasets\"\n",
    "fid_values = []\n",
    "#data = np.load('mpl_x.npy')\n",
    "print(data.shape)\n",
    "cfg.data.train = False\n",
    "dataset = dataset_utils.get_dataset(cfg, device, dataset_location)\n",
    "\n",
    "dataloader = torch.utils.data.DataLoader(dataset,\n",
    "    batch_size=data.shape[0],\n",
    "    shuffle=cfg.data.shuffle)\n",
    "for true_data in (dataloader):\n",
    "    #print(f'mnist_hollow_{sampler_n}{step}.npy')\n",
    "    print(\"----------------------------------\")\n",
    "\n",
    "    fid = evaluate_fid_score(data, true_data.cpu().numpy(), 100)\n",
    "    print(\"FID:\", fid)\n",
    "    fid_values.append(fid)\n",
    "    break\n",
    "print(fid_values)\n",
    "# d3pm fid values = 1,78\n",
    "# is # Inception mean:  8.65325409905818\n",
    "# Inception std:  0.07323019223425542"
   ]
  },
  {
   "cell_type": "code",
   "execution_count": null,
   "metadata": {},
   "outputs": [],
   "source": [
    "#state['n_iter'] = 299999\n",
    "#bookkeeping.save_state(state, \"SavedModels/MAZE\")"
   ]
  },
  {
   "cell_type": "code",
   "execution_count": null,
   "metadata": {},
   "outputs": [],
   "source": [
    "is_img = False\n",
    "#n_samples = 9\n",
    "if is_img:\n",
    "    samples = samples.reshape(-1, 1, cfg.data.image_size, cfg.data.image_size)\n",
    "    saving_train_path = os.path.join(cfg.saving.sample_plot_path, f\"{cfg.model.name}{state['n_iter']}_{cfg.sampler.name}{cfg.sampler.num_steps}.png\")\n",
    "    fig = plt.figure(figsize=(9, 9)) \n",
    "    for i in range(n_samples):\n",
    "        plt.subplot(int(np.sqrt(n_samples)), int(np.sqrt(n_samples)), 1 + i)\n",
    "        plt.axis(\"off\")\n",
    "        plt.imshow(np.transpose(samples[i, ...], (1,2,0)), cmap=\"gray\")\n",
    " \n",
    "    # saving_train_path\n",
    "    plt.savefig('crm_hollow.pdf', transparent=True)\n",
    "    plt.show()\n",
    "    plt.close()\n",
    "else:\n",
    "    bm, inv_bm = synthetic.get_binmap(cfg.model.concat_dim, cfg.data.binmode)\n",
    "    print(inv_bm)\n",
    "    samples = synthetic.bin2float(samples.astype(np.int32), inv_bm, cfg.model.concat_dim, cfg.data.int_scale)\n",
    "\n",
    " \n",
    "    saving_plot_path = os.path.join(path, f\"{cfg.model.name}{state['n_iter']}_{cfg.sampler.name}{cfg.sampler.num_steps}.png\")\n",
    "    saving_np_path = os.path.join(path, f\"samples_{cfg.model.name}{state['n_iter']}_{cfg.sampler.name}{cfg.sampler.num_steps}.npy\")\n",
    "    #np.save(f'{saving_np_path}', samples)\n",
    "\n",
    "    #aving_plot_path = '/Users/paulheller/PythonRepositories/Master-Thesis/ContTimeDiscreteSpace/TAUnSDDM/SavedModels/MNIST/'\n",
    "    synthetic.plot_samples(samples, 'd3pm_synthetic3.pdf', im_size=cfg.data.plot_size, im_fmt=\"pdf\")"
   ]
  },
  {
   "cell_type": "code",
   "execution_count": null,
   "metadata": {},
   "outputs": [],
   "source": [
    "#saved_samples = np.load('mazes3000_auxprotein1_lbjf.npy')\n",
    "correct_mazes = maze_acc(saved_samples)"
   ]
  },
  {
   "cell_type": "code",
   "execution_count": null,
   "metadata": {},
   "outputs": [],
   "source": [
    "cfg.data.name = 'Maze3SComplete'\n",
    "cfg.data.batch_size = n_samples\n",
    "\n",
    "if cfg.data.name == 'Maze3SComplete':\n",
    "    limit = cfg.data.batch_size\n",
    "    cfg.data.limit = limit \n",
    "\n",
    "dataset = dataset_utils.get_dataset(cfg, device)\n",
    "dataloader = torch.utils.data.DataLoader(dataset,\n",
    "    batch_size=cfg.data.batch_size,\n",
    "    shuffle=cfg.data.shuffle)\n",
    "\n",
    "for i in dataloader:\n",
    "    true_dl = i\n",
    "    c_i = maze_acc(i.cpu().numpy())\n",
    "    true_dl = true_dl.reshape(cfg.data.batch_size, -1) #.flatten()"
   ]
  },
  {
   "cell_type": "code",
   "execution_count": null,
   "metadata": {},
   "outputs": [],
   "source": [
    "from scipy.stats import wasserstein_distance\n",
    "#samples = np.load('mazes2000_hollow_aux_lbjf.npy')\n",
    "#samples = np.load('Samples/Maze/mazes_hollow_CRMTauL1000.npy')\n",
    "saved_samples = samples\n",
    "samples = samples.reshape(-1,225) #.flatten()\n",
    "samples = samples[:n_samples]\n",
    "\n",
    "\n",
    "emd_dist = []\n",
    "correct_mazes = maze_acc(saved_samples)\n",
    "for i in range(samples.shape[0]):\n",
    "    m_g = samples[i, :]\n",
    "    emd = wasserstein_distance(samples[i, :], true_dl[i, :].cpu().numpy())\n",
    "    emd_dist.append(emd)\n",
    "    #print(i, emd_dist)\n",
    "#print(\"EMD\", wasserstein_distance(samples, true_dl.cpu().numpy()))\n",
    "#print(\"EMD\", emd_dist)\n",
    "print(\"AVG\", np.mean(emd_dist))"
   ]
  }
 ],
 "metadata": {
  "kernelspec": {
   "display_name": "diffvenv",
   "language": "python",
   "name": "python3"
  },
  "language_info": {
   "codemirror_mode": {
    "name": "ipython",
    "version": 3
   },
   "file_extension": ".py",
   "mimetype": "text/x-python",
   "name": "python",
   "nbconvert_exporter": "python",
   "pygments_lexer": "ipython3",
   "version": "3.11.5"
  },
  "orig_nbformat": 4
 },
 "nbformat": 4,
 "nbformat_minor": 2
}
