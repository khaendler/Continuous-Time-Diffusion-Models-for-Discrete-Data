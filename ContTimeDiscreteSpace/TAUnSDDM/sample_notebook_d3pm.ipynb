{
 "cells": [
  {
   "cell_type": "code",
   "execution_count": 1,
   "metadata": {},
   "outputs": [],
   "source": [
    "import torch\n",
    "import lib.utils.bookkeeping as bookkeeping\n",
    "from torch.utils.data import DataLoader\n",
    "from pathlib import Path\n",
    "import numpy as np\n",
    "import matplotlib.pyplot as plt\n",
    "import lib.models.models as models\n",
    "import lib.models.model_utils as model_utils\n",
    "from lib.datasets import mnist, maze, protein, synthetic\n",
    "import lib.datasets.dataset_utils as dataset_utils\n",
    "import lib.losses.losses as losses\n",
    "import lib.losses.losses_utils as losses_utils\n",
    "import lib.training.training as training\n",
    "import lib.training.training_utils as training_utils\n",
    "import lib.optimizers.optimizers as optimizers\n",
    "import lib.optimizers.optimizers_utils as optimizers_utils\n",
    "import lib.sampling.sampling as sampling\n",
    "import lib.sampling.sampling_utils as sampling_utils\n",
    "from lib.d3pm import make_diffusion\n",
    "import os\n",
    "from lib.datasets.maze import maze_acc\n",
    "from ruamel.yaml.scalarfloat import ScalarFloat"
   ]
  },
  {
   "cell_type": "code",
   "execution_count": 2,
   "metadata": {},
   "outputs": [],
   "source": [
    "# creating path\n",
    "path = \"SavedModels/MAZE/\"\n",
    "date = '2024-02-06' # 2\n",
    "config_name = 'config_001_d3pm_256.yaml' # config_001_hollowMLEProb.yaml\n",
    "model_name = 'model_59999_d3pm_256.pt'\n",
    "\n",
    "config_path = os.path.join(path, date, config_name)\n",
    "checkpoint_path = os.path.join(path, date, model_name)\n",
    "\n"
   ]
  },
  {
   "cell_type": "code",
   "execution_count": 3,
   "metadata": {},
   "outputs": [
    {
     "name": "stderr",
     "output_type": "stream",
     "text": [
      "\u001b[32m2024-02-06 09:04:11.500\u001b[0m | \u001b[1mINFO    \u001b[0m | \u001b[36mlib.d3pm\u001b[0m:\u001b[36m__init__\u001b[0m:\u001b[36m98\u001b[0m - \u001b[1m[compute transition matrix]: uniform\u001b[0m\n"
     ]
    },
    {
     "name": "stdout",
     "output_type": "stream",
     "text": [
      "in betas 256\n",
      "from beta 256\n"
     ]
    },
    {
     "name": "stderr",
     "output_type": "stream",
     "text": [
      "\u001b[32m2024-02-06 09:04:12.837\u001b[0m | \u001b[1mINFO    \u001b[0m | \u001b[36mlib.d3pm\u001b[0m:\u001b[36m__init__\u001b[0m:\u001b[36m119\u001b[0m - \u001b[1m[trainsition matrix]: torch.Size([256, 3, 3])\u001b[0m\n",
      "\u001b[32m2024-02-06 09:04:12.838\u001b[0m | \u001b[1mINFO    \u001b[0m | \u001b[36mlib.d3pm\u001b[0m:\u001b[36m__init__\u001b[0m:\u001b[36m122\u001b[0m - \u001b[1m[Construct transition matrices for q(x_t|x_start)]\u001b[0m\n",
      "\u001b[32m2024-02-06 09:04:14.463\u001b[0m | \u001b[1mINFO    \u001b[0m | \u001b[36mlib.d3pm\u001b[0m:\u001b[36m__init__\u001b[0m:\u001b[36m142\u001b[0m - \u001b[1m[tilde(Q)t]: torch.Size([256, 3, 3])\u001b[0m\n"
     ]
    },
    {
     "name": "stdout",
     "output_type": "stream",
     "text": [
      "cuda\n",
      "number of parameters:  8102704\n",
      "ema state dict function\n"
     ]
    }
   ],
   "source": [
    "# creating models\n",
    "cfg = bookkeeping.load_config(config_path)\n",
    "cfg.sampler.name = 'LBJF' #ExactSampling' # ElboLBJF CRMTauL CRMLBJF\n",
    "cfg.sampler.num_corrector_steps = 0\n",
    "cfg.sampler.corrector_entry_time = ScalarFloat(0.0)\n",
    "cfg.sampler.num_steps = 1000\n",
    "cfg.sampler.is_ordinal =False\n",
    "diffusion = make_diffusion(cfg.model)\n",
    "#print(cfg)\n",
    "device = torch.device(cfg.device)\n",
    "print(device)\n",
    "\n",
    "model = model_utils.create_model(cfg, device)\n",
    "print(\"number of parameters: \", sum([p.numel() for p in model.parameters()]))\n",
    "\n",
    "#modified_model_state = utils.remove_module_from_keys(loaded_state['model'])\n",
    "#model.load_state_dict(modified_model_state)\n",
    "#optimizer = optimizers_utils.get_optimizer(model.parameters(), cfg)\n",
    "optimizer = torch.optim.Adam(model.parameters(), cfg.optimizer.lr)\n",
    "\n",
    "sampler = sampling_utils.get_sampler(cfg)\n",
    "\n",
    "state = {\"model\": model, \"optimizer\": optimizer, \"n_iter\": 0}\n",
    "state = bookkeeping.load_state(state, checkpoint_path, device)\n",
    "state['model'].eval()\n",
    "\n",
    "# Maze:\n",
    "# 80% TauL\n",
    "# 84% LBJF\n",
    "# 96%"
   ]
  },
  {
   "cell_type": "code",
   "execution_count": 10,
   "metadata": {},
   "outputs": [
    {
     "name": "stderr",
     "output_type": "stream",
     "text": [
      "\u001b[32m2024-02-06 09:27:28.124\u001b[0m | \u001b[1mINFO    \u001b[0m | \u001b[36mlib.d3pm\u001b[0m:\u001b[36mp_sample_loop\u001b[0m:\u001b[36m570\u001b[0m - \u001b[1mcuda\u001b[0m\n"
     ]
    }
   ],
   "source": [
    "n_samples = 1000\n",
    "if cfg.data.name == 'Maze3S':\n",
    "    shape = (n_samples, 1, 15, 15)\n",
    "elif cfg.data.name == 'DiscreteMNIST':\n",
    "    shape = (n_samples, 1, 28, 28)\n",
    "elif cfg.data.name == 'SyntheticData':\n",
    "    shape = (n_samples, 32)\n",
    "else:\n",
    "    raise ValueError(\"wrong\")\n",
    "\n",
    "samples = diffusion.p_sample_loop(state['model'], shape, cfg.model.num_timesteps).cpu().numpy()\n",
    "#print(changes_jump)\n",
    "\n",
    "#print(\"# avg chang rejecting\", np.mean(changes_clamp))\n",
    "\n",
    "saved_samples = samples\n",
    "\n",
    "#np.save('changing_dims_mnist_mptaul_ins_20.npy', change_dim)\n",
    "#np.save('changing_dims_mnist_mptaul_1_20.npy', change_first)\n",
    "#np.save('changing_dims_mnist_mptaul_1to2_20.npy', change_1to2)\n",
    "#np.save('changing_dims_are_mjumps_1to2_mnist_mptaul_20.npy', change_jumps)\n",
    "#np.save('changes_are_mjumps_mptaul_20.npy', change_mjumps)"
   ]
  },
  {
   "cell_type": "code",
   "execution_count": null,
   "metadata": {},
   "outputs": [],
   "source": [
    "is_img = cfg.data.is_img\n",
    "#n_samples = 9\n",
    "if is_img:\n",
    "    samples = samples.reshape(-1, 1, cfg.data.image_size, cfg.data.image_size)\n",
    "    saving_train_path = os.path.join(cfg.saving.sample_plot_path, f\"{cfg.model.name}{state['n_iter']}_{cfg.sampler.name}{cfg.sampler.num_steps}.png\")\n",
    "    fig = plt.figure(figsize=(9, 9)) \n",
    "    for i in range(n_samples):\n",
    "        plt.subplot(int(np.sqrt(n_samples)), int(np.sqrt(n_samples)), 1 + i)\n",
    "        plt.axis(\"off\")\n",
    "        plt.imshow(np.transpose(samples[i, ...], (1,2,0)), cmap=\"gray\")\n",
    " \n",
    "    # saving_train_path\n",
    "    plt.savefig('crm_hollow.pdf', transparent=True)\n",
    "    plt.show()\n",
    "    plt.close()\n",
    "else:\n",
    "    bm, inv_bm = synthetic.get_binmap(cfg.model.concat_dim, cfg.data.binmode)\n",
    "    print(inv_bm)\n",
    "    samples = synthetic.bin2float(samples.astype(np.int32), inv_bm, cfg.model.concat_dim, cfg.data.int_scale)\n",
    "\n",
    " \n",
    "    saving_plot_path = os.path.join(path, f\"{cfg.model.name}{state['n_iter']}_{cfg.sampler.name}{cfg.sampler.num_steps}.png\")\n",
    "    saving_np_path = os.path.join(path, f\"samples_{cfg.model.name}{state['n_iter']}_{cfg.sampler.name}{cfg.sampler.num_steps}.npy\")\n",
    "    #np.save(f'{saving_np_path}', samples)\n",
    "\n",
    "    #aving_plot_path = '/Users/paulheller/PythonRepositories/Master-Thesis/ContTimeDiscreteSpace/TAUnSDDM/SavedModels/MNIST/'\n",
    "    synthetic.plot_samples(samples, 'hollow_crm_exact1000.pdf', im_size=cfg.data.plot_size, im_fmt=\"pdf\")"
   ]
  },
  {
   "cell_type": "code",
   "execution_count": 11,
   "metadata": {},
   "outputs": [
    {
     "name": "stdout",
     "output_type": "stream",
     "text": [
      "Accuracy: From 1000 are 84.2% solvable.\n",
      "Average path length: 35.541567695961994 and prob 15.796252309316442%\n",
      "Average wall length: 126.02256532066508 and prob 56.01002903140671%\n",
      "Average way length: 63.43586698337292 and prob 28.19371865927685%\n"
     ]
    }
   ],
   "source": [
    "#saved_samples = np.load('mazes3000_auxprotein1_lbjf.npy')\n",
    "correct_mazes = maze_acc(saved_samples)"
   ]
  },
  {
   "cell_type": "code",
   "execution_count": 12,
   "metadata": {},
   "outputs": [
    {
     "name": "stdout",
     "output_type": "stream",
     "text": [
      "1000 samples generated.\n",
      "Accuracy: From 1000 are 100.0% solvable.\n",
      "Average path length: 38.642 and prob 17.174222222222223%\n",
      "Average wall length: 126.0 and prob 56.0%\n",
      "Average way length: 60.358 and prob 26.825777777777773%\n"
     ]
    }
   ],
   "source": [
    "cfg.data.name = 'Maze3SComplete'\n",
    "cfg.data.batch_size = n_samples\n",
    "\n",
    "if cfg.data.name == 'Maze3SComplete':\n",
    "    limit = cfg.data.batch_size\n",
    "    cfg.data.limit = limit \n",
    "\n",
    "dataset = dataset_utils.get_dataset(cfg, device)\n",
    "dataloader = torch.utils.data.DataLoader(dataset,\n",
    "    batch_size=cfg.data.batch_size,\n",
    "    shuffle=cfg.data.shuffle)\n",
    "\n",
    "for i in dataloader:\n",
    "    true_dl = i\n",
    "    c_i = maze_acc(i.cpu().numpy())\n",
    "    true_dl = true_dl.reshape(cfg.data.batch_size, -1) #.flatten()"
   ]
  },
  {
   "cell_type": "code",
   "execution_count": 13,
   "metadata": {},
   "outputs": [
    {
     "name": "stdout",
     "output_type": "stream",
     "text": [
      "Accuracy: From 1000 are 84.2% solvable.\n",
      "Average path length: 35.541567695961994 and prob 15.796252309316442%\n",
      "Average wall length: 126.02256532066508 and prob 56.01002903140671%\n",
      "Average way length: 63.43586698337292 and prob 28.19371865927685%\n",
      "AVG 0.06582666666666666\n"
     ]
    }
   ],
   "source": [
    "from scipy.stats import wasserstein_distance\n",
    "#samples = np.load('mazes2000_hollow_aux_lbjf.npy')\n",
    "#samples = np.load('Samples/Maze/mazes_hollow_CRMTauL1000.npy')\n",
    "saved_samples = samples\n",
    "samples = samples.reshape(-1,225) #.flatten()\n",
    "samples = samples[:n_samples]\n",
    "\n",
    "\n",
    "emd_dist = []\n",
    "correct_mazes = maze_acc(saved_samples)\n",
    "for i in range(samples.shape[0]):\n",
    "    m_g = samples[i, :]\n",
    "    emd = wasserstein_distance(samples[i, :], true_dl[i, :].cpu().numpy())\n",
    "    emd_dist.append(emd)\n",
    "    #print(i, emd_dist)\n",
    "#print(\"EMD\", wasserstein_distance(samples, true_dl.cpu().numpy()))\n",
    "#print(\"EMD\", emd_dist)\n",
    "print(\"AVG\", np.mean(emd_dist))"
   ]
  }
 ],
 "metadata": {
  "kernelspec": {
   "display_name": "diffvenv",
   "language": "python",
   "name": "python3"
  },
  "language_info": {
   "codemirror_mode": {
    "name": "ipython",
    "version": 3
   },
   "file_extension": ".py",
   "mimetype": "text/x-python",
   "name": "python",
   "nbconvert_exporter": "python",
   "pygments_lexer": "ipython3",
   "version": "3.11.5"
  },
  "orig_nbformat": 4
 },
 "nbformat": 4,
 "nbformat_minor": 2
}
