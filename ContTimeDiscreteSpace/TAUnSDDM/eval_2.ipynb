{
 "cells": [
  {
   "cell_type": "code",
   "execution_count": 1,
   "metadata": {},
   "outputs": [],
   "source": [
    "import torch\n",
    "import lib.utils.bookkeeping as bookkeeping\n",
    "from torch.utils.data import DataLoader\n",
    "from pathlib import Path\n",
    "import numpy as np\n",
    "import matplotlib.pyplot as plt\n",
    "import lib.models.models as models\n",
    "import lib.models.model_utils as model_utils\n",
    "from lib.datasets import mnist, maze, protein, synthetic\n",
    "import lib.datasets.dataset_utils as dataset_utils\n",
    "import lib.losses.losses as losses\n",
    "import lib.losses.losses_utils as losses_utils\n",
    "import lib.training.training as training\n",
    "import lib.training.training_utils as training_utils\n",
    "import lib.optimizers.optimizers as optimizers\n",
    "import lib.optimizers.optimizers_utils as optimizers_utils\n",
    "import lib.sampling.sampling as sampling\n",
    "import lib.sampling.sampling_utils as sampling_utils\n",
    "import os\n",
    "from lib.datasets.maze import maze_acc\n",
    "from ruamel.yaml.scalarfloat import ScalarFloat"
   ]
  },
  {
   "cell_type": "code",
   "execution_count": 2,
   "metadata": {},
   "outputs": [],
   "source": [
    "path = 'SavedModels/MAZE/' # 'SavedModels/MAZE/' 'SavedModels/MNIST/'\n",
    "date = '2023-12-22' # 2\n",
    "config_name = 'config_001_hollow8M.yaml' # config_001_hollowMLEProb.yaml\n",
    "model_name = 'model_299999_hollow8M.pt' \n",
    "\n",
    "config_path = os.path.join(path, date, config_name)\n",
    "checkpoint_path = os.path.join(path, date, model_name)"
   ]
  },
  {
   "cell_type": "code",
   "execution_count": 3,
   "metadata": {},
   "outputs": [
    {
     "name": "stdout",
     "output_type": "stream",
     "text": [
      "self.input_embedding torch.float32\n",
      "number of parameters:  7808643\n",
      "ema state dict function\n"
     ]
    }
   ],
   "source": [
    "# creating models\n",
    "cfg = bookkeeping.load_config(config_path)\n",
    "cfg.sampler.name = 'LBJF' #ExactSampling' # ElboLBJF CRMTauL CRMLBJF\n",
    "cfg.sampler.num_corrector_steps = 0\n",
    "cfg.sampler.corrector_entry_time = ScalarFloat(0.0)\n",
    "cfg.sampler.num_steps = 500\n",
    "cfg.sampler.is_ordinal = True\n",
    "#print(cfg)\n",
    "device = torch.device(cfg.device)\n",
    "\n",
    "model = model_utils.create_model(cfg, device)\n",
    "model = model.float()\n",
    "print(\"number of parameters: \", sum([p.numel() for p in model.parameters()]))\n",
    "\n",
    "#modified_model_state = utils.remove_module_from_keys(loaded_state['model'])\n",
    "#model.load_state_dict(modified_model_state)\n",
    "#optimizer = optimizers_utils.get_optimizer(model.parameters(), cfg)\n",
    "optimizer = torch.optim.Adam(model.parameters(), cfg.optimizer.lr)\n",
    "\n",
    "sampler = sampling_utils.get_sampler(cfg)\n",
    "\n",
    "state = {\"model\": model, \"optimizer\": optimizer, \"n_iter\": 0}\n",
    "state = bookkeeping.load_state(state, checkpoint_path)\n",
    "state['model'].eval()"
   ]
  },
  {
   "cell_type": "code",
   "execution_count": 29,
   "metadata": {},
   "outputs": [
    {
     "name": "stdout",
     "output_type": "stream",
     "text": [
      "(2500, 225)\n",
      "1000 samples generated.\n",
      "2000 samples generated.\n",
      "Accuracy: From 2500 are 100.0% solvable.\n",
      "Average path length: 38.5016 and prob 17.111822222222223%\n",
      "Average wall length: 126.0 and prob 56.0%\n",
      "Average way length: 60.4984 and prob 26.888177777777774%\n"
     ]
    }
   ],
   "source": [
    "samples = np.load('Samples/Maze/mazes_hollow_nonordinalCRMTauL500.npy')\n",
    "n_samples = samples.shape[0]\n",
    "samples = samples.reshape(n_samples, -1)\n",
    "print(samples.shape)\n",
    "cfg.data.name = 'Maze3SComplete'\n",
    "cfg.data.batch_size = n_samples\n",
    "\n",
    "if cfg.data.name == 'Maze3SComplete':\n",
    "    limit = cfg.data.batch_size\n",
    "    cfg.data.limit = limit \n",
    "\n",
    "dataset = dataset_utils.get_dataset(cfg, device)\n",
    "dataloader = torch.utils.data.DataLoader(dataset,\n",
    "    batch_size=cfg.data.batch_size,\n",
    "    shuffle=cfg.data.shuffle)\n",
    "\n",
    "for i in dataloader:\n",
    "    true_dl = i\n",
    "    c_i = maze_acc(i.cpu().numpy())\n",
    "    true_dl = true_dl.reshape(cfg.data.batch_size, -1) #.flatten()"
   ]
  },
  {
   "cell_type": "code",
   "execution_count": 33,
   "metadata": {},
   "outputs": [
    {
     "name": "stdout",
     "output_type": "stream",
     "text": [
      "step 750\n",
      "Accuracy: From 375 are 62.4% solvable.\n",
      "Average path length: 32.01709401709402 and prob 14.229819563152898%\n",
      "Average wall length: 126.25213675213675 and prob 56.11206077872745%\n",
      "Average way length: 66.73076923076923 and prob 29.658119658119656%\n",
      "# AVG EMD 0.0689777777777778\n",
      "# Hell Distance 0.6434839707007393\n",
      "# whole EMD 0.0048959999999999\n",
      "# whole Hellunger 187.60573494004615\n"
     ]
    }
   ],
   "source": [
    "from scipy.stats import wasserstein_distance\n",
    "def hellinger_distance(p,q):\n",
    "    distance = (1.0 / np.sqrt(2) * np.sqrt(np.sum((np.sqrt(p) - np.sqrt(q)) ** 2)))\n",
    "    return distance\n",
    "#samples = np.load('mazes_hollow_exact.npy')\n",
    "bins = np.arange(0, 3)\n",
    "emd_result = []\n",
    "steps = [750]\n",
    "for step in steps:\n",
    "    samples = np.load(f'Samples/Maze/hollow_elbo_CRMTauL{step}_mazes.npy') # f'mazes_hollow_nonordinalCRMTauL{step}.npy')\n",
    "    emd_list = []\n",
    "    hell_list = []\n",
    "    print(\"step\", step)\n",
    "    samples = samples.reshape(samples.shape[0], -1)\n",
    "    acc = maze_acc(samples)\n",
    "\n",
    "    for i in range(samples.shape[0]):\n",
    "        m_g = samples[i, :]\n",
    "        m_t = true_dl[i, :].cpu().numpy()\n",
    "        m_g_prob = np.bincount(m_g) / 3\n",
    "        m_t_prob = np.bincount(m_t) / 3\n",
    "        emd_list.append(wasserstein_distance(bins, bins, m_g_prob, m_t_prob))\n",
    "        hell_list.append(hellinger_distance(m_g_prob, m_t_prob))\n",
    "    emd_result.append(np.mean(emd_list))\n",
    "    #print(\"Step:\", step)\n",
    "    print(\"# AVG EMD\", np.mean(emd_list))\n",
    "    print(\"# Hell Distance\", np.mean(hell_list))\n",
    "\n",
    "    m_g_whole = np.bincount(samples.flatten()) / 3\n",
    "    m_t_whole = np.bincount(true_dl.cpu().numpy().flatten()) / 3\n",
    "    print(\"# whole EMD\", wasserstein_distance(bins, bins, m_g_whole, m_t_whole))\n",
    "    print(\"# whole Hellunger\", hellinger_distance(m_g_whole,  m_t_whole))\n",
    "\n",
    "# Hollow:\n",
    "# LBJF: 0.0662\n",
    "# TauL: 0.0656\n",
    "# Exact: 0.00652\n",
    "\n",
    "# Hollow ELBO\n",
    "# LBJF: 64% 0.06874074074074078\n",
    "# TauL:  63% 0.07068444444444448\n",
    "# Exact: 63% 0.07009185185185188\n",
    "    \n",
    "# Unet:\n",
    "# LBJF: 50% 0.07241481481481486\n",
    "# TauL: 40% 0.07448814814814819\n",
    "\n",
    "# Hollow direct\n",
    "# LBJF: 0.0719 0.0702814814814815 0.07208296296296297\n",
    "# TauL: 0.07076  AVG EMD 0.06744888888888892 0.07159703703703707\n",
    "# rej_rate_maze = [0.6085251628305858, 0.3971528976831892, 0.29737690992794547, 0.23819152995776705, 0.17059221048452358, 0.11267130391333513, 0.06186160933420365, 0.025205536736870884, 0.0069328674408784]\n",
    "    \n",
    "# emd_lbjf = np.array([0.07110577777777781, 0.06902400000000003, 0.0672248888888889, 0.06652266666666669, 0.06635022222222224, 0.06605333333333333, 0.06631288888888888, 0.06620622222222224, 0.06611377777777777,0.06583822222222223])\n",
    "# emd_taul = np.array([0.11720355555555556, 0.07994488888888888, 0.06799377777777779, 0.06616800000000002, 0.06516800000000002, 0.06496000000000002, 0.064504888888888893, 0.064016, 0.06332266666666667, 0.063296])\n",
    "# emd_lbjf = np.array([])\n",
    "    \n",
    "#acc_taul_nonord = np.array(0,0,0.008, 0.01, 0.1, 0.36, 0.65, 78, 83, 85)\n"
   ]
  },
  {
   "cell_type": "code",
   "execution_count": null,
   "metadata": {},
   "outputs": [],
   "source": [
    "print(emd_result)"
   ]
  },
  {
   "cell_type": "code",
   "execution_count": 150,
   "metadata": {},
   "outputs": [
    {
     "name": "stdout",
     "output_type": "stream",
     "text": [
      "[750]\n"
     ]
    }
   ],
   "source": [
    "max_t = 0.99999\n",
    "min_t = 0.01\n",
    "num_steps = [515]\n",
    "nfe_10_01 = []\n",
    "for steps in num_steps:\n",
    "    ts = np.concatenate(\n",
    "        (np.\n",
    "        linspace(max_t, min_t, steps), np.array([0]))\n",
    "    )\n",
    "\n",
    "    k = 0 \n",
    "    for i, t in (enumerate(ts[0:-1])):\n",
    "        #print(i+1)\n",
    "        if t <= 0.1:\n",
    "            for j in range(5):\n",
    "                k += 1\n",
    "                #print(k)\n",
    "\n",
    "    nfe_10_01.append(i+1+k)\n",
    "print(nfe_10_01)\n",
    "# 5: 10, 16, 22, 25, 30, 48, 75, 102\n",
    "# 3: 10, 14, 20, 32, 50, 75, 102\n",
    "# 1: 10, 15, 20, 30, 50, "
   ]
  }
 ],
 "metadata": {
  "kernelspec": {
   "display_name": "my_python_env",
   "language": "python",
   "name": "python3"
  },
  "language_info": {
   "codemirror_mode": {
    "name": "ipython",
    "version": 3
   },
   "file_extension": ".py",
   "mimetype": "text/x-python",
   "name": "python",
   "nbconvert_exporter": "python",
   "pygments_lexer": "ipython3",
   "version": "3.11.5"
  }
 },
 "nbformat": 4,
 "nbformat_minor": 2
}
