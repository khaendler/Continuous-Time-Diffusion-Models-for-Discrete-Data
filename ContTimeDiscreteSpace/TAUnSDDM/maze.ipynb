{
 "cells": [
  {
   "cell_type": "code",
   "execution_count": 1,
   "metadata": {},
   "outputs": [],
   "source": [
    "#Code by David Roberts https://www.kaggle.com/code/davidbroberts/tensorflow-transfer-learning/notebook\n",
    "\n",
    "import os\n",
    "os.environ['TF_CPP_MIN_LOG_LEVEL'] = '2' # Set the log level to keep the warnings down\n",
    "\n",
    "import tensorflow as tf\n",
    "from tensorflow import keras\n",
    "import matplotlib.pyplot as plt\n",
    "from lib.datasets.datasets import BinMazeDataset\n",
    "from tqdm import tqdm\n",
    "from lib.datasets.datasets import get_maze_data\n",
    "from torch.utils.data import Dataset, DataLoader\n",
    "import torchvision\n",
    "from config.config_hollow_maze import get_config \n",
    "from lib.datasets.maze import maze_gen\n",
    "import torchvision.transforms as transforms \n",
    "import matplotlib.pyplot as plt\n",
    "\n",
    "# Eine Funktion, um einige Bilder zu plotten\n",
    "def show_images(images, n=8):\n",
    "    plt.figure(figsize=(15, 15))\n",
    "    for i in range(n):\n",
    "        ax = plt.subplot(1, n, i + 1)\n",
    "        plt.imshow(images[i].permute(1, 2, 0).numpy().astype(\"uint8\"), cmap='gray')\n",
    "        plt.axis(\"off\")\n",
    "    plt.show()"
   ]
  },
  {
   "cell_type": "code",
   "execution_count": 11,
   "metadata": {},
   "outputs": [
    {
     "name": "stdout",
     "output_type": "stream",
     "text": [
      "0\n",
      "act\n",
      "1\n"
     ]
    }
   ],
   "source": [
    "for i in range(3 -1):\n",
    "    print(i)\n",
    "    if i != (3-2):\n",
    "        print(\"act\")"
   ]
  },
  {
   "cell_type": "code",
   "execution_count": 5,
   "metadata": {},
   "outputs": [],
   "source": [
    "config = get_config()\n",
    "img = maze_gen(limit=10, dim_x=7, dim_y=7, pixelSizeOfTile=2, weightHigh=97,weightLow=97)\n",
    "torch_dataloader = get_maze_data(config, img)"
   ]
  },
  {
   "cell_type": "code",
   "execution_count": 6,
   "metadata": {},
   "outputs": [
    {
     "name": "stderr",
     "output_type": "stream",
     "text": [
      "  0%|          | 0/1 [00:00<?, ?it/s]"
     ]
    },
    {
     "name": "stdout",
     "output_type": "stream",
     "text": [
      "tensor([[[[0, 0, 1,  ..., 0, 0, 0],\n",
      "          [0, 0, 1,  ..., 0, 0, 0],\n",
      "          [0, 0, 1,  ..., 1, 0, 0],\n",
      "          ...,\n",
      "          [0, 0, 1,  ..., 1, 0, 0],\n",
      "          [0, 0, 0,  ..., 1, 0, 0],\n",
      "          [0, 0, 0,  ..., 1, 0, 0]]],\n",
      "\n",
      "\n",
      "        [[[0, 0, 1,  ..., 0, 0, 0],\n",
      "          [0, 0, 1,  ..., 0, 0, 0],\n",
      "          [0, 0, 1,  ..., 1, 0, 0],\n",
      "          ...,\n",
      "          [0, 0, 1,  ..., 1, 0, 0],\n",
      "          [0, 0, 0,  ..., 1, 0, 0],\n",
      "          [0, 0, 0,  ..., 1, 0, 0]]],\n",
      "\n",
      "\n",
      "        [[[0, 0, 1,  ..., 0, 0, 0],\n",
      "          [0, 0, 1,  ..., 0, 0, 0],\n",
      "          [0, 0, 1,  ..., 1, 0, 0],\n",
      "          ...,\n",
      "          [0, 0, 1,  ..., 1, 0, 0],\n",
      "          [0, 0, 0,  ..., 1, 0, 0],\n",
      "          [0, 0, 0,  ..., 1, 0, 0]]],\n",
      "\n",
      "\n",
      "        ...,\n",
      "\n",
      "\n",
      "        [[[0, 0, 1,  ..., 0, 0, 0],\n",
      "          [0, 0, 1,  ..., 0, 0, 0],\n",
      "          [0, 0, 1,  ..., 1, 0, 0],\n",
      "          ...,\n",
      "          [0, 0, 1,  ..., 1, 0, 0],\n",
      "          [0, 0, 0,  ..., 1, 0, 0],\n",
      "          [0, 0, 0,  ..., 1, 0, 0]]],\n",
      "\n",
      "\n",
      "        [[[0, 0, 1,  ..., 0, 0, 0],\n",
      "          [0, 0, 1,  ..., 0, 0, 0],\n",
      "          [0, 0, 1,  ..., 1, 0, 0],\n",
      "          ...,\n",
      "          [0, 0, 1,  ..., 1, 0, 0],\n",
      "          [0, 0, 0,  ..., 1, 0, 0],\n",
      "          [0, 0, 0,  ..., 1, 0, 0]]],\n",
      "\n",
      "\n",
      "        [[[0, 0, 1,  ..., 0, 0, 0],\n",
      "          [0, 0, 1,  ..., 0, 0, 0],\n",
      "          [0, 0, 1,  ..., 1, 0, 0],\n",
      "          ...,\n",
      "          [0, 0, 1,  ..., 1, 0, 0],\n",
      "          [0, 0, 0,  ..., 1, 0, 0],\n",
      "          [0, 0, 0,  ..., 1, 0, 0]]]]) torch.Size([10, 1, 30, 30])\n"
     ]
    },
    {
     "name": "stderr",
     "output_type": "stream",
     "text": [
      "\n"
     ]
    }
   ],
   "source": [
    "for i in tqdm(torch_dataloader):\n",
    "    print(i, i.shape)\n",
    "    break"
   ]
  },
  {
   "cell_type": "code",
   "execution_count": 7,
   "metadata": {},
   "outputs": [
    {
     "data": {
      "image/png": "[encoded data removed]",
      "text/plain": [
       "<Figure size 1500x1500 with 10 Axes>"
      ]
     },
     "metadata": {},
     "output_type": "display_data"
    }
   ],
   "source": [
    "\n",
    "\n",
    "# Nehmen Sie einen Batch von Bildern\n",
    "images = next(iter(torch_dataloader))\n",
    "show_images(images * 255, n=10)"
   ]
  }
 ],
 "metadata": {
  "kernelspec": {
   "display_name": "diffvenv",
   "language": "python",
   "name": "python3"
  },
  "language_info": {
   "codemirror_mode": {
    "name": "ipython",
    "version": 3
   },
   "file_extension": ".py",
   "mimetype": "text/x-python",
   "name": "python",
   "nbconvert_exporter": "python",
   "pygments_lexer": "ipython3",
   "version": "3.10.4"
  },
  "orig_nbformat": 4
 },
 "nbformat": 4,
 "nbformat_minor": 2
}
