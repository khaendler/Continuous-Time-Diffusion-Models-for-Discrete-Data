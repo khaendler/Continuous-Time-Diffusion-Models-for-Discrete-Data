{
 "cells": [
  {
   "cell_type": "code",
   "execution_count": 1,
   "metadata": {},
   "outputs": [],
   "source": [
    "import torch\n",
    "import lib.utils.bookkeeping as bookkeeping\n",
    "from torch.utils.data import DataLoader\n",
    "from pathlib import Path\n",
    "import numpy as np\n",
    "import matplotlib.pyplot as plt\n",
    "import lib.models.models as models\n",
    "import lib.models.model_utils as model_utils\n",
    "from lib.datasets import mnist, maze, protein, synthetic\n",
    "import lib.datasets.dataset_utils as dataset_utils\n",
    "import lib.losses.losses as losses\n",
    "import lib.losses.losses_utils as losses_utils\n",
    "import lib.training.training as training\n",
    "import lib.training.training_utils as training_utils\n",
    "import lib.optimizers.optimizers as optimizers\n",
    "import lib.optimizers.optimizers_utils as optimizers_utils\n",
    "import lib.sampling.sampling as sampling\n",
    "import lib.sampling.sampling_utils as sampling_utils\n",
    "import os\n",
    "from tqdm import tqdm\n",
    "from lib.datasets.maze import maze_acc\n",
    "from ruamel.yaml.scalarfloat import ScalarFloat\n",
    "from lib.datasets.mnist_fid import evaluate_fid_score\n",
    "def categorical_log_likelihood(x, logits):\n",
    "    \"\"\"Log likelihood of a discretized Gaussian specialized for image data.\n",
    "\n",
    "    Assumes data `x` consists of integers [0, num_classes-1].\n",
    "\n",
    "    Args:\n",
    "    x: where to evaluate the distribution. shape = (bs, ...), dtype=int32/int64\n",
    "    logits: logits, shape = (bs, ..., num_classes)\n",
    "\n",
    "    Returns:\n",
    "    log likelihoods\n",
    "    \"\"\"\n",
    "    pass\n",
    "    #log_probs = nn.log_softmax(logits)\n",
    "    #x_onehot = nn.one_hot(x, logits.shape[-1])\n",
    "    #return torch.sum(log_probs * x_onehot, axis=-1)"
   ]
  },
  {
   "cell_type": "code",
   "execution_count": null,
   "metadata": {},
   "outputs": [],
   "source": [
    "max_t = 0.99999\n",
    "min_t = 0.01\n",
    "num_steps = [342]\n",
    "nfe_10_01 = []\n",
    "for steps in num_steps:\n",
    "    ts = np.concatenate(\n",
    "        (np.\n",
    "        linspace(max_t, min_t, steps), np.array([0]))\n",
    "    )\n",
    "\n",
    "    k = 0 \n",
    "    for i, t in (enumerate(ts[0:-1])):\n",
    "        #print(i+1)\n",
    "        if t <= 0.1:\n",
    "            for j in range(5):\n",
    "                k += 1\n",
    "                #print(k)\n",
    "\n",
    "    nfe_10_01.append(i+1+k)\n",
    "print(nfe_10_01)\n",
    "\n",
    "# nfe_1_01 = [54, 109, 272, 545, 818, 1090] \n",
    "# nfe_3_01 = [64, 129, 318, 637, 956, 1272]\n",
    "# nfe_5_01 = [74, 149, 364, 729, 1094, 1454]\n",
    "# nfe_10_01 = [99, 199, 479, 959, 1439, 1909]\n",
    "\n",
    "# pc_1_steps = 1 [4, 9, 18, 27, 45, 91] => NFE [5, 10, 20, 30, 50, 100]\n",
    "# pc_3_steps = [7, 14, 23, 38, 78] => NFE [10, 20, 32, 50, 102]\n",
    "# pc_5_steps = [10, 20, 33, 67] => NFE [15, 30, 48, 102]\n",
    "\n",
    "# 1 [229, 458] => 250, 500\n",
    "# 3 [196, 392]  => 500\n",
    "# 5 [170, 342]"
   ]
  },
  {
   "cell_type": "code",
   "execution_count": null,
   "metadata": {},
   "outputs": [],
   "source": [
    "\n",
    "n_samples = 15 * 25\n",
    "#s_name = 'Samples/mnist_unet_LBJF2000.npy'\n",
    "s_name = 'Samples/MNIST/mnist_unet_corrector5_01_TauL1000.npy' # Samples/MNIST/\n",
    "samples = np.load(s_name)\n",
    "samples = samples[550:]\n",
    "samples = samples.reshape(-1, 1, 28, 28)\n",
    "#saving_train_path = os.path.join(cfg.saving.sample_plot_path, f\"{cfg.model.name}{state['n_iter']}_{cfg.sampler.name}{cfg.sampler.num_steps}.png\")\n",
    "fig = plt.figure(figsize=(15, 25)) \n",
    "plt.subplots_adjust(wspace=0.001, hspace=0.001)\n",
    "int(np.sqrt(n_samples))\n",
    "for i in range(n_samples):\n",
    "    plt.subplot(int(25), int(15), 1 + i)\n",
    "    plt.axis(\"off\")\n",
    "    plt.imshow(np.transpose(samples[i, ...], (1,2,0)), cmap=\"gray\")\n",
    "\n",
    "plt.tight_layout()  \n",
    "plt.savefig('mnist_unet_corrector5_01_TauL1000.pdf', transparent=True)\n",
    "plt.show()\n",
    "plt.close()"
   ]
  },
  {
   "cell_type": "code",
   "execution_count": 2,
   "metadata": {},
   "outputs": [
    {
     "name": "stdout",
     "output_type": "stream",
     "text": [
      "ema state dict function\n",
      "Info:\n",
      "--------------------------------\n",
      "State Iter: 599999\n",
      "--------------------------------\n",
      "Name Dataset: DiscreteMNIST\n",
      "Loss Name: CTElbo\n",
      "--------------------------------\n",
      "Model Name: GaussianTargetRateImageX0PredEMAPaul\n",
      "Number of Parameters:  14017696\n"
     ]
    }
   ],
   "source": [
    "\n",
    "path = 'SavedModels/MNISTHollow/' # 'SavedModels/MAZE/' 'SavedModels/MNIST/'\n",
    "date = '2024-01-18' # 2\n",
    "config_name = 'config_001_hollow_direct.yaml' # config_001_hollowMLEProb.yaml\n",
    "model_name = 'model_519999_hollow_direct.pt'\n",
    "\n",
    "path = 'SavedModels/MNISTHollow/' # 'SavedModels/MAZE/' 'SavedModels/MNIST/'\n",
    "date = '2024-01-03' # 2\n",
    "config_name = 'config_001_hollow.yaml' # config_001_hollowMLEProb.yaml\n",
    "model_name = 'model_539999_hollow.pt'\n",
    "\n",
    "path = 'SavedModels/MNIST/' # 'SavedModels/MAZE/' 'SavedModels/MNIST/'\n",
    "date = '2023-12-25' # 2\n",
    "config_name = 'config_001_unet14Mlogits.yaml' # config_001_hollowMLEProb.yaml\n",
    "model_name = 'model_599999_unet14Mlogits.pt'\n",
    "\n",
    "dataset_location = 'lib/datasets'\n",
    "\n",
    "config_path = os.path.join(path, date, config_name)\n",
    "checkpoint_path = os.path.join(path, date, model_name)\n",
    "\n",
    "cfg = bookkeeping.load_config(config_path)\n",
    "cfg.data.train = False\n",
    "\"\"\"\n",
    "if cfg.loss.name == 'CatRM':\n",
    "    cfg.loss.name = 'SDDMNLL'\n",
    "elif cfg.loss.name == 'CTElbo':\n",
    "    cfg.loss.name = 'TauLDRNLL'\n",
    "else:\n",
    "    raise KeyError(\"Eval not defined!\")\n",
    "\n",
    "cfg.training.train_step_name = 'EvalMNIST'\n",
    "\"\"\"\n",
    "device = torch.device(cfg.device)\n",
    "\n",
    "model = model_utils.create_model(cfg, device)\n",
    "\n",
    "optimizer = optimizers_utils.get_optimizer(model.parameters(), cfg)\n",
    "\n",
    "state = {\"model\": model, \"optimizer\": optimizer, \"n_iter\": 0}\n",
    "\n",
    "state = bookkeeping.load_state(state, checkpoint_path)\n",
    "cfg.training.n_iters = 600000 \n",
    "cfg.sampler.sample_freq = 100000000\n",
    "cfg.saving.checkpoint_freq = 10000\n",
    "cfg.sampler.num_steps = 1000\n",
    "\n",
    "# EvalMNIST\n",
    "\n",
    "loss = losses_utils.get_loss(cfg)\n",
    "\n",
    "training_step = training_utils.get_train_step(cfg)\n",
    "\n",
    "#sampler = sampling_utils.get_sampler(cfg)\n",
    "\n",
    "\n",
    "\n",
    "print(\"Info:\")\n",
    "print(\"--------------------------------\")\n",
    "print(\"State Iter:\", state[\"n_iter\"])\n",
    "print(\"--------------------------------\")\n",
    "print(\"Name Dataset:\", cfg.data.name)\n",
    "print(\"Loss Name:\", cfg.loss.name)\n",
    "\n",
    "print(\"--------------------------------\")\n",
    "print(\"Model Name:\", cfg.model.name)\n",
    "print(\"Number of Parameters: \", sum([p.numel() for p in model.parameters()]))\n",
    "\n",
    "model.eval()\n",
    "#66.52994572680203  # Inception mean:  7.715643802044586\n",
    "# Inception std:  0.18737017997662175"
   ]
  },
  {
   "cell_type": "code",
   "execution_count": null,
   "metadata": {},
   "outputs": [],
   "source": [
    "n_rounds = 150\n",
    "nll = []\n",
    "dataset = dataset_utils.get_dataset(cfg, device, dataset_location)\n",
    "\n",
    "dataloader = torch.utils.data.DataLoader(dataset,\n",
    "    batch_size=cfg.data.batch_size,\n",
    "    shuffle=cfg.data.shuffle)\n",
    "\n",
    "for i, minibatch in tqdm(enumerate(tqdm(dataloader))):\n",
    "    minibatch = minibatch.to(device)\n",
    "    l = training_step.step(state, minibatch.long(), loss)\n",
    "    nll.append(l.item())\n",
    "\n",
    "    if i >= n_rounds:\n",
    "        print(\"Avg NLL:\", np.mean(nll))\n",
    "        break"
   ]
  },
  {
   "cell_type": "code",
   "execution_count": null,
   "metadata": {},
   "outputs": [],
   "source": [
    "steps = [1000]\n",
    "#mjumps_rate = []\n",
    "#chang_dim_all = np.empty((5, 1000))\n",
    "#mjumps_all = np.empty((5, 1000))\n",
    "avg_dim_1 = []\n",
    "avg_dim_12 = []\n",
    "avg_dim_ins = []\n",
    "avg_dim_mulj = []\n",
    "chang_dim = []\n",
    "cfg.sampler.num_corrector_steps = 0\n",
    "cfg.sampler.corrector_entry_time = ScalarFloat(0.0)\n",
    "#cfg.sampler.num_steps = 10\n",
    "cfg.sampler.is_ordinal = True\n",
    "sampler_names = ['MidPointTauL'] # 'CRMLBJF', \n",
    "n_samples = 200\n",
    "clip1 = []\n",
    "clip2 = []\n",
    "for _, n_name in enumerate(sampler_names):\n",
    "    cfg.sampler.name = n_name \n",
    "    print(\"# name:\", cfg.sampler.name)\n",
    "    for _, n_steps in enumerate(steps):\n",
    "        cfg.sampler.num_steps = n_steps\n",
    "        print(\"# step:\", cfg.sampler.num_steps)\n",
    "        for i in range(50):\n",
    "            \n",
    "            sampler = sampling_utils.get_sampler(cfg)\n",
    "            samples, changes_jump, changes_dim, change_dim_first, change_1to2, change_clamp1, change_clamp2 = sampler.sample(model, n_samples)\n",
    "            saved_samples = samples\n",
    "            print(f'mnist_hollow_{cfg.sampler.name}{cfg.sampler.num_steps}_mnist{i}')\n",
    "            np.save(f'mnist_hollow_{cfg.sampler.name}{cfg.sampler.num_steps}_mnist{i}', saved_samples.reshape(n_samples, 1, cfg.data.image_size, cfg.data.image_size))\n",
    "        \"\"\"\n",
    "            if i == 0 :\n",
    "                print(\"# Prop Multiple jumps over time\", changes_jump)\n",
    "                print(\"# change dim x to x_prime over time\", change_dim_first)\n",
    "                print(\"# change dim x_prime to x_new over time\", change_1to2)\n",
    "                print(\"# Average proportion of dim that changes over time\", changes_dim)\n",
    "                print(\"-----------------------------------------------\")\n",
    "                print(\"# Mean of multiple jumps for tau plot\", np.mean(changes_jump))\n",
    "                print(\"# FIRST: Mean of avg changing dim for tau plot\", np.mean(change_dim_first))\n",
    "                print(\"# FIRST2SECOND: Mean of avg changing dim for tau plot\", np.mean(change_1to2))\n",
    "                print(\"# Mean of avg changing dim for tau plot\", np.mean(changes_dim))\n",
    "\n",
    "            \n",
    "        \n",
    "        #np.save(f'MNISTstatistics/unet_mptaul{n_steps}_mjumps_prime_t.npy', changes_jump)\n",
    "        #np.save(f'MNISTstatistics/unet_mptaul{n_steps}_dim_1_prime_t.npy', change_dim_first)\n",
    "        #np.save(f'MNISTstatistics/unet_mptaul{n_steps}_dim_12_prime_t.npy', change_1to2)\n",
    "        #np.save(f'MNISTstatistics/unet_mptaul{n_steps}_dim_ins_prime_t.npy', changes_dim)\n",
    "        \n",
    "        avg_dim_1.append(np.mean(change_dim_first))\n",
    "        avg_dim_12.append(np.mean(change_1to2))\n",
    "        avg_dim_ins.append(np.mean(changes_dim))\n",
    "        avg_dim_mulj.append(np.mean(changes_jump))\n",
    "        clip1.append(np.mean(change_clamp1))\n",
    "        clip2.append(np.mean(change_clamp2))\n",
    "        \"\"\"\n",
    "#np.save(f'MNISTstatistics/unet_mptaul_mjumps_tau.npy', avg_dim_mulj)\n",
    "#np.save(f'MNISTstatistics/unet_mptaul_dim_1_tau.npy', avg_dim_1)\n",
    "#np.save(f'MNISTstatistics/unet_mptaul_dim_12_tau.npy', avg_dim_12)\n",
    "#np.save(f'MNISTstatistics/unet_mptaul_dim_ins_tau.npy', avg_dim_ins)\n",
    "#np.save(f'MNISTstatistics/unet_mptaul_clip1.npy', clip1)\n",
    "#np.save(f'MNISTstatistics/unet_mptaul_clip2.npy', clip2)"
   ]
  },
  {
   "cell_type": "code",
   "execution_count": null,
   "metadata": {},
   "outputs": [],
   "source": [
    "steps = [5, 7, 10, 15, 20, 30, 50, 100, 250, 500, 1000]\n",
    "avg_dim_1 = []\n",
    "avg_dim_12 = []\n",
    "avg_dim_ins = []\n",
    "avg_dim_mulj = []\n",
    "for n_steps in steps:\n",
    "    changes_jump = np.load(f'MNISTstatistics/unet_mptaul{n_steps}_mjumps_prime_t.npy')\n",
    "    change_dim_first = np.load(f'MNISTstatistics/unet_mptaul{n_steps}_dim_1_prime_t.npy')\n",
    "    change_1to2 = np.load(f'MNISTstatistics/unet_mptaul{n_steps}_dim_12_prime_t.npy')\n",
    "    changes_dim = np.load(f'MNISTstatistics/unet_mptaul{n_steps}_dim_ins_prime_t.npy')\n",
    "    avg_dim_1.append(np.mean(change_dim_first))\n",
    "    avg_dim_12.append(np.mean(change_1to2))\n",
    "    avg_dim_ins.append(np.mean(changes_dim))\n",
    "    avg_dim_mulj.append(np.mean(changes_jump))\n",
    "np.save(f'MNISTstatistics/unet_mptaul_mjumps_prime_tau.npy', avg_dim_mulj)\n",
    "np.save(f'MNISTstatistics/unet_mptaul_dim_1_prime_tau.npy', avg_dim_1)\n",
    "np.save(f'MNISTstatistics/unet_mptaul_dim_12_prime_tau.npy', avg_dim_12)\n",
    "np.save(f'MNISTstatistics/unet_mptaul_dim_ins_prime_tau.npy', avg_dim_ins)\n",
    "    \n",
    "\n",
    "    "
   ]
  },
  {
   "cell_type": "code",
   "execution_count": 3,
   "metadata": {},
   "outputs": [
    {
     "name": "stdout",
     "output_type": "stream",
     "text": [
      "# name: TauL\n",
      "Corrector: 1\n",
      "# step: 229\n"
     ]
    },
    {
     "name": "stderr",
     "output_type": "stream",
     "text": [
      "208it [01:20,  2.47it/s]"
     ]
    },
    {
     "name": "stdout",
     "output_type": "stream",
     "text": [
      "corrector\n"
     ]
    },
    {
     "name": "stderr",
     "output_type": "stream",
     "text": [
      "209it [01:20,  2.20it/s]"
     ]
    },
    {
     "name": "stdout",
     "output_type": "stream",
     "text": [
      "corrector\n"
     ]
    },
    {
     "name": "stderr",
     "output_type": "stream",
     "text": [
      "210it [01:21,  1.71it/s]"
     ]
    },
    {
     "name": "stdout",
     "output_type": "stream",
     "text": [
      "corrector\n"
     ]
    },
    {
     "name": "stderr",
     "output_type": "stream",
     "text": [
      "211it [01:22,  1.61it/s]"
     ]
    },
    {
     "name": "stdout",
     "output_type": "stream",
     "text": [
      "corrector\n"
     ]
    },
    {
     "name": "stderr",
     "output_type": "stream",
     "text": [
      "212it [01:23,  1.52it/s]"
     ]
    },
    {
     "name": "stdout",
     "output_type": "stream",
     "text": [
      "corrector\n"
     ]
    },
    {
     "name": "stderr",
     "output_type": "stream",
     "text": [
      "213it [01:23,  1.39it/s]"
     ]
    },
    {
     "name": "stdout",
     "output_type": "stream",
     "text": [
      "corrector\n"
     ]
    },
    {
     "name": "stderr",
     "output_type": "stream",
     "text": [
      "214it [01:24,  1.45it/s]"
     ]
    },
    {
     "name": "stdout",
     "output_type": "stream",
     "text": [
      "corrector\n"
     ]
    },
    {
     "name": "stderr",
     "output_type": "stream",
     "text": [
      "215it [01:25,  1.29it/s]"
     ]
    },
    {
     "name": "stdout",
     "output_type": "stream",
     "text": [
      "corrector\n"
     ]
    },
    {
     "name": "stderr",
     "output_type": "stream",
     "text": [
      "216it [01:25,  1.45it/s]"
     ]
    },
    {
     "name": "stdout",
     "output_type": "stream",
     "text": [
      "corrector\n"
     ]
    },
    {
     "name": "stderr",
     "output_type": "stream",
     "text": [
      "217it [01:26,  1.29it/s]"
     ]
    },
    {
     "name": "stdout",
     "output_type": "stream",
     "text": [
      "corrector\n"
     ]
    },
    {
     "name": "stderr",
     "output_type": "stream",
     "text": [
      "218it [01:27,  1.37it/s]"
     ]
    },
    {
     "name": "stdout",
     "output_type": "stream",
     "text": [
      "corrector\n"
     ]
    },
    {
     "name": "stderr",
     "output_type": "stream",
     "text": [
      "219it [01:28,  1.31it/s]"
     ]
    },
    {
     "name": "stdout",
     "output_type": "stream",
     "text": [
      "corrector\n"
     ]
    },
    {
     "name": "stderr",
     "output_type": "stream",
     "text": [
      "220it [01:29,  1.31it/s]"
     ]
    },
    {
     "name": "stdout",
     "output_type": "stream",
     "text": [
      "corrector\n"
     ]
    },
    {
     "name": "stderr",
     "output_type": "stream",
     "text": [
      "221it [01:29,  1.34it/s]"
     ]
    },
    {
     "name": "stdout",
     "output_type": "stream",
     "text": [
      "corrector\n"
     ]
    },
    {
     "name": "stderr",
     "output_type": "stream",
     "text": [
      "222it [01:30,  1.26it/s]"
     ]
    },
    {
     "name": "stdout",
     "output_type": "stream",
     "text": [
      "corrector\n"
     ]
    },
    {
     "name": "stderr",
     "output_type": "stream",
     "text": [
      "223it [01:31,  1.38it/s]"
     ]
    },
    {
     "name": "stdout",
     "output_type": "stream",
     "text": [
      "corrector\n"
     ]
    },
    {
     "name": "stderr",
     "output_type": "stream",
     "text": [
      "224it [01:32,  1.25it/s]"
     ]
    },
    {
     "name": "stdout",
     "output_type": "stream",
     "text": [
      "corrector\n"
     ]
    },
    {
     "name": "stderr",
     "output_type": "stream",
     "text": [
      "225it [01:32,  1.39it/s]"
     ]
    },
    {
     "name": "stdout",
     "output_type": "stream",
     "text": [
      "corrector\n"
     ]
    },
    {
     "name": "stderr",
     "output_type": "stream",
     "text": [
      "226it [01:33,  1.28it/s]"
     ]
    },
    {
     "name": "stdout",
     "output_type": "stream",
     "text": [
      "corrector\n"
     ]
    },
    {
     "name": "stderr",
     "output_type": "stream",
     "text": [
      "227it [01:34,  1.34it/s]"
     ]
    },
    {
     "name": "stdout",
     "output_type": "stream",
     "text": [
      "corrector\n"
     ]
    },
    {
     "name": "stderr",
     "output_type": "stream",
     "text": [
      "228it [01:35,  1.31it/s]"
     ]
    },
    {
     "name": "stdout",
     "output_type": "stream",
     "text": [
      "corrector\n"
     ]
    },
    {
     "name": "stderr",
     "output_type": "stream",
     "text": [
      "229it [01:36,  2.38it/s]\n",
      "208it [01:17,  2.48it/s]"
     ]
    },
    {
     "name": "stdout",
     "output_type": "stream",
     "text": [
      "corrector\n"
     ]
    },
    {
     "name": "stderr",
     "output_type": "stream",
     "text": [
      "209it [01:17,  2.26it/s]"
     ]
    },
    {
     "name": "stdout",
     "output_type": "stream",
     "text": [
      "corrector\n"
     ]
    },
    {
     "name": "stderr",
     "output_type": "stream",
     "text": [
      "210it [01:18,  1.66it/s]"
     ]
    },
    {
     "name": "stdout",
     "output_type": "stream",
     "text": [
      "corrector\n"
     ]
    },
    {
     "name": "stderr",
     "output_type": "stream",
     "text": [
      "211it [01:19,  1.69it/s]"
     ]
    },
    {
     "name": "stdout",
     "output_type": "stream",
     "text": [
      "corrector\n"
     ]
    },
    {
     "name": "stderr",
     "output_type": "stream",
     "text": [
      "212it [01:19,  1.47it/s]"
     ]
    },
    {
     "name": "stdout",
     "output_type": "stream",
     "text": [
      "corrector\n"
     ]
    },
    {
     "name": "stderr",
     "output_type": "stream",
     "text": [
      "213it [01:20,  1.45it/s]"
     ]
    },
    {
     "name": "stdout",
     "output_type": "stream",
     "text": [
      "corrector\n"
     ]
    },
    {
     "name": "stderr",
     "output_type": "stream",
     "text": [
      "214it [01:21,  1.41it/s]"
     ]
    },
    {
     "name": "stdout",
     "output_type": "stream",
     "text": [
      "corrector\n"
     ]
    },
    {
     "name": "stderr",
     "output_type": "stream",
     "text": [
      "215it [01:22,  1.33it/s]"
     ]
    },
    {
     "name": "stdout",
     "output_type": "stream",
     "text": [
      "corrector\n"
     ]
    },
    {
     "name": "stderr",
     "output_type": "stream",
     "text": [
      "216it [01:22,  1.41it/s]"
     ]
    },
    {
     "name": "stdout",
     "output_type": "stream",
     "text": [
      "corrector\n"
     ]
    },
    {
     "name": "stderr",
     "output_type": "stream",
     "text": [
      "217it [01:23,  1.26it/s]"
     ]
    },
    {
     "name": "stdout",
     "output_type": "stream",
     "text": [
      "corrector\n"
     ]
    },
    {
     "name": "stderr",
     "output_type": "stream",
     "text": [
      "218it [01:24,  1.43it/s]"
     ]
    },
    {
     "name": "stdout",
     "output_type": "stream",
     "text": [
      "corrector\n"
     ]
    },
    {
     "name": "stderr",
     "output_type": "stream",
     "text": [
      "219it [01:25,  1.28it/s]"
     ]
    },
    {
     "name": "stdout",
     "output_type": "stream",
     "text": [
      "corrector\n"
     ]
    },
    {
     "name": "stderr",
     "output_type": "stream",
     "text": [
      "220it [01:25,  1.36it/s]"
     ]
    },
    {
     "name": "stdout",
     "output_type": "stream",
     "text": [
      "corrector\n"
     ]
    },
    {
     "name": "stderr",
     "output_type": "stream",
     "text": [
      "221it [01:26,  1.31it/s]"
     ]
    },
    {
     "name": "stdout",
     "output_type": "stream",
     "text": [
      "corrector\n"
     ]
    },
    {
     "name": "stderr",
     "output_type": "stream",
     "text": [
      "222it [01:27,  1.31it/s]"
     ]
    },
    {
     "name": "stdout",
     "output_type": "stream",
     "text": [
      "corrector\n"
     ]
    },
    {
     "name": "stderr",
     "output_type": "stream",
     "text": [
      "223it [01:28,  1.34it/s]"
     ]
    },
    {
     "name": "stdout",
     "output_type": "stream",
     "text": [
      "corrector\n"
     ]
    },
    {
     "name": "stderr",
     "output_type": "stream",
     "text": [
      "224it [01:29,  1.27it/s]"
     ]
    },
    {
     "name": "stdout",
     "output_type": "stream",
     "text": [
      "corrector\n"
     ]
    },
    {
     "name": "stderr",
     "output_type": "stream",
     "text": [
      "225it [01:29,  1.38it/s]"
     ]
    },
    {
     "name": "stdout",
     "output_type": "stream",
     "text": [
      "corrector\n"
     ]
    },
    {
     "name": "stderr",
     "output_type": "stream",
     "text": [
      "226it [01:30,  1.25it/s]"
     ]
    },
    {
     "name": "stdout",
     "output_type": "stream",
     "text": [
      "corrector\n"
     ]
    },
    {
     "name": "stderr",
     "output_type": "stream",
     "text": [
      "227it [01:31,  1.39it/s]"
     ]
    },
    {
     "name": "stdout",
     "output_type": "stream",
     "text": [
      "corrector\n"
     ]
    },
    {
     "name": "stderr",
     "output_type": "stream",
     "text": [
      "228it [01:32,  1.28it/s]"
     ]
    },
    {
     "name": "stdout",
     "output_type": "stream",
     "text": [
      "corrector\n"
     ]
    },
    {
     "name": "stderr",
     "output_type": "stream",
     "text": [
      "229it [01:32,  2.47it/s]\n",
      "208it [01:16,  2.43it/s]"
     ]
    },
    {
     "name": "stdout",
     "output_type": "stream",
     "text": [
      "corrector\n"
     ]
    },
    {
     "name": "stderr",
     "output_type": "stream",
     "text": [
      "209it [01:17,  2.29it/s]"
     ]
    },
    {
     "name": "stdout",
     "output_type": "stream",
     "text": [
      "corrector\n"
     ]
    },
    {
     "name": "stderr",
     "output_type": "stream",
     "text": [
      "210it [01:18,  1.69it/s]"
     ]
    },
    {
     "name": "stdout",
     "output_type": "stream",
     "text": [
      "corrector\n"
     ]
    },
    {
     "name": "stderr",
     "output_type": "stream",
     "text": [
      "211it [01:18,  1.65it/s]"
     ]
    },
    {
     "name": "stdout",
     "output_type": "stream",
     "text": [
      "corrector\n"
     ]
    },
    {
     "name": "stderr",
     "output_type": "stream",
     "text": [
      "212it [01:19,  1.49it/s]"
     ]
    },
    {
     "name": "stdout",
     "output_type": "stream",
     "text": [
      "corrector\n"
     ]
    },
    {
     "name": "stderr",
     "output_type": "stream",
     "text": [
      "213it [01:20,  1.42it/s]"
     ]
    },
    {
     "name": "stdout",
     "output_type": "stream",
     "text": [
      "corrector\n"
     ]
    },
    {
     "name": "stderr",
     "output_type": "stream",
     "text": [
      "214it [01:21,  1.43it/s]"
     ]
    },
    {
     "name": "stdout",
     "output_type": "stream",
     "text": [
      "corrector\n"
     ]
    },
    {
     "name": "stderr",
     "output_type": "stream",
     "text": [
      "215it [01:22,  1.31it/s]"
     ]
    },
    {
     "name": "stdout",
     "output_type": "stream",
     "text": [
      "corrector\n"
     ]
    },
    {
     "name": "stderr",
     "output_type": "stream",
     "text": [
      "216it [01:22,  1.43it/s]"
     ]
    },
    {
     "name": "stdout",
     "output_type": "stream",
     "text": [
      "corrector\n"
     ]
    },
    {
     "name": "stderr",
     "output_type": "stream",
     "text": [
      "217it [01:23,  1.28it/s]"
     ]
    },
    {
     "name": "stdout",
     "output_type": "stream",
     "text": [
      "corrector\n"
     ]
    },
    {
     "name": "stderr",
     "output_type": "stream",
     "text": [
      "218it [01:24,  1.40it/s]"
     ]
    },
    {
     "name": "stdout",
     "output_type": "stream",
     "text": [
      "corrector\n"
     ]
    },
    {
     "name": "stderr",
     "output_type": "stream",
     "text": [
      "219it [01:25,  1.30it/s]"
     ]
    },
    {
     "name": "stdout",
     "output_type": "stream",
     "text": [
      "corrector\n"
     ]
    },
    {
     "name": "stderr",
     "output_type": "stream",
     "text": [
      "220it [01:25,  1.34it/s]"
     ]
    },
    {
     "name": "stdout",
     "output_type": "stream",
     "text": [
      "corrector\n"
     ]
    },
    {
     "name": "stderr",
     "output_type": "stream",
     "text": [
      "221it [01:26,  1.33it/s]"
     ]
    },
    {
     "name": "stdout",
     "output_type": "stream",
     "text": [
      "corrector\n"
     ]
    },
    {
     "name": "stderr",
     "output_type": "stream",
     "text": [
      "222it [01:27,  1.29it/s]"
     ]
    },
    {
     "name": "stdout",
     "output_type": "stream",
     "text": [
      "corrector\n"
     ]
    },
    {
     "name": "stderr",
     "output_type": "stream",
     "text": [
      "223it [01:27,  1.36it/s]"
     ]
    },
    {
     "name": "stdout",
     "output_type": "stream",
     "text": [
      "corrector\n"
     ]
    },
    {
     "name": "stderr",
     "output_type": "stream",
     "text": [
      "224it [01:28,  1.25it/s]"
     ]
    },
    {
     "name": "stdout",
     "output_type": "stream",
     "text": [
      "corrector\n"
     ]
    },
    {
     "name": "stderr",
     "output_type": "stream",
     "text": [
      "225it [01:29,  1.40it/s]"
     ]
    },
    {
     "name": "stdout",
     "output_type": "stream",
     "text": [
      "corrector\n"
     ]
    },
    {
     "name": "stderr",
     "output_type": "stream",
     "text": [
      "226it [01:30,  1.27it/s]"
     ]
    },
    {
     "name": "stdout",
     "output_type": "stream",
     "text": [
      "corrector\n"
     ]
    },
    {
     "name": "stderr",
     "output_type": "stream",
     "text": [
      "227it [01:31,  1.37it/s]"
     ]
    },
    {
     "name": "stdout",
     "output_type": "stream",
     "text": [
      "corrector\n"
     ]
    },
    {
     "name": "stderr",
     "output_type": "stream",
     "text": [
      "228it [01:31,  1.30it/s]"
     ]
    },
    {
     "name": "stdout",
     "output_type": "stream",
     "text": [
      "corrector\n"
     ]
    },
    {
     "name": "stderr",
     "output_type": "stream",
     "text": [
      "229it [01:32,  2.47it/s]\n",
      "208it [01:16,  2.56it/s]"
     ]
    },
    {
     "name": "stdout",
     "output_type": "stream",
     "text": [
      "corrector\n"
     ]
    },
    {
     "name": "stderr",
     "output_type": "stream",
     "text": [
      "209it [01:17,  2.23it/s]"
     ]
    },
    {
     "name": "stdout",
     "output_type": "stream",
     "text": [
      "corrector\n"
     ]
    },
    {
     "name": "stderr",
     "output_type": "stream",
     "text": [
      "210it [01:18,  1.65it/s]"
     ]
    },
    {
     "name": "stdout",
     "output_type": "stream",
     "text": [
      "corrector\n"
     ]
    },
    {
     "name": "stderr",
     "output_type": "stream",
     "text": [
      "211it [01:18,  1.73it/s]"
     ]
    },
    {
     "name": "stdout",
     "output_type": "stream",
     "text": [
      "corrector\n"
     ]
    },
    {
     "name": "stderr",
     "output_type": "stream",
     "text": [
      "212it [01:19,  1.45it/s]"
     ]
    },
    {
     "name": "stdout",
     "output_type": "stream",
     "text": [
      "corrector\n"
     ]
    },
    {
     "name": "stderr",
     "output_type": "stream",
     "text": [
      "213it [01:20,  1.47it/s]"
     ]
    },
    {
     "name": "stdout",
     "output_type": "stream",
     "text": [
      "corrector\n"
     ]
    },
    {
     "name": "stderr",
     "output_type": "stream",
     "text": [
      "214it [01:21,  1.39it/s]"
     ]
    },
    {
     "name": "stdout",
     "output_type": "stream",
     "text": [
      "corrector\n"
     ]
    },
    {
     "name": "stderr",
     "output_type": "stream",
     "text": [
      "215it [01:22,  1.35it/s]"
     ]
    },
    {
     "name": "stdout",
     "output_type": "stream",
     "text": [
      "corrector\n"
     ]
    },
    {
     "name": "stderr",
     "output_type": "stream",
     "text": [
      "216it [01:22,  1.39it/s]"
     ]
    },
    {
     "name": "stdout",
     "output_type": "stream",
     "text": [
      "corrector\n"
     ]
    },
    {
     "name": "stderr",
     "output_type": "stream",
     "text": [
      "217it [01:23,  1.28it/s]"
     ]
    },
    {
     "name": "stdout",
     "output_type": "stream",
     "text": [
      "corrector\n"
     ]
    },
    {
     "name": "stderr",
     "output_type": "stream",
     "text": [
      "218it [01:24,  1.41it/s]"
     ]
    },
    {
     "name": "stdout",
     "output_type": "stream",
     "text": [
      "corrector\n"
     ]
    },
    {
     "name": "stderr",
     "output_type": "stream",
     "text": [
      "219it [01:25,  1.27it/s]"
     ]
    },
    {
     "name": "stdout",
     "output_type": "stream",
     "text": [
      "corrector\n"
     ]
    },
    {
     "name": "stderr",
     "output_type": "stream",
     "text": [
      "220it [01:25,  1.39it/s]"
     ]
    },
    {
     "name": "stdout",
     "output_type": "stream",
     "text": [
      "corrector\n"
     ]
    },
    {
     "name": "stderr",
     "output_type": "stream",
     "text": [
      "221it [01:26,  1.30it/s]"
     ]
    },
    {
     "name": "stdout",
     "output_type": "stream",
     "text": [
      "corrector\n"
     ]
    },
    {
     "name": "stderr",
     "output_type": "stream",
     "text": [
      "222it [01:27,  1.33it/s]"
     ]
    },
    {
     "name": "stdout",
     "output_type": "stream",
     "text": [
      "corrector\n"
     ]
    },
    {
     "name": "stderr",
     "output_type": "stream",
     "text": [
      "223it [01:27,  1.38it/s]"
     ]
    },
    {
     "name": "stdout",
     "output_type": "stream",
     "text": [
      "corrector\n"
     ]
    },
    {
     "name": "stderr",
     "output_type": "stream",
     "text": [
      "224it [01:28,  1.28it/s]"
     ]
    },
    {
     "name": "stdout",
     "output_type": "stream",
     "text": [
      "corrector\n"
     ]
    },
    {
     "name": "stderr",
     "output_type": "stream",
     "text": [
      "225it [01:29,  1.41it/s]"
     ]
    },
    {
     "name": "stdout",
     "output_type": "stream",
     "text": [
      "corrector\n"
     ]
    },
    {
     "name": "stderr",
     "output_type": "stream",
     "text": [
      "226it [01:30,  1.26it/s]"
     ]
    },
    {
     "name": "stdout",
     "output_type": "stream",
     "text": [
      "corrector\n"
     ]
    },
    {
     "name": "stderr",
     "output_type": "stream",
     "text": [
      "227it [01:30,  1.39it/s]"
     ]
    },
    {
     "name": "stdout",
     "output_type": "stream",
     "text": [
      "corrector\n"
     ]
    },
    {
     "name": "stderr",
     "output_type": "stream",
     "text": [
      "228it [01:31,  1.29it/s]"
     ]
    },
    {
     "name": "stdout",
     "output_type": "stream",
     "text": [
      "corrector\n"
     ]
    },
    {
     "name": "stderr",
     "output_type": "stream",
     "text": [
      "229it [01:32,  2.47it/s]\n",
      "208it [01:16,  3.07it/s]"
     ]
    },
    {
     "name": "stdout",
     "output_type": "stream",
     "text": [
      "corrector\n"
     ]
    },
    {
     "name": "stderr",
     "output_type": "stream",
     "text": [
      "209it [01:17,  1.93it/s]"
     ]
    },
    {
     "name": "stdout",
     "output_type": "stream",
     "text": [
      "corrector\n"
     ]
    },
    {
     "name": "stderr",
     "output_type": "stream",
     "text": [
      "210it [01:17,  1.84it/s]"
     ]
    },
    {
     "name": "stdout",
     "output_type": "stream",
     "text": [
      "corrector\n"
     ]
    },
    {
     "name": "stderr",
     "output_type": "stream",
     "text": [
      "211it [01:18,  1.57it/s]"
     ]
    },
    {
     "name": "stdout",
     "output_type": "stream",
     "text": [
      "corrector\n"
     ]
    },
    {
     "name": "stderr",
     "output_type": "stream",
     "text": [
      "212it [01:19,  1.50it/s]"
     ]
    },
    {
     "name": "stdout",
     "output_type": "stream",
     "text": [
      "corrector\n"
     ]
    },
    {
     "name": "stderr",
     "output_type": "stream",
     "text": [
      "213it [01:20,  1.47it/s]"
     ]
    },
    {
     "name": "stdout",
     "output_type": "stream",
     "text": [
      "corrector\n"
     ]
    },
    {
     "name": "stderr",
     "output_type": "stream",
     "text": [
      "214it [01:21,  1.35it/s]"
     ]
    },
    {
     "name": "stdout",
     "output_type": "stream",
     "text": [
      "corrector\n"
     ]
    },
    {
     "name": "stderr",
     "output_type": "stream",
     "text": [
      "215it [01:21,  1.44it/s]"
     ]
    },
    {
     "name": "stdout",
     "output_type": "stream",
     "text": [
      "corrector\n"
     ]
    },
    {
     "name": "stderr",
     "output_type": "stream",
     "text": [
      "216it [01:22,  1.28it/s]"
     ]
    },
    {
     "name": "stdout",
     "output_type": "stream",
     "text": [
      "corrector\n"
     ]
    },
    {
     "name": "stderr",
     "output_type": "stream",
     "text": [
      "217it [01:23,  1.43it/s]"
     ]
    },
    {
     "name": "stdout",
     "output_type": "stream",
     "text": [
      "corrector\n"
     ]
    },
    {
     "name": "stderr",
     "output_type": "stream",
     "text": [
      "218it [01:24,  1.29it/s]"
     ]
    },
    {
     "name": "stdout",
     "output_type": "stream",
     "text": [
      "corrector\n"
     ]
    },
    {
     "name": "stderr",
     "output_type": "stream",
     "text": [
      "219it [01:24,  1.36it/s]"
     ]
    },
    {
     "name": "stdout",
     "output_type": "stream",
     "text": [
      "corrector\n"
     ]
    },
    {
     "name": "stderr",
     "output_type": "stream",
     "text": [
      "220it [01:25,  1.32it/s]"
     ]
    },
    {
     "name": "stdout",
     "output_type": "stream",
     "text": [
      "corrector\n"
     ]
    },
    {
     "name": "stderr",
     "output_type": "stream",
     "text": [
      "221it [01:26,  1.30it/s]"
     ]
    },
    {
     "name": "stdout",
     "output_type": "stream",
     "text": [
      "corrector\n"
     ]
    },
    {
     "name": "stderr",
     "output_type": "stream",
     "text": [
      "222it [01:27,  1.35it/s]"
     ]
    },
    {
     "name": "stdout",
     "output_type": "stream",
     "text": [
      "corrector\n"
     ]
    },
    {
     "name": "stderr",
     "output_type": "stream",
     "text": [
      "223it [01:27,  1.26it/s]"
     ]
    },
    {
     "name": "stdout",
     "output_type": "stream",
     "text": [
      "corrector\n"
     ]
    },
    {
     "name": "stderr",
     "output_type": "stream",
     "text": [
      "224it [01:28,  1.39it/s]"
     ]
    },
    {
     "name": "stdout",
     "output_type": "stream",
     "text": [
      "corrector\n"
     ]
    },
    {
     "name": "stderr",
     "output_type": "stream",
     "text": [
      "225it [01:29,  1.26it/s]"
     ]
    },
    {
     "name": "stdout",
     "output_type": "stream",
     "text": [
      "corrector\n"
     ]
    },
    {
     "name": "stderr",
     "output_type": "stream",
     "text": [
      "226it [01:30,  1.38it/s]"
     ]
    },
    {
     "name": "stdout",
     "output_type": "stream",
     "text": [
      "corrector\n"
     ]
    },
    {
     "name": "stderr",
     "output_type": "stream",
     "text": [
      "227it [01:30,  1.29it/s]"
     ]
    },
    {
     "name": "stdout",
     "output_type": "stream",
     "text": [
      "corrector\n"
     ]
    },
    {
     "name": "stderr",
     "output_type": "stream",
     "text": [
      "228it [01:31,  1.33it/s]"
     ]
    },
    {
     "name": "stdout",
     "output_type": "stream",
     "text": [
      "corrector\n"
     ]
    },
    {
     "name": "stderr",
     "output_type": "stream",
     "text": [
      "229it [01:32,  2.48it/s]\n",
      "208it [01:16,  3.19it/s]"
     ]
    },
    {
     "name": "stdout",
     "output_type": "stream",
     "text": [
      "corrector\n"
     ]
    },
    {
     "name": "stderr",
     "output_type": "stream",
     "text": [
      "209it [01:17,  2.00it/s]"
     ]
    },
    {
     "name": "stdout",
     "output_type": "stream",
     "text": [
      "corrector\n"
     ]
    },
    {
     "name": "stderr",
     "output_type": "stream",
     "text": [
      "210it [01:17,  1.83it/s]"
     ]
    },
    {
     "name": "stdout",
     "output_type": "stream",
     "text": [
      "corrector\n"
     ]
    },
    {
     "name": "stderr",
     "output_type": "stream",
     "text": [
      "211it [01:18,  1.61it/s]"
     ]
    },
    {
     "name": "stdout",
     "output_type": "stream",
     "text": [
      "corrector\n"
     ]
    },
    {
     "name": "stderr",
     "output_type": "stream",
     "text": [
      "212it [01:19,  1.48it/s]"
     ]
    },
    {
     "name": "stdout",
     "output_type": "stream",
     "text": [
      "corrector\n"
     ]
    },
    {
     "name": "stderr",
     "output_type": "stream",
     "text": [
      "213it [01:20,  1.48it/s]"
     ]
    },
    {
     "name": "stdout",
     "output_type": "stream",
     "text": [
      "corrector\n"
     ]
    },
    {
     "name": "stderr",
     "output_type": "stream",
     "text": [
      "214it [01:21,  1.34it/s]"
     ]
    },
    {
     "name": "stdout",
     "output_type": "stream",
     "text": [
      "corrector\n"
     ]
    },
    {
     "name": "stderr",
     "output_type": "stream",
     "text": [
      "215it [01:21,  1.46it/s]"
     ]
    }
   ],
   "source": [
    "# pc_1_steps = 1 [4, 9, 18, 27, 45, 91] => NFE [5, 10, 20, 30, 50, 100]\n",
    "# pc_3_steps = [7, 14, 23, 38, 78] => NFE [10, 20, 32, 50, 102]\n",
    "# pc_5_steps = [10, 20, 33, 67] => NFE [15, 30, 48, 102]\n",
    "# 1 [229, 458] => 250, 500\n",
    "# 3 [196, 392]  => 500\n",
    "# 5 [170, 342]\n",
    "\n",
    "cfg.sampler.num_corrector_steps = 0\n",
    "cfg.sampler.corrector_entry_time = ScalarFloat(0.1)\n",
    "#cfg.sampler.num_steps = 10\n",
    "cfg.sampler.is_ordinal = True\n",
    "sampler_names = ['TauL'] # 'CRMLBJF', \n",
    "n_samples = 500\n",
    "for _, n_name in enumerate(sampler_names):\n",
    "    cfg.sampler.name = n_name \n",
    "    print(\"# name:\", cfg.sampler.name)\n",
    "    for pc in [1, 3, 5]:\n",
    "        cfg.sampler.num_corrector_steps = pc\n",
    "        print(\"Corrector:\", cfg.sampler.num_corrector_steps)\n",
    "        if cfg.sampler.num_corrector_steps == 1:\n",
    "            steps = [229, 458] \n",
    "        elif cfg.sampler.num_corrector_steps == 3:\n",
    "            steps = [196, 392]\n",
    "        elif cfg.sampler.num_corrector_steps == 5:\n",
    "            steps = [170, 342]\n",
    "        else:\n",
    "            raise ValueError(\"Not existing!\")\n",
    "        for _, n_steps in enumerate(steps):\n",
    "            cfg.sampler.num_steps = n_steps\n",
    "            print(\"# step:\", cfg.sampler.num_steps)\n",
    "            for i in range(20):\n",
    "                sampler = sampling_utils.get_sampler(cfg)\n",
    "                samples, changes = sampler.sample(model, n_samples)\n",
    "                saved_samples = samples\n",
    "                np.save(f'mnist_unet_corrector{pc}_01_{cfg.sampler.name}{cfg.sampler.num_steps}_mnist{i}', saved_samples.reshape(n_samples, 1, cfg.data.image_size, cfg.data.image_size))\n"
   ]
  },
  {
   "cell_type": "code",
   "execution_count": null,
   "metadata": {},
   "outputs": [],
   "source": [
    "\n",
    "c = 5\n",
    "steps = [67]\n",
    "sampler_name = ['TauL']# , CRMTauL']\n",
    "for sampler_n_i in sampler_name:\n",
    "    for step in steps:\n",
    "        data_list = []\n",
    "        for i in range(20):\n",
    "            print(f'mnist_unet_corrector{c}_01_{sampler_n_i}{step}_mnist{i}.npy')\n",
    "            data_list.append(np.load(f'mnist_unet_corrector{c}_01_{sampler_n_i}{step}_mnist{i}.npy'))\n",
    "        data = np.vstack(data_list)\n",
    "        print(data.shape)\n",
    "        np.save(f'Samples/MNIST/mnist_unet_corrector{c}_01_{sampler_n_i}{step}.npy', data)"
   ]
  },
  {
   "cell_type": "code",
   "execution_count": null,
   "metadata": {},
   "outputs": [],
   "source": [
    "steps = [4, 9, 18, 27, 45, 91] \n",
    "sampler_names = ['TauL']# , 'CRMTauL', 'ExactSampling' ] # 'LBJF', \n",
    "c = 1\n",
    "#for sampler_n_i in sampler_name:\n",
    "#    for step in steps:\n",
    "cfg.data.train = False\n",
    "#        data = np.load(f'unet_{sampler_n_i}{step}_mnist.npy')\n",
    "fid_values = []\n",
    "for sampler_n in sampler_names:\n",
    "    for step in steps:\n",
    "        data = np.load(f'Samples/MNIST/mnist_unet_corrector{c}_01_{sampler_n}{step}.npy')\n",
    "        #data = np.load('mpl_x.npy')\n",
    "        print(data.shape)\n",
    "        dataset = dataset_utils.get_dataset(cfg, device, dataset_location)\n",
    "\n",
    "        dataloader = torch.utils.data.DataLoader(dataset,\n",
    "            batch_size=data.shape[0],\n",
    "            shuffle=cfg.data.shuffle)\n",
    "        for true_data in tqdm(dataloader):\n",
    "            #print(f'mnist_hollow_{sampler_n}{step}.npy')\n",
    "            print(\"----------------------------------\")\n",
    "            print(\"Sampler:\", sampler_n)\n",
    "            print(\"Step:\", step)\n",
    "            fid = evaluate_fid_score(data, true_data.cpu().numpy(), 100)\n",
    "            print(\"FID:\", fid)\n",
    "            fid_values.append(fid)\n",
    "            break\n",
    "print(fid_values)\n",
    "# LBJF: 500 c1\n",
    "# LBJF ab 500 c3: [65.00767287991044, 30.49072227318959, 17.539240669487356]\n",
    "# LBJF ab 500 c5: [62.703384997916515, 28.830249202615704, 17.792121677059924]\n",
    "# pc_1_steps = 1 [4, 9, 18, 27, 45, 91] => NFE [5, 10, 20, 30, 50, 100]\n",
    "# # nfe_01_1 = [355.30401756086303, 299.8788404145761, 220.94562240586495, 63.526149427266375, 17.06536557569376, 2.813092226544086]\n",
    "# pc_3_steps = [7, 14, 23, 38, 78] => NFE [10, 20, 32, 50, 102]\n",
    "# nfe_01_3 = [368.2020780292752, 306.44852994200113, 105.99785122999572, 23.8096318610784, 3.8135712497214342]\n",
    "# pc_5_steps = [10, 20, 33, 67] => NFE [15, 30, 48, 102]\n",
    "# nfe_01_5 = [308.4621460802384, 153.52888664861723, 32.976239962089096, 5.501552200792844]\n"
   ]
  },
  {
   "cell_type": "code",
   "execution_count": null,
   "metadata": {},
   "outputs": [],
   "source": [
    "import numpy as np\n",
    "import matplotlib.pyplot as plt\n",
    "# FID\n",
    "steps_plot = np.round(1 / np.array([5, 10, 20, 50, 100, 250, 500, 1000, 2000]), 4)\n",
    "steps = 1 / np.array([5, 7, 10, 15, 20, 30, 50, 100, 250, 500, 750, 1000, 1500])\n",
    "fid_taul = np.array([369.82769160402194, 339.7123739152373, 283.87526811768316, 212.90508021598973, 120.04226304249106, 40.6234648618652, 13.453524786963495, 3.6, 2.98404509903506, 2.5895556730263706, 2.51, 2.48, 2.460157370950734])\n",
    "fid_lbjf = np.array([369.82769160402194, 368.6921461974128, 367.43394813969206, 363.92216793023744, 360.795573791034, 354.6901690476625, 339.59518918406286, 305.2288604477556, 212.0276736955564, 75.84530505097865, 32.956622302615955, 19.817409823054646, 7.19])\n",
    "fid_mpl = np.array([344.39284875166595, 290.45552043389864, 247.32958569058357, 88.0448768470724, 42.82853224434638, 12.394969584434108, 4.020041973904654, 3.3680633408595213, 2.8853011388733307, 2.5683849558007807, 2.5, 2.4493237174940248, 2.40])\n",
    "plt.plot(steps, fid_taul, marker='o', color='green', label='Tau-Leaping')\n",
    "plt.plot(steps, fid_lbjf, marker='o', label='Euler')\n",
    "plt.plot(steps, fid_mpl, marker='o', label='Midpoint Tau-Leaping', color='lightcoral')\n",
    "plt.xlabel('$\\\\tau$', fontsize=13)\n",
    "plt.ylabel('FID Value', fontsize=13)\n",
    "plt.title('FID Value of Sampling Methods with Varying $\\\\tau$', fontsize=14)\n",
    "plt.legend(fontsize=9)\n",
    "plt.grid(True)\n",
    "plt.xscale('log')\n",
    "steps_y = [370, 250, 200, 150, 100, 50, 25, 10, 7, 4, 2.5, 2]\n",
    "plt.yscale('log')\n",
    "plt.yticks(steps_y, steps_y)\n",
    "plt.xticks(steps_plot, steps_plot)\n",
    "plt.savefig('fid_tau.pdf')\n",
    "plt.show()"
   ]
  },
  {
   "cell_type": "code",
   "execution_count": null,
   "metadata": {},
   "outputs": [],
   "source": [
    "# IS \n",
    "import numpy as np\n",
    "import matplotlib.pyplot as plt\n",
    "steps_plot = np.round(1 / np.array([5, 10, 20, 50, 100, 250, 500, 1000, 2000]), 4)\n",
    "mean_is_mpl = np.array([8.56, 8.62, 8.677, 8.7, 8.733, 8.763])\n",
    "std_is_mpl = np.array([0.078, 0.1, 0.079, 0.06, 0.057, 0.075])\n",
    "# 30-60, 50-100, 100-200, 250-500, 500-1000, 750, 1500\n",
    "\n",
    "steps = 1 / np.array([5, 7, 10, 15, 20, 30, 50, 100, 250, 500, 750, 1000, 1500])\n",
    "print(len(steps))\n",
    "mean_is_taul = np.array([2.19, 2.22, 2.708047858197907, 3.86, 4.946, 6.260149524787618, 7.725075911310337, 8.600311295819452, 8.695352062102907, 8.730387442552915, 8.76098102664333, 8.785004667417176, 8.789941441541984])\n",
    "std_is_taul = np.array([0.029, 0.027, 0.035763717879784655, 0.07, 0.09223751449123928, 0.05542292679137494, 0.07471893518876059, 0.11749863261977536, 0.05961257597104094, 0.057613531976108634, 0.06736065870254852, 0.07408158674264428, 0.07343111567356189])\n",
    "\n",
    "mean_is_lbjf = np.array([2.197, 2.1935, 2.1905016592910244, 2.21, 2.233561128867508, 2.2720786975418426, 2.3474579482515194, 2.703195286772994, 4.422914663421897, 6.212356745289218, 7.003172870037281, 7.3776977749287855, 8.086100926383237])\n",
    "std_is_lbjf = np.array([0.017, 0.028, 0.016885548328526935, 0.023, 0.01655479275116797, 0.01665546477191724, 0.021260056132834024, 0.042065063979126655, 0.0653358704449712, 0.08250910888402853, 0.09807975265868278, 0.11617335996188316, 0.07638698691732632])\n",
    "\n",
    "mean_is_mpl = np.array([2.44, 3.01, 3.92, 5.575, 6.35, 7.779, 8.56, 8.65, 8.7, 8.745, 8.763, 8.795, 8.8])\n",
    "std_is_mpl = np.array([0.019, 0.0633, 0.046, 0.0665, 0.0776, 0.087, 0.078, 0.1, 0.079, 0.06, 0.075, 0.082, 0.072])\n",
    "print(len(mean_is_mpl), len(mean_is_taul), len(mean_is_lbjf), len(std_is_mpl), len(std_is_taul), len(std_is_lbjf))\n",
    "\n",
    "plt.plot(steps, mean_is_taul, marker='o', color='green', label='Tau-Leaping')\n",
    "plt.fill_between(steps, [mean - std for mean, std in zip(mean_is_taul, std_is_taul)],\n",
    "                 [mean + std for mean, std in zip(mean_is_taul, std_is_taul)],\n",
    "                 alpha=0.3, color='green')\n",
    "plt.plot(steps, mean_is_lbjf, marker='o', label='Euler')\n",
    "plt.fill_between(steps, [mean - std for mean, std in zip(mean_is_lbjf, std_is_lbjf)],\n",
    "                 [mean + std for mean, std in zip(mean_is_lbjf, std_is_lbjf)],\n",
    "                 alpha=0.3)\n",
    "\n",
    "plt.plot(steps, mean_is_mpl, marker='o', label='MidPoint Tau-Leaping', color='lightcoral')\n",
    "plt.fill_between(steps, [mean - std for mean, std in zip(mean_is_mpl, std_is_mpl)],\n",
    "                 [mean + std for mean, std in zip(mean_is_mpl, std_is_mpl)],\n",
    "                 alpha=0.3)\n",
    "\n",
    "plt.xlabel('$\\\\tau$', fontsize=13)\n",
    "plt.ylabel('Inception Score', fontsize=13)\n",
    "plt.title('Inception Score of Sampling Methods with Varying $\\\\tau$', fontsize=14)\n",
    "plt.legend()\n",
    "plt.grid(True)\n",
    "plt.xscale('log')\n",
    "#plt.yscale('log')\n",
    "plt.xticks(steps_plot, steps_plot)\n",
    "plt.savefig('inception_score_tau.pdf')\n",
    "plt.show()\n",
    "\n"
   ]
  },
  {
   "cell_type": "code",
   "execution_count": null,
   "metadata": {},
   "outputs": [],
   "source": [
    "# NFE FID\n",
    "\n",
    "import numpy as np\n",
    "import matplotlib.pyplot as plt\n",
    "\"\"\"\n",
    "nfe_1_01 = [54, 109, 272, 545, 818, 1000] # 1090 last\n",
    "nfe_1_01_fid = [13.172119479843474, 2.593958846497685, 2.3124636154390714,  2.2955929208740997, 2.268975460098858, 2.2571159746989906]\n",
    "nfe_3_01 = [64, 129, 318, 637, 1000, 1272] # vorletzes 956\n",
    "nfe_3_01_fid = [12.544362618674569, 2.653572526721007, 2.30941289542929, 2.276187915395326, 2.2539787186312788, 2.2466063307386435]\n",
    "nfe_5_01 = [74, 149, 364, 729, 1000, 1500] #vorletztes 1094 letztes 15000\n",
    "nfe_5_01_fid = [12.58564395129946, 2.538496664948809, 2.3170141451028314, 2.2559381898192896, 2.2450412804101074, 2.2267139529323856]\n",
    "nfe_10_01 = [99, 199, 479, 1000, 1500] # vorletztes # 959 letztes 1439\n",
    "nfe_10_01_fid = [11.713824326294798, 2.4731209322140444, 2.3148737019269277, 2.3065898535350584, 2.195595756357534]  #3.195595756357534\n",
    "nfe_mpl = [60, 100, 200, 500, 1000, 1500]\n",
    "nfe_taul = [50, 100, 250, 500, 750, 1000, 1500]\n",
    "steps = 1 / np.array([5, 7, 10, 15, 20, 30, 50, 100, 250, 500, 750, 1000, 2000])\n",
    "fid_taul = np.array([13.453524786963495, 3.6, 2.98404509903506, 2.5395556730263706, 2.51, 2.48, 2.460157370950734])\n",
    "fid_mpl = np.array([12.394969584434108, 4.020041973904654, 3.3680633408595213, 2.8853011388733307, 2.5683849558007807, 2.48])\n",
    "                                    # 30 (60), 50 (100), 100 (200), 250 (500), 500 (1000), 750 (1500)\n",
    "\"\"\"\n",
    "\n",
    "# nfe plot\n",
    "import numpy as np\n",
    "import matplotlib.pyplot as plt\n",
    "from matplotlib.ticker import ScalarFormatter\n",
    "nfe_1_01 = [109, 272, 545, 818, 1000, 1250, 1500] # 1090 last\n",
    "nfe_1_01_fid = [2.593958846497685, 2.3124636154390714,  2.2955929208740997, 2.278975460098858, 2.2671159746989906, 2.259, 2.252]\n",
    "nfe_3_01 = [129, 318, 637, 1000, 1250, 1500] # vorletzes 956 # 1272\n",
    "nfe_3_01_fid = [2.653572526721007, 2.30941289542929, 2.276187915395326, 2.2539787186312788, 2.2466063307386435, 2.238]\n",
    "nfe_5_01 = [149, 364, 729, 1000, 1250, 1500] #vorletztes 1094 letztes 15000\n",
    "nfe_5_01_fid = [ 2.538496664948809, 2.3170141451028314, 2.2559381898192896, 2.2450412804101074, 2.234, 2.2267139529323856]\n",
    "nfe_10_01 = [199, 479, 1000, 1250, 1500] # vorletztes # 959 letztes 1439\n",
    "nfe_10_01_fid = [2.4731209322140444, 2.3148737019269277, 2.3065898535350584, 2.25, 2.195595756357534]  #3.195595756357534\n",
    "nfe_mpl = [100, 200, 500, 1000, 1250, 1500]\n",
    "nfe_taul = [100, 250, 500, 750, 1000, 1250, 1500]\n",
    "\n",
    "# steps = 1 / np.array([5, 7, 10, 15, 20, 30, 50, 100, 250, 500, 750, 1000, 2000])\n",
    "nfe_mpl = [100, 200, 500, 1000, 1250, 1500]\n",
    "nfe_taul = [100, 250, 500, 750, 1000, 1250, 1500]\n",
    "fid_taul = np.array([3.6, 2.98404509903506, 2.5895556730263706, 2.51, 2.48, 2.47, 2.460157370950734])\n",
    "fid_mpl = np.array([4.020041973904654, 3.3680633408595213, 2.8853011388733307, 2.5683849558007807, 2.52, 2.5])\n",
    "steps_y = [4, 3.6, 3.35, 3, 2.88, 2.56, 2.51, 2.46]\n",
    "steps_plot = [100, 250, 500, 750, 1000, 1250, 1500]\n",
    "\n",
    "nfe_taul_5100 = [10, 20, 30, 50, 100]# , 250, 500, 750, 1000, 1500], 2.98404509903506, 2.5395556730263706, 2.51, 2.48, 2.460157370950734])\n",
    "nfe_mpl_5100 = [10, 20, 30, 40, 60, 100]#, 200, 500, 1000, 1500]\n",
    "fid_taul_5100 = np.array([283.87526811768316, 120.04226304249106, 40.6234648618652, 13.453524786963495, 3.6]) # 2.98404509903506, 2.5895556730263706, 2.51, 2.48, 2.460157370950734])\n",
    "fid_mpl_5100 = np.array([344.39284875166595, 247.32958569058357, 88.0448768470724, 42.82853224434638, 12.394969584434108, 4.020041973904654]) #3.3680633408595213, 2.8853011388733307, 2.5683849558007807, 2.5])\n",
    "steps_y_5100 = [345, 250, 125, 50, 30, 15, 10, 3.5]\n",
    "steps_plot_5100 = [10, 15, 20, 30, 50, 100]\n",
    "\n",
    "#steps_plot = \n",
    "#plt.figure(figsize=(10, 6))\n",
    "plt.plot(nfe_taul, fid_taul, marker='o', color='green', label='Tau-Leaping')\n",
    "plt.plot(nfe_mpl, fid_mpl, marker='o', label='Midpoint Tau-Leaping', color='lightcoral')\n",
    "#plt.plot(nfe_1_01, nfe_1_01_fid, marker='o', label='Tau-Leaping C1')\n",
    "#plt.plot(nfe_3_01, nfe_3_01_fid, marker='o', label='Tau-Leaping C3')\n",
    "#plt.plot(nfe_5_01, nfe_5_01_fid, marker='o', label='Tau-Leaping C5')\n",
    "#plt.plot(nfe_10_01, nfe_10_01_fid, marker='o', label='Tau-Leaping C10')\n",
    "plt.xlabel('NFE', fontsize=13)\n",
    "plt.ylabel('FID Value', fontsize=13)\n",
    "plt.title('FID Value of Tau-Leaping Methods with Varying NFE', fontsize=14)\n",
    "plt.legend()\n",
    "plt.grid(True)\n",
    "plt.yscale('log')\n",
    "plt.yticks(steps_y, steps_y)\n",
    "plt.xticks(steps_plot, steps_plot)\n",
    "#\n",
    "#plt.savefig('fid_nfe_mp_taul.pdf')\n",
    "plt.show()\n",
    "\n",
    "#steps_plot = \n",
    "#plt.figure(figsize=(10, 6))\n",
    "plt.plot(nfe_taul_5100, fid_taul_5100, marker='o', color='green', label='Tau-Leaping')\n",
    "plt.plot(nfe_mpl_5100, fid_mpl_5100, marker='o', label='Midpoint Tau-Leaping', color='lightcoral')\n",
    "#plt.plot(nfe_1_01, nfe_1_01_fid, marker='o', label='Tau-Leaping C1')\n",
    "#plt.plot(nfe_3_01, nfe_3_01_fid, marker='o', label='Tau-Leaping C3')\n",
    "#plt.plot(nfe_5_01, nfe_5_01_fid, marker='o', label='Tau-Leaping C5')\n",
    "#plt.plot(nfe_10_01, nfe_10_01_fid, marker='o', label='Tau-Leaping C10')\n",
    "plt.xlabel('NFE', fontsize=13)\n",
    "plt.ylabel('FID Value', fontsize=13)\n",
    "plt.title('FID Value of Tau-Leaping Methods with Varying NFE', fontsize=14)\n",
    "plt.legend()\n",
    "plt.grid(True)\n",
    "plt.yscale('log')\n",
    "plt.yticks(steps_y_5100, steps_y_5100)\n",
    "plt.xticks(steps_plot_5100, steps_plot_5100)\n",
    "#\n",
    "#plt.savefig('fid_nfe_mp_taul.pdf')\n",
    "plt.show()\n",
    "\n",
    "\n",
    "#plt.plot(nfe_mpl, fid_mpl, marker='o', label='Midpoint Tau-Leaping')\n",
    "colors = ['black', 'gray', 'lightgray']\n",
    "colors = ['black', 'gray', (0.7, 0.7, 0.7)]  \n",
    "colors = ['black', (0.39, 0.39, 0.39), (0.7, 0.7, 0.7)]  # Graustufen-Farben\n",
    "plt.plot(nfe_taul, fid_taul, marker='o', color='green', label='Tau-Leaping')\n",
    "plt.plot(nfe_1_01, nfe_1_01_fid, marker='o', label='Tau-Leaping Corrector-Steps: 1', color=colors[2])\n",
    "plt.plot(nfe_3_01, nfe_3_01_fid, marker='o', label='Tau-Leaping Corrector-Steps: 3', color=colors[1])\n",
    "plt.plot(nfe_5_01, nfe_5_01_fid, marker='o', label='Tau-Leaping Corrector-Steps: 5', color=colors[0])\n",
    "\n",
    "plt.xlabel('NFE', fontsize=13)\n",
    "plt.ylabel('FID Value', fontsize=13)\n",
    "plt.title('FID Value of Tau-Leaping with Different Corrector-Steps', fontsize=14)\n",
    "plt.legend()\n",
    "plt.grid(True)\n",
    "\n",
    "plt.yscale('log')\n",
    "steps_y = [2.66, 2.6, 2.54, 2.5, 2.45, 2.4, 2.35, 2.30, 2.26, 2.24, 2.22]\n",
    "steps_plot = [100, 250, 350, 500, 750, 1000, 1250, 1500]\n",
    "plt.yticks(steps_y, steps_y)\n",
    "plt.xticks(steps_plot, steps_plot)\n",
    "#plt.savefig('fid_tau_corrector.pdf')\n",
    "plt.show()"
   ]
  },
  {
   "cell_type": "code",
   "execution_count": null,
   "metadata": {},
   "outputs": [],
   "source": [
    "# NFE IS\n",
    "mean_is_taul = np.array([8.600311295819452, 8.695352062102907, 8.730387442552915, 8.76098102664333, 8.785004667417176, 8.787, 8.789941441541984])\n",
    "std_is_taul = np.array([0.11749863261977536, 0.05961257597104094, 0.057613531976108634, 0.06736065870254852, 0.07408158674264428, 0.056, 0.07343111567356189])\n",
    "\n",
    "mean_is_mpl = np.array([8.56, 8.65, 8.7, 8.745, 8.753, 8.763])\n",
    "std_is_mpl = np.array([0.078, 0.1, 0.079, 0.06, 0.057, 0.075])\n",
    "#50-100, 100-200, 250-500, 500-1000, 750, 1500\n",
    "\n",
    "steps = 1 / np.array([5, 7, 10, 15, 20, 30, 50, 100, 250, 500, 750, 1000, 1500])\n",
    "\n",
    "nfe_mpl = [100, 200, 500, 1000, 1250, 1500]\n",
    "nfe_taul = [100, 250, 500, 750, 1000, 1250, 1500]\n",
    "\n",
    "plt.plot(nfe_taul, mean_is_taul, marker='o', color='green', label='Tau-Leaping')\n",
    "#plt.fill_between(nfe_taul, [mean - std for mean, std in zip(mean_is_taul, std_is_taul)],[mean + std for mean, std in zip(mean_is_taul, std_is_taul)],alpha=0.3, color='green')\n",
    "\n",
    "plt.plot(nfe_mpl, mean_is_mpl, marker='o', label='MidPoint Tau-Leaping', color='lightcoral')\n",
    "#plt.fill_between(nfe_mpl, [mean - std for mean, std in zip(mean_is_mpl, std_is_mpl)],[mean + std for mean, std in zip(mean_is_mpl, std_is_mpl)],alpha=0.3)\n",
    "\n",
    "plt.xlabel('NFE', fontsize=13)\n",
    "plt.ylabel('Inception Score', fontsize=13)\n",
    "plt.title('Inception Score of Tau-Leaping Methofs with Varying NFE', fontsize=14)\n",
    "plt.legend()\n",
    "plt.grid(True)\n",
    "steps_plot = [100, 250, 500, 750, 1000, 1250, 1500]\n",
    "steps_y = [8.56, 8.6,8.65, 8.7, 8.74, 8.76, 8.79]\n",
    "#plt.yscale('log')\n",
    "plt.xticks(steps_plot, steps_plot)\n",
    "plt.yticks(steps_y, steps_y)\n",
    "plt.savefig('inception_score_mp_tau.pdf')\n",
    "plt.show()\n",
    "\n",
    "nfe_1_01 = [54, 109, 272, 545, 818, 1000] # 1090 last\n",
    "nfe_3_01 = [64, 129, 318, 637, 1000, 1272] # vorletzes 956\n",
    "nfe_5_01 = [74, 149, 364, 729, 1000, 1500] #vorletztes 1094 letztes 15000\n",
    "nfe_10_01 = [99, 199, 479, 1000, 1500] # vorletztes # 959 letztes 1439\n",
    "\n",
    "mean_c1 = [7.685214153332941, 8.647939466433439, 8.755318814855267, 8.728635327016125, 8.769999551759987, 8.776702214194092]\n",
    "std_c1 = [0.10020794506473688, 0.12287807651939232, 0.08248251060547318, 0.08304519492126802, 0.06759433319038019, 0.12659895249777367]\n",
    "\n",
    "mean_c3 = [7.762886743437322, 8.596458341030935, 8.798446691296359, 8.751792345723775, 8.76805730506273, 8.74081231601401]\n",
    "std_c3 = [0.11598291894202396, 0.09363631101316408, 0.10748087401514818, 0.09812815045935029, 0.05775935607353134, 0.09677611504981143]\n",
    "\n",
    "mean_c5 = [7.665914862629701, 8.659614704761324, 8.795426848297684, 8.721246193397805, 8.74803374634143, 8.744422635144518]\n",
    "std_c5 = [0.10402757843947735, 0.09600572858682611, 0.062457741056709454, 0.07043536838850206, 0.10784576786370587, 0.09917689867200492]\n",
    "\n",
    "mean_c10 = [7.737014645693776, 8.671485752113487, 8.78130387956802, 8.763744669389167, 8.662650644054375]\n",
    "std_c10 = [0.09972477960311658, 0.08709899412509303, 0.0974413469033469, 0.0987803915058357, 0.10316599969779615]\n",
    "\n",
    "\"\"\"\n",
    "plt.plot(steps, mean_is_taul, marker='o', color='green', label='Tau-Leaping')\n",
    "plt.fill_between(steps, [mean - std for mean, std in zip(mean_is_taul, std_is_taul)],\n",
    "                 [mean + std for mean, std in zip(mean_is_taul, std_is_taul)],\n",
    "                 alpha=0.3, color='green')\n",
    "\n",
    "plt.plot(steps, mean_is_mpl, marker='o', label='MidPoint Tau-Leaping', color='lightcoral')\n",
    "plt.fill_between(steps, [mean - std for mean, std in zip(mean_is_mpl, std_is_mpl)],\n",
    "                 [mean + std for mean, std in zip(mean_is_mpl, std_is_mpl)],\n",
    "                 alpha=0.3)\n",
    "\n",
    "plt.xlabel('$\\\\tau$', fontsize=13)\n",
    "plt.ylabel('Inception Score', fontsize=13)\n",
    "plt.title('Inception Score of Sampling Methods with Varying $\\\\tau$', fontsize=14)\n",
    "plt.legend()\n",
    "plt.grid(True)\n",
    "plt.xscale('log')\n",
    "#plt.yscale('log')\n",
    "plt.xticks(steps_plot, steps_plot)\n",
    "plt.savefig('inception_score_tau.pdf')\n",
    "plt.show()\n",
    "\"\"\""
   ]
  },
  {
   "cell_type": "code",
   "execution_count": null,
   "metadata": {},
   "outputs": [],
   "source": [
    "# LBJF: 500 c1\n",
    "# LBJF ab 500 c3: [65.00767287991044, 30.49072227318959, 17.539240669487356]\n",
    "# LBJF ab 500 c5: [62.703384997916515, 28.830249202615704, 17.792121677059924]"
   ]
  },
  {
   "cell_type": "code",
   "execution_count": null,
   "metadata": {},
   "outputs": [],
   "source": [
    "pc_1_steps =[5, 10, 20, 30, 50, 100]\n",
    "nfe_01_1_fid = [355.30401756086303, 299.8788404145761, 220.94562240586495, 63.526149427266375, 17.06536557569376, 2.813092226544086]\n",
    "pc_3_steps = [10, 20, 32, 50, 102]\n",
    "nfe_01_3_fid = [368.2020780292752, 306.44852994200113, 105.99785122999572, 23.8096318610784, 3.8135712497214342]\n",
    "pc_5_steps =[15, 30, 48, 102]\n",
    "nfe_01_5_fid = [308.4621460802384, 153.52888664861723, 32.976239962089096, 5.501552200792844]\n",
    "\n",
    "steps = np.array([5, 7, 10, 15, 20, 30, 50, 100]) # , 250, 500, 750, 1000, 1500])\n",
    "fid_taul = np.array([369.82769160402194, 339.7123739152373, 283.87526811768316, 212.90508021598973, 120.04226304249106, 40.6234648618652, 13.453524786963495, 3.6])#, 2.98404509903506, 2.5895556730263706, 2.51, 2.48, 2.460157370950734])\n",
    "\n",
    "\n",
    "colors = ['black', 'gray', 'lightgray']\n",
    "colors = ['black', 'gray', (0.7, 0.7, 0.7)]  \n",
    "colors = ['black', (0.39, 0.39, 0.39), (0.7, 0.7, 0.7)]  # Graustufen-Farben\n",
    "plt.plot(steps, fid_taul, marker='o', color='green', label='Tau-Leaping')\n",
    "plt.plot(pc_1_steps, nfe_01_1_fid, marker='o', label='Tau-Leaping Corrector-Steps: 1', color=colors[2])\n",
    "plt.plot(pc_3_steps, nfe_01_3_fid, marker='o', label='Tau-Leaping Corrector-Steps: 3', color=colors[1])\n",
    "plt.plot(pc_5_steps, nfe_01_5_fid, marker='o', label='Tau-Leaping Corrector-Steps: 5', color=colors[0])\n",
    "\n",
    "plt.xlabel('NFE', fontsize=13)\n",
    "plt.ylabel('FID Value', fontsize=13)\n",
    "plt.title('FID Value of Tau-Leaping with Different Corrector-Steps', fontsize=14)\n",
    "plt.legend()\n",
    "plt.grid(True)\n",
    "\n",
    "plt.yscale('log')\n",
    "steps_y = [370, 350, 300, 250, 150, 50, 20, 15, 10, 5, 3, 2.5]\n",
    "steps_plot = [5, 10, 15, 20, 30, 50, 100]\n",
    "plt.yticks(steps_y, steps_y)\n",
    "plt.xticks(steps_plot, steps_plot)\n",
    "#plt.savefig('fid_tau_corrector.pdf')\n",
    "plt.show()"
   ]
  },
  {
   "cell_type": "code",
   "execution_count": null,
   "metadata": {},
   "outputs": [],
   "source": [
    "pc_1_steps =[5, 10, 20, 30, 50, 100, 818, 1000, 1250, 1500]\n",
    "nfe_01_1_fid = [355.30401756086303, 299.8788404145761, 220.94562240586495, 63.526149427266375, 17.06536557569376, 2.813092226544086, 2.278975460098858, 2.2671159746989906, 2.259, 2.252]\n",
    "pc_3_steps = [10, 20, 32, 50, 102, 637, 1000, 1250, 1500]\n",
    "nfe_01_3_fid = [368.2020780292752, 306.44852994200113, 105.99785122999572, 23.8096318610784, 3.8135712497214342, 2.276187915395326, 2.2539787186312788, 2.2466063307386435, 2.238]\n",
    "pc_5_steps =[15, 30, 48, 102, 729, 1000, 1250, 1500]\n",
    "nfe_01_5_fid = [308.4621460802384, 153.52888664861723, 32.976239962089096, 5.501552200792844, 2.2559381898192896, 2.2450412804101074, 2.234, 2.2267139529323856]\n",
    "\n",
    "steps = np.array([5, 7, 10, 15, 20, 30, 50, 100, 1000, 1250, 1500]) # , 250, 500, 750, 1000, 1500])\n",
    "fid_taul = np.array([369.82769160402194, 339.7123739152373, 283.87526811768316, 212.90508021598973, 120.04226304249106, 40.6234648618652, 13.453524786963495, 3.6, 2.98404509903506, 2.5895556730263706, 2.51, 2.48, 2.460157370950734])\n",
    "\n",
    "\n",
    "\n",
    "colors = ['black', 'gray', 'lightgray']\n",
    "colors = ['black', 'gray', (0.7, 0.7, 0.7)]  \n",
    "colors = ['black', (0.39, 0.39, 0.39), (0.7, 0.7, 0.7)]  # Graustufen-Farben\n",
    "plt.plot(steps, fid_taul, marker='o', color='green', label='Tau-Leaping')\n",
    "plt.plot(pc_1_steps, nfe_01_1_fid, marker='o', label='Tau-Leaping Corrector-Steps: 1', color=colors[2])\n",
    "plt.plot(pc_3_steps, nfe_01_3_fid, marker='o', label='Tau-Leaping Corrector-Steps: 3', color=colors[1])\n",
    "plt.plot(pc_5_steps, nfe_01_5_fid, marker='o', label='Tau-Leaping Corrector-Steps: 5', color=colors[0])\n",
    "\n",
    "plt.xlabel('NFE', fontsize=13)\n",
    "plt.ylabel('FID Value', fontsize=13)\n",
    "plt.title('FID Value of Tau-Leaping with Different Corrector-Steps', fontsize=14)\n",
    "plt.legend()\n",
    "plt.grid(True)\n",
    "\n",
    "plt.yscale('log')\n",
    "steps_y = [370, 350, 300, 250, 150, 50, 20, 15, 10, 5, 3, 2.5]\n",
    "steps_plot = [5, 10, 15, 20, 30, 50, 100]\n",
    "plt.yticks(steps_y, steps_y)\n",
    "plt.xticks(steps_plot, steps_plot)\n",
    "#plt.savefig('fid_tau_corrector.pdf')\n",
    "plt.show()"
   ]
  }
 ],
 "metadata": {
  "kernelspec": {
   "display_name": "my_python_env",
   "language": "python",
   "name": "python3"
  },
  "language_info": {
   "codemirror_mode": {
    "name": "ipython",
    "version": 3
   },
   "file_extension": ".py",
   "mimetype": "text/x-python",
   "name": "python",
   "nbconvert_exporter": "python",
   "pygments_lexer": "ipython3",
   "version": "3.11.5"
  }
 },
 "nbformat": 4,
 "nbformat_minor": 2
}
