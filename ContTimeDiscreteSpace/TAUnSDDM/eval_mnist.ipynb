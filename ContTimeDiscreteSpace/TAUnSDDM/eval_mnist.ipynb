{
 "cells": [
  {
   "cell_type": "code",
   "execution_count": null,
   "metadata": {},
   "outputs": [],
   "source": [
    "import torch\n",
    "import lib.utils.bookkeeping as bookkeeping\n",
    "from torch.utils.data import DataLoader\n",
    "from pathlib import Path\n",
    "import numpy as np\n",
    "import matplotlib.pyplot as plt\n",
    "import lib.models.models as models\n",
    "import lib.models.model_utils as model_utils\n",
    "from lib.datasets import mnist, maze, protein, synthetic\n",
    "import lib.datasets.dataset_utils as dataset_utils\n",
    "import lib.losses.losses as losses\n",
    "import lib.losses.losses_utils as losses_utils\n",
    "import lib.training.training as training\n",
    "import lib.training.training_utils as training_utils\n",
    "import lib.optimizers.optimizers as optimizers\n",
    "import lib.optimizers.optimizers_utils as optimizers_utils\n",
    "import lib.sampling.sampling as sampling\n",
    "import lib.sampling.sampling_utils as sampling_utils\n",
    "import os\n",
    "from tqdm import tqdm\n",
    "from lib.datasets.maze import maze_acc\n",
    "from ruamel.yaml.scalarfloat import ScalarFloat\n",
    "from lib.datasets.mnist_fid import evaluate_fid_score\n",
    "def categorical_log_likelihood(x, logits):\n",
    "    \"\"\"Log likelihood of a discretized Gaussian specialized for image data.\n",
    "\n",
    "    Assumes data `x` consists of integers [0, num_classes-1].\n",
    "\n",
    "    Args:\n",
    "    x: where to evaluate the distribution. shape = (bs, ...), dtype=int32/int64\n",
    "    logits: logits, shape = (bs, ..., num_classes)\n",
    "\n",
    "    Returns:\n",
    "    log likelihoods\n",
    "    \"\"\"\n",
    "    pass\n",
    "    #log_probs = nn.log_softmax(logits)\n",
    "    #x_onehot = nn.one_hot(x, logits.shape[-1])\n",
    "    #return torch.sum(log_probs * x_onehot, axis=-1)"
   ]
  },
  {
   "cell_type": "code",
   "execution_count": null,
   "metadata": {},
   "outputs": [],
   "source": [
    "max_t = 0.99999\n",
    "min_t = 0.01\n",
    "num_steps = [50, 100, 250, 500, 750, 1000]\n",
    "nfe_10_01 = []\n",
    "for steps in num_steps:\n",
    "    ts = np.concatenate(\n",
    "        (np.\n",
    "        linspace(max_t, min_t, steps), np.array([0]))\n",
    "    )\n",
    "    print(len(ts))\n",
    "    k = 0 \n",
    "    for i, t in tqdm(enumerate(ts[0:-1])):\n",
    "        print(i+1)\n",
    "        if t <= 0.1:\n",
    "            for j in range(10):\n",
    "                k += 1\n",
    "                print(k)\n",
    "    print(i)\n",
    "    print(i+k)\n",
    "    nfe_10_01.append(i+k)\n",
    "print(nfe_10_01)\n",
    "\n",
    "# nfe_1_01 = [54, 109, 272, 545, 818, 1090] \n",
    "# nfe_3_01 = [64, 129, 318, 637, 956, 1272]\n",
    "# nfe_5_01 = [74, 149, 364, 729, 1094, 1454]\n",
    "# nfe_10_01 = [99, 199, 479, 959, 1439, 1909]\n",
    "\n"
   ]
  },
  {
   "cell_type": "code",
   "execution_count": null,
   "metadata": {},
   "outputs": [],
   "source": [
    "\n",
    "n_samples = 15 * 25\n",
    "#s_name = 'Samples/mnist_unet_LBJF2000.npy'\n",
    "s_name = 'Samples/MNIST/mnist_unet_corrector5_01_TauL1000.npy' # Samples/MNIST/\n",
    "samples = np.load(s_name)\n",
    "samples = samples[550:]\n",
    "samples = samples.reshape(-1, 1, 28, 28)\n",
    "#saving_train_path = os.path.join(cfg.saving.sample_plot_path, f\"{cfg.model.name}{state['n_iter']}_{cfg.sampler.name}{cfg.sampler.num_steps}.png\")\n",
    "fig = plt.figure(figsize=(15, 25)) \n",
    "plt.subplots_adjust(wspace=0.001, hspace=0.001)\n",
    "int(np.sqrt(n_samples))\n",
    "for i in range(n_samples):\n",
    "    plt.subplot(int(25), int(15), 1 + i)\n",
    "    plt.axis(\"off\")\n",
    "    plt.imshow(np.transpose(samples[i, ...], (1,2,0)), cmap=\"gray\")\n",
    "\n",
    "plt.tight_layout()  \n",
    "plt.savefig('mnist_unet_corrector5_01_TauL1000.pdf', transparent=True)\n",
    "plt.show()\n",
    "plt.close()"
   ]
  },
  {
   "cell_type": "code",
   "execution_count": null,
   "metadata": {},
   "outputs": [],
   "source": [
    "\n",
    "\n",
    "path = 'SavedModels/MNISTHollow/' # 'SavedModels/MAZE/' 'SavedModels/MNIST/'\n",
    "date = '2024-01-18' # 2\n",
    "config_name = 'config_001_hollow_direct.yaml' # config_001_hollowMLEProb.yaml\n",
    "model_name = 'model_519999_hollow_direct.pt'\n",
    "\n",
    "path = 'SavedModels/MNISTHollow/' # 'SavedModels/MAZE/' 'SavedModels/MNIST/'\n",
    "date = '2024-01-03' # 2\n",
    "config_name = 'config_001_hollow.yaml' # config_001_hollowMLEProb.yaml\n",
    "model_name = 'model_539999_hollow.pt'\n",
    "\n",
    "path = 'SavedModels/MNIST/' # 'SavedModels/MAZE/' 'SavedModels/MNIST/'\n",
    "date = '2023-12-25' # 2\n",
    "config_name = 'config_001_unet14Mlogits.yaml' # config_001_hollowMLEProb.yaml\n",
    "model_name = 'model_599999_unet14Mlogits.pt'\n",
    "\n",
    "dataset_location = 'lib/datasets'\n",
    "\n",
    "config_path = os.path.join(path, date, config_name)\n",
    "checkpoint_path = os.path.join(path, date, model_name)\n",
    "\n",
    "cfg = bookkeeping.load_config(config_path)\n",
    "cfg.data.train = False\n",
    "\"\"\"\n",
    "if cfg.loss.name == 'CatRM':\n",
    "    cfg.loss.name = 'SDDMNLL'\n",
    "elif cfg.loss.name == 'CTElbo':\n",
    "    cfg.loss.name = 'TauLDRNLL'\n",
    "else:\n",
    "    raise KeyError(\"Eval not defined!\")\n",
    "\n",
    "cfg.training.train_step_name = 'EvalMNIST'\n",
    "\"\"\"\n",
    "device = torch.device(cfg.device)\n",
    "\n",
    "model = model_utils.create_model(cfg, device)\n",
    "\n",
    "optimizer = optimizers_utils.get_optimizer(model.parameters(), cfg)\n",
    "\n",
    "state = {\"model\": model, \"optimizer\": optimizer, \"n_iter\": 0}\n",
    "\n",
    "state = bookkeeping.load_state(state, checkpoint_path)\n",
    "cfg.training.n_iters = 600000 \n",
    "cfg.sampler.sample_freq = 100000000\n",
    "cfg.saving.checkpoint_freq = 10000\n",
    "cfg.sampler.num_steps = 1000\n",
    "\n",
    "# EvalMNIST\n",
    "\n",
    "loss = losses_utils.get_loss(cfg)\n",
    "\n",
    "training_step = training_utils.get_train_step(cfg)\n",
    "\n",
    "sampler = sampling_utils.get_sampler(cfg)\n",
    "\n",
    "\n",
    "\n",
    "print(\"Info:\")\n",
    "print(\"--------------------------------\")\n",
    "print(\"State Iter:\", state[\"n_iter\"])\n",
    "print(\"--------------------------------\")\n",
    "print(\"Name Dataset:\", cfg.data.name)\n",
    "print(\"Loss Name:\", cfg.loss.name)\n",
    "\n",
    "print(\"--------------------------------\")\n",
    "print(\"Model Name:\", cfg.model.name)\n",
    "print(\"Number of Parameters: \", sum([p.numel() for p in model.parameters()]))\n",
    "\n",
    "model.eval()\n",
    "#66.52994572680203  # Inception mean:  7.715643802044586\n",
    "# Inception std:  0.18737017997662175"
   ]
  },
  {
   "cell_type": "code",
   "execution_count": null,
   "metadata": {},
   "outputs": [],
   "source": [
    "steps = [500, 1000]\n",
    "#mjumps_rate = []\n",
    "#chang_dim_all = np.empty((5, 1000))\n",
    "#mjumps_all = np.empty((5, 1000))\n",
    "avg_dim_1 = []\n",
    "avg_dim_12 = []\n",
    "avg_dim_ins = []\n",
    "avg_dim_mulj = []\n",
    "chang_dim = []\n",
    "cfg.sampler.num_corrector_steps = 0\n",
    "cfg.sampler.corrector_entry_time = ScalarFloat(0.0)\n",
    "#cfg.sampler.num_steps = 10\n",
    "cfg.sampler.is_ordinal = True\n",
    "sampler_names = ['TauL'] # 'CRMLBJF', \n",
    "n_samples = 2000\n",
    "clip1 = []\n",
    "clip2 = []\n",
    "for _, n_name in enumerate(sampler_names):\n",
    "    cfg.sampler.name = n_name \n",
    "    print(\"# name:\", cfg.sampler.name)\n",
    "    for _, n_steps in enumerate(steps):\n",
    "        cfg.sampler.num_steps = n_steps\n",
    "        print(\"# step:\", cfg.sampler.num_steps)\n",
    "        for i in range(5):\n",
    "            \n",
    "            sampler = sampling_utils.get_sampler(cfg)\n",
    "            samples, changes_jump, changes_dim, change_dim_first, change_1to2, change_clamp1, change_clamp2 = sampler.sample(model, n_samples)\n",
    "            saved_samples = samples\n",
    "            print(f'mnist_unet_{cfg.sampler.name}{cfg.sampler.num_steps}_mnist{i}')\n",
    "            if i == 0 :\n",
    "                print(\"# Prop Multiple jumps over time\", changes_jump)\n",
    "                print(\"# change dim x to x_prime over time\", change_dim_first)\n",
    "                print(\"# change dim x_prime to x_new over time\", change_1to2)\n",
    "                print(\"# Average proportion of dim that changes over time\", changes_dim)\n",
    "                print(\"-----------------------------------------------\")\n",
    "                print(\"# Mean of multiple jumps for tau plot\", np.mean(changes_jump))\n",
    "                print(\"# FIRST: Mean of avg changing dim for tau plot\", np.mean(change_dim_first))\n",
    "                print(\"# FIRST2SECOND: Mean of avg changing dim for tau plot\", np.mean(change_1to2))\n",
    "                print(\"# Mean of avg changing dim for tau plot\", np.mean(changes_dim))\n",
    "\n",
    "            np.save(f'mnist_unet_{cfg.sampler.name}{cfg.sampler.num_steps}_mnist{i}', saved_samples.reshape(n_samples, 1, cfg.data.image_size, cfg.data.image_size))\n",
    "        \n",
    "        np.save(f'MNISTstatistics/unet_mptaul{n_steps}_mjumps_prime_t.npy', changes_jump)\n",
    "        np.save(f'MNISTstatistics/unet_mptaul{n_steps}_dim_1_prime_t.npy', change_dim_first)\n",
    "        np.save(f'MNISTstatistics/unet_mptaul{n_steps}_dim_12_prime_t.npy', change_1to2)\n",
    "        np.save(f'MNISTstatistics/unet_mptaul{n_steps}_dim_ins_prime_t.npy', changes_dim)\n",
    "        \n",
    "        avg_dim_1.append(np.mean(change_dim_first))\n",
    "        avg_dim_12.append(np.mean(change_1to2))\n",
    "        avg_dim_ins.append(np.mean(changes_dim))\n",
    "        avg_dim_mulj.append(np.mean(changes_jump))\n",
    "        clip1.append(np.mean(change_clamp1))\n",
    "        clip2.append(np.mean(change_clamp2))\n",
    "#np.save(f'MNISTstatistics/unet_mptaul_mjumps_tau.npy', avg_dim_mulj)\n",
    "#np.save(f'MNISTstatistics/unet_mptaul_dim_1_tau.npy', avg_dim_1)\n",
    "#np.save(f'MNISTstatistics/unet_mptaul_dim_12_tau.npy', avg_dim_12)\n",
    "#np.save(f'MNISTstatistics/unet_mptaul_dim_ins_tau.npy', avg_dim_ins)\n",
    "#np.save(f'MNISTstatistics/unet_mptaul_clip1.npy', clip1)\n",
    "#np.save(f'MNISTstatistics/unet_mptaul_clip2.npy', clip2)"
   ]
  },
  {
   "cell_type": "code",
   "execution_count": null,
   "metadata": {},
   "outputs": [],
   "source": [
    "steps = [5, 7, 10, 15, 20, 30, 50, 100, 250, 500, 1000]\n",
    "avg_dim_1 = []\n",
    "avg_dim_12 = []\n",
    "avg_dim_ins = []\n",
    "avg_dim_mulj = []\n",
    "for n_steps in steps:\n",
    "    changes_jump = np.load(f'MNISTstatistics/unet_mptaul{n_steps}_mjumps_prime_t.npy')\n",
    "    change_dim_first = np.load(f'MNISTstatistics/unet_mptaul{n_steps}_dim_1_prime_t.npy')\n",
    "    change_1to2 = np.load(f'MNISTstatistics/unet_mptaul{n_steps}_dim_12_prime_t.npy')\n",
    "    changes_dim = np.load(f'MNISTstatistics/unet_mptaul{n_steps}_dim_ins_prime_t.npy')\n",
    "    avg_dim_1.append(np.mean(change_dim_first))\n",
    "    avg_dim_12.append(np.mean(change_1to2))\n",
    "    avg_dim_ins.append(np.mean(changes_dim))\n",
    "    avg_dim_mulj.append(np.mean(changes_jump))\n",
    "np.save(f'MNISTstatistics/unet_mptaul_mjumps_prime_tau.npy', avg_dim_mulj)\n",
    "np.save(f'MNISTstatistics/unet_mptaul_dim_1_prime_tau.npy', avg_dim_1)\n",
    "np.save(f'MNISTstatistics/unet_mptaul_dim_12_prime_tau.npy', avg_dim_12)\n",
    "np.save(f'MNISTstatistics/unet_mptaul_dim_ins_prime_tau.npy', avg_dim_ins)\n",
    "    \n",
    "\n",
    "    "
   ]
  },
  {
   "cell_type": "code",
   "execution_count": 3,
   "metadata": {},
   "outputs": [
    {
     "name": "stderr",
     "output_type": "stream",
     "text": [
      "454it [06:33,  1.15it/s]"
     ]
    },
    {
     "name": "stdout",
     "output_type": "stream",
     "text": [
      "corrector\n",
      "corrector\n",
      "corrector\n"
     ]
    },
    {
     "name": "stderr",
     "output_type": "stream",
     "text": [
      "455it [06:37,  1.69s/it]"
     ]
    },
    {
     "name": "stdout",
     "output_type": "stream",
     "text": [
      "corrector\n",
      "corrector\n",
      "corrector\n"
     ]
    },
    {
     "name": "stderr",
     "output_type": "stream",
     "text": [
      "456it [06:40,  2.26s/it]"
     ]
    },
    {
     "name": "stdout",
     "output_type": "stream",
     "text": [
      "corrector\n",
      "corrector\n",
      "corrector\n"
     ]
    },
    {
     "name": "stderr",
     "output_type": "stream",
     "text": [
      "457it [06:44,  2.67s/it]"
     ]
    },
    {
     "name": "stdout",
     "output_type": "stream",
     "text": [
      "corrector\n",
      "corrector\n",
      "corrector\n"
     ]
    },
    {
     "name": "stderr",
     "output_type": "stream",
     "text": [
      "458it [06:48,  2.95s/it]"
     ]
    },
    {
     "name": "stdout",
     "output_type": "stream",
     "text": [
      "corrector\n",
      "corrector\n",
      "corrector\n"
     ]
    },
    {
     "name": "stderr",
     "output_type": "stream",
     "text": [
      "459it [06:51,  3.14s/it]"
     ]
    },
    {
     "name": "stdout",
     "output_type": "stream",
     "text": [
      "corrector\n",
      "corrector\n",
      "corrector\n"
     ]
    },
    {
     "name": "stderr",
     "output_type": "stream",
     "text": [
      "460it [06:55,  3.28s/it]"
     ]
    },
    {
     "name": "stdout",
     "output_type": "stream",
     "text": [
      "corrector\n",
      "corrector\n",
      "corrector\n"
     ]
    },
    {
     "name": "stderr",
     "output_type": "stream",
     "text": [
      "461it [06:58,  3.38s/it]"
     ]
    },
    {
     "name": "stdout",
     "output_type": "stream",
     "text": [
      "corrector\n",
      "corrector\n",
      "corrector\n"
     ]
    },
    {
     "name": "stderr",
     "output_type": "stream",
     "text": [
      "462it [07:02,  3.45s/it]"
     ]
    },
    {
     "name": "stdout",
     "output_type": "stream",
     "text": [
      "corrector\n",
      "corrector\n",
      "corrector\n"
     ]
    },
    {
     "name": "stderr",
     "output_type": "stream",
     "text": [
      "463it [07:06,  3.49s/it]"
     ]
    },
    {
     "name": "stdout",
     "output_type": "stream",
     "text": [
      "corrector\n",
      "corrector\n",
      "corrector\n"
     ]
    },
    {
     "name": "stderr",
     "output_type": "stream",
     "text": [
      "464it [07:09,  3.53s/it]"
     ]
    },
    {
     "name": "stdout",
     "output_type": "stream",
     "text": [
      "corrector\n",
      "corrector\n",
      "corrector\n"
     ]
    },
    {
     "name": "stderr",
     "output_type": "stream",
     "text": [
      "465it [07:13,  3.55s/it]"
     ]
    },
    {
     "name": "stdout",
     "output_type": "stream",
     "text": [
      "corrector\n",
      "corrector\n",
      "corrector\n"
     ]
    },
    {
     "name": "stderr",
     "output_type": "stream",
     "text": [
      "466it [07:16,  3.57s/it]"
     ]
    },
    {
     "name": "stdout",
     "output_type": "stream",
     "text": [
      "corrector\n",
      "corrector\n",
      "corrector\n"
     ]
    },
    {
     "name": "stderr",
     "output_type": "stream",
     "text": [
      "467it [07:20,  3.58s/it]"
     ]
    },
    {
     "name": "stdout",
     "output_type": "stream",
     "text": [
      "corrector\n",
      "corrector\n",
      "corrector\n"
     ]
    },
    {
     "name": "stderr",
     "output_type": "stream",
     "text": [
      "468it [07:24,  3.59s/it]"
     ]
    },
    {
     "name": "stdout",
     "output_type": "stream",
     "text": [
      "corrector\n",
      "corrector\n",
      "corrector\n"
     ]
    },
    {
     "name": "stderr",
     "output_type": "stream",
     "text": [
      "469it [07:27,  3.59s/it]"
     ]
    },
    {
     "name": "stdout",
     "output_type": "stream",
     "text": [
      "corrector\n",
      "corrector\n",
      "corrector\n"
     ]
    },
    {
     "name": "stderr",
     "output_type": "stream",
     "text": [
      "470it [07:31,  3.60s/it]"
     ]
    },
    {
     "name": "stdout",
     "output_type": "stream",
     "text": [
      "corrector\n",
      "corrector\n",
      "corrector\n"
     ]
    },
    {
     "name": "stderr",
     "output_type": "stream",
     "text": [
      "471it [07:34,  3.60s/it]"
     ]
    },
    {
     "name": "stdout",
     "output_type": "stream",
     "text": [
      "corrector\n",
      "corrector\n",
      "corrector\n"
     ]
    },
    {
     "name": "stderr",
     "output_type": "stream",
     "text": [
      "472it [07:38,  3.60s/it]"
     ]
    },
    {
     "name": "stdout",
     "output_type": "stream",
     "text": [
      "corrector\n",
      "corrector\n",
      "corrector\n"
     ]
    },
    {
     "name": "stderr",
     "output_type": "stream",
     "text": [
      "473it [07:42,  3.60s/it]"
     ]
    },
    {
     "name": "stdout",
     "output_type": "stream",
     "text": [
      "corrector\n",
      "corrector\n",
      "corrector\n"
     ]
    },
    {
     "name": "stderr",
     "output_type": "stream",
     "text": [
      "474it [07:45,  3.60s/it]"
     ]
    },
    {
     "name": "stdout",
     "output_type": "stream",
     "text": [
      "corrector\n",
      "corrector\n",
      "corrector\n"
     ]
    },
    {
     "name": "stderr",
     "output_type": "stream",
     "text": [
      "475it [07:49,  3.60s/it]"
     ]
    },
    {
     "name": "stdout",
     "output_type": "stream",
     "text": [
      "corrector\n",
      "corrector\n",
      "corrector\n"
     ]
    },
    {
     "name": "stderr",
     "output_type": "stream",
     "text": [
      "476it [07:53,  3.60s/it]"
     ]
    },
    {
     "name": "stdout",
     "output_type": "stream",
     "text": [
      "corrector\n",
      "corrector\n",
      "corrector\n"
     ]
    },
    {
     "name": "stderr",
     "output_type": "stream",
     "text": [
      "477it [07:56,  3.60s/it]"
     ]
    },
    {
     "name": "stdout",
     "output_type": "stream",
     "text": [
      "corrector\n",
      "corrector\n",
      "corrector\n"
     ]
    },
    {
     "name": "stderr",
     "output_type": "stream",
     "text": [
      "478it [08:00,  3.60s/it]"
     ]
    },
    {
     "name": "stdout",
     "output_type": "stream",
     "text": [
      "corrector\n",
      "corrector\n",
      "corrector\n"
     ]
    },
    {
     "name": "stderr",
     "output_type": "stream",
     "text": [
      "479it [08:03,  3.60s/it]"
     ]
    },
    {
     "name": "stdout",
     "output_type": "stream",
     "text": [
      "corrector\n",
      "corrector\n",
      "corrector\n"
     ]
    },
    {
     "name": "stderr",
     "output_type": "stream",
     "text": [
      "480it [08:07,  3.60s/it]"
     ]
    },
    {
     "name": "stdout",
     "output_type": "stream",
     "text": [
      "corrector\n",
      "corrector\n",
      "corrector\n"
     ]
    },
    {
     "name": "stderr",
     "output_type": "stream",
     "text": [
      "481it [08:11,  3.60s/it]"
     ]
    },
    {
     "name": "stdout",
     "output_type": "stream",
     "text": [
      "corrector\n",
      "corrector\n",
      "corrector\n"
     ]
    },
    {
     "name": "stderr",
     "output_type": "stream",
     "text": [
      "482it [08:14,  3.60s/it]"
     ]
    },
    {
     "name": "stdout",
     "output_type": "stream",
     "text": [
      "corrector\n",
      "corrector\n",
      "corrector\n"
     ]
    },
    {
     "name": "stderr",
     "output_type": "stream",
     "text": [
      "483it [08:18,  3.60s/it]"
     ]
    },
    {
     "name": "stdout",
     "output_type": "stream",
     "text": [
      "corrector\n",
      "corrector\n",
      "corrector\n"
     ]
    },
    {
     "name": "stderr",
     "output_type": "stream",
     "text": [
      "484it [08:21,  3.60s/it]"
     ]
    },
    {
     "name": "stdout",
     "output_type": "stream",
     "text": [
      "corrector\n",
      "corrector\n",
      "corrector\n"
     ]
    },
    {
     "name": "stderr",
     "output_type": "stream",
     "text": [
      "485it [08:25,  3.60s/it]"
     ]
    },
    {
     "name": "stdout",
     "output_type": "stream",
     "text": [
      "corrector\n",
      "corrector\n",
      "corrector\n"
     ]
    },
    {
     "name": "stderr",
     "output_type": "stream",
     "text": [
      "486it [08:29,  3.60s/it]"
     ]
    },
    {
     "name": "stdout",
     "output_type": "stream",
     "text": [
      "corrector\n",
      "corrector\n",
      "corrector\n"
     ]
    },
    {
     "name": "stderr",
     "output_type": "stream",
     "text": [
      "487it [08:32,  3.60s/it]"
     ]
    },
    {
     "name": "stdout",
     "output_type": "stream",
     "text": [
      "corrector\n",
      "corrector\n",
      "corrector\n"
     ]
    },
    {
     "name": "stderr",
     "output_type": "stream",
     "text": [
      "488it [08:36,  3.60s/it]"
     ]
    },
    {
     "name": "stdout",
     "output_type": "stream",
     "text": [
      "corrector\n",
      "corrector\n",
      "corrector\n"
     ]
    },
    {
     "name": "stderr",
     "output_type": "stream",
     "text": [
      "489it [08:39,  3.60s/it]"
     ]
    },
    {
     "name": "stdout",
     "output_type": "stream",
     "text": [
      "corrector\n",
      "corrector\n",
      "corrector\n"
     ]
    },
    {
     "name": "stderr",
     "output_type": "stream",
     "text": [
      "490it [08:43,  3.60s/it]"
     ]
    },
    {
     "name": "stdout",
     "output_type": "stream",
     "text": [
      "corrector\n",
      "corrector\n",
      "corrector\n"
     ]
    },
    {
     "name": "stderr",
     "output_type": "stream",
     "text": [
      "491it [08:47,  3.60s/it]"
     ]
    },
    {
     "name": "stdout",
     "output_type": "stream",
     "text": [
      "corrector\n",
      "corrector\n",
      "corrector\n"
     ]
    },
    {
     "name": "stderr",
     "output_type": "stream",
     "text": [
      "492it [08:50,  3.60s/it]"
     ]
    },
    {
     "name": "stdout",
     "output_type": "stream",
     "text": [
      "corrector\n",
      "corrector\n",
      "corrector\n"
     ]
    },
    {
     "name": "stderr",
     "output_type": "stream",
     "text": [
      "493it [08:54,  3.60s/it]"
     ]
    },
    {
     "name": "stdout",
     "output_type": "stream",
     "text": [
      "corrector\n",
      "corrector\n",
      "corrector\n"
     ]
    },
    {
     "name": "stderr",
     "output_type": "stream",
     "text": [
      "494it [08:57,  3.60s/it]"
     ]
    },
    {
     "name": "stdout",
     "output_type": "stream",
     "text": [
      "corrector\n",
      "corrector\n",
      "corrector\n"
     ]
    },
    {
     "name": "stderr",
     "output_type": "stream",
     "text": [
      "495it [09:01,  3.60s/it]"
     ]
    },
    {
     "name": "stdout",
     "output_type": "stream",
     "text": [
      "corrector\n",
      "corrector\n",
      "corrector\n"
     ]
    },
    {
     "name": "stderr",
     "output_type": "stream",
     "text": [
      "496it [09:05,  3.60s/it]"
     ]
    },
    {
     "name": "stdout",
     "output_type": "stream",
     "text": [
      "corrector\n",
      "corrector\n",
      "corrector\n"
     ]
    },
    {
     "name": "stderr",
     "output_type": "stream",
     "text": [
      "497it [09:08,  3.60s/it]"
     ]
    },
    {
     "name": "stdout",
     "output_type": "stream",
     "text": [
      "corrector\n",
      "corrector\n",
      "corrector\n"
     ]
    },
    {
     "name": "stderr",
     "output_type": "stream",
     "text": [
      "498it [09:12,  3.60s/it]"
     ]
    },
    {
     "name": "stdout",
     "output_type": "stream",
     "text": [
      "corrector\n",
      "corrector\n",
      "corrector\n"
     ]
    },
    {
     "name": "stderr",
     "output_type": "stream",
     "text": [
      "499it [09:15,  3.60s/it]"
     ]
    },
    {
     "name": "stdout",
     "output_type": "stream",
     "text": [
      "corrector\n",
      "corrector\n",
      "corrector\n"
     ]
    },
    {
     "name": "stderr",
     "output_type": "stream",
     "text": [
      "500it [09:19,  1.12s/it]\n",
      "454it [06:33,  1.15it/s]"
     ]
    },
    {
     "name": "stdout",
     "output_type": "stream",
     "text": [
      "corrector\n",
      "corrector\n",
      "corrector\n"
     ]
    },
    {
     "name": "stderr",
     "output_type": "stream",
     "text": [
      "455it [06:37,  1.69s/it]"
     ]
    },
    {
     "name": "stdout",
     "output_type": "stream",
     "text": [
      "corrector\n",
      "corrector\n",
      "corrector\n"
     ]
    },
    {
     "name": "stderr",
     "output_type": "stream",
     "text": [
      "456it [06:40,  2.26s/it]"
     ]
    },
    {
     "name": "stdout",
     "output_type": "stream",
     "text": [
      "corrector\n",
      "corrector\n",
      "corrector\n"
     ]
    },
    {
     "name": "stderr",
     "output_type": "stream",
     "text": [
      "457it [06:44,  2.67s/it]"
     ]
    },
    {
     "name": "stdout",
     "output_type": "stream",
     "text": [
      "corrector\n",
      "corrector\n",
      "corrector\n"
     ]
    },
    {
     "name": "stderr",
     "output_type": "stream",
     "text": [
      "458it [06:48,  2.95s/it]"
     ]
    },
    {
     "name": "stdout",
     "output_type": "stream",
     "text": [
      "corrector\n",
      "corrector\n",
      "corrector\n"
     ]
    },
    {
     "name": "stderr",
     "output_type": "stream",
     "text": [
      "459it [06:51,  3.14s/it]"
     ]
    },
    {
     "name": "stdout",
     "output_type": "stream",
     "text": [
      "corrector\n",
      "corrector\n",
      "corrector\n"
     ]
    },
    {
     "name": "stderr",
     "output_type": "stream",
     "text": [
      "460it [06:55,  3.28s/it]"
     ]
    },
    {
     "name": "stdout",
     "output_type": "stream",
     "text": [
      "corrector\n",
      "corrector\n",
      "corrector\n"
     ]
    },
    {
     "name": "stderr",
     "output_type": "stream",
     "text": [
      "461it [06:58,  3.38s/it]"
     ]
    },
    {
     "name": "stdout",
     "output_type": "stream",
     "text": [
      "corrector\n",
      "corrector\n",
      "corrector\n"
     ]
    },
    {
     "name": "stderr",
     "output_type": "stream",
     "text": [
      "462it [07:02,  3.45s/it]"
     ]
    },
    {
     "name": "stdout",
     "output_type": "stream",
     "text": [
      "corrector\n",
      "corrector\n",
      "corrector\n"
     ]
    },
    {
     "name": "stderr",
     "output_type": "stream",
     "text": [
      "463it [07:06,  3.49s/it]"
     ]
    },
    {
     "name": "stdout",
     "output_type": "stream",
     "text": [
      "corrector\n",
      "corrector\n",
      "corrector\n"
     ]
    },
    {
     "name": "stderr",
     "output_type": "stream",
     "text": [
      "464it [07:09,  3.53s/it]"
     ]
    },
    {
     "name": "stdout",
     "output_type": "stream",
     "text": [
      "corrector\n",
      "corrector\n",
      "corrector\n"
     ]
    },
    {
     "name": "stderr",
     "output_type": "stream",
     "text": [
      "465it [07:13,  3.55s/it]"
     ]
    },
    {
     "name": "stdout",
     "output_type": "stream",
     "text": [
      "corrector\n",
      "corrector\n",
      "corrector\n"
     ]
    },
    {
     "name": "stderr",
     "output_type": "stream",
     "text": [
      "466it [07:16,  3.57s/it]"
     ]
    },
    {
     "name": "stdout",
     "output_type": "stream",
     "text": [
      "corrector\n",
      "corrector\n",
      "corrector\n"
     ]
    },
    {
     "name": "stderr",
     "output_type": "stream",
     "text": [
      "467it [07:20,  3.58s/it]"
     ]
    },
    {
     "name": "stdout",
     "output_type": "stream",
     "text": [
      "corrector\n",
      "corrector\n",
      "corrector\n"
     ]
    },
    {
     "name": "stderr",
     "output_type": "stream",
     "text": [
      "468it [07:24,  3.59s/it]"
     ]
    },
    {
     "name": "stdout",
     "output_type": "stream",
     "text": [
      "corrector\n",
      "corrector\n",
      "corrector\n"
     ]
    },
    {
     "name": "stderr",
     "output_type": "stream",
     "text": [
      "469it [07:27,  3.59s/it]"
     ]
    },
    {
     "name": "stdout",
     "output_type": "stream",
     "text": [
      "corrector\n",
      "corrector\n",
      "corrector\n"
     ]
    },
    {
     "name": "stderr",
     "output_type": "stream",
     "text": [
      "470it [07:31,  3.59s/it]"
     ]
    },
    {
     "name": "stdout",
     "output_type": "stream",
     "text": [
      "corrector\n",
      "corrector\n",
      "corrector\n"
     ]
    },
    {
     "name": "stderr",
     "output_type": "stream",
     "text": [
      "471it [07:34,  3.60s/it]"
     ]
    },
    {
     "name": "stdout",
     "output_type": "stream",
     "text": [
      "corrector\n",
      "corrector\n",
      "corrector\n"
     ]
    },
    {
     "name": "stderr",
     "output_type": "stream",
     "text": [
      "472it [07:38,  3.60s/it]"
     ]
    },
    {
     "name": "stdout",
     "output_type": "stream",
     "text": [
      "corrector\n",
      "corrector\n",
      "corrector\n"
     ]
    },
    {
     "name": "stderr",
     "output_type": "stream",
     "text": [
      "473it [07:42,  3.60s/it]"
     ]
    },
    {
     "name": "stdout",
     "output_type": "stream",
     "text": [
      "corrector\n",
      "corrector\n",
      "corrector\n"
     ]
    },
    {
     "name": "stderr",
     "output_type": "stream",
     "text": [
      "474it [07:45,  3.60s/it]"
     ]
    },
    {
     "name": "stdout",
     "output_type": "stream",
     "text": [
      "corrector\n",
      "corrector\n",
      "corrector\n"
     ]
    },
    {
     "name": "stderr",
     "output_type": "stream",
     "text": [
      "475it [07:49,  3.60s/it]"
     ]
    },
    {
     "name": "stdout",
     "output_type": "stream",
     "text": [
      "corrector\n",
      "corrector\n",
      "corrector\n"
     ]
    },
    {
     "name": "stderr",
     "output_type": "stream",
     "text": [
      "476it [07:53,  3.60s/it]"
     ]
    },
    {
     "name": "stdout",
     "output_type": "stream",
     "text": [
      "corrector\n",
      "corrector\n",
      "corrector\n"
     ]
    },
    {
     "name": "stderr",
     "output_type": "stream",
     "text": [
      "477it [07:56,  3.60s/it]"
     ]
    },
    {
     "name": "stdout",
     "output_type": "stream",
     "text": [
      "corrector\n",
      "corrector\n",
      "corrector\n"
     ]
    },
    {
     "name": "stderr",
     "output_type": "stream",
     "text": [
      "478it [08:00,  3.60s/it]"
     ]
    },
    {
     "name": "stdout",
     "output_type": "stream",
     "text": [
      "corrector\n",
      "corrector\n",
      "corrector\n"
     ]
    },
    {
     "name": "stderr",
     "output_type": "stream",
     "text": [
      "479it [08:03,  3.60s/it]"
     ]
    },
    {
     "name": "stdout",
     "output_type": "stream",
     "text": [
      "corrector\n",
      "corrector\n",
      "corrector\n"
     ]
    },
    {
     "name": "stderr",
     "output_type": "stream",
     "text": [
      "480it [08:07,  3.60s/it]"
     ]
    },
    {
     "name": "stdout",
     "output_type": "stream",
     "text": [
      "corrector\n",
      "corrector\n",
      "corrector\n"
     ]
    },
    {
     "name": "stderr",
     "output_type": "stream",
     "text": [
      "481it [08:11,  3.60s/it]"
     ]
    },
    {
     "name": "stdout",
     "output_type": "stream",
     "text": [
      "corrector\n",
      "corrector\n",
      "corrector\n"
     ]
    },
    {
     "name": "stderr",
     "output_type": "stream",
     "text": [
      "482it [08:14,  3.60s/it]"
     ]
    },
    {
     "name": "stdout",
     "output_type": "stream",
     "text": [
      "corrector\n",
      "corrector\n",
      "corrector\n"
     ]
    },
    {
     "name": "stderr",
     "output_type": "stream",
     "text": [
      "483it [08:18,  3.60s/it]"
     ]
    },
    {
     "name": "stdout",
     "output_type": "stream",
     "text": [
      "corrector\n",
      "corrector\n",
      "corrector\n"
     ]
    },
    {
     "name": "stderr",
     "output_type": "stream",
     "text": [
      "484it [08:21,  3.60s/it]"
     ]
    },
    {
     "name": "stdout",
     "output_type": "stream",
     "text": [
      "corrector\n",
      "corrector\n",
      "corrector\n"
     ]
    },
    {
     "name": "stderr",
     "output_type": "stream",
     "text": [
      "485it [08:25,  3.60s/it]"
     ]
    },
    {
     "name": "stdout",
     "output_type": "stream",
     "text": [
      "corrector\n",
      "corrector\n",
      "corrector\n"
     ]
    },
    {
     "name": "stderr",
     "output_type": "stream",
     "text": [
      "486it [08:29,  3.60s/it]"
     ]
    },
    {
     "name": "stdout",
     "output_type": "stream",
     "text": [
      "corrector\n",
      "corrector\n",
      "corrector\n"
     ]
    },
    {
     "name": "stderr",
     "output_type": "stream",
     "text": [
      "487it [08:32,  3.60s/it]"
     ]
    },
    {
     "name": "stdout",
     "output_type": "stream",
     "text": [
      "corrector\n",
      "corrector\n",
      "corrector\n"
     ]
    },
    {
     "name": "stderr",
     "output_type": "stream",
     "text": [
      "488it [08:36,  3.60s/it]"
     ]
    },
    {
     "name": "stdout",
     "output_type": "stream",
     "text": [
      "corrector\n",
      "corrector\n",
      "corrector\n"
     ]
    },
    {
     "name": "stderr",
     "output_type": "stream",
     "text": [
      "489it [08:39,  3.60s/it]"
     ]
    },
    {
     "name": "stdout",
     "output_type": "stream",
     "text": [
      "corrector\n",
      "corrector\n",
      "corrector\n"
     ]
    },
    {
     "name": "stderr",
     "output_type": "stream",
     "text": [
      "490it [08:43,  3.60s/it]"
     ]
    },
    {
     "name": "stdout",
     "output_type": "stream",
     "text": [
      "corrector\n",
      "corrector\n",
      "corrector\n"
     ]
    },
    {
     "name": "stderr",
     "output_type": "stream",
     "text": [
      "491it [08:47,  3.60s/it]"
     ]
    },
    {
     "name": "stdout",
     "output_type": "stream",
     "text": [
      "corrector\n",
      "corrector\n",
      "corrector\n"
     ]
    },
    {
     "name": "stderr",
     "output_type": "stream",
     "text": [
      "492it [08:50,  3.60s/it]"
     ]
    },
    {
     "name": "stdout",
     "output_type": "stream",
     "text": [
      "corrector\n",
      "corrector\n",
      "corrector\n"
     ]
    },
    {
     "name": "stderr",
     "output_type": "stream",
     "text": [
      "493it [08:54,  3.60s/it]"
     ]
    },
    {
     "name": "stdout",
     "output_type": "stream",
     "text": [
      "corrector\n",
      "corrector\n",
      "corrector\n"
     ]
    },
    {
     "name": "stderr",
     "output_type": "stream",
     "text": [
      "494it [08:57,  3.60s/it]"
     ]
    },
    {
     "name": "stdout",
     "output_type": "stream",
     "text": [
      "corrector\n",
      "corrector\n",
      "corrector\n"
     ]
    },
    {
     "name": "stderr",
     "output_type": "stream",
     "text": [
      "495it [09:01,  3.60s/it]"
     ]
    },
    {
     "name": "stdout",
     "output_type": "stream",
     "text": [
      "corrector\n",
      "corrector\n",
      "corrector\n"
     ]
    },
    {
     "name": "stderr",
     "output_type": "stream",
     "text": [
      "496it [09:05,  3.60s/it]"
     ]
    },
    {
     "name": "stdout",
     "output_type": "stream",
     "text": [
      "corrector\n",
      "corrector\n",
      "corrector\n"
     ]
    },
    {
     "name": "stderr",
     "output_type": "stream",
     "text": [
      "497it [09:08,  3.60s/it]"
     ]
    },
    {
     "name": "stdout",
     "output_type": "stream",
     "text": [
      "corrector\n",
      "corrector\n",
      "corrector\n"
     ]
    },
    {
     "name": "stderr",
     "output_type": "stream",
     "text": [
      "498it [09:12,  3.60s/it]"
     ]
    },
    {
     "name": "stdout",
     "output_type": "stream",
     "text": [
      "corrector\n",
      "corrector\n",
      "corrector\n"
     ]
    },
    {
     "name": "stderr",
     "output_type": "stream",
     "text": [
      "499it [09:15,  3.60s/it]"
     ]
    },
    {
     "name": "stdout",
     "output_type": "stream",
     "text": [
      "corrector\n",
      "corrector\n",
      "corrector\n"
     ]
    },
    {
     "name": "stderr",
     "output_type": "stream",
     "text": [
      "500it [09:19,  1.12s/it]\n",
      "454it [06:33,  1.15it/s]"
     ]
    },
    {
     "name": "stdout",
     "output_type": "stream",
     "text": [
      "corrector\n",
      "corrector\n",
      "corrector\n"
     ]
    },
    {
     "name": "stderr",
     "output_type": "stream",
     "text": [
      "455it [06:37,  1.69s/it]"
     ]
    },
    {
     "name": "stdout",
     "output_type": "stream",
     "text": [
      "corrector\n",
      "corrector\n",
      "corrector\n"
     ]
    },
    {
     "name": "stderr",
     "output_type": "stream",
     "text": [
      "456it [06:40,  2.26s/it]"
     ]
    },
    {
     "name": "stdout",
     "output_type": "stream",
     "text": [
      "corrector\n",
      "corrector\n",
      "corrector\n"
     ]
    },
    {
     "name": "stderr",
     "output_type": "stream",
     "text": [
      "457it [06:44,  2.67s/it]"
     ]
    },
    {
     "name": "stdout",
     "output_type": "stream",
     "text": [
      "corrector\n",
      "corrector\n",
      "corrector\n"
     ]
    },
    {
     "name": "stderr",
     "output_type": "stream",
     "text": [
      "458it [06:48,  2.95s/it]"
     ]
    },
    {
     "name": "stdout",
     "output_type": "stream",
     "text": [
      "corrector\n",
      "corrector\n",
      "corrector\n"
     ]
    },
    {
     "name": "stderr",
     "output_type": "stream",
     "text": [
      "459it [06:51,  3.14s/it]"
     ]
    },
    {
     "name": "stdout",
     "output_type": "stream",
     "text": [
      "corrector\n",
      "corrector\n",
      "corrector\n"
     ]
    },
    {
     "name": "stderr",
     "output_type": "stream",
     "text": [
      "460it [06:55,  3.28s/it]"
     ]
    },
    {
     "name": "stdout",
     "output_type": "stream",
     "text": [
      "corrector\n",
      "corrector\n",
      "corrector\n"
     ]
    },
    {
     "name": "stderr",
     "output_type": "stream",
     "text": [
      "461it [06:59,  3.38s/it]"
     ]
    },
    {
     "name": "stdout",
     "output_type": "stream",
     "text": [
      "corrector\n",
      "corrector\n",
      "corrector\n"
     ]
    },
    {
     "name": "stderr",
     "output_type": "stream",
     "text": [
      "462it [07:02,  3.45s/it]"
     ]
    },
    {
     "name": "stdout",
     "output_type": "stream",
     "text": [
      "corrector\n",
      "corrector\n",
      "corrector\n"
     ]
    },
    {
     "name": "stderr",
     "output_type": "stream",
     "text": [
      "463it [07:06,  3.49s/it]"
     ]
    },
    {
     "name": "stdout",
     "output_type": "stream",
     "text": [
      "corrector\n",
      "corrector\n",
      "corrector\n"
     ]
    },
    {
     "name": "stderr",
     "output_type": "stream",
     "text": [
      "464it [07:09,  3.53s/it]"
     ]
    },
    {
     "name": "stdout",
     "output_type": "stream",
     "text": [
      "corrector\n",
      "corrector\n",
      "corrector\n"
     ]
    },
    {
     "name": "stderr",
     "output_type": "stream",
     "text": [
      "465it [07:13,  3.55s/it]"
     ]
    },
    {
     "name": "stdout",
     "output_type": "stream",
     "text": [
      "corrector\n",
      "corrector\n",
      "corrector\n"
     ]
    },
    {
     "name": "stderr",
     "output_type": "stream",
     "text": [
      "466it [07:17,  3.57s/it]"
     ]
    },
    {
     "name": "stdout",
     "output_type": "stream",
     "text": [
      "corrector\n",
      "corrector\n",
      "corrector\n"
     ]
    },
    {
     "name": "stderr",
     "output_type": "stream",
     "text": [
      "467it [07:20,  3.58s/it]"
     ]
    },
    {
     "name": "stdout",
     "output_type": "stream",
     "text": [
      "corrector\n",
      "corrector\n",
      "corrector\n"
     ]
    },
    {
     "name": "stderr",
     "output_type": "stream",
     "text": [
      "468it [07:24,  3.59s/it]"
     ]
    },
    {
     "name": "stdout",
     "output_type": "stream",
     "text": [
      "corrector\n",
      "corrector\n",
      "corrector\n"
     ]
    },
    {
     "name": "stderr",
     "output_type": "stream",
     "text": [
      "469it [07:27,  3.59s/it]"
     ]
    },
    {
     "name": "stdout",
     "output_type": "stream",
     "text": [
      "corrector\n",
      "corrector\n",
      "corrector\n"
     ]
    },
    {
     "name": "stderr",
     "output_type": "stream",
     "text": [
      "470it [07:31,  3.59s/it]"
     ]
    },
    {
     "name": "stdout",
     "output_type": "stream",
     "text": [
      "corrector\n",
      "corrector\n",
      "corrector\n"
     ]
    },
    {
     "name": "stderr",
     "output_type": "stream",
     "text": [
      "471it [07:35,  3.60s/it]"
     ]
    },
    {
     "name": "stdout",
     "output_type": "stream",
     "text": [
      "corrector\n",
      "corrector\n",
      "corrector\n"
     ]
    },
    {
     "name": "stderr",
     "output_type": "stream",
     "text": [
      "472it [07:38,  3.60s/it]"
     ]
    },
    {
     "name": "stdout",
     "output_type": "stream",
     "text": [
      "corrector\n",
      "corrector\n",
      "corrector\n"
     ]
    },
    {
     "name": "stderr",
     "output_type": "stream",
     "text": [
      "473it [07:42,  3.60s/it]"
     ]
    },
    {
     "name": "stdout",
     "output_type": "stream",
     "text": [
      "corrector\n",
      "corrector\n",
      "corrector\n"
     ]
    },
    {
     "name": "stderr",
     "output_type": "stream",
     "text": [
      "474it [07:45,  3.60s/it]"
     ]
    },
    {
     "name": "stdout",
     "output_type": "stream",
     "text": [
      "corrector\n",
      "corrector\n",
      "corrector\n"
     ]
    },
    {
     "name": "stderr",
     "output_type": "stream",
     "text": [
      "475it [07:49,  3.60s/it]"
     ]
    },
    {
     "name": "stdout",
     "output_type": "stream",
     "text": [
      "corrector\n",
      "corrector\n",
      "corrector\n"
     ]
    },
    {
     "name": "stderr",
     "output_type": "stream",
     "text": [
      "476it [07:53,  3.60s/it]"
     ]
    },
    {
     "name": "stdout",
     "output_type": "stream",
     "text": [
      "corrector\n",
      "corrector\n",
      "corrector\n"
     ]
    },
    {
     "name": "stderr",
     "output_type": "stream",
     "text": [
      "477it [07:56,  3.60s/it]"
     ]
    },
    {
     "name": "stdout",
     "output_type": "stream",
     "text": [
      "corrector\n",
      "corrector\n",
      "corrector\n"
     ]
    },
    {
     "name": "stderr",
     "output_type": "stream",
     "text": [
      "478it [08:00,  3.60s/it]"
     ]
    },
    {
     "name": "stdout",
     "output_type": "stream",
     "text": [
      "corrector\n",
      "corrector\n",
      "corrector\n"
     ]
    },
    {
     "name": "stderr",
     "output_type": "stream",
     "text": [
      "479it [08:03,  3.60s/it]"
     ]
    },
    {
     "name": "stdout",
     "output_type": "stream",
     "text": [
      "corrector\n",
      "corrector\n",
      "corrector\n"
     ]
    },
    {
     "name": "stderr",
     "output_type": "stream",
     "text": [
      "480it [08:07,  3.60s/it]"
     ]
    },
    {
     "name": "stdout",
     "output_type": "stream",
     "text": [
      "corrector\n",
      "corrector\n",
      "corrector\n"
     ]
    },
    {
     "name": "stderr",
     "output_type": "stream",
     "text": [
      "481it [08:11,  3.60s/it]"
     ]
    },
    {
     "name": "stdout",
     "output_type": "stream",
     "text": [
      "corrector\n",
      "corrector\n",
      "corrector\n"
     ]
    },
    {
     "name": "stderr",
     "output_type": "stream",
     "text": [
      "482it [08:14,  3.60s/it]"
     ]
    },
    {
     "name": "stdout",
     "output_type": "stream",
     "text": [
      "corrector\n",
      "corrector\n",
      "corrector\n"
     ]
    },
    {
     "name": "stderr",
     "output_type": "stream",
     "text": [
      "483it [08:18,  3.60s/it]"
     ]
    },
    {
     "name": "stdout",
     "output_type": "stream",
     "text": [
      "corrector\n",
      "corrector\n",
      "corrector\n"
     ]
    },
    {
     "name": "stderr",
     "output_type": "stream",
     "text": [
      "484it [08:21,  3.60s/it]"
     ]
    },
    {
     "name": "stdout",
     "output_type": "stream",
     "text": [
      "corrector\n",
      "corrector\n",
      "corrector\n"
     ]
    },
    {
     "name": "stderr",
     "output_type": "stream",
     "text": [
      "485it [08:25,  3.60s/it]"
     ]
    },
    {
     "name": "stdout",
     "output_type": "stream",
     "text": [
      "corrector\n",
      "corrector\n",
      "corrector\n"
     ]
    },
    {
     "name": "stderr",
     "output_type": "stream",
     "text": [
      "486it [08:29,  3.60s/it]"
     ]
    },
    {
     "name": "stdout",
     "output_type": "stream",
     "text": [
      "corrector\n",
      "corrector\n",
      "corrector\n"
     ]
    },
    {
     "name": "stderr",
     "output_type": "stream",
     "text": [
      "487it [08:32,  3.60s/it]"
     ]
    },
    {
     "name": "stdout",
     "output_type": "stream",
     "text": [
      "corrector\n",
      "corrector\n",
      "corrector\n"
     ]
    },
    {
     "name": "stderr",
     "output_type": "stream",
     "text": [
      "488it [08:36,  3.60s/it]"
     ]
    },
    {
     "name": "stdout",
     "output_type": "stream",
     "text": [
      "corrector\n",
      "corrector\n",
      "corrector\n"
     ]
    },
    {
     "name": "stderr",
     "output_type": "stream",
     "text": [
      "489it [08:39,  3.60s/it]"
     ]
    },
    {
     "name": "stdout",
     "output_type": "stream",
     "text": [
      "corrector\n",
      "corrector\n",
      "corrector\n"
     ]
    },
    {
     "name": "stderr",
     "output_type": "stream",
     "text": [
      "490it [08:43,  3.60s/it]"
     ]
    },
    {
     "name": "stdout",
     "output_type": "stream",
     "text": [
      "corrector\n",
      "corrector\n",
      "corrector\n"
     ]
    },
    {
     "name": "stderr",
     "output_type": "stream",
     "text": [
      "491it [08:47,  3.60s/it]"
     ]
    },
    {
     "name": "stdout",
     "output_type": "stream",
     "text": [
      "corrector\n",
      "corrector\n",
      "corrector\n"
     ]
    },
    {
     "name": "stderr",
     "output_type": "stream",
     "text": [
      "492it [08:50,  3.60s/it]"
     ]
    },
    {
     "name": "stdout",
     "output_type": "stream",
     "text": [
      "corrector\n",
      "corrector\n",
      "corrector\n"
     ]
    },
    {
     "name": "stderr",
     "output_type": "stream",
     "text": [
      "493it [08:54,  3.60s/it]"
     ]
    },
    {
     "name": "stdout",
     "output_type": "stream",
     "text": [
      "corrector\n",
      "corrector\n",
      "corrector\n"
     ]
    },
    {
     "name": "stderr",
     "output_type": "stream",
     "text": [
      "494it [08:57,  3.60s/it]"
     ]
    },
    {
     "name": "stdout",
     "output_type": "stream",
     "text": [
      "corrector\n",
      "corrector\n",
      "corrector\n"
     ]
    },
    {
     "name": "stderr",
     "output_type": "stream",
     "text": [
      "495it [09:01,  3.60s/it]"
     ]
    },
    {
     "name": "stdout",
     "output_type": "stream",
     "text": [
      "corrector\n",
      "corrector\n",
      "corrector\n"
     ]
    },
    {
     "name": "stderr",
     "output_type": "stream",
     "text": [
      "496it [09:05,  3.60s/it]"
     ]
    },
    {
     "name": "stdout",
     "output_type": "stream",
     "text": [
      "corrector\n",
      "corrector\n",
      "corrector\n"
     ]
    },
    {
     "name": "stderr",
     "output_type": "stream",
     "text": [
      "497it [09:08,  3.60s/it]"
     ]
    },
    {
     "name": "stdout",
     "output_type": "stream",
     "text": [
      "corrector\n",
      "corrector\n",
      "corrector\n"
     ]
    },
    {
     "name": "stderr",
     "output_type": "stream",
     "text": [
      "498it [09:12,  3.60s/it]"
     ]
    },
    {
     "name": "stdout",
     "output_type": "stream",
     "text": [
      "corrector\n",
      "corrector\n",
      "corrector\n"
     ]
    },
    {
     "name": "stderr",
     "output_type": "stream",
     "text": [
      "499it [09:15,  3.60s/it]"
     ]
    },
    {
     "name": "stdout",
     "output_type": "stream",
     "text": [
      "corrector\n",
      "corrector\n",
      "corrector\n"
     ]
    },
    {
     "name": "stderr",
     "output_type": "stream",
     "text": [
      "500it [09:19,  1.12s/it]\n"
     ]
    },
    {
     "name": "stdout",
     "output_type": "stream",
     "text": [
      "# step: 750\n"
     ]
    },
    {
     "name": "stderr",
     "output_type": "stream",
     "text": [
      "681it [09:50,  1.15it/s]"
     ]
    },
    {
     "name": "stdout",
     "output_type": "stream",
     "text": [
      "corrector\n",
      "corrector\n",
      "corrector\n"
     ]
    },
    {
     "name": "stderr",
     "output_type": "stream",
     "text": [
      "682it [09:54,  1.69s/it]"
     ]
    },
    {
     "name": "stdout",
     "output_type": "stream",
     "text": [
      "corrector\n",
      "corrector\n",
      "corrector\n"
     ]
    },
    {
     "name": "stderr",
     "output_type": "stream",
     "text": [
      "683it [09:57,  2.26s/it]"
     ]
    },
    {
     "name": "stdout",
     "output_type": "stream",
     "text": [
      "corrector\n",
      "corrector\n",
      "corrector\n"
     ]
    },
    {
     "name": "stderr",
     "output_type": "stream",
     "text": [
      "684it [10:01,  2.67s/it]"
     ]
    },
    {
     "name": "stdout",
     "output_type": "stream",
     "text": [
      "corrector\n",
      "corrector\n",
      "corrector\n"
     ]
    },
    {
     "name": "stderr",
     "output_type": "stream",
     "text": [
      "685it [10:05,  2.95s/it]"
     ]
    },
    {
     "name": "stdout",
     "output_type": "stream",
     "text": [
      "corrector\n",
      "corrector\n",
      "corrector\n"
     ]
    },
    {
     "name": "stderr",
     "output_type": "stream",
     "text": [
      "686it [10:08,  3.14s/it]"
     ]
    },
    {
     "name": "stdout",
     "output_type": "stream",
     "text": [
      "corrector\n",
      "corrector\n",
      "corrector\n"
     ]
    },
    {
     "name": "stderr",
     "output_type": "stream",
     "text": [
      "687it [10:12,  3.28s/it]"
     ]
    },
    {
     "name": "stdout",
     "output_type": "stream",
     "text": [
      "corrector\n",
      "corrector\n",
      "corrector\n"
     ]
    },
    {
     "name": "stderr",
     "output_type": "stream",
     "text": [
      "688it [10:15,  3.38s/it]"
     ]
    },
    {
     "name": "stdout",
     "output_type": "stream",
     "text": [
      "corrector\n",
      "corrector\n",
      "corrector\n"
     ]
    },
    {
     "name": "stderr",
     "output_type": "stream",
     "text": [
      "689it [10:19,  3.45s/it]"
     ]
    },
    {
     "name": "stdout",
     "output_type": "stream",
     "text": [
      "corrector\n",
      "corrector\n",
      "corrector\n"
     ]
    },
    {
     "name": "stderr",
     "output_type": "stream",
     "text": [
      "690it [10:23,  3.49s/it]"
     ]
    },
    {
     "name": "stdout",
     "output_type": "stream",
     "text": [
      "corrector\n",
      "corrector\n",
      "corrector\n"
     ]
    },
    {
     "name": "stderr",
     "output_type": "stream",
     "text": [
      "691it [10:26,  3.53s/it]"
     ]
    },
    {
     "name": "stdout",
     "output_type": "stream",
     "text": [
      "corrector\n",
      "corrector\n",
      "corrector\n"
     ]
    },
    {
     "name": "stderr",
     "output_type": "stream",
     "text": [
      "692it [10:30,  3.55s/it]"
     ]
    },
    {
     "name": "stdout",
     "output_type": "stream",
     "text": [
      "corrector\n",
      "corrector\n",
      "corrector\n"
     ]
    },
    {
     "name": "stderr",
     "output_type": "stream",
     "text": [
      "693it [10:33,  3.57s/it]"
     ]
    },
    {
     "name": "stdout",
     "output_type": "stream",
     "text": [
      "corrector\n",
      "corrector\n",
      "corrector\n"
     ]
    },
    {
     "name": "stderr",
     "output_type": "stream",
     "text": [
      "694it [10:37,  3.58s/it]"
     ]
    },
    {
     "name": "stdout",
     "output_type": "stream",
     "text": [
      "corrector\n",
      "corrector\n",
      "corrector\n"
     ]
    },
    {
     "name": "stderr",
     "output_type": "stream",
     "text": [
      "695it [10:41,  3.59s/it]"
     ]
    },
    {
     "name": "stdout",
     "output_type": "stream",
     "text": [
      "corrector\n",
      "corrector\n",
      "corrector\n"
     ]
    },
    {
     "name": "stderr",
     "output_type": "stream",
     "text": [
      "696it [10:44,  3.59s/it]"
     ]
    },
    {
     "name": "stdout",
     "output_type": "stream",
     "text": [
      "corrector\n",
      "corrector\n",
      "corrector\n"
     ]
    },
    {
     "name": "stderr",
     "output_type": "stream",
     "text": [
      "697it [10:48,  3.60s/it]"
     ]
    },
    {
     "name": "stdout",
     "output_type": "stream",
     "text": [
      "corrector\n",
      "corrector\n",
      "corrector\n"
     ]
    },
    {
     "name": "stderr",
     "output_type": "stream",
     "text": [
      "698it [10:51,  3.60s/it]"
     ]
    },
    {
     "name": "stdout",
     "output_type": "stream",
     "text": [
      "corrector\n",
      "corrector\n",
      "corrector\n"
     ]
    },
    {
     "name": "stderr",
     "output_type": "stream",
     "text": [
      "699it [10:55,  3.60s/it]"
     ]
    },
    {
     "name": "stdout",
     "output_type": "stream",
     "text": [
      "corrector\n",
      "corrector\n",
      "corrector\n"
     ]
    },
    {
     "name": "stderr",
     "output_type": "stream",
     "text": [
      "700it [10:59,  3.60s/it]"
     ]
    },
    {
     "name": "stdout",
     "output_type": "stream",
     "text": [
      "corrector\n",
      "corrector\n",
      "corrector\n"
     ]
    },
    {
     "name": "stderr",
     "output_type": "stream",
     "text": [
      "701it [11:02,  3.60s/it]"
     ]
    },
    {
     "name": "stdout",
     "output_type": "stream",
     "text": [
      "corrector\n",
      "corrector\n",
      "corrector\n"
     ]
    },
    {
     "name": "stderr",
     "output_type": "stream",
     "text": [
      "702it [11:06,  3.60s/it]"
     ]
    },
    {
     "name": "stdout",
     "output_type": "stream",
     "text": [
      "corrector\n",
      "corrector\n",
      "corrector\n"
     ]
    },
    {
     "name": "stderr",
     "output_type": "stream",
     "text": [
      "703it [11:09,  3.60s/it]"
     ]
    },
    {
     "name": "stdout",
     "output_type": "stream",
     "text": [
      "corrector\n",
      "corrector\n",
      "corrector\n"
     ]
    },
    {
     "name": "stderr",
     "output_type": "stream",
     "text": [
      "704it [11:13,  3.60s/it]"
     ]
    },
    {
     "name": "stdout",
     "output_type": "stream",
     "text": [
      "corrector\n",
      "corrector\n",
      "corrector\n"
     ]
    },
    {
     "name": "stderr",
     "output_type": "stream",
     "text": [
      "705it [11:17,  3.60s/it]"
     ]
    },
    {
     "name": "stdout",
     "output_type": "stream",
     "text": [
      "corrector\n",
      "corrector\n",
      "corrector\n"
     ]
    },
    {
     "name": "stderr",
     "output_type": "stream",
     "text": [
      "706it [11:20,  3.60s/it]"
     ]
    },
    {
     "name": "stdout",
     "output_type": "stream",
     "text": [
      "corrector\n",
      "corrector\n",
      "corrector\n"
     ]
    },
    {
     "name": "stderr",
     "output_type": "stream",
     "text": [
      "707it [11:24,  3.60s/it]"
     ]
    },
    {
     "name": "stdout",
     "output_type": "stream",
     "text": [
      "corrector\n",
      "corrector\n",
      "corrector\n"
     ]
    },
    {
     "name": "stderr",
     "output_type": "stream",
     "text": [
      "708it [11:27,  3.60s/it]"
     ]
    },
    {
     "name": "stdout",
     "output_type": "stream",
     "text": [
      "corrector\n",
      "corrector\n",
      "corrector\n"
     ]
    },
    {
     "name": "stderr",
     "output_type": "stream",
     "text": [
      "709it [11:31,  3.60s/it]"
     ]
    },
    {
     "name": "stdout",
     "output_type": "stream",
     "text": [
      "corrector\n",
      "corrector\n",
      "corrector\n"
     ]
    },
    {
     "name": "stderr",
     "output_type": "stream",
     "text": [
      "710it [11:35,  3.60s/it]"
     ]
    },
    {
     "name": "stdout",
     "output_type": "stream",
     "text": [
      "corrector\n",
      "corrector\n",
      "corrector\n"
     ]
    },
    {
     "name": "stderr",
     "output_type": "stream",
     "text": [
      "711it [11:38,  3.60s/it]"
     ]
    },
    {
     "name": "stdout",
     "output_type": "stream",
     "text": [
      "corrector\n",
      "corrector\n",
      "corrector\n"
     ]
    },
    {
     "name": "stderr",
     "output_type": "stream",
     "text": [
      "712it [11:42,  3.60s/it]"
     ]
    },
    {
     "name": "stdout",
     "output_type": "stream",
     "text": [
      "corrector\n",
      "corrector\n",
      "corrector\n"
     ]
    },
    {
     "name": "stderr",
     "output_type": "stream",
     "text": [
      "713it [11:45,  3.60s/it]"
     ]
    },
    {
     "name": "stdout",
     "output_type": "stream",
     "text": [
      "corrector\n",
      "corrector\n",
      "corrector\n"
     ]
    },
    {
     "name": "stderr",
     "output_type": "stream",
     "text": [
      "714it [11:49,  3.60s/it]"
     ]
    },
    {
     "name": "stdout",
     "output_type": "stream",
     "text": [
      "corrector\n",
      "corrector\n",
      "corrector\n"
     ]
    },
    {
     "name": "stderr",
     "output_type": "stream",
     "text": [
      "715it [11:53,  3.60s/it]"
     ]
    },
    {
     "name": "stdout",
     "output_type": "stream",
     "text": [
      "corrector\n",
      "corrector\n",
      "corrector\n"
     ]
    },
    {
     "name": "stderr",
     "output_type": "stream",
     "text": [
      "716it [11:56,  3.60s/it]"
     ]
    },
    {
     "name": "stdout",
     "output_type": "stream",
     "text": [
      "corrector\n",
      "corrector\n",
      "corrector\n"
     ]
    },
    {
     "name": "stderr",
     "output_type": "stream",
     "text": [
      "717it [12:00,  3.60s/it]"
     ]
    },
    {
     "name": "stdout",
     "output_type": "stream",
     "text": [
      "corrector\n",
      "corrector\n",
      "corrector\n"
     ]
    },
    {
     "name": "stderr",
     "output_type": "stream",
     "text": [
      "718it [12:04,  3.60s/it]"
     ]
    },
    {
     "name": "stdout",
     "output_type": "stream",
     "text": [
      "corrector\n",
      "corrector\n",
      "corrector\n"
     ]
    },
    {
     "name": "stderr",
     "output_type": "stream",
     "text": [
      "719it [12:07,  3.60s/it]"
     ]
    },
    {
     "name": "stdout",
     "output_type": "stream",
     "text": [
      "corrector\n",
      "corrector\n",
      "corrector\n"
     ]
    },
    {
     "name": "stderr",
     "output_type": "stream",
     "text": [
      "720it [12:11,  3.60s/it]"
     ]
    },
    {
     "name": "stdout",
     "output_type": "stream",
     "text": [
      "corrector\n",
      "corrector\n",
      "corrector\n"
     ]
    },
    {
     "name": "stderr",
     "output_type": "stream",
     "text": [
      "721it [12:14,  3.60s/it]"
     ]
    },
    {
     "name": "stdout",
     "output_type": "stream",
     "text": [
      "corrector\n",
      "corrector\n",
      "corrector\n"
     ]
    },
    {
     "name": "stderr",
     "output_type": "stream",
     "text": [
      "722it [12:18,  3.60s/it]"
     ]
    },
    {
     "name": "stdout",
     "output_type": "stream",
     "text": [
      "corrector\n",
      "corrector\n",
      "corrector\n"
     ]
    },
    {
     "name": "stderr",
     "output_type": "stream",
     "text": [
      "723it [12:22,  3.60s/it]"
     ]
    },
    {
     "name": "stdout",
     "output_type": "stream",
     "text": [
      "corrector\n",
      "corrector\n",
      "corrector\n"
     ]
    },
    {
     "name": "stderr",
     "output_type": "stream",
     "text": [
      "724it [12:25,  3.60s/it]"
     ]
    },
    {
     "name": "stdout",
     "output_type": "stream",
     "text": [
      "corrector\n",
      "corrector\n",
      "corrector\n"
     ]
    },
    {
     "name": "stderr",
     "output_type": "stream",
     "text": [
      "725it [12:29,  3.60s/it]"
     ]
    },
    {
     "name": "stdout",
     "output_type": "stream",
     "text": [
      "corrector\n",
      "corrector\n",
      "corrector\n"
     ]
    },
    {
     "name": "stderr",
     "output_type": "stream",
     "text": [
      "726it [12:32,  3.60s/it]"
     ]
    },
    {
     "name": "stdout",
     "output_type": "stream",
     "text": [
      "corrector\n",
      "corrector\n",
      "corrector\n"
     ]
    },
    {
     "name": "stderr",
     "output_type": "stream",
     "text": [
      "727it [12:36,  3.60s/it]"
     ]
    },
    {
     "name": "stdout",
     "output_type": "stream",
     "text": [
      "corrector\n",
      "corrector\n",
      "corrector\n"
     ]
    },
    {
     "name": "stderr",
     "output_type": "stream",
     "text": [
      "728it [12:40,  3.60s/it]"
     ]
    },
    {
     "name": "stdout",
     "output_type": "stream",
     "text": [
      "corrector\n",
      "corrector\n",
      "corrector\n"
     ]
    },
    {
     "name": "stderr",
     "output_type": "stream",
     "text": [
      "729it [12:43,  3.60s/it]"
     ]
    },
    {
     "name": "stdout",
     "output_type": "stream",
     "text": [
      "corrector\n",
      "corrector\n",
      "corrector\n"
     ]
    },
    {
     "name": "stderr",
     "output_type": "stream",
     "text": [
      "730it [12:47,  3.60s/it]"
     ]
    },
    {
     "name": "stdout",
     "output_type": "stream",
     "text": [
      "corrector\n",
      "corrector\n",
      "corrector\n"
     ]
    },
    {
     "name": "stderr",
     "output_type": "stream",
     "text": [
      "731it [12:50,  3.60s/it]"
     ]
    },
    {
     "name": "stdout",
     "output_type": "stream",
     "text": [
      "corrector\n",
      "corrector\n",
      "corrector\n"
     ]
    },
    {
     "name": "stderr",
     "output_type": "stream",
     "text": [
      "732it [12:54,  3.60s/it]"
     ]
    },
    {
     "name": "stdout",
     "output_type": "stream",
     "text": [
      "corrector\n",
      "corrector\n",
      "corrector\n"
     ]
    },
    {
     "name": "stderr",
     "output_type": "stream",
     "text": [
      "733it [12:58,  3.60s/it]"
     ]
    },
    {
     "name": "stdout",
     "output_type": "stream",
     "text": [
      "corrector\n",
      "corrector\n",
      "corrector\n"
     ]
    },
    {
     "name": "stderr",
     "output_type": "stream",
     "text": [
      "734it [13:01,  3.60s/it]"
     ]
    },
    {
     "name": "stdout",
     "output_type": "stream",
     "text": [
      "corrector\n",
      "corrector\n",
      "corrector\n"
     ]
    },
    {
     "name": "stderr",
     "output_type": "stream",
     "text": [
      "735it [13:05,  3.60s/it]"
     ]
    },
    {
     "name": "stdout",
     "output_type": "stream",
     "text": [
      "corrector\n",
      "corrector\n",
      "corrector\n"
     ]
    },
    {
     "name": "stderr",
     "output_type": "stream",
     "text": [
      "736it [13:08,  3.60s/it]"
     ]
    },
    {
     "name": "stdout",
     "output_type": "stream",
     "text": [
      "corrector\n",
      "corrector\n",
      "corrector\n"
     ]
    },
    {
     "name": "stderr",
     "output_type": "stream",
     "text": [
      "737it [13:12,  3.60s/it]"
     ]
    },
    {
     "name": "stdout",
     "output_type": "stream",
     "text": [
      "corrector\n",
      "corrector\n",
      "corrector\n"
     ]
    },
    {
     "name": "stderr",
     "output_type": "stream",
     "text": [
      "738it [13:16,  3.60s/it]"
     ]
    },
    {
     "name": "stdout",
     "output_type": "stream",
     "text": [
      "corrector\n",
      "corrector\n",
      "corrector\n"
     ]
    },
    {
     "name": "stderr",
     "output_type": "stream",
     "text": [
      "739it [13:19,  3.60s/it]"
     ]
    },
    {
     "name": "stdout",
     "output_type": "stream",
     "text": [
      "corrector\n",
      "corrector\n",
      "corrector\n"
     ]
    },
    {
     "name": "stderr",
     "output_type": "stream",
     "text": [
      "740it [13:23,  3.60s/it]"
     ]
    },
    {
     "name": "stdout",
     "output_type": "stream",
     "text": [
      "corrector\n",
      "corrector\n",
      "corrector\n"
     ]
    },
    {
     "name": "stderr",
     "output_type": "stream",
     "text": [
      "741it [13:26,  3.60s/it]"
     ]
    },
    {
     "name": "stdout",
     "output_type": "stream",
     "text": [
      "corrector\n",
      "corrector\n",
      "corrector\n"
     ]
    },
    {
     "name": "stderr",
     "output_type": "stream",
     "text": [
      "742it [13:30,  3.60s/it]"
     ]
    },
    {
     "name": "stdout",
     "output_type": "stream",
     "text": [
      "corrector\n",
      "corrector\n",
      "corrector\n"
     ]
    },
    {
     "name": "stderr",
     "output_type": "stream",
     "text": [
      "743it [13:34,  3.60s/it]"
     ]
    },
    {
     "name": "stdout",
     "output_type": "stream",
     "text": [
      "corrector\n",
      "corrector\n",
      "corrector\n"
     ]
    },
    {
     "name": "stderr",
     "output_type": "stream",
     "text": [
      "744it [13:37,  3.60s/it]"
     ]
    },
    {
     "name": "stdout",
     "output_type": "stream",
     "text": [
      "corrector\n",
      "corrector\n",
      "corrector\n"
     ]
    },
    {
     "name": "stderr",
     "output_type": "stream",
     "text": [
      "745it [13:41,  3.60s/it]"
     ]
    },
    {
     "name": "stdout",
     "output_type": "stream",
     "text": [
      "corrector\n",
      "corrector\n",
      "corrector\n"
     ]
    },
    {
     "name": "stderr",
     "output_type": "stream",
     "text": [
      "746it [13:44,  3.60s/it]"
     ]
    },
    {
     "name": "stdout",
     "output_type": "stream",
     "text": [
      "corrector\n",
      "corrector\n",
      "corrector\n"
     ]
    },
    {
     "name": "stderr",
     "output_type": "stream",
     "text": [
      "747it [13:48,  3.60s/it]"
     ]
    },
    {
     "name": "stdout",
     "output_type": "stream",
     "text": [
      "corrector\n",
      "corrector\n",
      "corrector\n"
     ]
    },
    {
     "name": "stderr",
     "output_type": "stream",
     "text": [
      "748it [13:52,  3.60s/it]"
     ]
    },
    {
     "name": "stdout",
     "output_type": "stream",
     "text": [
      "corrector\n",
      "corrector\n",
      "corrector\n"
     ]
    },
    {
     "name": "stderr",
     "output_type": "stream",
     "text": [
      "749it [13:55,  3.60s/it]"
     ]
    },
    {
     "name": "stdout",
     "output_type": "stream",
     "text": [
      "corrector\n",
      "corrector\n",
      "corrector\n"
     ]
    },
    {
     "name": "stderr",
     "output_type": "stream",
     "text": [
      "750it [13:59,  1.12s/it]\n",
      "681it [09:50,  1.15it/s]"
     ]
    },
    {
     "name": "stdout",
     "output_type": "stream",
     "text": [
      "corrector\n",
      "corrector\n",
      "corrector\n"
     ]
    },
    {
     "name": "stderr",
     "output_type": "stream",
     "text": [
      "682it [09:54,  1.69s/it]"
     ]
    },
    {
     "name": "stdout",
     "output_type": "stream",
     "text": [
      "corrector\n",
      "corrector\n",
      "corrector\n"
     ]
    },
    {
     "name": "stderr",
     "output_type": "stream",
     "text": [
      "683it [09:57,  2.26s/it]"
     ]
    },
    {
     "name": "stdout",
     "output_type": "stream",
     "text": [
      "corrector\n",
      "corrector\n",
      "corrector\n"
     ]
    },
    {
     "name": "stderr",
     "output_type": "stream",
     "text": [
      "684it [10:01,  2.67s/it]"
     ]
    },
    {
     "name": "stdout",
     "output_type": "stream",
     "text": [
      "corrector\n",
      "corrector\n",
      "corrector\n"
     ]
    },
    {
     "name": "stderr",
     "output_type": "stream",
     "text": [
      "685it [10:05,  2.95s/it]"
     ]
    },
    {
     "name": "stdout",
     "output_type": "stream",
     "text": [
      "corrector\n",
      "corrector\n",
      "corrector\n"
     ]
    },
    {
     "name": "stderr",
     "output_type": "stream",
     "text": [
      "686it [10:08,  3.14s/it]"
     ]
    },
    {
     "name": "stdout",
     "output_type": "stream",
     "text": [
      "corrector\n",
      "corrector\n",
      "corrector\n"
     ]
    },
    {
     "name": "stderr",
     "output_type": "stream",
     "text": [
      "687it [10:12,  3.28s/it]"
     ]
    },
    {
     "name": "stdout",
     "output_type": "stream",
     "text": [
      "corrector\n",
      "corrector\n",
      "corrector\n"
     ]
    },
    {
     "name": "stderr",
     "output_type": "stream",
     "text": [
      "688it [10:15,  3.38s/it]"
     ]
    },
    {
     "name": "stdout",
     "output_type": "stream",
     "text": [
      "corrector\n",
      "corrector\n",
      "corrector\n"
     ]
    },
    {
     "name": "stderr",
     "output_type": "stream",
     "text": [
      "689it [10:19,  3.45s/it]"
     ]
    },
    {
     "name": "stdout",
     "output_type": "stream",
     "text": [
      "corrector\n",
      "corrector\n",
      "corrector\n"
     ]
    },
    {
     "name": "stderr",
     "output_type": "stream",
     "text": [
      "690it [10:23,  3.49s/it]"
     ]
    },
    {
     "name": "stdout",
     "output_type": "stream",
     "text": [
      "corrector\n",
      "corrector\n",
      "corrector\n"
     ]
    },
    {
     "name": "stderr",
     "output_type": "stream",
     "text": [
      "691it [10:26,  3.53s/it]"
     ]
    },
    {
     "name": "stdout",
     "output_type": "stream",
     "text": [
      "corrector\n",
      "corrector\n",
      "corrector\n"
     ]
    },
    {
     "name": "stderr",
     "output_type": "stream",
     "text": [
      "692it [10:30,  3.55s/it]"
     ]
    },
    {
     "name": "stdout",
     "output_type": "stream",
     "text": [
      "corrector\n",
      "corrector\n",
      "corrector\n"
     ]
    },
    {
     "name": "stderr",
     "output_type": "stream",
     "text": [
      "693it [10:33,  3.57s/it]"
     ]
    },
    {
     "name": "stdout",
     "output_type": "stream",
     "text": [
      "corrector\n",
      "corrector\n",
      "corrector\n"
     ]
    },
    {
     "name": "stderr",
     "output_type": "stream",
     "text": [
      "694it [10:37,  3.58s/it]"
     ]
    },
    {
     "name": "stdout",
     "output_type": "stream",
     "text": [
      "corrector\n",
      "corrector\n",
      "corrector\n"
     ]
    },
    {
     "name": "stderr",
     "output_type": "stream",
     "text": [
      "695it [10:41,  3.59s/it]"
     ]
    },
    {
     "name": "stdout",
     "output_type": "stream",
     "text": [
      "corrector\n",
      "corrector\n",
      "corrector\n"
     ]
    },
    {
     "name": "stderr",
     "output_type": "stream",
     "text": [
      "696it [10:44,  3.59s/it]"
     ]
    },
    {
     "name": "stdout",
     "output_type": "stream",
     "text": [
      "corrector\n",
      "corrector\n",
      "corrector\n"
     ]
    },
    {
     "name": "stderr",
     "output_type": "stream",
     "text": [
      "697it [10:48,  3.60s/it]"
     ]
    },
    {
     "name": "stdout",
     "output_type": "stream",
     "text": [
      "corrector\n",
      "corrector\n",
      "corrector\n"
     ]
    },
    {
     "name": "stderr",
     "output_type": "stream",
     "text": [
      "698it [10:51,  3.60s/it]"
     ]
    },
    {
     "name": "stdout",
     "output_type": "stream",
     "text": [
      "corrector\n",
      "corrector\n",
      "corrector\n"
     ]
    },
    {
     "name": "stderr",
     "output_type": "stream",
     "text": [
      "699it [10:55,  3.60s/it]"
     ]
    },
    {
     "name": "stdout",
     "output_type": "stream",
     "text": [
      "corrector\n",
      "corrector\n",
      "corrector\n"
     ]
    },
    {
     "name": "stderr",
     "output_type": "stream",
     "text": [
      "700it [10:59,  3.60s/it]"
     ]
    },
    {
     "name": "stdout",
     "output_type": "stream",
     "text": [
      "corrector\n",
      "corrector\n",
      "corrector\n"
     ]
    },
    {
     "name": "stderr",
     "output_type": "stream",
     "text": [
      "701it [11:02,  3.60s/it]"
     ]
    },
    {
     "name": "stdout",
     "output_type": "stream",
     "text": [
      "corrector\n",
      "corrector\n",
      "corrector\n"
     ]
    },
    {
     "name": "stderr",
     "output_type": "stream",
     "text": [
      "702it [11:06,  3.60s/it]"
     ]
    },
    {
     "name": "stdout",
     "output_type": "stream",
     "text": [
      "corrector\n",
      "corrector\n",
      "corrector\n"
     ]
    },
    {
     "name": "stderr",
     "output_type": "stream",
     "text": [
      "703it [11:09,  3.60s/it]"
     ]
    },
    {
     "name": "stdout",
     "output_type": "stream",
     "text": [
      "corrector\n",
      "corrector\n",
      "corrector\n"
     ]
    },
    {
     "name": "stderr",
     "output_type": "stream",
     "text": [
      "704it [11:13,  3.60s/it]"
     ]
    },
    {
     "name": "stdout",
     "output_type": "stream",
     "text": [
      "corrector\n",
      "corrector\n",
      "corrector\n"
     ]
    },
    {
     "name": "stderr",
     "output_type": "stream",
     "text": [
      "705it [11:17,  3.60s/it]"
     ]
    },
    {
     "name": "stdout",
     "output_type": "stream",
     "text": [
      "corrector\n",
      "corrector\n",
      "corrector\n"
     ]
    },
    {
     "name": "stderr",
     "output_type": "stream",
     "text": [
      "706it [11:20,  3.60s/it]"
     ]
    },
    {
     "name": "stdout",
     "output_type": "stream",
     "text": [
      "corrector\n",
      "corrector\n",
      "corrector\n"
     ]
    },
    {
     "name": "stderr",
     "output_type": "stream",
     "text": [
      "707it [11:24,  3.60s/it]"
     ]
    },
    {
     "name": "stdout",
     "output_type": "stream",
     "text": [
      "corrector\n",
      "corrector\n",
      "corrector\n"
     ]
    },
    {
     "name": "stderr",
     "output_type": "stream",
     "text": [
      "708it [11:27,  3.60s/it]"
     ]
    },
    {
     "name": "stdout",
     "output_type": "stream",
     "text": [
      "corrector\n",
      "corrector\n",
      "corrector\n"
     ]
    },
    {
     "name": "stderr",
     "output_type": "stream",
     "text": [
      "709it [11:31,  3.60s/it]"
     ]
    },
    {
     "name": "stdout",
     "output_type": "stream",
     "text": [
      "corrector\n",
      "corrector\n",
      "corrector\n"
     ]
    },
    {
     "name": "stderr",
     "output_type": "stream",
     "text": [
      "710it [11:35,  3.60s/it]"
     ]
    },
    {
     "name": "stdout",
     "output_type": "stream",
     "text": [
      "corrector\n",
      "corrector\n",
      "corrector\n"
     ]
    },
    {
     "name": "stderr",
     "output_type": "stream",
     "text": [
      "711it [11:38,  3.60s/it]"
     ]
    },
    {
     "name": "stdout",
     "output_type": "stream",
     "text": [
      "corrector\n",
      "corrector\n",
      "corrector\n"
     ]
    },
    {
     "name": "stderr",
     "output_type": "stream",
     "text": [
      "712it [11:42,  3.60s/it]"
     ]
    },
    {
     "name": "stdout",
     "output_type": "stream",
     "text": [
      "corrector\n",
      "corrector\n",
      "corrector\n"
     ]
    },
    {
     "name": "stderr",
     "output_type": "stream",
     "text": [
      "713it [11:46,  3.60s/it]"
     ]
    },
    {
     "name": "stdout",
     "output_type": "stream",
     "text": [
      "corrector\n",
      "corrector\n",
      "corrector\n"
     ]
    },
    {
     "name": "stderr",
     "output_type": "stream",
     "text": [
      "714it [11:49,  3.60s/it]"
     ]
    },
    {
     "name": "stdout",
     "output_type": "stream",
     "text": [
      "corrector\n",
      "corrector\n",
      "corrector\n"
     ]
    },
    {
     "name": "stderr",
     "output_type": "stream",
     "text": [
      "715it [11:53,  3.60s/it]"
     ]
    },
    {
     "name": "stdout",
     "output_type": "stream",
     "text": [
      "corrector\n",
      "corrector\n",
      "corrector\n"
     ]
    },
    {
     "name": "stderr",
     "output_type": "stream",
     "text": [
      "716it [11:56,  3.60s/it]"
     ]
    },
    {
     "name": "stdout",
     "output_type": "stream",
     "text": [
      "corrector\n",
      "corrector\n",
      "corrector\n"
     ]
    },
    {
     "name": "stderr",
     "output_type": "stream",
     "text": [
      "717it [12:00,  3.60s/it]"
     ]
    },
    {
     "name": "stdout",
     "output_type": "stream",
     "text": [
      "corrector\n",
      "corrector\n",
      "corrector\n"
     ]
    },
    {
     "name": "stderr",
     "output_type": "stream",
     "text": [
      "718it [12:04,  3.60s/it]"
     ]
    },
    {
     "name": "stdout",
     "output_type": "stream",
     "text": [
      "corrector\n",
      "corrector\n",
      "corrector\n"
     ]
    },
    {
     "name": "stderr",
     "output_type": "stream",
     "text": [
      "719it [12:07,  3.60s/it]"
     ]
    },
    {
     "name": "stdout",
     "output_type": "stream",
     "text": [
      "corrector\n",
      "corrector\n",
      "corrector\n"
     ]
    },
    {
     "name": "stderr",
     "output_type": "stream",
     "text": [
      "720it [12:11,  3.60s/it]"
     ]
    },
    {
     "name": "stdout",
     "output_type": "stream",
     "text": [
      "corrector\n",
      "corrector\n",
      "corrector\n"
     ]
    },
    {
     "name": "stderr",
     "output_type": "stream",
     "text": [
      "721it [12:14,  3.60s/it]"
     ]
    },
    {
     "name": "stdout",
     "output_type": "stream",
     "text": [
      "corrector\n",
      "corrector\n",
      "corrector\n"
     ]
    },
    {
     "name": "stderr",
     "output_type": "stream",
     "text": [
      "722it [12:18,  3.60s/it]"
     ]
    },
    {
     "name": "stdout",
     "output_type": "stream",
     "text": [
      "corrector\n",
      "corrector\n",
      "corrector\n"
     ]
    },
    {
     "name": "stderr",
     "output_type": "stream",
     "text": [
      "723it [12:22,  3.60s/it]"
     ]
    },
    {
     "name": "stdout",
     "output_type": "stream",
     "text": [
      "corrector\n",
      "corrector\n",
      "corrector\n"
     ]
    },
    {
     "name": "stderr",
     "output_type": "stream",
     "text": [
      "724it [12:25,  3.60s/it]"
     ]
    },
    {
     "name": "stdout",
     "output_type": "stream",
     "text": [
      "corrector\n",
      "corrector\n",
      "corrector\n"
     ]
    },
    {
     "name": "stderr",
     "output_type": "stream",
     "text": [
      "725it [12:29,  3.60s/it]"
     ]
    },
    {
     "name": "stdout",
     "output_type": "stream",
     "text": [
      "corrector\n",
      "corrector\n",
      "corrector\n"
     ]
    },
    {
     "name": "stderr",
     "output_type": "stream",
     "text": [
      "726it [12:32,  3.60s/it]"
     ]
    },
    {
     "name": "stdout",
     "output_type": "stream",
     "text": [
      "corrector\n",
      "corrector\n",
      "corrector\n"
     ]
    },
    {
     "name": "stderr",
     "output_type": "stream",
     "text": [
      "727it [12:36,  3.60s/it]"
     ]
    },
    {
     "name": "stdout",
     "output_type": "stream",
     "text": [
      "corrector\n",
      "corrector\n",
      "corrector\n"
     ]
    },
    {
     "name": "stderr",
     "output_type": "stream",
     "text": [
      "728it [12:40,  3.60s/it]"
     ]
    },
    {
     "name": "stdout",
     "output_type": "stream",
     "text": [
      "corrector\n",
      "corrector\n",
      "corrector\n"
     ]
    },
    {
     "name": "stderr",
     "output_type": "stream",
     "text": [
      "729it [12:43,  3.60s/it]"
     ]
    },
    {
     "name": "stdout",
     "output_type": "stream",
     "text": [
      "corrector\n",
      "corrector\n",
      "corrector\n"
     ]
    },
    {
     "name": "stderr",
     "output_type": "stream",
     "text": [
      "730it [12:47,  3.60s/it]"
     ]
    },
    {
     "name": "stdout",
     "output_type": "stream",
     "text": [
      "corrector\n",
      "corrector\n",
      "corrector\n"
     ]
    },
    {
     "name": "stderr",
     "output_type": "stream",
     "text": [
      "731it [12:50,  3.60s/it]"
     ]
    },
    {
     "name": "stdout",
     "output_type": "stream",
     "text": [
      "corrector\n",
      "corrector\n",
      "corrector\n"
     ]
    },
    {
     "name": "stderr",
     "output_type": "stream",
     "text": [
      "732it [12:54,  3.60s/it]"
     ]
    },
    {
     "name": "stdout",
     "output_type": "stream",
     "text": [
      "corrector\n",
      "corrector\n",
      "corrector\n"
     ]
    },
    {
     "name": "stderr",
     "output_type": "stream",
     "text": [
      "733it [12:58,  3.60s/it]"
     ]
    },
    {
     "name": "stdout",
     "output_type": "stream",
     "text": [
      "corrector\n",
      "corrector\n",
      "corrector\n"
     ]
    },
    {
     "name": "stderr",
     "output_type": "stream",
     "text": [
      "734it [13:01,  3.60s/it]"
     ]
    },
    {
     "name": "stdout",
     "output_type": "stream",
     "text": [
      "corrector\n",
      "corrector\n",
      "corrector\n"
     ]
    },
    {
     "name": "stderr",
     "output_type": "stream",
     "text": [
      "735it [13:05,  3.61s/it]"
     ]
    },
    {
     "name": "stdout",
     "output_type": "stream",
     "text": [
      "corrector\n",
      "corrector\n",
      "corrector\n"
     ]
    },
    {
     "name": "stderr",
     "output_type": "stream",
     "text": [
      "736it [13:08,  3.61s/it]"
     ]
    },
    {
     "name": "stdout",
     "output_type": "stream",
     "text": [
      "corrector\n",
      "corrector\n",
      "corrector\n"
     ]
    },
    {
     "name": "stderr",
     "output_type": "stream",
     "text": [
      "737it [13:12,  3.61s/it]"
     ]
    },
    {
     "name": "stdout",
     "output_type": "stream",
     "text": [
      "corrector\n",
      "corrector\n",
      "corrector\n"
     ]
    },
    {
     "name": "stderr",
     "output_type": "stream",
     "text": [
      "738it [13:16,  3.60s/it]"
     ]
    },
    {
     "name": "stdout",
     "output_type": "stream",
     "text": [
      "corrector\n",
      "corrector\n",
      "corrector\n"
     ]
    },
    {
     "name": "stderr",
     "output_type": "stream",
     "text": [
      "739it [13:19,  3.60s/it]"
     ]
    },
    {
     "name": "stdout",
     "output_type": "stream",
     "text": [
      "corrector\n",
      "corrector\n",
      "corrector\n"
     ]
    },
    {
     "name": "stderr",
     "output_type": "stream",
     "text": [
      "740it [13:23,  3.60s/it]"
     ]
    },
    {
     "name": "stdout",
     "output_type": "stream",
     "text": [
      "corrector\n",
      "corrector\n",
      "corrector\n"
     ]
    },
    {
     "name": "stderr",
     "output_type": "stream",
     "text": [
      "741it [13:26,  3.60s/it]"
     ]
    },
    {
     "name": "stdout",
     "output_type": "stream",
     "text": [
      "corrector\n",
      "corrector\n",
      "corrector\n"
     ]
    },
    {
     "name": "stderr",
     "output_type": "stream",
     "text": [
      "742it [13:30,  3.60s/it]"
     ]
    },
    {
     "name": "stdout",
     "output_type": "stream",
     "text": [
      "corrector\n",
      "corrector\n",
      "corrector\n"
     ]
    },
    {
     "name": "stderr",
     "output_type": "stream",
     "text": [
      "743it [13:34,  3.60s/it]"
     ]
    },
    {
     "name": "stdout",
     "output_type": "stream",
     "text": [
      "corrector\n",
      "corrector\n",
      "corrector\n"
     ]
    },
    {
     "name": "stderr",
     "output_type": "stream",
     "text": [
      "744it [13:37,  3.60s/it]"
     ]
    },
    {
     "name": "stdout",
     "output_type": "stream",
     "text": [
      "corrector\n",
      "corrector\n",
      "corrector\n"
     ]
    },
    {
     "name": "stderr",
     "output_type": "stream",
     "text": [
      "745it [13:41,  3.60s/it]"
     ]
    },
    {
     "name": "stdout",
     "output_type": "stream",
     "text": [
      "corrector\n",
      "corrector\n",
      "corrector\n"
     ]
    },
    {
     "name": "stderr",
     "output_type": "stream",
     "text": [
      "746it [13:44,  3.60s/it]"
     ]
    },
    {
     "name": "stdout",
     "output_type": "stream",
     "text": [
      "corrector\n",
      "corrector\n",
      "corrector\n"
     ]
    },
    {
     "name": "stderr",
     "output_type": "stream",
     "text": [
      "747it [13:48,  3.60s/it]"
     ]
    },
    {
     "name": "stdout",
     "output_type": "stream",
     "text": [
      "corrector\n",
      "corrector\n",
      "corrector\n"
     ]
    },
    {
     "name": "stderr",
     "output_type": "stream",
     "text": [
      "748it [13:52,  3.60s/it]"
     ]
    },
    {
     "name": "stdout",
     "output_type": "stream",
     "text": [
      "corrector\n",
      "corrector\n",
      "corrector\n"
     ]
    },
    {
     "name": "stderr",
     "output_type": "stream",
     "text": [
      "749it [13:55,  3.60s/it]"
     ]
    },
    {
     "name": "stdout",
     "output_type": "stream",
     "text": [
      "corrector\n",
      "corrector\n",
      "corrector\n"
     ]
    },
    {
     "name": "stderr",
     "output_type": "stream",
     "text": [
      "750it [13:59,  1.12s/it]\n",
      "107it [01:32,  1.15it/s]"
     ]
    }
   ],
   "source": [
    "cfg.sampler.num_corrector_steps = 0\n",
    "cfg.sampler.corrector_entry_time = ScalarFloat(0.1)\n",
    "#cfg.sampler.num_steps = 10\n",
    "cfg.sampler.is_ordinal = True\n",
    "sampler_names = ['LBJF'] # 'CRMLBJF', \n",
    "n_samples = 2000\n",
    "for _, n_name in enumerate(sampler_names):\n",
    "    cfg.sampler.name = n_name \n",
    "    print(\"# name:\", cfg.sampler.name)\n",
    "    for pc in [3, 5, 10]:\n",
    "        cfg.sampler.num_corrector_steps = pc\n",
    "        print(\"Corrector:\", cfg.sampler.num_corrector_steps)\n",
    "        for _, n_steps in enumerate([50, 100, 250, 500, 750, 1000]):\n",
    "            cfg.sampler.num_steps = n_steps\n",
    "            print(\"# step:\", cfg.sampler.num_steps)\n",
    "            for i in range(5):\n",
    "                sampler = sampling_utils.get_sampler(cfg)\n",
    "                samples, changes = sampler.sample(model, n_samples)\n",
    "                saved_samples = samples\n",
    "                np.save(f'mnist_unet_corrector{pc}_01_{cfg.sampler.name}{cfg.sampler.num_steps}_mnist{i}', saved_samples.reshape(n_samples, 1, cfg.data.image_size, cfg.data.image_size))\n"
   ]
  },
  {
   "cell_type": "code",
   "execution_count": null,
   "metadata": {},
   "outputs": [],
   "source": [
    "steps = [50]\n",
    "corrector = 1\n",
    "sampler_name = ['TauL']# , CRMTauL']\n",
    "for sampler_n_i in sampler_name:\n",
    "    for step in steps:\n",
    "        data_list = []\n",
    "        for i in range(5):\n",
    "            print(f'mnist_unet_{sampler_n_i}{step}_mnist{i}.npy')\n",
    "            data_list.append(np.load(f'mnist_unet_corrector{corrector}_01_{sampler_n_i}{step}_mnist{i}.npy'))\n",
    "        data = np.vstack(data_list)\n",
    "        print(data.shape)\n",
    "        np.save(f'Samples/MNIST/mnist_unet_corrector{corrector}_01_{sampler_n_i}{step}_prime.npy', data)"
   ]
  },
  {
   "cell_type": "code",
   "execution_count": null,
   "metadata": {},
   "outputs": [],
   "source": [
    "steps = [50, 100, 250, 500, 750, 1000]\n",
    "sampler_names = ['TauL']# , 'CRMTauL', 'ExactSampling' ] # 'LBJF', \n",
    "c = 5\n",
    "#for sampler_n_i in sampler_name:\n",
    "#    for step in steps:\n",
    "#        data = np.load(f'unet_{sampler_n_i}{step}_mnist.npy')\n",
    "fid_values = []\n",
    "for sampler_n in sampler_names:\n",
    "    for step in steps:\n",
    "        data = np.load(f'Samples/MNIST/mnist_unet_corrector{c}_01_{sampler_n}{step}.npy')\n",
    "        #data = np.load('mpl_x.npy')\n",
    "        print(data.shape)\n",
    "        dataset = dataset_utils.get_dataset(cfg, device, dataset_location)\n",
    "\n",
    "        dataloader = torch.utils.data.DataLoader(dataset,\n",
    "            batch_size=data.shape[0],\n",
    "            shuffle=cfg.data.shuffle)\n",
    "        for true_data in tqdm(dataloader):\n",
    "            #print(f'mnist_hollow_{sampler_n}{step}.npy')\n",
    "            print(\"----------------------------------\")\n",
    "            print(\"Sampler:\", sampler_n)\n",
    "            print(\"Step:\", step)\n",
    "            fid = evaluate_fid_score(data, true_data.cpu().numpy(), 100)\n",
    "            print(\"FID:\", fid)\n",
    "            fid_values.append(fid)\n",
    "            break\n",
    "print(fid_values)\n"
   ]
  },
  {
   "cell_type": "code",
   "execution_count": null,
   "metadata": {},
   "outputs": [],
   "source": [
    "import numpy as np\n",
    "import matplotlib.pyplot as plt\n",
    "# FID\n",
    "steps_plot = np.round(1 / np.array([5, 10, 20, 50, 100, 250, 500, 1000, 2000]), 4)\n",
    "steps = 1 / np.array([5, 7, 10, 15, 20, 30, 50, 100, 250, 500, 750, 1000, 1500])\n",
    "fid_taul = np.array([369.82769160402194, 339.7123739152373, 283.87526811768316, 212.90508021598973, 120.04226304249106, 40.6234648618652, 13.453524786963495, 3.6, 2.98404509903506, 2.5395556730263706, 2.51, 2.48, 2.460157370950734])\n",
    "fid_lbjf = np.array([369.82769160402194, 368.6921461974128, 367.43394813969206, 363.92216793023744, 360.795573791034, 354.6901690476625, 339.59518918406286, 305.2288604477556, 212.0276736955564, 75.84530505097865, 32.956622302615955, 19.817409823054646, 7.19])\n",
    "fid_mpl = np.array([344.39284875166595, 290.45552043389864, 247.32958569058357, 88.0448768470724, 42.82853224434638, 12.394969584434108, 4.020041973904654, 3.3680633408595213, 2.8853011388733307, 2.5683849558007807, 2.48, 2.4493237174940248, 2.40])\n",
    "plt.plot(steps, fid_taul, marker='o', color='green', label='Tau-Leaping')\n",
    "plt.plot(steps, fid_lbjf, marker='o', label='Euler')\n",
    "plt.plot(steps, fid_mpl, marker='o', label='Midpoint Tau-Leaping', color='lightcoral')\n",
    "plt.xlabel('$\\\\tau$', fontsize=13)\n",
    "plt.ylabel('FID Value', fontsize=13)\n",
    "plt.title('FID Value of Sampling Methods with Varying $\\\\tau$', fontsize=14)\n",
    "plt.legend(fontsize=9)\n",
    "plt.grid(True)\n",
    "plt.xscale('log')\n",
    "steps_y = [370, 250, 200, 150, 100, 50, 25, 10, 7, 4, 2.5, 2]\n",
    "plt.yscale('log')\n",
    "plt.yticks(steps_y, steps_y)\n",
    "plt.xticks(steps_plot, steps_plot)\n",
    "plt.savefig('fid_tau.pdf')\n",
    "plt.show()"
   ]
  },
  {
   "cell_type": "code",
   "execution_count": null,
   "metadata": {},
   "outputs": [],
   "source": [
    "# IS \n",
    "import numpy as np\n",
    "import matplotlib.pyplot as plt\n",
    "steps_plot = np.round(1 / np.array([5, 10, 20, 50, 100, 250, 500, 1000, 2000]), 4)\n",
    "mean_is_mpl = np.array([8.56, 8.62, 8.677, 8.7, 8.733, 8.763])\n",
    "std_is_mpl = np.array([0.078, 0.1, 0.079, 0.06, 0.057, 0.075])\n",
    "# 30-60, 50-100, 100-200, 250-500, 500-1000, 750, 1500\n",
    "\n",
    "steps = 1 / np.array([5, 7, 10, 15, 20, 30, 50, 100, 250, 500, 750, 1000, 1500])\n",
    "print(len(steps))\n",
    "mean_is_taul = np.array([2.19, 2.22, 2.708047858197907, 3.86, 4.946, 6.260149524787618, 7.725075911310337, 8.600311295819452, 8.695352062102907, 8.730387442552915, 8.76098102664333, 8.785004667417176, 8.789941441541984])\n",
    "std_is_taul = np.array([0.029, 0.027, 0.035763717879784655, 0.07, 0.09223751449123928, 0.05542292679137494, 0.07471893518876059, 0.11749863261977536, 0.05961257597104094, 0.057613531976108634, 0.06736065870254852, 0.07408158674264428, 0.07343111567356189])\n",
    "\n",
    "mean_is_lbjf = np.array([2.197, 2.1935, 2.1905016592910244, 2.21, 2.233561128867508, 2.2720786975418426, 2.3474579482515194, 2.703195286772994, 4.422914663421897, 6.212356745289218, 7.003172870037281, 7.3776977749287855, 8.086100926383237])\n",
    "std_is_lbjf = np.array([0.017, 0.028, 0.016885548328526935, 0.023, 0.01655479275116797, 0.01665546477191724, 0.021260056132834024, 0.042065063979126655, 0.0653358704449712, 0.08250910888402853, 0.09807975265868278, 0.11617335996188316, 0.07638698691732632])\n",
    "\n",
    "mean_is_mpl = np.array([2.44, 3.01, 3.92, 5.575, 6.35, 7.779, 8.56, 8.65, 8.7, 8.745, 8.763, 8.795, 8.8])\n",
    "std_is_mpl = np.array([0.019, 0.0633, 0.046, 0.0665, 0.0776, 0.087, 0.078, 0.1, 0.079, 0.06, 0.075, 0.082, 0.072])\n",
    "print(len(mean_is_mpl), len(mean_is_taul), len(mean_is_lbjf), len(std_is_mpl), len(std_is_taul), len(std_is_lbjf))\n",
    "\n",
    "plt.plot(steps, mean_is_taul, marker='o', color='green', label='Tau-Leaping')\n",
    "plt.fill_between(steps, [mean - std for mean, std in zip(mean_is_taul, std_is_taul)],\n",
    "                 [mean + std for mean, std in zip(mean_is_taul, std_is_taul)],\n",
    "                 alpha=0.3, color='green')\n",
    "plt.plot(steps, mean_is_lbjf, marker='o', label='Euler')\n",
    "plt.fill_between(steps, [mean - std for mean, std in zip(mean_is_lbjf, std_is_lbjf)],\n",
    "                 [mean + std for mean, std in zip(mean_is_lbjf, std_is_lbjf)],\n",
    "                 alpha=0.3)\n",
    "\n",
    "plt.plot(steps, mean_is_mpl, marker='o', label='MidPoint Tau-Leaping', color='lightcoral')\n",
    "plt.fill_between(steps, [mean - std for mean, std in zip(mean_is_mpl, std_is_mpl)],\n",
    "                 [mean + std for mean, std in zip(mean_is_mpl, std_is_mpl)],\n",
    "                 alpha=0.3)\n",
    "\n",
    "plt.xlabel('$\\\\tau$', fontsize=13)\n",
    "plt.ylabel('Inception Score', fontsize=13)\n",
    "plt.title('Inception Score of Sampling Methods with Varying $\\\\tau$', fontsize=14)\n",
    "plt.legend()\n",
    "plt.grid(True)\n",
    "plt.xscale('log')\n",
    "#plt.yscale('log')\n",
    "plt.xticks(steps_plot, steps_plot)\n",
    "plt.savefig('inception_score_tau.pdf')\n",
    "plt.show()\n",
    "\n"
   ]
  },
  {
   "cell_type": "code",
   "execution_count": null,
   "metadata": {},
   "outputs": [],
   "source": [
    "# NFE FID\n",
    "\n",
    "import numpy as np\n",
    "import matplotlib.pyplot as plt\n",
    "\"\"\"\n",
    "nfe_1_01 = [54, 109, 272, 545, 818, 1000] # 1090 last\n",
    "nfe_1_01_fid = [13.172119479843474, 2.593958846497685, 2.3124636154390714,  2.2955929208740997, 2.268975460098858, 2.2571159746989906]\n",
    "nfe_3_01 = [64, 129, 318, 637, 1000, 1272] # vorletzes 956\n",
    "nfe_3_01_fid = [12.544362618674569, 2.653572526721007, 2.30941289542929, 2.276187915395326, 2.2539787186312788, 2.2466063307386435]\n",
    "nfe_5_01 = [74, 149, 364, 729, 1000, 1500] #vorletztes 1094 letztes 15000\n",
    "nfe_5_01_fid = [12.58564395129946, 2.538496664948809, 2.3170141451028314, 2.2559381898192896, 2.2450412804101074, 2.2267139529323856]\n",
    "nfe_10_01 = [99, 199, 479, 1000, 1500] # vorletztes # 959 letztes 1439\n",
    "nfe_10_01_fid = [11.713824326294798, 2.4731209322140444, 2.3148737019269277, 2.3065898535350584, 2.195595756357534]  #3.195595756357534\n",
    "nfe_mpl = [60, 100, 200, 500, 1000, 1500]\n",
    "nfe_taul = [50, 100, 250, 500, 750, 1000, 1500]\n",
    "steps = 1 / np.array([5, 7, 10, 15, 20, 30, 50, 100, 250, 500, 750, 1000, 2000])\n",
    "fid_taul = np.array([13.453524786963495, 3.6, 2.98404509903506, 2.5395556730263706, 2.51, 2.48, 2.460157370950734])\n",
    "fid_mpl = np.array([12.394969584434108, 4.020041973904654, 3.3680633408595213, 2.8853011388733307, 2.5683849558007807, 2.48])\n",
    "                                    # 30 (60), 50 (100), 100 (200), 250 (500), 500 (1000), 750 (1500)\n",
    "\"\"\"\n",
    "\n",
    "# nfe plot\n",
    "import numpy as np\n",
    "import matplotlib.pyplot as plt\n",
    "from matplotlib.ticker import ScalarFormatter\n",
    "nfe_1_01 = [109, 272, 545, 818, 1000, 1250, 1500] # 1090 last\n",
    "nfe_1_01_fid = [2.593958846497685, 2.3124636154390714,  2.2955929208740997, 2.278975460098858, 2.2671159746989906, 2.259, 2.252]\n",
    "nfe_3_01 = [129, 318, 637, 1000, 1250, 1500] # vorletzes 956 # 1272\n",
    "nfe_3_01_fid = [2.653572526721007, 2.30941289542929, 2.276187915395326, 2.2539787186312788, 2.2466063307386435, 2.238]\n",
    "nfe_5_01 = [149, 364, 729, 1000, 1250, 1500] #vorletztes 1094 letztes 15000\n",
    "nfe_5_01_fid = [ 2.538496664948809, 2.3170141451028314, 2.2559381898192896, 2.2450412804101074, 2.234, 2.2267139529323856]\n",
    "nfe_10_01 = [199, 479, 1000, 1250, 1500] # vorletztes # 959 letztes 1439\n",
    "nfe_10_01_fid = [2.4731209322140444, 2.3148737019269277, 2.3065898535350584, 2.25, 2.195595756357534]  #3.195595756357534\n",
    "nfe_mpl = [100, 200, 500, 1000, 1250, 1500]\n",
    "nfe_taul = [100, 250, 500, 750, 1000, 1250, 1500]\n",
    "\n",
    "# steps = 1 / np.array([5, 7, 10, 15, 20, 30, 50, 100, 250, 500, 750, 1000, 2000])\n",
    "fid_taul = np.array([3.6, 2.98404509903506, 2.5395556730263706, 2.51, 2.48, 2.47, 2.460157370950734])\n",
    "fid_mpl = np.array([4.020041973904654, 3.3680633408595213, 2.8853011388733307, 2.5683849558007807, 2.52, 2.5])\n",
    "\n",
    "\n",
    "#steps_plot = \n",
    "\n",
    "plt.plot(nfe_taul, fid_taul, marker='o', color='green', label='Tau-Leaping')\n",
    "plt.plot(nfe_mpl, fid_mpl, marker='o', label='Midpoint Tau-Leaping', color='lightcoral')\n",
    "#plt.plot(nfe_1_01, nfe_1_01_fid, marker='o', label='Tau-Leaping C1')\n",
    "#plt.plot(nfe_3_01, nfe_3_01_fid, marker='o', label='Tau-Leaping C3')\n",
    "#plt.plot(nfe_5_01, nfe_5_01_fid, marker='o', label='Tau-Leaping C5')\n",
    "#plt.plot(nfe_10_01, nfe_10_01_fid, marker='o', label='Tau-Leaping C10')\n",
    "plt.xlabel('NFE', fontsize=13)\n",
    "plt.ylabel('FID Value', fontsize=13)\n",
    "plt.title('FID Value of Tau-Leaping Methods with Varying NFE', fontsize=14)\n",
    "plt.legend(fontsize=9)\n",
    "plt.grid(True)\n",
    "\n",
    "steps_y = [4, 3.6, 3.35, 3, 2.88, 2.56, 2.51, 2.46]\n",
    "steps_plot = [100, 250, 500, 750, 1000, 1250, 1500]\n",
    "plt.yscale('log')\n",
    "plt.yticks(steps_y, steps_y)\n",
    "plt.xticks(steps_plot, steps_plot)\n",
    "plt.savefig('fid_tau_mp_taul.pdf')\n",
    "plt.show()\n",
    "\n",
    "\n",
    "#plt.plot(nfe_taul, fid_taul, marker='o', color='green', label='Tau-Leaping')\n",
    "#plt.plot(nfe_mpl, fid_mpl, marker='o', label='Midpoint Tau-Leaping')\n",
    "colors = ['black', 'gray', 'lightgray']\n",
    "colors = ['black', 'gray', (0.7, 0.7, 0.7)]  \n",
    "colors = ['black', (0.39, 0.39, 0.39), (0.7, 0.7, 0.7)]  # Graustufen-Farben\n",
    "\n",
    "plt.plot(nfe_1_01, nfe_1_01_fid, marker='o', label='Tau-Leaping Corrector-Steps: 1', color=colors[2])\n",
    "plt.plot(nfe_3_01, nfe_3_01_fid, marker='o', label='Tau-Leaping Corrector-Steps: 3', color=colors[1])\n",
    "plt.plot(nfe_5_01, nfe_5_01_fid, marker='o', label='Tau-Leaping Corrector-Steps: 5', color=colors[0])\n",
    "\n",
    "plt.xlabel('NFE', fontsize=13)\n",
    "plt.ylabel('FID Value', fontsize=13)\n",
    "plt.title('FID Value of Tau-Leaping with Different Corrector-Steps', fontsize=14)\n",
    "plt.legend(fontsize=9)\n",
    "plt.grid(True)\n",
    "\n",
    "plt.yscale('log')\n",
    "steps_y = [2.66, 2.6, 2.54, 2.5, 2.45, 2.4, 2.35, 2.30, 2.26, 2.24, 2.22]\n",
    "steps_plot = [100, 250, 350, 500, 750, 1000, 1250, 1500]\n",
    "plt.yticks(steps_y, steps_y)\n",
    "plt.xticks(steps_plot, steps_plot)\n",
    "plt.savefig('fid_tau_corrector.pdf')\n",
    "plt.show()"
   ]
  },
  {
   "cell_type": "code",
   "execution_count": null,
   "metadata": {},
   "outputs": [],
   "source": [
    "mean_is_taul = np.array([8.600311295819452, 8.695352062102907, 8.730387442552915, 8.76098102664333, 8.785004667417176, 8.787, 8.789941441541984])\n",
    "std_is_taul = np.array([0.11749863261977536, 0.05961257597104094, 0.057613531976108634, 0.06736065870254852, 0.07408158674264428, 0.056, 0.07343111567356189])\n",
    "\n",
    "mean_is_mpl = np.array([8.56, 8.65, 8.7, 8.745, 8.753, 8.763])\n",
    "std_is_mpl = np.array([0.078, 0.1, 0.079, 0.06, 0.057, 0.075])\n",
    "#50-100, 100-200, 250-500, 500-1000, 750, 1500\n",
    "\n",
    "steps = 1 / np.array([5, 7, 10, 15, 20, 30, 50, 100, 250, 500, 750, 1000, 1500])\n",
    "\n",
    "nfe_mpl = [100, 200, 500, 1000, 1250, 1500]\n",
    "nfe_taul = [100, 250, 500, 750, 1000, 1250, 1500]\n",
    "\n",
    "plt.plot(nfe_taul, mean_is_taul, marker='o', color='green', label='Tau-Leaping')\n",
    "#plt.fill_between(nfe_taul, [mean - std for mean, std in zip(mean_is_taul, std_is_taul)],[mean + std for mean, std in zip(mean_is_taul, std_is_taul)],alpha=0.3, color='green')\n",
    "\n",
    "plt.plot(nfe_mpl, mean_is_mpl, marker='o', label='MidPoint Tau-Leaping', color='lightcoral')\n",
    "#plt.fill_between(nfe_mpl, [mean - std for mean, std in zip(mean_is_mpl, std_is_mpl)],[mean + std for mean, std in zip(mean_is_mpl, std_is_mpl)],alpha=0.3)\n",
    "\n",
    "plt.xlabel('NFE', fontsize=13)\n",
    "plt.ylabel('Inception Score', fontsize=13)\n",
    "plt.title('Inception Score of Tau-Leaping Methofs with Varying NFE', fontsize=14)\n",
    "plt.legend()\n",
    "plt.grid(True)\n",
    "steps_plot = [100, 250, 500, 750, 1000, 1250, 1500]\n",
    "steps_y = [8.56, 8.6,8.65, 8.7, 8.74, 8.76, 8.79]\n",
    "#plt.yscale('log')\n",
    "plt.xticks(steps_plot, steps_plot)\n",
    "plt.yticks(steps_y, steps_y)\n",
    "plt.savefig('inception_score_mp_tau.pdf')\n",
    "plt.show()\n",
    "\n",
    "nfe_1_01 = [54, 109, 272, 545, 818, 1000] # 1090 last\n",
    "nfe_3_01 = [64, 129, 318, 637, 1000, 1272] # vorletzes 956\n",
    "nfe_5_01 = [74, 149, 364, 729, 1000, 1500] #vorletztes 1094 letztes 15000\n",
    "nfe_10_01 = [99, 199, 479, 1000, 1500] # vorletztes # 959 letztes 1439\n",
    "\n",
    "mean_c1 = [7.685214153332941, 8.647939466433439, 8.755318814855267, 8.728635327016125, 8.769999551759987, 8.776702214194092]\n",
    "std_c1 = [0.10020794506473688, 0.12287807651939232, 0.08248251060547318, 0.08304519492126802, 0.06759433319038019, 0.12659895249777367]\n",
    "\n",
    "mean_c3 = [7.762886743437322, 8.596458341030935, 8.798446691296359, 8.751792345723775, 8.76805730506273, 8.74081231601401]\n",
    "std_c3 = [0.11598291894202396, 0.09363631101316408, 0.10748087401514818, 0.09812815045935029, 0.05775935607353134, 0.09677611504981143]\n",
    "\n",
    "mean_c5 = [7.665914862629701, 8.659614704761324, 8.795426848297684, 8.721246193397805, 8.74803374634143, 8.744422635144518]\n",
    "std_c5 = [0.10402757843947735, 0.09600572858682611, 0.062457741056709454, 0.07043536838850206, 0.10784576786370587, 0.09917689867200492]\n",
    "\n",
    "mean_c10 = [7.737014645693776, 8.671485752113487, 8.78130387956802, 8.763744669389167, 8.662650644054375]\n",
    "std_c10 = [0.09972477960311658, 0.08709899412509303, 0.0974413469033469, 0.0987803915058357, 0.10316599969779615]\n",
    "\n",
    "\"\"\"\n",
    "plt.plot(steps, mean_is_taul, marker='o', color='green', label='Tau-Leaping')\n",
    "plt.fill_between(steps, [mean - std for mean, std in zip(mean_is_taul, std_is_taul)],\n",
    "                 [mean + std for mean, std in zip(mean_is_taul, std_is_taul)],\n",
    "                 alpha=0.3, color='green')\n",
    "\n",
    "plt.plot(steps, mean_is_mpl, marker='o', label='MidPoint Tau-Leaping', color='lightcoral')\n",
    "plt.fill_between(steps, [mean - std for mean, std in zip(mean_is_mpl, std_is_mpl)],\n",
    "                 [mean + std for mean, std in zip(mean_is_mpl, std_is_mpl)],\n",
    "                 alpha=0.3)\n",
    "\n",
    "plt.xlabel('$\\\\tau$', fontsize=13)\n",
    "plt.ylabel('Inception Score', fontsize=13)\n",
    "plt.title('Inception Score of Sampling Methods with Varying $\\\\tau$', fontsize=14)\n",
    "plt.legend()\n",
    "plt.grid(True)\n",
    "plt.xscale('log')\n",
    "#plt.yscale('log')\n",
    "plt.xticks(steps_plot, steps_plot)\n",
    "plt.savefig('inception_score_tau.pdf')\n",
    "plt.show()\n",
    "\"\"\""
   ]
  }
 ],
 "metadata": {
  "kernelspec": {
   "display_name": "my_python_env",
   "language": "python",
   "name": "python3"
  },
  "language_info": {
   "codemirror_mode": {
    "name": "ipython",
    "version": 3
   },
   "file_extension": ".py",
   "mimetype": "text/x-python",
   "name": "python",
   "nbconvert_exporter": "python",
   "pygments_lexer": "ipython3",
   "version": "3.11.5"
  }
 },
 "nbformat": 4,
 "nbformat_minor": 2
}
