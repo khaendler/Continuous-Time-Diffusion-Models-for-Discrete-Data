{
 "cells": [
  {
   "cell_type": "code",
   "execution_count": 1,
   "metadata": {},
   "outputs": [],
   "source": [
    "#Code by David Roberts https://www.kaggle.com/code/davidbroberts/tensorflow-transfer-learning/notebook\n",
    "\n",
    "import os\n",
    "os.environ['TF_CPP_MIN_LOG_LEVEL'] = '2' # Set the log level to keep the warnings down\n",
    "import torch\n",
    "import tensorflow as tf\n",
    "from tensorflow import keras\n",
    "import matplotlib.pyplot as plt\n",
    "from lib.datasets.datasets import BinMaze\n",
    "from tqdm import tqdm\n",
    "from lib.datasets.datasets import get_maze_data\n",
    "from torch.utils.data import Dataset, DataLoader\n",
    "import torchvision\n",
    "from config.config_tauUnet_maze import get_config\n",
    "from lib.datasets.maze import maze_gen\n",
    "import torchvision.transforms as transforms \n",
    "import matplotlib.pyplot as plt\n",
    "import lib.utils.bookkeeping as bookkeeping\n",
    "from pathlib import Path\n",
    "import lib.models.models as models\n",
    "import lib.models.model_utils as model_utils\n",
    "import lib.datasets.datasets as datasets\n",
    "import lib.datasets.dataset_utils as dataset_utils\n",
    "import lib.losses.losses as losses\n",
    "import lib.losses.losses_utils as losses_utils\n",
    "import lib.training.training as training\n",
    "import lib.training.training_utils as training_utils\n",
    "import lib.optimizers.optimizers as optimizers\n",
    "import lib.optimizers.optimizers_utils as optimizers_utils\n",
    "import lib.loggers.loggers as loggers\n",
    "import lib.loggers.logger_utils as logger_utils\n"
   ]
  },
  {
   "cell_type": "code",
   "execution_count": 2,
   "metadata": {},
   "outputs": [
    {
     "name": "stdout",
     "output_type": "stream",
     "text": [
      "SavedModels/MNIST/2023-11-06/mnist\n",
      "number of parameters:  1427552\n",
      "Bookkeeping: checking for preempted run\n",
      "Bookkeeping: no preempted run found\n",
      "null\n"
     ]
    }
   ],
   "source": [
    "\"\"\"\n",
    "save_location = '/Users/paulheller/PythonRepositories/Master-Thesis/ContTimeDiscreteSpace/TAUnSDDM/SavedModels/'\n",
    "experiment_name = 'MAZE'\n",
    "cfg = get_config()\n",
    "save_dir, checkpoint_dir, config_dir = \\\n",
    "                bookkeeping.create_experiment_folder(\n",
    "                    cfg.save_location,\n",
    "                    cfg.experiment_name,\n",
    "                    False\n",
    "            )\n",
    "bookkeeping.save_config_as_yaml(cfg, config_dir)\n",
    "bookkeeping.save_git_hash(save_dir)\n",
    "print(save_dir)\n",
    "model = model_utils.create_model(cfg, device='cpu')\n",
    "print(\"number of parameters: \", sum([p.numel() for p in model.parameters()]))\n",
    "optimizer = optimizers_utils.get_optimizer(model.parameters(), cfg)\n",
    "state = {\n",
    "        'model': model,\n",
    "        'optimizer': optimizer,\n",
    "        'n_iter': 0\n",
    "    }\n",
    "bookkeeping.setup_preemption(\n",
    "            save_dir, checkpoint_dir, state,\n",
    "            2,\n",
    "            True\n",
    "        )\n",
    "preempted_path = Path(\"null\")\n",
    "preemption_start_day_YYYYhyphenMMhyphenDD = '2023-10-31'\n",
    "preempted_path = bookkeeping.check_for_preempted_run(\n",
    "    cfg.save_location,\n",
    "    preemption_start_day_YYYYhyphenMMhyphenDD,\n",
    "    cfg,\n",
    "    True\n",
    ")\n",
    "print(preempted_path.as_posix())\n",
    "\"\"\""
   ]
  },
  {
   "cell_type": "code",
   "execution_count": 4,
   "metadata": {},
   "outputs": [],
   "source": [
    "import numpy as np\n",
    "from lib.datasets.datasets import SudokuDataset\n",
    "from config.config_tauScoreNet_sudoku import get_config\n",
    "from lib.datasets import dataset_utils\n",
    "from torch.utils.data import Dataset, DataLoader\n",
    "cfg = get_config()\n",
    "device = cfg.device \n",
    "dataset = dataset_utils.get_dataset(cfg, device)\n",
    "def worker_init_fn(worker_id):\n",
    "    np.random.seed(worker_id)\n",
    "batch_size = 32\n",
    "train_dataloader = DataLoader(dataset,\n",
    "                                cfg.data.batch_size, shuffle=cfg.data.shuffle,\n",
    "                                num_workers=4)\n",
    "                                #worker_init_fn=worker_init_fn)\n"
   ]
  },
  {
   "cell_type": "code",
   "execution_count": 10,
   "metadata": {},
   "outputs": [
    {
     "name": "stdout",
     "output_type": "stream",
     "text": [
      "32\n",
      "[[[2 4 3 ... 6 4 5]]\n",
      "\n",
      " [[2 6 1 ... 1 5 2]]\n",
      "\n",
      " [[4 6 2 ... 8 2 4]]\n",
      "\n",
      " ...\n",
      "\n",
      " [[5 8 3 ... 8 6 3]]\n",
      "\n",
      " [[7 5 2 ... 8 4 1]]\n",
      "\n",
      " [[7 2 8 ... 5 8 1]]] (32, 1, 81)\n",
      "[1 2 3 4 5 6 7 8 9]\n",
      "correct 0.0 %\n",
      "correct 0.0 %\n",
      "correct 0.0 %\n",
      "correct 0.0 %\n",
      "correct 0.0 %\n",
      "correct 0.0 %\n",
      "correct 0.0 %\n",
      "correct 0.0 %\n",
      "correct 0.0 %\n",
      "correct 0.0 %\n",
      "correct 0.0 %\n",
      "correct 0.0 %\n",
      "correct 0.0 %\n",
      "correct 0.0 %\n",
      "correct 0.0 %\n",
      "correct 0.0 %\n",
      "correct 0.0 %\n",
      "correct 0.0 %\n",
      "correct 0.0 %\n",
      "correct 0.0 %\n",
      "correct 0.0 %\n",
      "correct 0.0 %\n",
      "correct 0.0 %\n",
      "correct 0.0 %\n",
      "correct 0.0 %\n",
      "correct 0.0 %\n",
      "correct 0.0 %\n",
      "correct 0.0 %\n",
      "correct 0.0 %\n",
      "correct 0.0 %\n",
      "correct 0.0 %\n",
      "correct 0.0 %\n"
     ]
    },
    {
     "name": "stderr",
     "output_type": "stream",
     "text": [
      "/var/folders/87/vb_q88mx6qxcy8jkjjpm9ns40000gn/T/ipykernel_55298/1318465308.py:14: DeprecationWarning: elementwise comparison failed; this will raise an error in the future.\n",
      "  if np.all(np.sort(board, axis=1) == numbers_1_N) and np.all(\n"
     ]
    }
   ],
   "source": [
    "for i in train_dataloader:\n",
    "    #print(i, type(i), i.shape)\n",
    "    sample = i\n",
    "    sample = sample.detach().cpu().numpy()\n",
    "    correct = 0\n",
    "    total = sample.shape[0]\n",
    "    print(total)\n",
    "    ans = sample.argmax(-1) + 1\n",
    "    print(ans, ans.shape)\n",
    "    numbers_1_N = np.arange(1, 9 + 1)\n",
    "    print(numbers_1_N)\n",
    "    corrects = []\n",
    "    for board in ans:\n",
    "        if np.all(np.sort(board, axis=1) == numbers_1_N) and np.all(\n",
    "            np.sort(board.T, axis=1) == numbers_1_N\n",
    "        ):\n",
    "            # Check blocks\n",
    "\n",
    "            blocks = board.reshape(3, 3, 3, 3).transpose(0, 2, 1, 3).reshape(9, 9)\n",
    "            print(blocks, blocks.shape)\n",
    "            if np.all(np.sort(board.T, axis=1) == numbers_1_N):\n",
    "                correct += 1\n",
    "                corrects.append(True)\n",
    "            else:\n",
    "                corrects.append(False)\n",
    "        else:\n",
    "            corrects.append(False)\n",
    "\n",
    "\n",
    "        print(\"correct {} %\".format(100 * correct / total))\n",
    "    break"
   ]
  },
  {
   "cell_type": "code",
   "execution_count": 18,
   "metadata": {},
   "outputs": [],
   "source": [
    "# Eine Funktion, um einige Bilder zu plotten\n",
    "def show_images(images, n=8):\n",
    "    plt.figure(figsize=(15, 15))\n",
    "    for i in range(n):\n",
    "        ax = plt.subplot(1, n, i + 1)\n",
    "        plt.imshow(images[i].permute(1, 2, 0).numpy().astype(\"uint8\"), cmap='gray')\n",
    "        plt.axis(\"off\")\n",
    "    plt.show()\n",
    "config = get_config()\n",
    "img = maze_gen(limit=10, crop=True, size=30, dim_x=7, dim_y=7, pixelSizeOfTile=2, weightHigh=97,weightLow=97)\n",
    "torch_dataloader = get_maze_data(config, img)\n"
   ]
  },
  {
   "cell_type": "code",
   "execution_count": 19,
   "metadata": {},
   "outputs": [
    {
     "name": "stderr",
     "output_type": "stream",
     "text": [
      "  0%|          | 0/1 [00:00<?, ?it/s]"
     ]
    },
    {
     "name": "stdout",
     "output_type": "stream",
     "text": [
      "torch.Size([10, 1, 28, 28])\n"
     ]
    },
    {
     "name": "stderr",
     "output_type": "stream",
     "text": [
      "\n"
     ]
    }
   ],
   "source": [
    "for i in tqdm(torch_dataloader):\n",
    "    print(i.shape)\n",
    "    break"
   ]
  },
  {
   "cell_type": "code",
   "execution_count": 20,
   "metadata": {},
   "outputs": [
    {
     "data": {
      "image/png": "[encoded data removed]",
      "text/plain": [
       "<Figure size 1500x1500 with 2 Axes>"
      ]
     },
     "metadata": {},
     "output_type": "display_data"
    }
   ],
   "source": [
    "images = next(iter(torch_dataloader))\n",
    "show_images(images[:4] * 255, n=2)"
   ]
  }
 ],
 "metadata": {
  "kernelspec": {
   "display_name": "diffvenv",
   "language": "python",
   "name": "python3"
  },
  "language_info": {
   "codemirror_mode": {
    "name": "ipython",
    "version": 3
   },
   "file_extension": ".py",
   "mimetype": "text/x-python",
   "name": "python",
   "nbconvert_exporter": "python",
   "pygments_lexer": "ipython3",
   "version": "3.10.4"
  },
  "orig_nbformat": 4
 },
 "nbformat": 4,
 "nbformat_minor": 2
}
