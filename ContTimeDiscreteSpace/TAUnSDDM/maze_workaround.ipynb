{
 "cells": [
  {
   "cell_type": "code",
   "execution_count": 2,
   "metadata": {},
   "outputs": [],
   "source": [
    "#Code by David Roberts https://www.kaggle.com/code/davidbroberts/tensorflow-transfer-learning/notebook\n",
    "\n",
    "import os\n",
    "os.environ['TF_CPP_MIN_LOG_LEVEL'] = '2' # Set the log level to keep the warnings down\n",
    "import torch\n",
    "import tensorflow as tf\n",
    "from tensorflow import keras\n",
    "import matplotlib.pyplot as plt\n",
    "from lib.datasets.datasets import BinMaze\n",
    "from tqdm import tqdm\n",
    "from lib.datasets.datasets import get_maze_data\n",
    "from torch.utils.data import Dataset, DataLoader\n",
    "import torchvision\n",
    "from config.config_hollow_maze_distr import get_config \n",
    "from lib.datasets.maze import maze_gen\n",
    "import torchvision.transforms as transforms \n",
    "import matplotlib.pyplot as plt\n",
    "import lib.utils.bookkeeping as bookkeeping\n",
    "from pathlib import Path\n",
    "import lib.models.models as models\n",
    "import lib.models.model_utils as model_utils\n",
    "import lib.datasets.datasets as datasets\n",
    "import lib.datasets.dataset_utils as dataset_utils\n",
    "import lib.losses.losses as losses\n",
    "import lib.losses.losses_utils as losses_utils\n",
    "import lib.training.training as training\n",
    "import lib.training.training_utils as training_utils\n",
    "import lib.optimizers.optimizers as optimizers\n",
    "import lib.optimizers.optimizers_utils as optimizers_utils\n",
    "import lib.loggers.loggers as loggers\n",
    "import lib.loggers.logger_utils as logger_utils"
   ]
  },
  {
   "cell_type": "code",
   "execution_count": 3,
   "metadata": {},
   "outputs": [
    {
     "name": "stdout",
     "output_type": "stream",
     "text": [
      "Anzahl der verfügbaren GPUs: 0\n"
     ]
    },
    {
     "ename": "NameError",
     "evalue": "name '__file__' is not defined",
     "output_type": "error",
     "traceback": [
      "\u001b[0;31m---------------------------------------------------------------------------\u001b[0m",
      "\u001b[0;31mNameError\u001b[0m                                 Traceback (most recent call last)",
      "Cell \u001b[0;32mIn[3], line 5\u001b[0m\n\u001b[1;32m      3\u001b[0m \u001b[39mdef\u001b[39;00m \u001b[39mget_script_dir\u001b[39m():\n\u001b[1;32m      4\u001b[0m     \u001b[39mreturn\u001b[39;00m os\u001b[39m.\u001b[39mpath\u001b[39m.\u001b[39mdirname(os\u001b[39m.\u001b[39mpath\u001b[39m.\u001b[39mrealpath(\u001b[39m__file__\u001b[39m))\n\u001b[0;32m----> 5\u001b[0m \u001b[39mprint\u001b[39m(get_script_dir())\n",
      "Cell \u001b[0;32mIn[3], line 4\u001b[0m, in \u001b[0;36mget_script_dir\u001b[0;34m()\u001b[0m\n\u001b[1;32m      3\u001b[0m \u001b[39mdef\u001b[39;00m \u001b[39mget_script_dir\u001b[39m():\n\u001b[0;32m----> 4\u001b[0m     \u001b[39mreturn\u001b[39;00m os\u001b[39m.\u001b[39mpath\u001b[39m.\u001b[39mdirname(os\u001b[39m.\u001b[39mpath\u001b[39m.\u001b[39mrealpath(\u001b[39m__file__\u001b[39;49m))\n",
      "\u001b[0;31mNameError\u001b[0m: name '__file__' is not defined"
     ]
    }
   ],
   "source": [
    "num_gpus = torch.cuda.device_count()\n",
    "print(\"Anzahl der verfügbaren GPUs:\", num_gpus)\n",
    "def get_script_dir():\n",
    "    return os.path.dirname(os.path.realpath(__file__))\n",
    "print(get_script_dir())"
   ]
  },
  {
   "cell_type": "code",
   "execution_count": 26,
   "metadata": {},
   "outputs": [
    {
     "name": "stdout",
     "output_type": "stream",
     "text": [
      "/Users/paulheller/PythonRepositories/Master-Thesis/ContTimeDiscreteSpace/TAUnSDDM/SavedModels/2023-11-01/MAZE\n"
     ]
    }
   ],
   "source": [
    "save_location = '/Users/paulheller/PythonRepositories/Master-Thesis/ContTimeDiscreteSpace/TAUnSDDM/SavedModels/'\n",
    "experiment_name = 'MAZE'\n",
    "cfg = get_config()\n",
    "save_dir, checkpoint_dir, config_dir = \\\n",
    "                bookkeeping.create_experiment_folder(\n",
    "                    cfg.save_location,\n",
    "                    cfg.experiment_name,\n",
    "                    False\n",
    "            )\n",
    "bookkeeping.save_config_as_yaml(cfg, config_dir)\n",
    "bookkeeping.save_git_hash(save_dir)\n",
    "print(save_dir)"
   ]
  },
  {
   "cell_type": "code",
   "execution_count": 20,
   "metadata": {},
   "outputs": [
    {
     "name": "stdout",
     "output_type": "stream",
     "text": [
      "number of parameters:  439490\n"
     ]
    }
   ],
   "source": [
    "model = model_utils.create_model(cfg, device='cpu')\n",
    "print(\"number of parameters: \", sum([p.numel() for p in model.parameters()]))\n",
    "optimizer = optimizers_utils.get_optimizer(model.parameters(), cfg)\n",
    "state = {\n",
    "        'model': model,\n",
    "        'optimizer': optimizer,\n",
    "        'n_iter': 0\n",
    "    }\n",
    "bookkeeping.setup_preemption(\n",
    "            save_dir, checkpoint_dir, state,\n",
    "            2,\n",
    "            True\n",
    "        )"
   ]
  },
  {
   "cell_type": "code",
   "execution_count": 21,
   "metadata": {},
   "outputs": [
    {
     "name": "stdout",
     "output_type": "stream",
     "text": [
      "Bookkeeping: checking for preempted run\n",
      "Bookkeeping: no preempted run found\n",
      "null\n"
     ]
    }
   ],
   "source": [
    "preempted_path = Path(\"null\")\n",
    "preemption_start_day_YYYYhyphenMMhyphenDD = '2023-10-31'\n",
    "preempted_path = bookkeeping.check_for_preempted_run(\n",
    "    cfg.save_location,\n",
    "    preemption_start_day_YYYYhyphenMMhyphenDD,\n",
    "    cfg,\n",
    "    True\n",
    ")\n",
    "print(preempted_path.as_posix())"
   ]
  },
  {
   "cell_type": "code",
   "execution_count": 22,
   "metadata": {},
   "outputs": [
    {
     "name": "stdout",
     "output_type": "stream",
     "text": [
      "0\n",
      "act\n",
      "1\n"
     ]
    }
   ],
   "source": [
    "# Eine Funktion, um einige Bilder zu plotten\n",
    "def show_images(images, n=8):\n",
    "    plt.figure(figsize=(15, 15))\n",
    "    for i in range(n):\n",
    "        ax = plt.subplot(1, n, i + 1)\n",
    "        plt.imshow(images[i].permute(1, 2, 0).numpy().astype(\"uint8\"), cmap='gray')\n",
    "        plt.axis(\"off\")\n",
    "    plt.show()\n",
    "for i in range(3 -1):\n",
    "    print(i)\n",
    "    if i != (3-2):\n",
    "        print(\"act\")"
   ]
  },
  {
   "cell_type": "code",
   "execution_count": 23,
   "metadata": {},
   "outputs": [
    {
     "ename": "AttributeError",
     "evalue": "'list' object has no attribute 'to'",
     "output_type": "error",
     "traceback": [
      "\u001b[0;31m---------------------------------------------------------------------------\u001b[0m",
      "\u001b[0;31mAttributeError\u001b[0m                            Traceback (most recent call last)",
      "Cell \u001b[0;32mIn[23], line 3\u001b[0m\n\u001b[1;32m      1\u001b[0m config \u001b[39m=\u001b[39m get_config()\n\u001b[1;32m      2\u001b[0m img \u001b[39m=\u001b[39m maze_gen(limit\u001b[39m=\u001b[39m\u001b[39m10\u001b[39m, dim_x\u001b[39m=\u001b[39m\u001b[39m7\u001b[39m, dim_y\u001b[39m=\u001b[39m\u001b[39m7\u001b[39m, pixelSizeOfTile\u001b[39m=\u001b[39m\u001b[39m2\u001b[39m, weightHigh\u001b[39m=\u001b[39m\u001b[39m97\u001b[39m,weightLow\u001b[39m=\u001b[39m\u001b[39m97\u001b[39m)\n\u001b[0;32m----> 3\u001b[0m torch_dataloader \u001b[39m=\u001b[39m get_maze_data(config, img)\n",
      "File \u001b[0;32m~/PythonRepositories/Master-Thesis/ContTimeDiscreteSpace/TAUnSDDM/lib/datasets/datasets.py:331\u001b[0m, in \u001b[0;36mget_maze_data\u001b[0;34m(config, train_ds)\u001b[0m\n\u001b[1;32m    329\u001b[0m \u001b[39mdef\u001b[39;00m \u001b[39mget_maze_data\u001b[39m(config, train_ds):\n\u001b[0;32m--> 331\u001b[0m     torch_ds \u001b[39m=\u001b[39m BinMaze(train_ds, config\u001b[39m.\u001b[39;49mdevice)\n\u001b[1;32m    332\u001b[0m     torch_dataloader \u001b[39m=\u001b[39m DataLoader(torch_ds, batch_size\u001b[39m=\u001b[39mconfig\u001b[39m.\u001b[39mdata\u001b[39m.\u001b[39mbatch_size, shuffle\u001b[39m=\u001b[39m\u001b[39mTrue\u001b[39;00m)\n\u001b[1;32m    334\u001b[0m     \u001b[39mreturn\u001b[39;00m torch_dataloader\n",
      "File \u001b[0;32m~/PythonRepositories/Master-Thesis/ContTimeDiscreteSpace/TAUnSDDM/lib/datasets/datasets.py:320\u001b[0m, in \u001b[0;36mBinMaze.__init__\u001b[0;34m(self, dataset, device)\u001b[0m\n\u001b[1;32m    318\u001b[0m \u001b[39mdef\u001b[39;00m \u001b[39m__init__\u001b[39m(\u001b[39mself\u001b[39m, dataset, device):\n\u001b[1;32m    319\u001b[0m     \u001b[39m# Wandelt das TensorFlow Dataset in Listen von Bildern und Labels um\u001b[39;00m\n\u001b[0;32m--> 320\u001b[0m     \u001b[39mself\u001b[39m\u001b[39m.\u001b[39mimages \u001b[39m=\u001b[39m dataset\u001b[39m.\u001b[39;49mto(device)\n\u001b[1;32m    321\u001b[0m     \u001b[39mself\u001b[39m\u001b[39m.\u001b[39mlabels \u001b[39m=\u001b[39m []\n",
      "\u001b[0;31mAttributeError\u001b[0m: 'list' object has no attribute 'to'"
     ]
    }
   ],
   "source": [
    "config = get_config()\n",
    "img = maze_gen(limit=10, dim_x=7, dim_y=7, pixelSizeOfTile=2, weightHigh=97,weightLow=97)\n",
    "torch_dataloader = get_maze_data(config, img)"
   ]
  },
  {
   "cell_type": "code",
   "execution_count": null,
   "metadata": {},
   "outputs": [],
   "source": [
    "for i in tqdm(torch_dataloader):\n",
    "    print(i, i.shape)\n",
    "    break"
   ]
  },
  {
   "cell_type": "code",
   "execution_count": null,
   "metadata": {},
   "outputs": [],
   "source": [
    "\n",
    "\n",
    "# Nehmen Sie einen Batch von Bildern\n",
    "images = next(iter(torch_dataloader))\n",
    "show_images(images * 255, n=10)"
   ]
  }
 ],
 "metadata": {
  "kernelspec": {
   "display_name": "diffvenv",
   "language": "python",
   "name": "python3"
  },
  "language_info": {
   "codemirror_mode": {
    "name": "ipython",
    "version": 3
   },
   "file_extension": ".py",
   "mimetype": "text/x-python",
   "name": "python",
   "nbconvert_exporter": "python",
   "pygments_lexer": "ipython3",
   "version": "3.10.4"
  },
  "orig_nbformat": 4
 },
 "nbformat": 4,
 "nbformat_minor": 2
}
