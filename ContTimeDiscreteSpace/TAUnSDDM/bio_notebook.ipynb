{
 "cells": [
  {
   "cell_type": "code",
   "execution_count": 42,
   "metadata": {},
   "outputs": [],
   "source": [
    "import pandas as pd\n",
    "import numpy as np"
   ]
  },
  {
   "cell_type": "code",
   "execution_count": 27,
   "metadata": {},
   "outputs": [],
   "source": [
    "def pad_sequence(seq, max_length=48, pad_char='-'):\n",
    "    return seq.ljust(max_length, pad_char)\n",
    "char_to_index = {\n",
    "    'A': 0, 'R': 1, 'N': 2, 'D': 3, 'C': 4, 'Q': 5, 'E': 6, 'G': 7, 'H': 8, 'I': 9,\n",
    "    'L': 10, 'K': 11, 'M': 12, 'F': 13, 'P': 14, 'S': 15, 'T': 16, 'W': 17, 'Y': 18, 'V': 19,\n",
    "    '-': 20  \n",
    "}\n",
    "def sequence_to_numbers(seq):\n",
    "    return [char_to_index[char] for char in seq]\n",
    "def numbers_to_sequence(seq):\n",
    "    pass\n",
    "\n",
    "df = pd.read_csv('lib/datasets/Protein_sequences/grampa.csv')\n",
    "sequences = df['sequence']\n",
    "seq = sequences[sequences.str.len().between(12, 48)]\n",
    "seq = seq.drop_duplicates()"
   ]
  },
  {
   "cell_type": "code",
   "execution_count": 32,
   "metadata": {},
   "outputs": [
    {
     "name": "stdout",
     "output_type": "stream",
     "text": [
      "0                          GLPRKILCAIAKKKGKCKGPLKLVCKC\n",
      "1           GFGCPGDAYQCSEHCRALGGGRTGGYCAGPWYLGHPTCTCSF\n",
      "7                        LVKDNPLDISPKQVQALCTDLVIRCMCCC\n",
      "11                                       YPELQQDLIARLL\n",
      "15               GVFTLIKGATQLIGKTLGKELGKTGLELMACKITEQC\n",
      "                             ...                      \n",
      "51282                   RCICTTRTCRFPYRRLGTCLFQNRVYTFCC\n",
      "51295                          KKWKKFIKKIGIGAVLTTPGAKK\n",
      "51298    GIINTLQKYYCRVRGGRCAVLSCLPKEEQICKCSTRGRKCCRRKK\n",
      "51330                    KLWKLFKKIGIGAVLKVLTTGLPALKLTK\n",
      "51338                                     LNKGAILKHIIK\n",
      "Name: sequence, Length: 5235, dtype: object\n",
      "0       GLPRKILCAIAKKKGKCKGPLKLVCKC---------------------\n",
      "1       GFGCPGDAYQCSEHCRALGGGRTGGYCAGPWYLGHPTCTCSF------\n",
      "2       LVKDNPLDISPKQVQALCTDLVIRCMCCC-------------------\n",
      "3       YPELQQDLIARLL-----------------------------------\n",
      "4       GVFTLIKGATQLIGKTLGKELGKTGLELMACKITEQC-----------\n",
      "                              ...                       \n",
      "5230    RCICTTRTCRFPYRRLGTCLFQNRVYTFCC------------------\n",
      "5231    KKWKKFIKKIGIGAVLTTPGAKK-------------------------\n",
      "5232    GIINTLQKYYCRVRGGRCAVLSCLPKEEQICKCSTRGRKCCRRKK---\n",
      "5233    KLWKLFKKIGIGAVLKVLTTGLPALKLTK-------------------\n",
      "5234    LNKGAILKHIIK------------------------------------\n",
      "Name: sequence, Length: 5235, dtype: object\n",
      "<class 'int'>\n",
      "0       [7, 10, 14, 1, 11, 9, 10, 4, 0, 9, 0, 11, 11, ...\n",
      "1       [7, 13, 7, 4, 14, 7, 3, 0, 18, 5, 4, 15, 6, 8,...\n",
      "2       [10, 19, 11, 3, 2, 14, 10, 3, 9, 15, 14, 11, 5...\n",
      "3       [18, 14, 6, 10, 5, 5, 3, 10, 9, 0, 1, 10, 10, ...\n",
      "4       [7, 19, 13, 16, 10, 9, 11, 7, 0, 16, 5, 10, 9,...\n",
      "                              ...                        \n",
      "5230    [1, 4, 9, 4, 16, 16, 1, 16, 4, 1, 13, 14, 18, ...\n",
      "5231    [11, 11, 17, 11, 11, 13, 9, 11, 11, 9, 7, 9, 7...\n",
      "5232    [7, 9, 9, 2, 16, 10, 5, 11, 18, 18, 4, 1, 19, ...\n",
      "5233    [11, 10, 17, 11, 10, 13, 11, 11, 9, 7, 9, 7, 0...\n",
      "5234    [10, 2, 11, 7, 0, 9, 10, 11, 8, 9, 9, 11, 20, ...\n",
      "Name: sequence, Length: 5235, dtype: object\n",
      "[10, 19, 11, 3, 2, 14, 10, 3, 9, 15, 14, 11, 5, 19, 5, 0, 10, 4, 16, 3, 10, 19, 9, 1, 4, 12, 4, 4, 4, 20, 20, 20, 20, 20, 20, 20, 20, 20, 20, 20, 20, 20, 20, 20, 20, 20, 20, 20]\n"
     ]
    }
   ],
   "source": [
    "print(seq)\n",
    "pad_seq = seq.apply(pad_sequence).reset_index(drop=True)\n",
    "print(pad_seq)\n",
    "num_seq = pad_seq.apply(sequence_to_numbers)\n",
    "print(type(num_seq[0][0]))\n",
    "\n",
    "print(num_seq)\n",
    "print(num_seq[2])"
   ]
  },
  {
   "cell_type": "code",
   "execution_count": 43,
   "metadata": {},
   "outputs": [
    {
     "name": "stdout",
     "output_type": "stream",
     "text": [
      "['GLPRKILCAIAKKKGKCKGPLKLVCKC---------------------'\n",
      " 'GFGCPGDAYQCSEHCRALGGGRTGGYCAGPWYLGHPTCTCSF------'\n",
      " 'LVKDNPLDISPKQVQALCTDLVIRCMCCC-------------------' ...\n",
      " 'GIINTLQKYYCRVRGGRCAVLSCLPKEEQICKCSTRGRKCCRRKK---'\n",
      " 'KLWKLFKKIGIGAVLKVLTTGLPALKLTK-------------------'\n",
      " 'LNKGAILKHIIK------------------------------------'] <class 'numpy.ndarray'> (5235,)\n"
     ]
    }
   ],
   "source": [
    "arr_str = np.stack(pad_seq.values, 0)\n",
    "print(arr_str, type(arr_str), arr_str.shape)"
   ]
  },
  {
   "cell_type": "code",
   "execution_count": 45,
   "metadata": {},
   "outputs": [
    {
     "name": "stdout",
     "output_type": "stream",
     "text": [
      "0       [7, 10, 14, 1, 11, 9, 10, 4, 0, 9, 0, 11, 11, ...\n",
      "1       [7, 13, 7, 4, 14, 7, 3, 0, 18, 5, 4, 15, 6, 8,...\n",
      "2       [10, 19, 11, 3, 2, 14, 10, 3, 9, 15, 14, 11, 5...\n",
      "3       [18, 14, 6, 10, 5, 5, 3, 10, 9, 0, 1, 10, 10, ...\n",
      "4       [7, 19, 13, 16, 10, 9, 11, 7, 0, 16, 5, 10, 9,...\n",
      "                              ...                        \n",
      "5230    [1, 4, 9, 4, 16, 16, 1, 16, 4, 1, 13, 14, 18, ...\n",
      "5231    [11, 11, 17, 11, 11, 13, 9, 11, 11, 9, 7, 9, 7...\n",
      "5232    [7, 9, 9, 2, 16, 10, 5, 11, 18, 18, 4, 1, 19, ...\n",
      "5233    [11, 10, 17, 11, 10, 13, 11, 11, 9, 7, 9, 7, 0...\n",
      "5234    [10, 2, 11, 7, 0, 9, 10, 11, 8, 9, 9, 11, 20, ...\n",
      "Name: sequence, Length: 5235, dtype: object\n",
      "[[ 7 10 14 ... 20 20 20]\n",
      " [ 7 13  7 ... 20 20 20]\n",
      " [10 19 11 ... 20 20 20]\n",
      " ...\n",
      " [ 7  9  9 ... 20 20 20]\n",
      " [11 10 17 ... 20 20 20]\n",
      " [10  2 11 ... 20 20 20]] <class 'numpy.ndarray'> (5235, 48)\n"
     ]
    }
   ],
   "source": [
    "\n",
    "print(num_seq)\n",
    "arr = np.stack(num_seq.values, 0)\n",
    "print(arr, type(arr), arr.shape)\n",
    "\n",
    "np.save('lib/datasets/Protein_sequences/grampa_numarr.npy', arr)"
   ]
  },
  {
   "cell_type": "code",
   "execution_count": 33,
   "metadata": {},
   "outputs": [],
   "source": [
    "# Angenommen, 'series' ist Ihre Pandas Series\n",
    "num_seq.to_csv('lib/datasets/Protein_sequences/grampa_num.csv', header=True, index=False)\n",
    "\n",
    "pad_seq.to_csv('lib/datasets/Protein_sequences/grampa_pad.csv', header=True, index=False)"
   ]
  },
  {
   "cell_type": "code",
   "execution_count": 30,
   "metadata": {},
   "outputs": [
    {
     "name": "stdout",
     "output_type": "stream",
     "text": [
      "0       [7, 10, 14, 1, 11, 9, 10, 4, 0, 9, 0, 11, 11, ...\n",
      "1       [7, 13, 7, 4, 14, 7, 3, 0, 18, 5, 4, 15, 6, 8,...\n",
      "2       [10, 19, 11, 3, 2, 14, 10, 3, 9, 15, 14, 11, 5...\n",
      "3       [18, 14, 6, 10, 5, 5, 3, 10, 9, 0, 1, 10, 10, ...\n",
      "4       [7, 19, 13, 16, 10, 9, 11, 7, 0, 16, 5, 10, 9,...\n",
      "                              ...                        \n",
      "5230    [1, 4, 9, 4, 16, 16, 1, 16, 4, 1, 13, 14, 18, ...\n",
      "5231    [11, 11, 17, 11, 11, 13, 9, 11, 11, 9, 7, 9, 7...\n",
      "5232    [7, 9, 9, 2, 16, 10, 5, 11, 18, 18, 4, 1, 19, ...\n",
      "5233    [11, 10, 17, 11, 10, 13, 11, 11, 9, 7, 9, 7, 0...\n",
      "5234    [10, 2, 11, 7, 0, 9, 10, 11, 8, 9, 9, 11, 20, ...\n",
      "Name: sequence, Length: 5235, dtype: object <class 'str'>\n",
      "180\n"
     ]
    }
   ],
   "source": [
    "df_num = pd.read_csv('lib/datasets/Protein_sequences/grampa_num.csv')['sequence']\n",
    "\n",
    "print(df_num, type(df_num[0]))\n",
    "print(len(df_num[0]))"
   ]
  },
  {
   "cell_type": "code",
   "execution_count": 36,
   "metadata": {},
   "outputs": [
    {
     "name": "stdout",
     "output_type": "stream",
     "text": [
      "0       GLPRKILCAIAKKKGKCKGPLKLVCKC---------------------\n",
      "1       GFGCPGDAYQCSEHCRALGGGRTGGYCAGPWYLGHPTCTCSF------\n",
      "2       LVKDNPLDISPKQVQALCTDLVIRCMCCC-------------------\n",
      "3       YPELQQDLIARLL-----------------------------------\n",
      "4       GVFTLIKGATQLIGKTLGKELGKTGLELMACKITEQC-----------\n",
      "                              ...                       \n",
      "5230    RCICTTRTCRFPYRRLGTCLFQNRVYTFCC------------------\n",
      "5231    KKWKKFIKKIGIGAVLTTPGAKK-------------------------\n",
      "5232    GIINTLQKYYCRVRGGRCAVLSCLPKEEQICKCSTRGRKCCRRKK---\n",
      "5233    KLWKLFKKIGIGAVLKVLTTGLPALKLTK-------------------\n",
      "5234    LNKGAILKHIIK------------------------------------\n",
      "Name: sequence, Length: 5235, dtype: object <class 'str'>\n",
      "48\n",
      "0       [7, 10, 14, 1, 11, 9, 10, 4, 0, 9, 0, 11, 11, ...\n",
      "1       [7, 13, 7, 4, 14, 7, 3, 0, 18, 5, 4, 15, 6, 8,...\n",
      "2       [10, 19, 11, 3, 2, 14, 10, 3, 9, 15, 14, 11, 5...\n",
      "3       [18, 14, 6, 10, 5, 5, 3, 10, 9, 0, 1, 10, 10, ...\n",
      "4       [7, 19, 13, 16, 10, 9, 11, 7, 0, 16, 5, 10, 9,...\n",
      "                              ...                        \n",
      "5230    [1, 4, 9, 4, 16, 16, 1, 16, 4, 1, 13, 14, 18, ...\n",
      "5231    [11, 11, 17, 11, 11, 13, 9, 11, 11, 9, 7, 9, 7...\n",
      "5232    [7, 9, 9, 2, 16, 10, 5, 11, 18, 18, 4, 1, 19, ...\n",
      "5233    [11, 10, 17, 11, 10, 13, 11, 11, 9, 7, 9, 7, 0...\n",
      "5234    [10, 2, 11, 7, 0, 9, 10, 11, 8, 9, 9, 11, 20, ...\n",
      "Name: sequence, Length: 5235, dtype: object <class 'list'> 48\n"
     ]
    }
   ],
   "source": [
    "df_pad= pd.read_csv('lib/datasets/Protein_sequences/grampa_pad.csv')['sequence']\n",
    "print(df_pad, type(df_pad[0]))\n",
    "print(len(df_pad[0]))\n",
    "num_seq_df = df_pad.apply(sequence_to_numbers)\n",
    "print(num_seq_df, type(num_seq_df[0]), len(num_seq_df[0]))"
   ]
  },
  {
   "cell_type": "code",
   "execution_count": null,
   "metadata": {},
   "outputs": [],
   "source": [
    "\"\"\"Ja das padden soll keinen Einfluss auf Entscheidungen des modells haben.\n",
    "\n",
    "also mein vorgehen ist jetzt insgesamt bisher:\n",
    "Daten lesen aus csv, padden zu länge 48, Buchstaben umwandeln zu Zahlen, dann daten ins model dort one_hot kodieren, aber sollte ich dann die gepaddeten stellen maskieren? die antwort ist sehr entscheidend für mich.\n",
    "\n",
    "falls ich das maskiere, ist dann automatisch an diesen stellen der output, also die logits des neuronalen netzes -inf? oder was macht das masking ?\n",
    "also ich berechne derzeit so den loss nach der prediction:\n",
    "ich müsste ja sonst bevor ich die logits berechne an den gepaddeten stellen auch noch etwas machen? die logits haben den shape B,D, S. Außerdem müssen\n",
    "        logits = model(xt, ts)  # B, D, S <10 sek\n",
    "            x0_onehot = F.one_hot(minibatch.long(), self.cfg.data.S)\n",
    "            ll = F.log_softmax(logits, dim=-1)\n",
    "            loss = -torch.sum(ll * x0_onehot, dim=-1) * self.cfg.loss.ce_coeff\n",
    "\"\"\""
   ]
  }
 ],
 "metadata": {
  "kernelspec": {
   "display_name": "diffvenv",
   "language": "python",
   "name": "python3"
  },
  "language_info": {
   "codemirror_mode": {
    "name": "ipython",
    "version": 3
   },
   "file_extension": ".py",
   "mimetype": "text/x-python",
   "name": "python",
   "nbconvert_exporter": "python",
   "pygments_lexer": "ipython3",
   "version": "3.10.4"
  }
 },
 "nbformat": 4,
 "nbformat_minor": 2
}
