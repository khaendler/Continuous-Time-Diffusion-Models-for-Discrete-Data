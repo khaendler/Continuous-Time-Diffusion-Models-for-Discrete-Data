{
 "cells": [
  {
   "cell_type": "code",
   "execution_count": 1,
   "metadata": {},
   "outputs": [],
   "source": [
    "import pandas as pd\n",
    "import numpy as np"
   ]
  },
  {
   "cell_type": "code",
   "execution_count": null,
   "metadata": {},
   "outputs": [],
   "source": [
    "def pad_sequence(seq, max_length=48, pad_char='-'):\n",
    "    return seq.ljust(max_length, pad_char)\n",
    "\n",
    "char_to_index = {\n",
    "    'A': 0, 'R': 1, 'N': 2, 'D': 3, 'C': 4, 'Q': 5, 'E': 6, 'G': 7, 'H': 8, 'I': 9,\n",
    "    'L': 10, 'K': 11, 'M': 12, 'F': 13, 'P': 14, 'S': 15, 'T': 16, 'W': 17, 'Y': 18, 'V': 19,\n",
    "    '-': 20  \n",
    "}\n",
    "\n",
    "def sequence_to_numbers(seq):\n",
    "    return [char_to_index[char] for char in seq]\n",
    "\n",
    "def numbers_to_sequence(seq):\n",
    "    pass\n",
    "\n"
   ]
  },
  {
   "cell_type": "code",
   "execution_count": null,
   "metadata": {},
   "outputs": [],
   "source": [
    "df = pd.read_table('lib/datasets/Protein_sequences/stream')\n",
    "df_seq = df['Sequence']\n",
    "seq = df_seq[df_seq.str.len().between(12, 48)]\n",
    "seq = seq.drop_duplicates()\n",
    "\n",
    "pad_seq = seq.apply(pad_sequence).reset_index(drop=True)\n",
    "print(pad_seq)\n",
    "pad_seq.to_csv('lib/datasets/stream_pad.csv', header=True, index=False)\n",
    "# ------------------------------------------------------------------------------------------\n",
    "load_seq = pd.read_csv('lib/datasets/Protein_sequences/stream_pad.csv')['Sequence']\n",
    "filtered_series = load_seq[~load_seq.str.contains('B|Z|J|X|O|U')].reset_index(drop=True)\n",
    "filtered_series.to_csv('lib/datasets/Protein_sequences/stream_pad_filt_BZJXOU.csv', header=True, index=False)\n",
    "print(filtered_series)\n",
    "\n",
    "num_seq = filtered_series.apply(sequence_to_numbers)\n",
    "arr_num = np.stack(num_seq.values, 0)\n",
    "np.save('lib/datasets/Protein_sequences/stream_pad_filt_BZJXOU_numarr.npy', arr_num)\n",
    "\n"
   ]
  },
  {
   "cell_type": "code",
   "execution_count": null,
   "metadata": {},
   "outputs": [],
   "source": [
    "df = pd.read_csv('lib/datasets/Protein_sequences/grampa.csv')\n",
    "sequences = df['sequence']\n",
    "seq = sequences[sequences.str.len().between(12, 48)]\n",
    "seq = seq.drop_duplicates()\n",
    "print(seq)\n",
    "pad_seq = seq.apply(pad_sequence).reset_index(drop=True)\n",
    "pad_seq.to_csv('lib/datasets/Protein_sequences/grampa_pad.csv', header=True, index=False)\n",
    "\n",
    "filt_seq = pad_seq[~pad_seq.str.contains('B|Z|J|X|O|U')].reset_index(drop=True)\n",
    "num_seq = filt_seq.apply(sequence_to_numbers)\n",
    "arr_num = np.stack(num_seq.values, 0)\n",
    "np.save('lib/datasets/Protein_sequences/grampa_numarr.npy', arr_num)"
   ]
  },
  {
   "cell_type": "code",
   "execution_count": null,
   "metadata": {},
   "outputs": [],
   "source": [
    "import torch\n",
    "from lib.datasets.protein import IDX2CHAR\n",
    "seq_arr = np.load('lib/datasets/Protein_sequences/grampa_numarr.npy')\n",
    "\n",
    "print(seq_arr[0], type(seq_arr[0]))\n",
    "load_tn = torch.from_numpy(seq_arr).to('cpu')"
   ]
  },
  {
   "cell_type": "code",
   "execution_count": null,
   "metadata": {},
   "outputs": [],
   "source": [
    "char_array = np.vectorize(IDX2CHAR.get)(seq_arr)\n",
    "print(char_array)"
   ]
  },
  {
   "cell_type": "code",
   "execution_count": null,
   "metadata": {},
   "outputs": [],
   "source": [
    "print(load_tn, type(load_tn), load_tn.shape)\n",
    "dataloader = torch.utils.data.DataLoader(load_tn,\n",
    "    batch_size=3,\n",
    "    shuffle=False)\n"
   ]
  },
  {
   "cell_type": "code",
   "execution_count": null,
   "metadata": {},
   "outputs": [],
   "source": [
    "import lib.utils.utils as utils\n",
    "from config.config_hollow_maze import get_config\n",
    "from lib.models.models import UniformRate, UniformVariantRate\n",
    "cfg = get_config()\n",
    "cfg.data.S = 21\n",
    "cfg.model.rate_const = 0.32\n",
    "cfg.model.t_func = \"sqrt_cos\"\n",
    "model = UniformRate(cfg, 'cpu')\n",
    "device ='cpu'\n",
    "\n",
    "\n",
    "\n",
    "for minibatch in dataloader: \n",
    "    B = minibatch.shape[0]\n",
    "    ts = torch.rand((B,), device=device) * (1.0 - 0.01) + 0.01\n",
    "    ts = torch.ones((B,), device=device) * 1\n",
    "    print(ts)\n",
    "\n",
    "    qt0 = model.transition(ts)  # (B, S, S)\n",
    "    b = utils.expand_dims(\n",
    "        torch.arange(B, device=device), (tuple(range(1, minibatch.dim())))\n",
    "    )\n",
    "\n",
    "    qt0 = qt0[b, minibatch.long()]\n",
    "    print(qt0, )\n",
    "\n",
    "    log_qt0 = torch.where(qt0 <= 0.0, -1e9, torch.log(qt0))\n",
    "\n",
    "    xt = torch.distributions.categorical.Categorical(\n",
    "        logits=log_qt0).sample()\n",
    "    print(\"xt\")\n",
    "    print(xt)\n",
    "    print(\"minibatch\")\n",
    "    print(minibatch)\n",
    "    break\n",
    "    "
   ]
  }
 ],
 "metadata": {
  "kernelspec": {
   "display_name": "diffvenv",
   "language": "python",
   "name": "python3"
  },
  "language_info": {
   "codemirror_mode": {
    "name": "ipython",
    "version": 3
   },
   "file_extension": ".py",
   "mimetype": "text/x-python",
   "name": "python",
   "nbconvert_exporter": "python",
   "pygments_lexer": "ipython3",
   "version": "3.11.5"
  }
 },
 "nbformat": 4,
 "nbformat_minor": 2
}
