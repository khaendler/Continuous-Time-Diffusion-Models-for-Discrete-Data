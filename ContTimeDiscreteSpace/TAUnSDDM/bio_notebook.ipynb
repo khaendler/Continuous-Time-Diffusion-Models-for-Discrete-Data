{
 "cells": [
  {
   "cell_type": "code",
   "execution_count": 1,
   "metadata": {},
   "outputs": [],
   "source": [
    "import pandas as pd\n",
    "import numpy as np"
   ]
  },
  {
   "cell_type": "code",
   "execution_count": null,
   "metadata": {},
   "outputs": [],
   "source": [
    "def pad_sequence(seq, max_length=48, pad_char='-'):\n",
    "    return seq.ljust(max_length, pad_char)\n",
    "char_to_index = {\n",
    "    'A': 0, 'R': 1, 'N': 2, 'D': 3, 'C': 4, 'Q': 5, 'E': 6, 'G': 7, 'H': 8, 'I': 9,\n",
    "    'L': 10, 'K': 11, 'M': 12, 'F': 13, 'P': 14, 'S': 15, 'T': 16, 'W': 17, 'Y': 18, 'V': 19,\n",
    "    '-': 20  \n",
    "}\n",
    "def sequence_to_numbers(seq):\n",
    "    return [char_to_index[char] for char in seq]\n",
    "def numbers_to_sequence(seq):\n",
    "    pass\n",
    "\n",
    "df = pd.read_csv('lib/datasets/Protein_sequences/grampa.csv')\n",
    "sequences = df['sequence']\n",
    "seq = sequences[sequences.str.len().between(12, 48)]\n",
    "seq = seq.drop_duplicates()"
   ]
  },
  {
   "cell_type": "code",
   "execution_count": null,
   "metadata": {},
   "outputs": [],
   "source": [
    "df = pd.read_table('lib/datasets/Protein_sequences/stream')\n"
   ]
  },
  {
   "cell_type": "code",
   "execution_count": null,
   "metadata": {},
   "outputs": [],
   "source": [
    "print(df)\n",
    "df_seq = df['Sequence']"
   ]
  },
  {
   "cell_type": "code",
   "execution_count": null,
   "metadata": {},
   "outputs": [],
   "source": [
    "\n",
    "seq = df_seq[df_seq.str.len().between(12, 48)]\n",
    "seq = seq.drop_duplicates()\n",
    "\n",
    "pad_seq = seq.apply(pad_sequence).reset_index(drop=True)\n",
    "print(pad_seq)\n",
    "num_seq = pad_seq.apply(sequence_to_numbers)\n",
    "print(num_seq)\n",
    "arr_num = np.stack(num_seq.values, 0)\n",
    "print(arr_num, type(arr_num), arr_num.shape)\n"
   ]
  },
  {
   "cell_type": "code",
   "execution_count": null,
   "metadata": {},
   "outputs": [],
   "source": [
    "df = pd.read_csv('lib/datasets/Protein_sequences/grampa.csv')\n",
    "sequences = df['sequence']\n",
    "seq = sequences[sequences.str.len().between(12, 48)]\n",
    "seq = seq.drop_duplicates()\n",
    "print(seq)\n",
    "pad_seq = seq.apply(pad_sequence).reset_index(drop=True)\n",
    "print(pad_seq)\n",
    "num_seq = pad_seq.apply(sequence_to_numbers)\n",
    "print(type(num_seq[0][0]))\n",
    "arr_str = np.stack(pad_seq.values, 0)\n",
    "print(arr_str, type(arr_str), arr_str.shape)\n",
    "print(num_seq)\n",
    "print(num_seq[2])"
   ]
  },
  {
   "cell_type": "code",
   "execution_count": 64,
   "metadata": {},
   "outputs": [
    {
     "name": "stdout",
     "output_type": "stream",
     "text": [
      "[ 7 10 14  1 11  9 10  4  0  9  0 11 11 11  7 11  4 11  7 14 10 11 10 19\n",
      "  4 11  4 20 20 20 20 20 20 20 20 20 20 20 20 20 20 20 20 20 20 20 20 20] <class 'numpy.ndarray'>\n"
     ]
    }
   ],
   "source": [
    "import torch\n",
    "from lib.datasets.protein import IDX2CHAR\n",
    "seq_arr = np.load('lib/datasets/Protein_sequences/grampa_numarr.npy')\n",
    "\n",
    "print(seq_arr[0], type(seq_arr[0]))\n",
    "load_tn = torch.from_numpy(seq_arr).to('cpu')"
   ]
  },
  {
   "cell_type": "code",
   "execution_count": 65,
   "metadata": {},
   "outputs": [
    {
     "name": "stdout",
     "output_type": "stream",
     "text": [
      "[['G' 'L' 'P' ... '-' '-' '-']\n",
      " ['G' 'F' 'G' ... '-' '-' '-']\n",
      " ['L' 'V' 'K' ... '-' '-' '-']\n",
      " ...\n",
      " ['G' 'I' 'I' ... '-' '-' '-']\n",
      " ['K' 'L' 'W' ... '-' '-' '-']\n",
      " ['L' 'N' 'K' ... '-' '-' '-']]\n"
     ]
    }
   ],
   "source": [
    "char_array = np.vectorize(IDX2CHAR.get)(seq_arr)\n",
    "print(char_array)"
   ]
  },
  {
   "cell_type": "code",
   "execution_count": 17,
   "metadata": {},
   "outputs": [
    {
     "name": "stdout",
     "output_type": "stream",
     "text": [
      "tensor([[ 7, 10, 14,  ..., 20, 20, 20],\n",
      "        [ 7, 13,  7,  ..., 20, 20, 20],\n",
      "        [10, 19, 11,  ..., 20, 20, 20],\n",
      "        ...,\n",
      "        [ 7,  9,  9,  ..., 20, 20, 20],\n",
      "        [11, 10, 17,  ..., 20, 20, 20],\n",
      "        [10,  2, 11,  ..., 20, 20, 20]]) <class 'torch.Tensor'> torch.Size([5235, 48])\n"
     ]
    }
   ],
   "source": [
    "print(load_tn, type(load_tn), load_tn.shape)\n",
    "dataloader = torch.utils.data.DataLoader(load_tn,\n",
    "    batch_size=3,\n",
    "    shuffle=False)\n"
   ]
  },
  {
   "cell_type": "code",
   "execution_count": 62,
   "metadata": {},
   "outputs": [
    {
     "name": "stdout",
     "output_type": "stream",
     "text": [
      "tensor([1., 1., 1.])\n",
      "tensor([[[0.0476, 0.0476, 0.0476,  ..., 0.0476, 0.0476, 0.0476],\n",
      "         [0.0476, 0.0476, 0.0476,  ..., 0.0476, 0.0476, 0.0476],\n",
      "         [0.0476, 0.0476, 0.0476,  ..., 0.0476, 0.0476, 0.0476],\n",
      "         ...,\n",
      "         [0.0476, 0.0476, 0.0476,  ..., 0.0476, 0.0476, 0.0488],\n",
      "         [0.0476, 0.0476, 0.0476,  ..., 0.0476, 0.0476, 0.0488],\n",
      "         [0.0476, 0.0476, 0.0476,  ..., 0.0476, 0.0476, 0.0488]],\n",
      "\n",
      "        [[0.0476, 0.0476, 0.0476,  ..., 0.0476, 0.0476, 0.0476],\n",
      "         [0.0476, 0.0476, 0.0476,  ..., 0.0476, 0.0476, 0.0476],\n",
      "         [0.0476, 0.0476, 0.0476,  ..., 0.0476, 0.0476, 0.0476],\n",
      "         ...,\n",
      "         [0.0476, 0.0476, 0.0476,  ..., 0.0476, 0.0476, 0.0488],\n",
      "         [0.0476, 0.0476, 0.0476,  ..., 0.0476, 0.0476, 0.0488],\n",
      "         [0.0476, 0.0476, 0.0476,  ..., 0.0476, 0.0476, 0.0488]],\n",
      "\n",
      "        [[0.0476, 0.0476, 0.0476,  ..., 0.0476, 0.0476, 0.0476],\n",
      "         [0.0476, 0.0476, 0.0476,  ..., 0.0476, 0.0488, 0.0476],\n",
      "         [0.0476, 0.0476, 0.0476,  ..., 0.0476, 0.0476, 0.0476],\n",
      "         ...,\n",
      "         [0.0476, 0.0476, 0.0476,  ..., 0.0476, 0.0476, 0.0488],\n",
      "         [0.0476, 0.0476, 0.0476,  ..., 0.0476, 0.0476, 0.0488],\n",
      "         [0.0476, 0.0476, 0.0476,  ..., 0.0476, 0.0476, 0.0488]]])\n",
      "xt\n",
      "tensor([[12,  2, 14, 19,  7,  2,  7,  1, 12, 20, 12, 10, 19,  1, 12, 20,  4,  8,\n",
      "         14, 20, 16, 20, 20, 10,  4,  2,  3,  5, 19,  0, 19,  7,  9, 19,  8, 12,\n",
      "          3, 15, 15,  9,  0, 10,  9,  1,  4,  8, 20, 15],\n",
      "        [ 3, 20,  9,  2, 18, 15,  6, 16, 17, 20, 18, 18,  7, 14,  9, 15,  9, 13,\n",
      "         10,  5,  3, 14, 19,  9,  6, 15,  0,  4, 16, 20, 18, 10,  2,  7,  9, 10,\n",
      "          7,  7, 11,  2, 15, 11,  8, 15, 15, 11, 18, 12],\n",
      "        [15,  7,  1,  7,  3, 17,  5,  9, 15, 20,  0, 14,  4, 11, 17,  4,  7,  8,\n",
      "         16,  5, 16,  5,  6,  5,  3, 13, 19, 13, 11, 17,  9, 14, 11,  2,  9,  7,\n",
      "         18, 15, 15, 16,  5,  8,  3, 15,  1,  0, 11, 18]])\n",
      "minibatch\n",
      "tensor([[ 7, 10, 14,  1, 11,  9, 10,  4,  0,  9,  0, 11, 11, 11,  7, 11,  4, 11,\n",
      "          7, 14, 10, 11, 10, 19,  4, 11,  4, 20, 20, 20, 20, 20, 20, 20, 20, 20,\n",
      "         20, 20, 20, 20, 20, 20, 20, 20, 20, 20, 20, 20],\n",
      "        [ 7, 13,  7,  4, 14,  7,  3,  0, 18,  5,  4, 15,  6,  8,  4,  1,  0, 10,\n",
      "          7,  7,  7,  1, 16,  7,  7, 18,  4,  0,  7, 14, 17, 18, 10,  7,  8, 14,\n",
      "         16,  4, 16,  4, 15, 13, 20, 20, 20, 20, 20, 20],\n",
      "        [10, 19, 11,  3,  2, 14, 10,  3,  9, 15, 14, 11,  5, 19,  5,  0, 10,  4,\n",
      "         16,  3, 10, 19,  9,  1,  4, 12,  4,  4,  4, 20, 20, 20, 20, 20, 20, 20,\n",
      "         20, 20, 20, 20, 20, 20, 20, 20, 20, 20, 20, 20]])\n"
     ]
    }
   ],
   "source": [
    "import lib.utils.utils as utils\n",
    "from config.config_hollow_maze import get_config\n",
    "from lib.models.models import UniformRate, UniformVariantRate\n",
    "cfg = get_config()\n",
    "cfg.data.S = 21\n",
    "cfg.model.rate_const = 0.32\n",
    "cfg.model.t_func = \"sqrt_cos\"\n",
    "model = UniformRate(cfg, 'cpu')\n",
    "device ='cpu'\n",
    "\n",
    "\n",
    "\n",
    "for minibatch in dataloader: \n",
    "    B = minibatch.shape[0]\n",
    "    ts = torch.rand((B,), device=device) * (1.0 - 0.01) + 0.01\n",
    "    ts = torch.ones((B,), device=device) * 1\n",
    "    print(ts)\n",
    "\n",
    "    qt0 = model.transition(ts)  # (B, S, S)\n",
    "    b = utils.expand_dims(\n",
    "        torch.arange(B, device=device), (tuple(range(1, minibatch.dim())))\n",
    "    )\n",
    "\n",
    "    qt0 = qt0[b, minibatch.long()]\n",
    "    print(qt0, )\n",
    "\n",
    "    log_qt0 = torch.where(qt0 <= 0.0, -1e9, torch.log(qt0))\n",
    "\n",
    "    xt = torch.distributions.categorical.Categorical(\n",
    "        logits=log_qt0).sample()\n",
    "    print(\"xt\")\n",
    "    print(xt)\n",
    "    print(\"minibatch\")\n",
    "    print(minibatch)\n",
    "    break\n",
    "    "
   ]
  }
 ],
 "metadata": {
  "kernelspec": {
   "display_name": "diffvenv",
   "language": "python",
   "name": "python3"
  },
  "language_info": {
   "codemirror_mode": {
    "name": "ipython",
    "version": 3
   },
   "file_extension": ".py",
   "mimetype": "text/x-python",
   "name": "python",
   "nbconvert_exporter": "python",
   "pygments_lexer": "ipython3",
   "version": "3.10.4"
  }
 },
 "nbformat": 4,
 "nbformat_minor": 2
}
