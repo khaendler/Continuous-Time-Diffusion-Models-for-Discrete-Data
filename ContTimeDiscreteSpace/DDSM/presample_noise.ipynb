{
 "cells": [
  {
   "cell_type": "code",
   "execution_count": 4,
   "metadata": {},
   "outputs": [],
   "source": [
    "import argparse\n",
    "import os.path\n",
    "import torch\n",
    "from lib.models.ddsm import noise_factory\n",
    "from lib.config.config_bin_mnist import get_config\n",
    "\n",
    "\n",
    "\n",
    "cfg = get_config()\n",
    "\n",
    "if not os.path.exists(cfg.noise_sample.out_path):\n",
    "    os.makedirs(cfg.noise_sample.out_path)\n",
    "elif not os.path.isdir(cfg.noise_sample.out_path):\n",
    "    print(f\"{cfg.out_path} is already exists and it is not a directory\")\n",
    "    exit(1)\n",
    "\n",
    "str_speed = \".speed_balance\" if cfg.noise_sample.speed_balance  else \"\"\n",
    "filename = (\n",
    "    f\"steps{cfg.noise_sample.num_time_steps}.cat{cfg.noise_sample.num_cat}{str_speed}.time{cfg.noise_sample.max_time}.\"\n",
    "    f\"samples{cfg.noise_sample.num_samples}\"\n",
    ")\n",
    "filepath = os.path.join(cfg.noise_sample.out_path, filename + \".pth\")\n",
    "\n",
    "if os.path.exists(filepath):\n",
    "    print(\"File is already exists.\")\n",
    "    exit(1)\n",
    "\n",
    "torch.set_default_dtype(torch.float64)\n",
    "\n",
    "alpha = torch.ones(cfg.data.num_cat - 1)\n",
    "beta = torch.arange(cfg.data.num_cat - 1, 0, -1)\n",
    "\n",
    "v_one, v_zero, v_one_loggrad, v_zero_loggrad, timepoints = noise_factory(\n",
    "    cfg.noise_sample.num_samples,\n",
    "    cfg.noise_sample.num_time_steps,\n",
    "    alpha,\n",
    "    beta,\n",
    "    total_time=cfg.noise_sample.max_time,\n",
    "    order=cfg.noise_sample.order,\n",
    "    time_steps=cfg.noise_sample.steps_per_tick,\n",
    "    logspace=cfg.noise_sample.logspace,\n",
    "    speed_balanced=cfg.noise_sample.speed_balance,\n",
    "    mode=cfg.noise_sample.mode,\n",
    ")\n",
    "\n",
    "v_one = v_one.cpu()\n",
    "v_zero = v_zero.cpu()\n",
    "v_one_loggrad = v_one_loggrad.cpu()\n",
    "v_zero_loggrad = v_zero_loggrad.cpu()\n",
    "timepoints = torch.FloatTensor(timepoints)\n",
    "\n",
    "torch.save((v_one, v_zero, v_one_loggrad, v_zero_loggrad, timepoints), filepath)\n"
   ]
  }
 ],
 "metadata": {
  "kernelspec": {
   "display_name": "diffvenv",
   "language": "python",
   "name": "python3"
  },
  "language_info": {
   "codemirror_mode": {
    "name": "ipython",
    "version": 3
   },
   "file_extension": ".py",
   "mimetype": "text/x-python",
   "name": "python",
   "nbconvert_exporter": "python",
   "pygments_lexer": "ipython3",
   "version": "3.10.4"
  },
  "orig_nbformat": 4
 },
 "nbformat": 4,
 "nbformat_minor": 2
}
