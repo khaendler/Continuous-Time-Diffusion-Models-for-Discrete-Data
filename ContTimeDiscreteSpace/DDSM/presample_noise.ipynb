{
 "cells": [
  {
   "cell_type": "code",
   "execution_count": 1,
   "metadata": {},
   "outputs": [
    {
     "name": "stdout",
     "output_type": "stream",
     "text": [
      "n_samples 10000 256\n",
      "started first\n"
     ]
    },
    {
     "name": "stderr",
     "output_type": "stream",
     "text": [
      "100%|██████████| 400/400 [01:19<00:00,  5.06it/s]\n"
     ]
    },
    {
     "name": "stdout",
     "output_type": "stream",
     "text": [
      "first finished\n"
     ]
    },
    {
     "name": "stderr",
     "output_type": "stream",
     "text": [
      "100%|██████████| 400/400 [35:43<00:00,  5.36s/it]\n"
     ]
    }
   ],
   "source": [
    "import argparse\n",
    "import os.path\n",
    "import torch\n",
    "from lib.models.ddsm import noise_factory\n",
    "from lib.config.config_mnist import get_config\n",
    "\n",
    "\n",
    "\n",
    "config = get_config()\n",
    "\n",
    "if not os.path.exists(config.noise_sample.out_path):\n",
    "    os.makedirs(config.noise_sample.out_path)\n",
    "elif not os.path.isdir(config.noise_sample.out_path):\n",
    "    print(f\"{config.out_path} is already exists and it is not a directory\")\n",
    "    exit(1)\n",
    "\n",
    "str_speed = \".speed_balance\" if config.noise_sample.speed_balance  else \"\"\n",
    "filename = (\n",
    "    f\"mnist_steps{config.noise_sample.num_time_steps}.cat{config.noise_sample.num_cat}{str_speed}.time{config.noise_sample.max_time}.\"\n",
    "    f\"samples{config.noise_sample.num_samples}\"\n",
    ")\n",
    "filepath = os.path.join(config.noise_sample.out_path, filename + \".pth\")\n",
    "\n",
    "if os.path.exists(filepath):\n",
    "    print(\"File is already exists.\")\n",
    "    exit(1)\n",
    "\n",
    "torch.set_default_dtype(torch.float64)\n",
    "\n",
    "alpha = torch.ones(config.data.num_cat - 1)\n",
    "beta = torch.arange(config.data.num_cat - 1, 0, -1)\n",
    "print(\"n_samples\", config.noise_sample.num_samples, config.noise_sample.num_cat)\n",
    "v_one, v_zero, v_one_loggrad, v_zero_loggrad, timepoints = noise_factory(\n",
    "    config.noise_sample.num_samples,\n",
    "    config.noise_sample.num_time_steps,\n",
    "    alpha,\n",
    "    beta,\n",
    "    total_time=config.noise_sample.max_time,\n",
    "    order=config.noise_sample.order,\n",
    "    time_steps=config.noise_sample.steps_per_tick,\n",
    "    logspace=config.noise_sample.logspace,\n",
    "    speed_balanced=config.noise_sample.speed_balance,\n",
    "    mode=config.noise_sample.mode,\n",
    ")\n",
    "\n",
    "v_one = v_one.cpu()\n",
    "v_zero = v_zero.cpu()\n",
    "v_one_loggrad = v_one_loggrad.cpu()\n",
    "v_zero_loggrad = v_zero_loggrad.cpu()\n",
    "timepoints = torch.FloatTensor(timepoints)\n",
    "\n",
    "torch.save((v_one, v_zero, v_one_loggrad, v_zero_loggrad, timepoints), filepath)\n"
   ]
  },
  {
   "cell_type": "code",
   "execution_count": null,
   "metadata": {},
   "outputs": [],
   "source": [
    "if not os.path.exists(config.saving.time_dep_weights_path):\n",
    "    os.makedirs(config.saving.time_dep_weights_path)\n",
    "str_speed = \".speed_balance\" if config.speed_balanced  else \"\"\n",
    "str_random_order = \".random_order\" if config.random_order else \"\"\n",
    "filename = (f\"time_depend_weights_steps{config.n_time_steps}.cat{config.data.num_cat}{str_speed}{str_random_order}\")\n",
    "filepath = os.path.join(config.saving.time_dep_weights_path, filename + \".pth\")\n",
    "torch.save(time_dependent_weights, filepath)"
   ]
  }
 ],
 "metadata": {
  "kernelspec": {
   "display_name": "diffvenv",
   "language": "python",
   "name": "python3"
  },
  "language_info": {
   "codemirror_mode": {
    "name": "ipython",
    "version": 3
   },
   "file_extension": ".py",
   "mimetype": "text/x-python",
   "name": "python",
   "nbconvert_exporter": "python",
   "pygments_lexer": "ipython3",
   "version": "3.10.4"
  },
  "orig_nbformat": 4
 },
 "nbformat": 4,
 "nbformat_minor": 2
}
