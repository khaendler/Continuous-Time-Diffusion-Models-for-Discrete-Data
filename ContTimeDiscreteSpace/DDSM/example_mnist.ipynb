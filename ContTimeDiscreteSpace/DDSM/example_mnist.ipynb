{
 "cells": [
  {
   "cell_type": "code",
   "execution_count": null,
   "metadata": {},
   "outputs": [],
   "source": [
    "import os\n",
    "from matplotlib import pyplot as plt\n",
    "%matplotlib inline\n",
    "\n",
    "import torch\n",
    "import torch.nn as nn\n",
    "import torch.nn.functional as F\n",
    "\n",
    "from torch.utils.data import Dataset\n",
    "from torch.utils.data import DataLoader\n",
    "import torchvision.transforms as transforms\n",
    "\n",
    "\n",
    "import torch\n",
    "import functools\n",
    "from torch.optim import Adam\n",
    "from torch.utils.data import DataLoader\n",
    "import torchvision.transforms as transforms\n",
    "from torchvision.datasets import MNIST\n",
    "from torchvision.utils import make_grid\n",
    "import tqdm\n",
    "\n",
    "from lib.config.config_mnist import get_config \n",
    "from lib.datasets.datasets import create_train_discrete_mnist_dataloader, create_discrete_mnist_dataloader, get_binmnist_datasets\n",
    "import pandas as pd\n",
    "import functools\n",
    "import numpy as np\n",
    "from lib.models.networks import MNISTScoreNet\n",
    "import lib.utils.bookkeeping as bookkeeping\n",
    "from lib.training.training import Trainer\n",
    "from lib.sampling.sampling import Euler_Maruyama_sampler\n",
    "# Main file which contrains all DDSM logic\n",
    "from lib.models.ddsm import *\n"
   ]
  },
  {
   "cell_type": "code",
   "execution_count": null,
   "metadata": {},
   "outputs": [],
   "source": [
    "train_resume = False\n",
    "if not train_resume:\n",
    "    config = get_config()\n",
    "    bookkeeping.save_config(config, config.save_location)\n",
    "\n",
    "else:\n",
    "    path = '/Users/paulheller/PythonRepositories/Master-Thesis/ContTimeDiscreteSpace/DDSM/SavedModels/DNA/'\n",
    "    date = '2023-09-08'\n",
    "    config_name = 'config_001.yaml'\n",
    "    config_path = os.path.join(path, date, config_name)\n",
    "    config = bookkeeping.load_config(config_path)\n",
    "\n",
    "train_set, valid_set, test_set = get_binmnist_datasets(\"/Users/paulheller/PythonRepositories/Master-Thesis/ContTimeDiscreteSpace/DDSM/lib/datasets/\") # torch.Size([64, 1, 28, 28])\n",
    "\n",
    "train_dataloader = DataLoader(train_set, batch_size=config.data.batch_size, shuffle=True, num_workers=4)\n",
    "\n",
    "valid_dataloader = DataLoader(valid_set, batch_size=config.data.batch_size, shuffle=False, num_workers=4)\n",
    "\n",
    "test_dataloader = DataLoader(test_set, batch_size=config.data.batch_size, shuffle=True, num_workers=4)\n",
    "\n",
    "\n",
    "\n",
    "\n",
    "# v_one, v_zero, v_one_loggrad, v_zero_loggrad, timepoints = torch.load(\"steps400.cat2.time4.0.samples10000.pth\")\n",
    "#tr_dataloader = create_train_discrete_mnist_dataloader(batch_size=cfg.data.batch_size, image_size=cfg.data.image_size, use_augmentation=cfg.data.use_augmentation)\n",
    "#dataloader = create_discrete_mnist_dataloader(batch_size=cfg.data.batch_size, image_size=cfg.data.image_size, use_augmentation=False)\n",
    "\n"
   ]
  },
  {
   "cell_type": "code",
   "execution_count": null,
   "metadata": {},
   "outputs": [],
   "source": [
    "\n",
    "\n"
   ]
  }
 ],
 "metadata": {
  "kernelspec": {
   "display_name": "diffvenv",
   "language": "python",
   "name": "python3"
  },
  "language_info": {
   "codemirror_mode": {
    "name": "ipython",
    "version": 3
   },
   "file_extension": ".py",
   "mimetype": "text/x-python",
   "name": "python",
   "nbconvert_exporter": "python",
   "pygments_lexer": "ipython3",
   "version": "3.10.4"
  },
  "orig_nbformat": 4
 },
 "nbformat": 4,
 "nbformat_minor": 2
}
