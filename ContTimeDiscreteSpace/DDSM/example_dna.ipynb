{
 "cells": [
  {
   "cell_type": "code",
   "execution_count": null,
   "metadata": {},
   "outputs": [],
   "source": [
    "import torch\n",
    "from torch import nn\n",
    "from torch.utils.data import DataLoader, Dataset\n",
    "from torch.optim import Adam\n",
    "from lib.config.config_dna import get_config\n",
    "import time\n",
    "import tqdm\n",
    "import tabix\n",
    "import pyBigWig\n",
    "import pandas as pd\n",
    "from matplotlib import pyplot as plt\n",
    "from lib.models.ddsm import *\n",
    "from selene_sdk.utils import NonStrandSpecific\n",
    "from selene_sdk.targets import Target\n",
    "from lib.sei.sei import Sei\n",
    "from lib.datasets.datasets import TSSDatasetS"
   ]
  },
  {
   "cell_type": "code",
   "execution_count": null,
   "metadata": {},
   "outputs": [],
   "source": [
    "config = get_config()\n",
    "\n",
    "sb = UnitStickBreakingTransform()\n",
    "\"\"\"\n",
    "Sei model is published in the following paper\n",
    "Chen, K. M., Wong, A. K., Troyanskaya, O. G., & Zhou, J. (2022). A sequence-based global map of \n",
    "regulatory activity for deciphering human genetics. Nature genetics, 54(7), 940-949. \n",
    "[https://doi.org/10.1038/s41588-022-01102-2](https://doi.org/10.1038/s41588-022-01102-2)  \n",
    "\"\"\"\n",
    "seifeatures = pd.read_csv(config.seifeatures_file, sep='|', header=None)\n",
    "\n",
    "sei = nn.DataParallel(NonStrandSpecific(Sei(4096, 21907)))\n",
    "sei.load_state_dict(torch.load(config.seimodel_file, map_location='cpu')['state_dict'])\n",
    "sei.cuda()\n",
    "\n",
    "### LOAD WEIGHTS\n",
    "v_one, v_zero, v_one_loggrad, v_zero_loggrad, timepoints = torch.load(config.diffusion_weights_file)\n",
    "v_one = v_one.cpu()\n",
    "v_zero = v_zero.cpu()\n",
    "v_one_loggrad = v_one_loggrad.cpu()\n",
    "v_zero_loggrad = v_zero_loggrad.cpu()\n",
    "timepoints = timepoints.cpu()\n",
    "alpha = torch.ones(config.ncat - 1).float()\n",
    "beta =  torch.arange(config.ncat - 1, 0, -1).float()\n",
    "\n",
    "### TIME DEPENDENT WEIGHTS ###\n",
    "torch.set_default_dtype(torch.float32)\n",
    "\n",
    "train_set = TSSDatasetS(config, n_tsses=40000, rand_offset=10)\n",
    "data_loader = DataLoader(train_set, batch_size=config.batch_size, shuffle=True, num_workers=config.num_workers)\n",
    "\n",
    "time_dependent_cums = torch.zeros(config.n_time_steps).to(config.device)\n",
    "time_dependent_counts = torch.zeros(config.n_time_steps).to(config.device)\n"
   ]
  }
 ],
 "metadata": {
  "language_info": {
   "name": "python"
  },
  "orig_nbformat": 4
 },
 "nbformat": 4,
 "nbformat_minor": 2
}
