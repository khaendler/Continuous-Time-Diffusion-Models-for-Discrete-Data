{
 "cells": [
  {
   "cell_type": "code",
   "execution_count": 1,
   "metadata": {},
   "outputs": [
    {
     "name": "stderr",
     "output_type": "stream",
     "text": [
      "/Users/paulheller/PythonRepositories/Master-Thesis/diffvenv/lib/python3.10/site-packages/tqdm/auto.py:21: TqdmWarning: IProgress not found. Please update jupyter and ipywidgets. See https://ipywidgets.readthedocs.io/en/stable/user_install.html\n",
      "  from .autonotebook import tqdm as notebook_tqdm\n"
     ]
    }
   ],
   "source": [
    "import numpy as np\n",
    "from lib.models.diffusion_model import CategoricalDiffusionModel\n",
    "from lib.config.config_mnist_loss import get_config\n",
    "import lib.optimizer.optimizer as optim\n",
    "import lib.utils.bookkeeping as bookkeeping\n",
    "import lib.datasets.datasets_utils as datasets_utils\n",
    "from lib.datasets.datasets import get_dataloader\n",
    "import lib.utils.utils as utils\n",
    "import jax\n",
    "import jax.numpy as jnp\n",
    "from tqdm import tqdm\n",
    "import os\n"
   ]
  },
  {
   "cell_type": "code",
   "execution_count": 2,
   "metadata": {},
   "outputs": [
    {
     "name": "stdout",
     "output_type": "stream",
     "text": [
      "Number of parameters: 2207232\n",
      "Init Step 0\n"
     ]
    }
   ],
   "source": [
    "train_resume = False\n",
    "\n",
    "if not train_resume:\n",
    "    config = get_config()\n",
    "    bookkeeping.save_config(config, config.save_dir)\n",
    "\n",
    "else:\n",
    "    path = 'SavedModels/MNIST'\n",
    "    date = '2023-10-07'\n",
    "    config_name = 'config_001.yaml'\n",
    "    config_path = os.path.join(path, date, config_name)\n",
    "\n",
    "    config = bookkeeping.load_config(config_path)\n",
    "\n",
    "train_ds = datasets_utils.numpy_iter(get_dataloader(config, \"train\"))\n",
    "\n",
    "#optimizer = optim.build_optimizer(config)\n",
    "#fwd_model = build_utils.build_fwd_model(config)\n",
    "#net = build_utils.build_network(config)\n",
    "#backwd_model = build_utils.build_backwd_model(config, fwd_model, net)\n",
    "\n",
    "model = CategoricalDiffusionModel(config)\n",
    "\n",
    "global_key = jax.random.PRNGKey(1008)\n",
    "train_key, model_key, sample_key = jax.random.split(global_key, 3)\n",
    "\n",
    "# struct with step, params state, optimizer state, ema state\n",
    "state = model.init_state(model_key)\n",
    "print(\"Number of parameters:\", sum(x.size for x in jax.tree_util.tree_leaves(state.params)))\n",
    "\n",
    "if train_resume:\n",
    "    load_dir = 'SavedModels/MNIST'\n",
    "    date = '2023-10-07'\n",
    "    model_name = 'checkpoint_600'\n",
    "    checkpoint_path = os.path.join(path, date, model_name)\n",
    "    state = bookkeeping.load_model(checkpoint_path, state)\n",
    "    config.total_train_steps = 200\n",
    "    config.sampling_steps = 1000 \n",
    "    config.sample_freq = 5\n",
    "    config.checkpoint_freq = 2\n",
    "    bookkeeping.save_config(config, config.save_dir)\n",
    "\n",
    "init_step = state.step\n",
    "#state = flax.jax_utils.replicate(state)\n",
    "print(\"Init Step\", init_step)\n",
    "\n",
    "# replicate state over several devices: if one nothing happens\n",
    "# every device, process, got different rng key\n",
    "process_rng_key = jax.random.fold_in(train_key, jax.process_index())\n",
    "# functions over several devices\n",
    "#\n",
    "train_step_fn = model.training_step\n",
    "# train_step_fn = jax.pmap(train_step_fn, axis_name=\"shard\")\n",
    "#train_step_fn = jax.jit(train_step_fn)\n",
    "lr_schedule = optim.build_lr_schedule(config)\n",
    "\n",
    "n_samples = 16\n",
    "\n"
   ]
  },
  {
   "cell_type": "code",
   "execution_count": 3,
   "metadata": {},
   "outputs": [
    {
     "name": "stderr",
     "output_type": "stream",
     "text": [
      "  0%|          | 0/2 [00:00<?, ?it/s]"
     ]
    },
    {
     "name": "stdout",
     "output_type": "stream",
     "text": [
      "Iteration: 1\n"
     ]
    }
   ],
   "source": [
    "\n",
    "for step in tqdm(range(init_step + 1, config.total_train_steps + 1)):\n",
    "    print(\"Iteration:\", step)\n",
    "\n",
    "    #batch = fn_data_preprocess(next(train_ds))\n",
    "    batch = next(train_ds)\n",
    "    process_rng_key, step_key = jax.random.split(process_rng_key)\n",
    "    process_step_rng_key = jax.random.fold_in(step_key, step)\n",
    "    \n",
    "    # for cpu: \n",
    "    # process_rng_key = jax.random.fold_in(process_rng_key, step)\n",
    "    #step_rng_keys = process_rng_key\n",
    "    #step_rng_keys = utils.shard_prng_key(process_rng_key)\n",
    "    \n",
    "    state, aux = train_step_fn(state, process_step_rng_key, batch)\n",
    "\n",
    "    #if step % config.log_every_steps == 0:\n",
    "    #    aux = jax.device_get(flax.jax_utils.unreplicate(aux))\n",
    "    #    aux[\"train/lr\"] = lr_schedule(step)\n",
    "    if (step) % config.checkpoint_freq == 0 or step == config.total_train_steps:\n",
    "        bookkeeping.save_model(config.save_dir, state, step)\n",
    "    \n",
    "    if step % config.sample_freq == 0 or step == config.total_train_steps:\n",
    "        sample_key, sub_sample_key = jax.random.split(sample_key)\n",
    "        process_sample_rng_key = jax.random.fold_in(sub_sample_key, step)\n",
    "        \n",
    "        samples = model.sample_loop(state, process_sample_rng_key, n_samples, conditioner=None)\n",
    "        #  samples = utils.all_gather(samples)\n",
    "        samples = jnp.reshape(samples, (n_samples, config.image_size, config.image_size, 1))\n",
    "        saving_plot_path = os.path.join(config.sample_plot_path, f\"samples_epoch_{step}.png\")\n",
    "        datasets_utils.plot_mnist_batch(samples, saving_plot_path)\n",
    "    \n",
    "        \n",
    "    "
   ]
  },
  {
   "cell_type": "markdown",
   "metadata": {},
   "source": []
  },
  {
   "cell_type": "code",
   "execution_count": null,
   "metadata": {},
   "outputs": [],
   "source": [
    "# config.image_size = 28\n",
    "#saving_plot_path = os.path.join(config.sample_plot_path, f\"samples_epoch_{0}.png\")\n",
    "#datasets_utils.plot_mnist_batch(jnp.reshape(next(train_ds), (64, config.image_size, config.image_size, 1)), saving_plot_path)\n",
    "print(\"Finished!\")"
   ]
  }
 ],
 "metadata": {
  "kernelspec": {
   "display_name": "diffvenv",
   "language": "python",
   "name": "python3"
  },
  "language_info": {
   "codemirror_mode": {
    "name": "ipython",
    "version": 3
   },
   "file_extension": ".py",
   "mimetype": "text/x-python",
   "name": "python",
   "nbconvert_exporter": "python",
   "pygments_lexer": "ipython3",
   "version": "3.10.4"
  },
  "orig_nbformat": 4
 },
 "nbformat": 4,
 "nbformat_minor": 2
}
