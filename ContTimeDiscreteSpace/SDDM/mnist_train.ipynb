{
 "cells": [
  {
   "cell_type": "code",
   "execution_count": null,
   "metadata": {},
   "outputs": [],
   "source": [
    "import numpy as np\n",
    "from lib.models.diffusion_model import CategoricalDiffusionModel\n",
    "from lib.config.config_mnist import get_config\n",
    "from lib.utils.utils import init_state\n",
    "import lib.models.model_utils as model_utils\n",
    "import lib.optimizer.optimizer as optim\n",
    "import flax\n",
    "from flax import jax_utils\n",
    "import jax\n",
    "import jax.numpy as jnp"
   ]
  },
  {
   "cell_type": "code",
   "execution_count": null,
   "metadata": {},
   "outputs": [],
   "source": [
    "config = get_config()\n",
    "\n",
    "optimizer = optim.build_optimizer(config)\n",
    "backwd_model = model_utils.build_backwd_model(config)\n",
    "fwd_model = model_utils.build_fwd_model(config)\n",
    "\n",
    "model = CategoricalDiffusionModel(config, fwd_model, backwd_model, optimizer)\n",
    "\n",
    "\n",
    "global_key = jax.random.PRNGKey(42)\n",
    "global_key, model_key = jax.random.split(global_key, 2)\n",
    "\n",
    "# struct with step, params state, optimizer state, ema state\n",
    "state = init_state(config, model, model_key)\n",
    "\n",
    "init_step = state.step\n",
    "\n",
    "# replicate state over several devices: if one nothing happens\n",
    "state = flax.jax_utils.replicate(state)\n",
    "# every device, process, got different rng key\n",
    "process_rng_key = jax.random.fold_in(global_key, jax.process_index())\n",
    "# functions over several devices\n",
    "#train_step_fn = jax.pmap(train_step_fn, axis_name=\"shard\")\n",
    "\n",
    "train_step_fn = model.training_step\n",
    "train_step_fn = jax.jit(train_step_fn)\n",
    "lr_schedule = optim.build_lr_schedule(config)"
   ]
  },
  {
   "cell_type": "code",
   "execution_count": null,
   "metadata": {},
   "outputs": [],
   "source": [
    "\n",
    "\n",
    "\n",
    "for step in range(init_step + 1, config.total_train_steps + 1):\n",
    "    \n",
    "    batch = fn_data_preprocess(next(train_ds))\n",
    "    process_rng_key = jax.random.fold_in(process_rng_key, step)\n",
    "    step_rng_keys = utils.shard_prng_key(process_rng_key)\n",
    "    state, aux = train_step_fn(state, step_rng_keys, batch)\n",
    "\n",
    "    if step % config.log_every_steps == 0:\n",
    "        aux = jax.device_get(flax.jax_utils.unreplicate(aux))\n",
    "        aux[\"train/lr\"] = lr_schedule(step)\n",
    "\n",
    "    if step % config.plot_every_steps == 0 and fn_eval is not None:\n",
    "        metric = fn_eval(step, state, process_rng_key)\n",
    "\n",
    "\n",
    "    if step % config.save_every_steps == 0:\n",
    "        save_model(state, step)"
   ]
  }
 ],
 "metadata": {
  "language_info": {
   "name": "python"
  },
  "orig_nbformat": 4
 },
 "nbformat": 4,
 "nbformat_minor": 2
}
