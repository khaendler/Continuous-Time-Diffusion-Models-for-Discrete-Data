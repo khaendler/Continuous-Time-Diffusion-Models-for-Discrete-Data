{
 "cells": [
  {
   "cell_type": "code",
   "execution_count": null,
   "metadata": {},
   "outputs": [],
   "source": [
    "import numpy as np\n"
   ]
  },
  {
   "cell_type": "code",
   "execution_count": null,
   "metadata": {},
   "outputs": [],
   "source": []
  },
  {
   "cell_type": "code",
   "execution_count": null,
   "metadata": {},
   "outputs": [],
   "source": [
    "training_loss = []\n",
    "exit_flag = False\n",
    "while True:\n",
    "    # for minibatch, _ in tqdm(dataloader):\n",
    "    for minibatch, _ in tqdm(dataloader):\n",
    "        # print(\"minibatch\", minibatch, minibatch.shape)\n",
    "        l = training_step.step(state, minibatch, loss)\n",
    "        print(\"Loss:\", l.item())\n",
    "        training_loss.append(l.item())\n",
    "        #print('ter', state[\"n_iter\"])\n",
    "        #print(state[\"n_iter\"] % cfg.saving.checkpoint_freq)\n",
    "        # just to save model\n",
    "        if (\n",
    "            (state[\"n_iter\"] + 1) % cfg.saving.checkpoint_freq == 0\n",
    "            or state[\"n_iter\"] == cfg.training.n_iters - 1\n",
    "        ):\n",
    "            bookkeeping.save_state(state, cfg.save_location)\n",
    "            print(\"Model saved in Iteration:\", state[\"n_iter\"] + 1)\n",
    "\n",
    "        if (\n",
    "            (state[\"n_iter\"] + 1) % cfg.sampler.sample_freq == 0\n",
    "            or state[\"n_iter\"] == cfg.training.n_iters - 1\n",
    "        ):\n",
    "            state[\"model\"].eval()\n",
    "            samples, x_hist, x0_hist = sampler.sample(state[\"model\"], n_samples, 10)\n",
    "            samples = samples.reshape(n_samples, 1, 32, 32)\n",
    "            #x_hist = x_hist.reshape(10, n_samples, 1, 32, 32)\n",
    "            #x0_hist = x0_hist.reshape(10, n_samples, 1, 32, 32)\n",
    "            state[\"model\"].train()\n",
    "\n",
    "            fig = plt.figure(figsize=(9, 9))  \n",
    "            for i in range(n_samples):\n",
    "                plt.subplot(4, 4, 1 + i)\n",
    "                plt.axis(\"off\")\n",
    "                plt.imshow(np.transpose(samples[i, ...], (1,2,0)), cmap=\"gray\")\n",
    "            n_iter = state[\"n_iter\"]\n",
    "            \n",
    "            saving_plot_path = os.path.join(cfg.saving.sample_plot_path, f\"samples_epoch_{state['n_iter']}.png\")\n",
    "            plt.savefig(saving_plot_path)\n",
    "            #plt.show()\n",
    "            plt.close()\n",
    "\n",
    "        state[\"n_iter\"] += 1\n",
    "        if state[\"n_iter\"] > cfg.training.n_iters - 1:\n",
    "            exit_flag = True\n",
    "            break\n",
    "\n",
    "    if exit_flag:\n",
    "        break\n",
    "\n",
    "plt.plot(training_loss)\n",
    "plt.title(\"Training loss\")\n",
    "plt.savefig(\"SavedModels/MNIST/PNGs/training_loss.png\")\n",
    "plt.close()\n",
    "\n",
    "\n",
    "if __name__ == \"__main__\":\n",
    "main()\n"
   ]
  }
 ],
 "metadata": {
  "language_info": {
   "name": "python"
  },
  "orig_nbformat": 4
 },
 "nbformat": 4,
 "nbformat_minor": 2
}
