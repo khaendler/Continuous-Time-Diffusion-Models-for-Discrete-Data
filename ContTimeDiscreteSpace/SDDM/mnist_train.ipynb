{
 "cells": [
  {
   "cell_type": "code",
   "execution_count": 1,
   "metadata": {},
   "outputs": [
    {
     "name": "stderr",
     "output_type": "stream",
     "text": [
      "/Users/paulheller/PythonRepositories/Master-Thesis/diffvenv/lib/python3.10/site-packages/tqdm/auto.py:21: TqdmWarning: IProgress not found. Please update jupyter and ipywidgets. See https://ipywidgets.readthedocs.io/en/stable/user_install.html\n",
      "  from .autonotebook import tqdm as notebook_tqdm\n"
     ]
    }
   ],
   "source": [
    "import numpy as np\n",
    "from lib.models.diffusion_model import CategoricalDiffusionModel\n",
    "from lib.config.config_mnist import get_config\n",
    "import lib.models.model_utils as model_utils\n",
    "import lib.optimizer.optimizer as optim\n",
    "import lib.utils.bookkeeping as bookkeeping\n",
    "import lib.datasets.datasets_utils as datasets_utils\n",
    "from lib.datasets.datasets import get_dataloader\n",
    "import lib.utils.utils as utils\n",
    "import lib.utils.build_utils as build_utils\n",
    "import jax\n",
    "import jax.numpy as jnp\n",
    "from tqdm import tqdm\n",
    "import os\n",
    "from flax import linen as nn"
   ]
  },
  {
   "cell_type": "code",
   "execution_count": 2,
   "metadata": {},
   "outputs": [
    {
     "ename": "ValueError",
     "evalue": "Unknown net arch: bidir_transformer",
     "output_type": "error",
     "traceback": [
      "\u001b[0;31m---------------------------------------------------------------------------\u001b[0m",
      "\u001b[0;31mValueError\u001b[0m                                Traceback (most recent call last)",
      "Cell \u001b[0;32mIn[2], line 19\u001b[0m\n\u001b[1;32m     17\u001b[0m optimizer \u001b[39m=\u001b[39m optim\u001b[39m.\u001b[39mbuild_optimizer(config)\n\u001b[1;32m     18\u001b[0m fwd_model \u001b[39m=\u001b[39m build_utils\u001b[39m.\u001b[39mbuild_fwd_model(config)\n\u001b[0;32m---> 19\u001b[0m net \u001b[39m=\u001b[39m build_utils\u001b[39m.\u001b[39;49mbuild_network(config)\n\u001b[1;32m     20\u001b[0m backwd_model \u001b[39m=\u001b[39m build_utils\u001b[39m.\u001b[39mbuild_backwd_model(config, fwd_model, net)\n\u001b[1;32m     22\u001b[0m model \u001b[39m=\u001b[39m CategoricalDiffusionModel(config, fwd_model, backwd_model, optimizer)\n",
      "File \u001b[0;32m~/PythonRepositories/Master-Thesis/ContTimeDiscreteSpace/SDDM/lib/utils/build_utils.py:55\u001b[0m, in \u001b[0;36mbuild_network\u001b[0;34m(config)\u001b[0m\n\u001b[1;32m     47\u001b[0m             net \u001b[39m=\u001b[39m ebm\u001b[39m.\u001b[39mCatMLPScoreFunc(\n\u001b[1;32m     48\u001b[0m                 vocab_size\u001b[39m=\u001b[39mconfig\u001b[39m.\u001b[39mvocab_size,\n\u001b[1;32m     49\u001b[0m                 cat_embed_size\u001b[39m=\u001b[39mconfig\u001b[39m.\u001b[39mcat_embed_size,\n\u001b[0;32m   (...)\u001b[0m\n\u001b[1;32m     52\u001b[0m                 time_scale_factor\u001b[39m=\u001b[39mconfig\u001b[39m.\u001b[39mtime_scale_factor,\n\u001b[1;32m     53\u001b[0m             )\n\u001b[1;32m     54\u001b[0m     \u001b[39melse\u001b[39;00m:\n\u001b[0;32m---> 55\u001b[0m         \u001b[39mraise\u001b[39;00m \u001b[39mValueError\u001b[39;00m(\u001b[39m\"\u001b[39m\u001b[39mUnknown net arch: \u001b[39m\u001b[39m%s\u001b[39;00m\u001b[39m\"\u001b[39m \u001b[39m%\u001b[39m config\u001b[39m.\u001b[39mnet_arch)\n\u001b[1;32m     57\u001b[0m \u001b[39melif\u001b[39;00m config\u001b[39m.\u001b[39mmodel_type \u001b[39m==\u001b[39m \u001b[39m\"\u001b[39m\u001b[39mhollow\u001b[39m\u001b[39m\"\u001b[39m:\n\u001b[1;32m     58\u001b[0m     \u001b[39mif\u001b[39;00m \u001b[39m\"\u001b[39m\u001b[39mbidir\u001b[39m\u001b[39m\"\u001b[39m \u001b[39min\u001b[39;00m config\u001b[39m.\u001b[39mnet_arch \u001b[39mand\u001b[39;00m \u001b[39m\"\u001b[39m\u001b[39mtransformer\u001b[39m\u001b[39m\"\u001b[39m \u001b[39min\u001b[39;00m config\u001b[39m.\u001b[39mnet_arch:\n",
      "\u001b[0;31mValueError\u001b[0m: Unknown net arch: bidir_transformer"
     ]
    }
   ],
   "source": [
    "train_resume = False\n",
    "\n",
    "if not train_resume:\n",
    "    config = get_config()\n",
    "    bookkeeping.save_config(config, config.save_dir)\n",
    "\n",
    "else:\n",
    "    path = 'SavedModels/MNIST'\n",
    "    date = '2023-09-17'\n",
    "    config_name = 'config_001.yaml'\n",
    "    config_path = os.path.join(path, date, config_name)\n",
    "\n",
    "    config = bookkeeping.load_config(config_path)\n",
    "\n",
    "train_ds = datasets_utils.numpy_iter(get_dataloader(config, \"train\"))\n",
    "\n",
    "optimizer = optim.build_optimizer(config)\n",
    "fwd_model = build_utils.build_fwd_model(config)\n",
    "net = build_utils.build_network(config)\n",
    "backwd_model = build_utils.build_backwd_model(config, fwd_model, net)\n",
    "\n",
    "model = CategoricalDiffusionModel(config, fwd_model, backwd_model, optimizer)\n",
    "\n",
    "global_key = jax.random.PRNGKey(42)\n",
    "global_key, model_key = jax.random.split(global_key, 2)\n",
    "\n",
    "# struct with step, params state, optimizer state, ema state\n",
    "state = model_utils.init_state(config, model, model_key)\n",
    "print(\"Number of parameters:\", sum(x.size for x in jax.tree_util.tree_leaves(state.params)))\n",
    "\n",
    "if train_resume:\n",
    "    load_dir = 'SavedModels/MNIST'\n",
    "    date = '2023-09-16'\n",
    "    model_name = 'checkpoint_2'\n",
    "    checkpoint_path = os.path.join(path, date, model_name)\n",
    "    state = bookkeeping.load_model(checkpoint_path, state)\n",
    "    config.total_train_steps = 5\n",
    "    config.sample_freq = 5\n",
    "    config.checkpoint_freq = 1\n",
    "\n",
    "init_step = state.step\n",
    "#state = flax.jax_utils.replicate(state)\n",
    "print(\"Init Step\", init_step)\n",
    "\n",
    "# replicate state over several devices: if one nothing happens\n",
    "# every device, process, got different rng key\n",
    "process_rng_key = jax.random.fold_in(global_key, jax.process_index())\n",
    "# functions over several devices\n",
    "#train_step_fn = jax.pmap(train_step_fn, axis_name=\"shard\")\n",
    "\n",
    "train_step_fn = model.training_step\n",
    "#train_step_fn = jax.jit(train_step_fn)\n",
    "lr_schedule = optim.build_lr_schedule(config)\n",
    "\n",
    "n_samples = 16\n",
    "\n"
   ]
  },
  {
   "cell_type": "code",
   "execution_count": null,
   "metadata": {},
   "outputs": [],
   "source": [
    "\n",
    "for step in tqdm(range(init_step + 1, config.total_train_steps + 1)):\n",
    "    print(\"Iteration:\", step)\n",
    "\n",
    "    #batch = fn_data_preprocess(next(train_ds))\n",
    "    batch = next(train_ds)\n",
    "    \n",
    "    process_rng_key = jax.random.fold_in(process_rng_key, step)\n",
    "    # for cpu: step_rng_keys = process_rng_key\n",
    "    step_rng_keys = utils.shard_prng_key(process_rng_key)\n",
    "    \n",
    "    state, aux = train_step_fn(state, global_key, batch)\n",
    "\n",
    "    #if step % config.log_every_steps == 0:\n",
    "    #    aux = jax.device_get(flax.jax_utils.unreplicate(aux))\n",
    "    #    aux[\"train/lr\"] = lr_schedule(step)\n",
    "    if (step) % config.checkpoint_freq == 0 or step == config.total_train_steps:\n",
    "        bookkeeping.save_model(config.save_dir, state, step)\n",
    "    \n",
    "    if step % config.sample_freq == 0 or step == config.total_train_steps:\n",
    "        samples = model.sample_loop(state, process_rng_key, n_samples, conditioner=None)\n",
    "        #  samples = utils.all_gather(samples)\n",
    "        samples = jnp.reshape(samples, (n_samples, 1, 28, 28))\n",
    "        saving_plot_path = os.path.join(config.sample_plot_path, f\"samples_epoch_{step}.png\")\n",
    "        datasets_utils.plot_mnist_batch(samples, saving_plot_path)\n",
    "    \n",
    "        \n",
    "    "
   ]
  }
 ],
 "metadata": {
  "kernelspec": {
   "display_name": "diffvenv",
   "language": "python",
   "name": "python3"
  },
  "language_info": {
   "codemirror_mode": {
    "name": "ipython",
    "version": 3
   },
   "file_extension": ".py",
   "mimetype": "text/x-python",
   "name": "python",
   "nbconvert_exporter": "python",
   "pygments_lexer": "ipython3",
   "version": "3.10.4"
  },
  "orig_nbformat": 4
 },
 "nbformat": 4,
 "nbformat_minor": 2
}
