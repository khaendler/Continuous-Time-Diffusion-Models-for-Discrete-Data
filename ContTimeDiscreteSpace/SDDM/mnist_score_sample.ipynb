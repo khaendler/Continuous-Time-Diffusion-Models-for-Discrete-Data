{
 "cells": [
  {
   "cell_type": "code",
   "execution_count": 1,
   "metadata": {},
   "outputs": [
    {
     "name": "stderr",
     "output_type": "stream",
     "text": [
      "/Users/paulheller/PythonRepositories/Master-Thesis/diffvenv/lib/python3.10/site-packages/tqdm/auto.py:21: TqdmWarning: IProgress not found. Please update jupyter and ipywidgets. See https://ipywidgets.readthedocs.io/en/stable/user_install.html\n",
      "  from .autonotebook import tqdm as notebook_tqdm\n"
     ]
    }
   ],
   "source": [
    "import numpy as np\n",
    "from lib.models.diffusion_model import CategoricalDiffusionModel\n",
    "from lib.config.config_mnist import get_config\n",
    "import lib.optimizer.optimizer as optim\n",
    "import lib.utils.bookkeeping as bookkeeping\n",
    "import lib.datasets.datasets_utils as datasets_utils\n",
    "from lib.datasets.datasets import get_dataloader\n",
    "import jax\n",
    "import jax.numpy as jnp\n",
    "from tqdm import tqdm\n",
    "import os\n"
   ]
  },
  {
   "cell_type": "code",
   "execution_count": 4,
   "metadata": {},
   "outputs": [],
   "source": [
    "# creating paths\n",
    "path = 'SavedModels/MNIST'\n",
    "date = '2023-10-07'\n",
    "config_name = 'config_001_old.yaml'\n",
    "model_name = 'checkpoint_600'\n",
    "\n",
    "config_path = os.path.join(path, date, config_name)\n",
    "checkpoint_path = os.path.join(path, date, model_name)"
   ]
  },
  {
   "cell_type": "code",
   "execution_count": 5,
   "metadata": {},
   "outputs": [],
   "source": [
    "config = bookkeeping.load_config(config_path)\n",
    "train_ds = datasets_utils.numpy_iter(get_dataloader(config, \"train\"))\n",
    "\n",
    "model = CategoricalDiffusionModel(config)\n",
    "\n",
    "global_key = jax.random.PRNGKey(11)\n",
    "train_key, model_key, sample_key = jax.random.split(global_key, 3)\n",
    "\n",
    "state = model.init_state(model_key)\n",
    "state = bookkeeping.load_model(checkpoint_path, state)\n",
    "step = state.step"
   ]
  },
  {
   "cell_type": "code",
   "execution_count": 6,
   "metadata": {},
   "outputs": [],
   "source": [
    "n_samples = 16\n",
    "sample_key, sub_sample_key = jax.random.split(sample_key)\n",
    "process_sample_rng_key = jax.random.fold_in(sub_sample_key, jax.process_index())\n",
    "\n",
    "samples = model.sample_loop(state, process_sample_rng_key, n_samples, conditioner=None)\n",
    "#  samples = utils.all_gather(samples)\n",
    "samples = jnp.reshape(samples, (n_samples, config.image_size, config.image_size, 1))\n",
    "saving_plot_path = os.path.join(config.sample_plot_path, f\"samples_epoch_eval{step}.png\")\n",
    "datasets_utils.plot_mnist_batch(samples, saving_plot_path)"
   ]
  }
 ],
 "metadata": {
  "kernelspec": {
   "display_name": "diffvenv",
   "language": "python",
   "name": "python3"
  },
  "language_info": {
   "codemirror_mode": {
    "name": "ipython",
    "version": 3
   },
   "file_extension": ".py",
   "mimetype": "text/x-python",
   "name": "python",
   "nbconvert_exporter": "python",
   "pygments_lexer": "ipython3",
   "version": "3.10.4"
  },
  "orig_nbformat": 4
 },
 "nbformat": 4,
 "nbformat_minor": 2
}
