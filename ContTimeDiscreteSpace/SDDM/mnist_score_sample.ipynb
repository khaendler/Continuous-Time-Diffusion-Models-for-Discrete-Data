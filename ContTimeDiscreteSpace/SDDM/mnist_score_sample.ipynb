{
 "cells": [
  {
   "cell_type": "code",
   "execution_count": null,
   "metadata": {},
   "outputs": [],
   "source": [
    "import numpy as np\n",
    "from lib.models.diffusion_model import CategoricalDiffusionModel\n",
    "from lib.config.config_mnist import get_config\n",
    "import lib.optimizer.optimizer as optim\n",
    "import lib.utils.bookkeeping as bookkeeping\n",
    "import lib.datasets.datasets_utils as datasets_utils\n",
    "from lib.datasets.datasets import get_dataloader\n",
    "\n",
    "import jax\n",
    "import jax.numpy as jnp\n",
    "from tqdm import tqdm\n",
    "import os\n"
   ]
  },
  {
   "cell_type": "code",
   "execution_count": null,
   "metadata": {},
   "outputs": [],
   "source": [
    "# creating paths\n",
    "path = 'SavedModels/MNIST'\n",
    "date = '2023-10-07'\n",
    "config_name = 'config_001.yaml'\n",
    "model_name = 'checkpoint_600'\n",
    "\n",
    "config_path = os.path.join(path, date, config_name)\n",
    "checkpoint_path = os.path.join(path, date, model_name)"
   ]
  },
  {
   "cell_type": "code",
   "execution_count": null,
   "metadata": {},
   "outputs": [],
   "source": [
    "config = bookkeeping.load_config(config_path)\n",
    "train_ds = datasets_utils.numpy_iter(get_dataloader(config, \"train\"))\n",
    "\n",
    "model = CategoricalDiffusionModel(config)\n",
    "\n",
    "global_key = jax.random.PRNGKey(11)\n",
    "train_key, model_key, sample_key = jax.random.split(global_key, 3)\n",
    "\n",
    "state = model.init_state(model_key)\n",
    "state = bookkeeping.load_model(checkpoint_path, state)\n",
    "step = state.step"
   ]
  },
  {
   "cell_type": "code",
   "execution_count": null,
   "metadata": {},
   "outputs": [],
   "source": [
    "n_samples = 16\n",
    "sample_key, sub_sample_key = jax.random.split(sample_key)\n",
    "process_sample_rng_key = jax.random.fold_in(sub_sample_key, jax.process_index())\n",
    "\n",
    "samples = model.sample_loop(state, process_sample_rng_key, n_samples, conditioner=None)\n",
    "#  samples = utils.all_gather(samples)\n",
    "samples = jnp.reshape(samples, (n_samples, config.image_size, config.image_size, 1))\n",
    "saving_plot_path = os.path.join(config.sample_plot_path, f\"samples_epoch_eval{step}.png\")\n",
    "datasets_utils.plot_mnist_batch(samples, saving_plot_path)"
   ]
  }
 ],
 "metadata": {
  "language_info": {
   "name": "python"
  },
  "orig_nbformat": 4
 },
 "nbformat": 4,
 "nbformat_minor": 2
}
