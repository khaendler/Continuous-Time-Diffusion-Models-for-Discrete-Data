{
 "cells": [
  {
   "cell_type": "code",
   "execution_count": 1,
   "metadata": {},
   "outputs": [],
   "source": [
    "import numpy as np\n",
    "import jax\n",
    "import jax.numpy as jnp\n",
    "from tqdm import tqdm\n",
    "import os\n",
    "from lib.models.forward_model import UniformForward\n"
   ]
  },
  {
   "cell_type": "code",
   "execution_count": 2,
   "metadata": {},
   "outputs": [
    {
     "name": "stdout",
     "output_type": "stream",
     "text": [
      "[[[0.3771065  0.31144676 0.31144676]\n",
      "  [0.31144676 0.3771065  0.31144676]\n",
      "  [0.31144676 0.31144676 0.3771065 ]]\n",
      "\n",
      " [[0.38507968 0.30746016 0.30746016]\n",
      "  [0.30746016 0.38507968 0.30746016]\n",
      "  [0.30746016 0.30746016 0.38507968]]]\n"
     ]
    }
   ],
   "source": [
    "rate_const = 1\n",
    "S = 3\n",
    "B = 2\n",
    "D = 4\n",
    "uni = UniformForward(S, rate_const)\n",
    "\n",
    "rng = jax.random.PRNGKey(1008)\n",
    "t_rng, sample_rng = jax.random.split(rng)\n",
    "t = jax.random.uniform(t_rng, (B,))\n",
    "qt0 = uni.transition(t)\n",
    "qt0_y2x = jnp.transpose(qt0, (0, 2, 1))\n",
    "print(qt0)\n",
    "print(qt0)\n",
    "\n",
    "print(qt0)"
   ]
  },
  {
   "cell_type": "code",
   "execution_count": null,
   "metadata": {},
   "outputs": [],
   "source": [
    "\"\"\"\n",
    "The main bottleneck is the design of the conditional marginal parameterization, which requires non-trivial trade-offs between computational cost \n",
    "and flexibility of the architectures; score matching for general categorical discrete variables does not benefit from prior knowledge about ordinal \n",
    "discrete data; and finally unifying score matching between continu- ous and discrete spaces would be needed to handle data in mixed spaces\n",
    "\"\"\""
   ]
  }
 ],
 "metadata": {
  "kernelspec": {
   "display_name": "diffvenv",
   "language": "python",
   "name": "python3"
  },
  "language_info": {
   "codemirror_mode": {
    "name": "ipython",
    "version": 3
   },
   "file_extension": ".py",
   "mimetype": "text/x-python",
   "name": "python",
   "nbconvert_exporter": "python",
   "pygments_lexer": "ipython3",
   "version": "3.10.4"
  },
  "orig_nbformat": 4
 },
 "nbformat": 4,
 "nbformat_minor": 2
}
