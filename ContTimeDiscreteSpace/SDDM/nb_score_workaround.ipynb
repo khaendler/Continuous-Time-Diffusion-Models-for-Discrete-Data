{
 "cells": [
  {
   "cell_type": "code",
   "execution_count": null,
   "metadata": {},
   "outputs": [],
   "source": []
  },
  {
   "cell_type": "code",
   "execution_count": null,
   "metadata": {},
   "outputs": [],
   "source": [
    "\"\"\"\n",
    "The main bottleneck is the design of the conditional marginal parameterization, which requires non-trivial trade-offs between computational cost \n",
    "and flexibility of the architectures; score matching for general categorical discrete variables does not benefit from prior knowledge about ordinal \n",
    "discrete data; and finally unifying score matching between continu- ous and discrete spaces would be needed to handle data in mixed spaces\n",
    "\"\"\""
   ]
  }
 ],
 "metadata": {
  "language_info": {
   "name": "python"
  },
  "orig_nbformat": 4
 },
 "nbformat": 4,
 "nbformat_minor": 2
}
