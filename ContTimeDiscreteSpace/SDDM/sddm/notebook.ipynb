{
 "cells": [
  {
   "cell_type": "code",
   "execution_count": 1,
   "metadata": {},
   "outputs": [],
   "source": [
    "import torch"
   ]
  },
  {
   "cell_type": "code",
   "execution_count": 22,
   "metadata": {},
   "outputs": [],
   "source": [
    "x = torch.randn(3, 5, 4)\n",
    "\n",
    "# xt.unsqueeze(tuple(range(1, xt.dim())))\n"
   ]
  },
  {
   "cell_type": "code",
   "execution_count": 27,
   "metadata": {},
   "outputs": [
    {
     "name": "stdout",
     "output_type": "stream",
     "text": [
      "torch.Size([3])\n",
      "torch.Size([3, 1, 1])\n"
     ]
    }
   ],
   "source": [
    "xt_indices = torch.arange(x.size(0))\n",
    "print(xt_indices.shape)\n",
    "for dim in range(1, x.dim()):\n",
    "    xt_indices = xt_indices.unsqueeze(dim)\n",
    "\n",
    "# Expandiere die Indizes auf die gleiche Shape wie das ursprüngliche xt\n",
    "print(xt_indices.shape)"
   ]
  },
  {
   "cell_type": "code",
   "execution_count": 55,
   "metadata": {},
   "outputs": [
    {
     "name": "stdout",
     "output_type": "stream",
     "text": [
      "torch.Size([3, 1, 1])\n",
      "tensor([[[0]],\n",
      "\n",
      "        [[1]],\n",
      "\n",
      "        [[2]]])\n"
     ]
    }
   ],
   "source": [
    "B, S, N, H, Q, V = 3, 4, 5, 2, 6, 7\n",
    "x0 = torch.rand(B, S, N)\n",
    "lst = tuple(range(1, x0.dim()))\n",
    "\n",
    "x0 = torch.arange(3)\n",
    "for i in lst:\n",
    "    x0 = x0.unsqueeze(i)\n",
    "print(x0.shape)\n",
    "print(x0)"
   ]
  },
  {
   "cell_type": "code",
   "execution_count": 53,
   "metadata": {},
   "outputs": [
    {
     "name": "stdout",
     "output_type": "stream",
     "text": [
      "<class 'jaxlib.xla_extension.ArrayImpl'>\n",
      "3\n",
      "[[[0.12447917 0.1094259  0.23693919 0.94575596 0.1594727 ]\n",
      "  [0.84554565 0.01326525 0.37130654 0.34224176 0.6253567 ]\n",
      "  [0.7081952  0.16291368 0.29458654 0.00194848 0.5491575 ]\n",
      "  [0.8475604  0.925928   0.54306674 0.40060925 0.8868216 ]]\n",
      "\n",
      " [[0.95004666 0.51836514 0.63809705 0.06671274 0.6426624 ]\n",
      "  [0.31780863 0.21331525 0.2628814  0.25734162 0.72351336]\n",
      "  [0.062621   0.16465926 0.02687132 0.1529026  0.25560737]\n",
      "  [0.03544354 0.31713212 0.33358395 0.948547   0.93193233]]\n",
      "\n",
      " [[0.73810947 0.20734286 0.13556743 0.57623744 0.05131841]\n",
      "  [0.8201177  0.5338551  0.8530345  0.96546125 0.9175153 ]\n",
      "  [0.33442986 0.95699656 0.95403767 0.92046404 0.5596161 ]\n",
      "  [0.42783093 0.9162421  0.4420396  0.6804645  0.46406043]]]\n",
      "(3, 1, 1)\n",
      "[[[0]]\n",
      "\n",
      " [[1]]\n",
      "\n",
      " [[2]]]\n"
     ]
    }
   ],
   "source": [
    "import jax\n",
    "import jax.numpy as jnp\n",
    "\n",
    "# Beispiel xt mit Shape (B, S, N, H, Q, V)\n",
    "B, S, N, H, Q, V = 3, 4, 5, 2, 6, 7\n",
    "xt = jax.random.uniform(jax.random.PRNGKey(0), (B, S, N))\n",
    "print(type(xt))\n",
    "print(xt.shape[0])\n",
    "print(xt)\n",
    "# Berechne b\n",
    "torch.arange\n",
    "b = jnp.expand_dims(jnp.arange(xt.shape[0]), tuple(range(1, xt.ndim)))\n",
    "print(b.shape)\n",
    "print((b))"
   ]
  },
  {
   "cell_type": "code",
   "execution_count": 64,
   "metadata": {},
   "outputs": [
    {
     "name": "stdout",
     "output_type": "stream",
     "text": [
      "tensor([[ 0.2499,  1.6694],\n",
      "        [-0.5757, -0.0826]]) torch.Size([2, 2])\n",
      "tensor([[ 0.2499,  1.6694],\n",
      "        [-0.5757, -0.0826],\n",
      "        [ 0.2499,  1.6694],\n",
      "        [-0.5757, -0.0826],\n",
      "        [ 0.2499,  1.6694],\n",
      "        [-0.5757, -0.0826]]) torch.Size([6, 2])\n"
     ]
    }
   ],
   "source": [
    "x1 = torch.randn(2, 2)\n",
    "print(x1, x1.shape)\n",
    "x2 = torch.tile(x1, (3, 1))\n",
    "print(x2, x2.shape)"
   ]
  },
  {
   "cell_type": "code",
   "execution_count": 81,
   "metadata": {},
   "outputs": [
    {
     "name": "stdout",
     "output_type": "stream",
     "text": [
      "[[1. 0. 0. 0.]\n",
      " [0. 1. 0. 0.]\n",
      " [0. 0. 1. 0.]\n",
      " [0. 0. 0. 1.]]\n",
      "[[1. 0. 0. 0.]\n",
      " [1. 0. 0. 0.]\n",
      " [0. 1. 0. 0.]\n",
      " [0. 1. 0. 0.]\n",
      " [0. 0. 1. 0.]\n",
      " [0. 0. 1. 0.]\n",
      " [0. 0. 0. 1.]\n",
      " [0. 0. 0. 1.]]\n",
      "tensor([[1., 0., 0., 0.],\n",
      "        [1., 0., 0., 0.],\n",
      "        [0., 1., 0., 0.],\n",
      "        [0., 1., 0., 0.],\n",
      "        [0., 0., 1., 0.],\n",
      "        [0., 0., 1., 0.],\n",
      "        [0., 0., 0., 1.],\n",
      "        [0., 0., 0., 1.]])\n"
     ]
    }
   ],
   "source": [
    "print(jnp.eye(4))\n",
    "mask = jnp.eye(4).repeat(2, axis=0)\n",
    "print(mask)\n",
    "mask0 = torch.eye(4).repeat_interleave(2, 0)\n",
    "print(mask0)"
   ]
  },
  {
   "cell_type": "code",
   "execution_count": 121,
   "metadata": {},
   "outputs": [
    {
     "name": "stdout",
     "output_type": "stream",
     "text": [
      "[[0.9653214  0.22515893]\n",
      " [0.63302994 0.29638183]]\n",
      "[[0.9653214 ]\n",
      " [0.22515893]\n",
      " [0.63302994]\n",
      " [0.29638183]]\n",
      "tensor([[ 0.0580,  0.2162, -0.8515],\n",
      "        [-0.8934, -1.4802,  0.6290],\n",
      "        [-0.3249, -0.1572,  0.0770],\n",
      "        [-1.3485, -0.0259,  0.0858]])\n"
     ]
    }
   ],
   "source": [
    "B = 2\n",
    "S = 2\n",
    "\n",
    "xt = jax.random.uniform(jax.random.PRNGKey(0), (B, S))\n",
    "print(xt)\n",
    "#print(jnp.tile(xt, (2 * 3, 1)).shape)\n",
    "#print(jnp.tile(jnp.expand_dims(xt, axis=1), ((3, 1))).shape)\n",
    "\n",
    "print(jnp.reshape(xt, (-1, 4)).T)\n",
    "\n",
    "x1 = torch.randn(3, 2, 2)\n",
    "#print(torch.tile(x1.unsqueeze(1), ((3, 1))).shape)\n",
    "print(x1.view(-1, 4).t())\n"
   ]
  },
  {
   "cell_type": "code",
   "execution_count": 89,
   "metadata": {},
   "outputs": [
    {
     "name": "stdout",
     "output_type": "stream",
     "text": [
      "[ 0  0  0  0  1  1  1  1  2  2  2  2  3  3  3  3  4  4  4  4  5  5  5  5\n",
      "  6  6  6  6  7  7  7  7  8  8  8  8  9  9  9  9 10 10 10 10 11 11 11 11]\n",
      "tensor([ 0,  0,  0,  0,  1,  1,  1,  1,  2,  2,  2,  2,  3,  3,  3,  3,  4,  4,\n",
      "         4,  4,  5,  5,  5,  5,  6,  6,  6,  6,  7,  7,  7,  7,  8,  8,  8,  8,\n",
      "         9,  9,  9,  9, 10, 10, 10, 10, 11, 11, 11, 11])\n"
     ]
    }
   ],
   "source": [
    "print(jnp.arange(12).repeat(4, axis=0))\n",
    "print(torch.arange(12).repeat_interleave(4, 0))"
   ]
  },
  {
   "cell_type": "code",
   "execution_count": 117,
   "metadata": {},
   "outputs": [
    {
     "name": "stdout",
     "output_type": "stream",
     "text": [
      "[[0.9653214  0.22515893]\n",
      " [0.63302994 0.29638183]]\n",
      "[0 0 0 0 0 0 1 1 1 1 1 1 2 2 2 2 2 2 3 3 3 3 3 3]\n",
      "[0.9653214  0.9653214  0.22515893 0.22515893 0.63302994 0.63302994\n",
      " 0.29638183 0.29638183]\n",
      "[0 1 2 3 0 1 2 3 0 1 2 3 0 1 2 3 0 1 2 3 0 1 2 3 0 1 2 3 0 1 2 3 0 1 2 3 0\n",
      " 1 2 3 0 1 2 3 0 1 2 3]\n",
      "--------------------\n",
      "tensor([[-0.9290,  0.0699],\n",
      "        [-0.5814, -0.2196]])\n",
      "tensor([0, 0, 0, 0, 0, 0, 1, 1, 1, 1, 1, 1, 2, 2, 2, 2, 2, 2, 3, 3, 3, 3, 3, 3])\n",
      "tensor([-0.9290, -0.9290,  0.0699,  0.0699, -0.5814, -0.5814, -0.2196, -0.2196])\n",
      "tensor([0, 1, 2, 3, 0, 1, 2, 3, 0, 1, 2, 3, 0, 1, 2, 3, 0, 1, 2, 3, 0, 1, 2, 3,\n",
      "        0, 1, 2, 3, 0, 1, 2, 3, 0, 1, 2, 3, 0, 1, 2, 3, 0, 1, 2, 3, 0, 1, 2, 3])\n"
     ]
    }
   ],
   "source": [
    "bsize = 4\n",
    "d = 3\n",
    "s = 2\n",
    "xt = jax.random.uniform(jax.random.PRNGKey(0), (B, S))\n",
    "print(xt)\n",
    "print(jnp.repeat(jnp.arange(bsize), d * s))\n",
    "print(jnp.repeat(jnp.ravel(xt), s))\n",
    "print(jnp.tile(jnp.arange(4), [bsize * d]))\n",
    "print('--------------------')\n",
    "print(x1)\n",
    "print(torch.arange(bsize).repeat_interleave(d * s))\n",
    "print(torch.flatten(x1).repeat_interleave(s))\n",
    "print(torch.tile(torch.arange(4), [bsize * d]))\n",
    "\n",
    "\n"
   ]
  },
  {
   "cell_type": "code",
   "execution_count": 123,
   "metadata": {},
   "outputs": [
    {
     "ename": "RuntimeError",
     "evalue": "split_with_sizes expects split_sizes to sum exactly to 5 (input tensor's size at dimension 1), but got split_sizes=[1]",
     "output_type": "error",
     "traceback": [
      "\u001b[0;31m---------------------------------------------------------------------------\u001b[0m",
      "\u001b[0;31mRuntimeError\u001b[0m                              Traceback (most recent call last)",
      "Cell \u001b[0;32mIn[123], line 2\u001b[0m\n\u001b[1;32m      1\u001b[0m \u001b[39m#print(torch.zeros([2, 3] + [3, 4], dtype=torch.float32))\u001b[39;00m\n\u001b[0;32m----> 2\u001b[0m \u001b[39mprint\u001b[39m(torch\u001b[39m.\u001b[39;49msplit(x, [\u001b[39m1\u001b[39;49m], dim\u001b[39m=\u001b[39;49m\u001b[39m1\u001b[39;49m))\n",
      "File \u001b[0;32m~/PythonRepositories/Master-Thesis/diffvenv/lib/python3.10/site-packages/torch/functional.py:189\u001b[0m, in \u001b[0;36msplit\u001b[0;34m(tensor, split_size_or_sections, dim)\u001b[0m\n\u001b[1;32m    183\u001b[0m     \u001b[39mreturn\u001b[39;00m handle_torch_function(\n\u001b[1;32m    184\u001b[0m         split, (tensor,), tensor, split_size_or_sections, dim\u001b[39m=\u001b[39mdim)\n\u001b[1;32m    185\u001b[0m \u001b[39m# Overwriting reason:\u001b[39;00m\n\u001b[1;32m    186\u001b[0m \u001b[39m# This dispatches to two ATen functions depending on the type of\u001b[39;00m\n\u001b[1;32m    187\u001b[0m \u001b[39m# split_size_or_sections. The branching code is in _tensor.py, which we\u001b[39;00m\n\u001b[1;32m    188\u001b[0m \u001b[39m# call here.\u001b[39;00m\n\u001b[0;32m--> 189\u001b[0m \u001b[39mreturn\u001b[39;00m tensor\u001b[39m.\u001b[39;49msplit(split_size_or_sections, dim)\n",
      "File \u001b[0;32m~/PythonRepositories/Master-Thesis/diffvenv/lib/python3.10/site-packages/torch/_tensor.py:803\u001b[0m, in \u001b[0;36mTensor.split\u001b[0;34m(self, split_size, dim)\u001b[0m\n\u001b[1;32m    801\u001b[0m     \u001b[39mreturn\u001b[39;00m torch\u001b[39m.\u001b[39m_VF\u001b[39m.\u001b[39msplit(\u001b[39mself\u001b[39m, split_size, dim)  \u001b[39m# type: ignore[attr-defined]\u001b[39;00m\n\u001b[1;32m    802\u001b[0m \u001b[39melse\u001b[39;00m:\n\u001b[0;32m--> 803\u001b[0m     \u001b[39mreturn\u001b[39;00m torch\u001b[39m.\u001b[39;49m_VF\u001b[39m.\u001b[39;49msplit_with_sizes(\u001b[39mself\u001b[39;49m, split_size, dim)\n",
      "\u001b[0;31mRuntimeError\u001b[0m: split_with_sizes expects split_sizes to sum exactly to 5 (input tensor's size at dimension 1), but got split_sizes=[1]"
     ]
    }
   ],
   "source": [
    "#print(torch.zeros([2, 3] + [3, 4], dtype=torch.float32))\n",
    "print(torch.split(x, [1], dim=1))"
   ]
  },
  {
   "cell_type": "code",
   "execution_count": 4,
   "metadata": {},
   "outputs": [
    {
     "name": "stdout",
     "output_type": "stream",
     "text": [
      "tensor([0.2168, 0.5465, 0.4740])\n"
     ]
    }
   ],
   "source": [
    "import torch\n",
    "bsize = 3\n",
    "print(torch.rand(bsize, ))"
   ]
  }
 ],
 "metadata": {
  "kernelspec": {
   "display_name": "diffvenv",
   "language": "python",
   "name": "python3"
  },
  "language_info": {
   "codemirror_mode": {
    "name": "ipython",
    "version": 3
   },
   "file_extension": ".py",
   "mimetype": "text/x-python",
   "name": "python",
   "nbconvert_exporter": "python",
   "pygments_lexer": "ipython3",
   "version": "3.10.4"
  },
  "orig_nbformat": 4
 },
 "nbformat": 4,
 "nbformat_minor": 2
}
