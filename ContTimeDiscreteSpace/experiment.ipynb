{
 "cells": [
  {
   "cell_type": "code",
   "execution_count": null,
   "metadata": {},
   "outputs": [],
   "source": [
    "import torch\n",
    "from lib.networks.networks import MiniUNet, MiniUNetDiscrete"
   ]
  },
  {
   "cell_type": "code",
   "execution_count": 13,
   "metadata": {},
   "outputs": [
    {
     "name": "stdout",
     "output_type": "stream",
     "text": [
      "tensor([[[[217, 173, 152,  ...,   3, 130,  29],\n",
      "          [ 91, 164, 154,  ...,  63, 183,  40],\n",
      "          [114, 121,  88,  ..., 149, 157, 195],\n",
      "          ...,\n",
      "          [121, 204,  13,  ..., 112, 100, 162],\n",
      "          [ 74,  55, 225,  ..., 197, 255,  58],\n",
      "          [148, 152,  21,  ..., 160,  56,  34]]],\n",
      "\n",
      "\n",
      "        [[[ 79, 255, 252,  ...,  26, 211, 102],\n",
      "          [ 32, 114, 196,  ..., 165,  42,  79],\n",
      "          [ 47, 116, 233,  ..., 154, 143,   2],\n",
      "          ...,\n",
      "          [150, 185,  53,  ..., 255, 181, 231],\n",
      "          [ 31,  99,  97,  ..., 230, 113,  88],\n",
      "          [212,  63,  65,  ..., 164,  59, 230]]],\n",
      "\n",
      "\n",
      "        [[[ 19, 206,  54,  ...,  12,  31, 100],\n",
      "          [ 94, 229, 212,  ..., 195,  59,  92],\n",
      "          [118, 114,  11,  ..., 128, 118, 181],\n",
      "          ...,\n",
      "          [130, 140, 183,  ..., 142, 108, 246],\n",
      "          [ 47,  95, 218,  ..., 207, 120, 119],\n",
      "          [221,  69,  39,  ...,  56,  84,  23]]],\n",
      "\n",
      "\n",
      "        ...,\n",
      "\n",
      "\n",
      "        [[[137,  26, 182,  ...,  64, 130, 196],\n",
      "          [179, 237, 111,  ...,  48,  12,  99],\n",
      "          [134, 117, 141,  ...,  78,  72, 192],\n",
      "          ...,\n",
      "          [ 77, 221, 241,  ..., 255, 132,  57],\n",
      "          [ 70, 143,  94,  ..., 195, 185, 121],\n",
      "          [ 11, 149, 133,  ..., 162, 128, 223]]],\n",
      "\n",
      "\n",
      "        [[[ 78, 145, 194,  ..., 110,   9, 231],\n",
      "          [ 37, 201, 217,  ...,  11, 192,  46],\n",
      "          [210, 214,  54,  ...,  69, 133,  40],\n",
      "          ...,\n",
      "          [140,  62,  51,  ..., 157, 163,  52],\n",
      "          [ 50, 132, 241,  ..., 255,   4,  82],\n",
      "          [190,   6, 147,  ...,  14,  84,  91]]],\n",
      "\n",
      "\n",
      "        [[[233, 130,  31,  ..., 249, 244, 146],\n",
      "          [142,  17, 169,  ..., 117, 130, 196],\n",
      "          [210, 255, 158,  ..., 208, 208,  59],\n",
      "          ...,\n",
      "          [  0, 202,  82,  ..., 249, 211, 232],\n",
      "          [176, 103, 107,  ...,  43,  90, 109],\n",
      "          [169, 108,   3,  ..., 210,  41, 255]]]], dtype=torch.uint8)\n",
      "after encoder: torch.Size([16, 32, 16, 16])\n",
      "after middle: torch.Size([16, 32, 16, 16])\n",
      "out after decode torch.Size([16, 256, 32, 32])\n",
      "out after reshape torch.Size([16, 1, 256, 32, 32])\n",
      "out after cont torch.Size([16, 1, 32, 32, 256])\n",
      "Output shape: torch.Size([16, 1, 32, 32, 256])\n"
     ]
    }
   ],
   "source": [
    "input_ch = 1\n",
    "output_ch = 1\n",
    "unet = MiniUNetDiscrete(dim=32, in_channel=input_ch, out_channel=output_ch, model_output='logistic_pa', num_classes=256, x_min_max=(0, 255))\n",
    "batch_size = 16\n",
    "channels = 1\n",
    "height = 32\n",
    "width = 32\n",
    "x = torch.randint(0, 256, (batch_size, channels, height, width), dtype=torch.uint8)\n",
    "print(x)\n",
    "\n",
    "output_tensor = unet(x)\n",
    "\n",
    "print(\"Output shape:\", output_tensor.shape)\n"
   ]
  },
  {
   "cell_type": "code",
   "execution_count": null,
   "metadata": {},
   "outputs": [],
   "source": [
    "total_params = sum(p.numel() for p in unet.parameters())\n",
    "print(total_params)"
   ]
  }
 ],
 "metadata": {
  "kernelspec": {
   "display_name": "diffvenv",
   "language": "python",
   "name": "python3"
  },
  "language_info": {
   "codemirror_mode": {
    "name": "ipython",
    "version": 3
   },
   "file_extension": ".py",
   "mimetype": "text/x-python",
   "name": "python",
   "nbconvert_exporter": "python",
   "pygments_lexer": "ipython3",
   "version": "3.10.4"
  },
  "orig_nbformat": 4
 },
 "nbformat": 4,
 "nbformat_minor": 2
}
