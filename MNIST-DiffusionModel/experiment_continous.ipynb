{
 "cells": [
  {
   "cell_type": "code",
   "execution_count": 4,
   "metadata": {},
   "outputs": [],
   "source": [
    "from unet import Unet\n",
    "from diffusion_model import DiffusionModel, DiffusionModelExtended\n",
    "#from diffusion_model_improved import TargetDiffusion, LearnedVarDiffusion\n",
    "import torch\n",
    "from trainer import Trainer\n",
    "import numpy as np\n"
   ]
  },
  {
   "cell_type": "code",
   "execution_count": 6,
   "metadata": {},
   "outputs": [
    {
     "name": "stdout",
     "output_type": "stream",
     "text": [
      "self.out_dim 1\n",
      "dims [32, 32, 64, 64]\n",
      "final 32 1 Conv2d(32, 1, kernel_size=(1, 1), stride=(1, 1))\n"
     ]
    }
   ],
   "source": [
    "num_classes = len(np.arange(0, 10))\n",
    "\n",
    "# you can always set num_classes \n",
    "#unet_model = Unet(dim=32, channels=1, dim_mults=(1, 2, 2), resnet_block_groups=2, num_classes=num_classes, use_sinposemb=False) \n",
    "#unet_model = Unet(dim=32, channels=1, dim_mults=(1, 2, 4), resnet_block_groups=8, num_classes=num_classes, use_sinposemb=False, use_learned_var=True)# 8 blocks\n",
    "# for \n",
    "unet_model = Unet(dim=32, channels=1, dim_mults=(1, 2, 2), resnet_block_groups=2, num_classes=num_classes, use_sinposemb=False, self_condition=True) \n",
    "#optimizer = torch.optim.Adam(unet_model.parameters(), lr=2e-5)\n",
    "optimizer = torch.optim.Adam(unet_model.parameters(), lr=1e-4)\n",
    "\n",
    "diffusion_model = DiffusionModelExtended(model=unet_model, image_size=32, in_channels=1, timesteps=1000, beta_schedule='linear', loss_weighing=True, min_snr_gamma=5, offset_noise_strength=0.0)\n",
    "#diffusion_model = DiffusionModel(model=unet_model, image_size=32, in_channels=1, timesteps=1000, beta_schedule='linear')\n",
    "#diffusion_model = TargetDiffusion(model=unet_model, image_size=32, in_channels=1, timesteps=10, beta_schedule='linear', objective='pred_noise', min_snr_loss_weight=True)\n",
    "#diffusion_model = LearnedVarDiffusion(model=unet_model, image_size=32, in_channels=1, timesteps=10, beta_schedule='linear', objective='pred_noise', min_snr_loss_weight=True)\n",
    "\n"
   ]
  },
  {
   "cell_type": "code",
   "execution_count": 7,
   "metadata": {},
   "outputs": [
    {
     "name": "stdout",
     "output_type": "stream",
     "text": [
      "Epoch: 1\n"
     ]
    },
    {
     "name": "stderr",
     "output_type": "stream",
     "text": [
      "Training Loop:   0%|          | 0/938 [00:00<?, ?it/s]"
     ]
    },
    {
     "name": "stdout",
     "output_type": "stream",
     "text": [
      "y tensor([5, 8, 2, 4, 7, 2, 8, 5, 5, 5, 7, 9, 5, 8, 9, 1, 9, 7, 1, 3, 0, 1, 0, 1,\n",
      "        9, 3, 1, 7, 0, 6, 7, 4, 5, 2, 0, 0, 5, 5, 9, 5, 0, 0, 9, 2, 5, 7, 9, 8,\n",
      "        6, 6, 8, 1, 2, 1, 5, 8, 7, 2, 0, 6, 3, 2, 3, 2])\n"
     ]
    },
    {
     "name": "stderr",
     "output_type": "stream",
     "text": [
      "Training Loop:   0%|          | 1/938 [00:18<4:51:07, 18.64s/it]"
     ]
    },
    {
     "name": "stdout",
     "output_type": "stream",
     "text": [
      "y tensor([6, 4, 7, 7, 6, 9, 6, 8, 6, 0, 7, 0, 9, 3, 5, 3, 8, 6, 1, 5, 8, 9, 4, 8,\n",
      "        6, 5, 7, 5, 2, 0, 7, 2, 8, 1, 1, 2, 0, 5, 5, 6, 9, 7, 9, 3, 9, 9, 5, 2,\n",
      "        4, 6, 7, 6, 1, 6, 4, 3, 2, 1, 6, 5, 1, 6, 0, 7])\n"
     ]
    },
    {
     "name": "stderr",
     "output_type": "stream",
     "text": [
      "Training Loop:   0%|          | 2/938 [00:25<2:59:10, 11.49s/it]"
     ]
    },
    {
     "name": "stdout",
     "output_type": "stream",
     "text": [
      "y tensor([7, 9, 8, 4, 8, 8, 7, 8, 7, 2, 7, 4, 2, 6, 1, 3, 6, 1, 0, 3, 8, 5, 2, 8,\n",
      "        0, 4, 1, 2, 7, 4, 4, 9, 9, 1, 3, 8, 4, 9, 1, 6, 3, 3, 0, 2, 5, 5, 9, 1,\n",
      "        2, 0, 9, 5, 7, 1, 5, 6, 9, 7, 4, 2, 6, 3, 3, 1])\n"
     ]
    },
    {
     "name": "stderr",
     "output_type": "stream",
     "text": [
      "Training Loop:   0%|          | 3/938 [00:31<2:25:30,  9.34s/it]"
     ]
    },
    {
     "name": "stdout",
     "output_type": "stream",
     "text": [
      "y tensor([2, 7, 3, 9, 2, 7, 3, 0, 0, 1, 8, 9, 2, 0, 4, 2, 2, 9, 1, 8, 1, 6, 2, 2,\n",
      "        0, 0, 0, 0, 7, 7, 1, 0, 0, 3, 9, 0, 1, 2, 7, 2, 4, 1, 4, 0, 1, 2, 5, 4,\n",
      "        8, 1, 3, 0, 1, 9, 8, 8, 1, 0, 1, 7, 2, 3, 7, 8])\n"
     ]
    },
    {
     "name": "stderr",
     "output_type": "stream",
     "text": [
      "Training Loop:   0%|          | 4/938 [00:38<2:07:50,  8.21s/it]"
     ]
    },
    {
     "name": "stdout",
     "output_type": "stream",
     "text": [
      "y tensor([9, 5, 4, 4, 5, 8, 2, 2, 3, 1, 5, 1, 0, 1, 2, 3, 8, 6, 8, 3, 1, 3, 8, 2,\n",
      "        7, 4, 0, 6, 8, 7, 0, 8, 3, 1, 1, 4, 5, 3, 1, 5, 9, 6, 0, 1, 7, 1, 9, 5,\n",
      "        7, 5, 6, 0, 0, 3, 9, 6, 5, 8, 8, 2, 0, 0, 2, 4])\n"
     ]
    },
    {
     "name": "stderr",
     "output_type": "stream",
     "text": [
      "Training Loop:   1%|          | 5/938 [00:46<2:05:32,  8.07s/it]"
     ]
    },
    {
     "name": "stdout",
     "output_type": "stream",
     "text": [
      "y tensor([8, 9, 8, 6, 6, 1, 8, 5, 0, 4, 4, 2, 8, 0, 8, 9, 4, 0, 9, 6, 0, 7, 2, 3,\n",
      "        4, 5, 5, 0, 9, 8, 6, 0, 9, 0, 7, 9, 9, 1, 9, 1, 6, 6, 1, 6, 5, 8, 7, 8,\n",
      "        2, 8, 4, 8, 1, 5, 4, 6, 6, 9, 0, 7, 1, 1, 1, 1])\n"
     ]
    },
    {
     "name": "stderr",
     "output_type": "stream",
     "text": [
      "Training Loop:   1%|          | 6/938 [00:54<2:07:43,  8.22s/it]"
     ]
    },
    {
     "name": "stdout",
     "output_type": "stream",
     "text": [
      "y tensor([5, 1, 2, 9, 2, 7, 7, 5, 3, 5, 0, 1, 9, 1, 8, 8, 9, 1, 5, 5, 9, 0, 0, 1,\n",
      "        3, 2, 3, 3, 4, 5, 1, 3, 8, 3, 3, 8, 8, 3, 5, 7, 2, 1, 8, 5, 4, 3, 1, 2,\n",
      "        4, 5, 1, 7, 6, 3, 2, 8, 6, 3, 7, 1, 6, 5, 8, 5])\n"
     ]
    },
    {
     "name": "stderr",
     "output_type": "stream",
     "text": [
      "Training Loop:   1%|          | 7/938 [01:01<2:01:51,  7.85s/it]"
     ]
    },
    {
     "name": "stdout",
     "output_type": "stream",
     "text": [
      "y tensor([8, 0, 2, 8, 3, 7, 7, 2, 4, 9, 6, 9, 0, 1, 3, 3, 0, 9, 6, 8, 4, 3, 0, 5,\n",
      "        3, 5, 3, 9, 9, 3, 7, 9, 6, 3, 0, 1, 6, 3, 6, 9, 0, 1, 0, 0, 7, 9, 9, 0,\n",
      "        8, 5, 2, 7, 2, 7, 1, 2, 5, 0, 9, 7, 4, 2, 7, 2])\n"
     ]
    },
    {
     "name": "stderr",
     "output_type": "stream",
     "text": [
      "Training Loop:   1%|          | 8/938 [01:11<2:10:10,  8.40s/it]"
     ]
    },
    {
     "name": "stdout",
     "output_type": "stream",
     "text": [
      "y tensor([9, 4, 9, 8, 6, 0, 2, 5, 8, 5, 3, 0, 0, 5, 3, 2, 1, 9, 4, 7, 8, 3, 6, 3,\n",
      "        5, 9, 0, 6, 8, 7, 0, 5, 9, 2, 4, 7, 5, 0, 8, 5, 8, 1, 1, 7, 1, 0, 1, 8,\n",
      "        1, 8, 6, 4, 2, 0, 9, 2, 9, 0, 3, 8, 5, 7, 5, 3])\n"
     ]
    }
   ],
   "source": [
    "trainer = Trainer(diffusion_model=diffusion_model, optimizer=optimizer, use_ema=True, use_guided_diff=True, nb_epochs=1, batch_size=64, device='cpu')\n",
    "trainer.train_loop()\n",
    "# model saved with this:\n",
    "# unet_model = Unet(dim=128, channels=1, dim_mults=(1, 2, 4), resnet_block_groups=8, num_classes=num_classes, use_sinposemb=False) \n",
    "# diffusion_model = DiffusionModel(model=unet_model, image_size=32, in_channels=1, timesteps=1000, beta_schedule='linear')\n",
    "# trainer.load(\"checkpoints/saved_epoch_1_model.pt\")\n",
    "# trainer.sampling(epoch=1, n_samples=16)\n",
    "\n",
    "\"\"\"\n",
    "trainer.load(\"checkpoints/epoch_0_model.pt\")\n",
    "trainer.sampling(epoch=1)\n",
    "trainer.nb_epochs = 2\n",
    "trainer.train_loop()\n",
    "trainer.load(\"checkpoints/epoch_1_model.pt\")\n",
    "print(\"trainer.diffusion_model.timesteps\", trainer.diffusion_model.timesteps)\n",
    "\"\"\"\n",
    "# right now: training with dome classifier free guidance implementation\n"
   ]
  },
  {
   "cell_type": "code",
   "execution_count": null,
   "metadata": {},
   "outputs": [],
   "source": [
    "\n",
    "image = torch.randn(10, 1, 32, 32)\n",
    "t = (torch.rand(10) * 10).long()\n",
    "unet = Unet(dim=128, dim_mults=(1, 2, 2), channels=1, resnet_block_groups=8, learned_sinusoidal_dim=18, num_classes=None)\n",
    "num_param = sum([p.numel() for p in unet.parameters()])\n",
    "print(num_param)\n",
    "x_after = unet(image, t)\n",
    "print(x_after.shape)\n"
   ]
  }
 ],
 "metadata": {
  "kernelspec": {
   "display_name": "diffvenv",
   "language": "python",
   "name": "python3"
  },
  "language_info": {
   "codemirror_mode": {
    "name": "ipython",
    "version": 3
   },
   "file_extension": ".py",
   "mimetype": "text/x-python",
   "name": "python",
   "nbconvert_exporter": "python",
   "pygments_lexer": "ipython3",
   "version": "3.10.4"
  },
  "orig_nbformat": 4
 },
 "nbformat": 4,
 "nbformat_minor": 2
}
