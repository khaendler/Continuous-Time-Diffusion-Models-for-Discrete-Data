{
 "cells": [
  {
   "cell_type": "code",
   "execution_count": 1,
   "metadata": {},
   "outputs": [],
   "source": [
    "from unet import Unet\n",
    "from diffusion_model import DiffusionModel, DiffusionModelExtended\n",
    "#from diffusion_model_improved import TargetDiffusion, LearnedVarDiffusion\n",
    "import torch\n",
    "from trainer import Trainer\n",
    "import numpy as np\n"
   ]
  },
  {
   "cell_type": "code",
   "execution_count": 2,
   "metadata": {},
   "outputs": [
    {
     "name": "stdout",
     "output_type": "stream",
     "text": [
      "self.out_dim 1\n",
      "dims [32, 32, 64, 64]\n",
      "final 32 1 Conv2d(32, 1, kernel_size=(1, 1), stride=(1, 1))\n"
     ]
    }
   ],
   "source": [
    "num_classes = len(np.arange(0, 10))\n",
    "\n",
    "# you can always set num_classes \n",
    "unet_model = Unet(dim=32, channels=1, dim_mults=(1, 2, 2), resnet_block_groups=2, num_classes=num_classes, use_sinposemb=False) \n",
    "#unet_model = Unet(dim=32, channels=1, dim_mults=(1, 2, 4), resnet_block_groups=8, num_classes=num_classes, use_sinposemb=False, use_learned_var=True)# 8 blocks\n",
    "# for \n",
    "#unet_model = Unet(dim=32, channels=1, dim_mults=(1, 2, 2), resnet_block_groups=2, num_classes=num_classes, use_sinposemb=False, self_condition=True) \n",
    "#optimizer = torch.optim.Adam(unet_model.parameters(), lr=2e-5)\n",
    "optimizer = torch.optim.Adam(unet_model.parameters(), lr=1e-4)\n",
    "\n",
    "#diffusion_model = DiffusionModelExtended(model=unet_model, image_size=32, in_channels=1, timesteps=1000, beta_schedule='linear', loss_weighing=True, min_snr_gamma=5, offset_noise_strength=0.5)\n",
    "diffusion_model = DiffusionModel(model=unet_model, image_size=32, in_channels=1, timesteps=1000, beta_schedule='linear')\n",
    "#diffusion_model = TargetDiffusion(model=unet_model, image_size=32, in_channels=1, timesteps=10, beta_schedule='linear', objective='pred_noise', min_snr_loss_weight=True)\n",
    "#diffusion_model = LearnedVarDiffusion(model=unet_model, image_size=32, in_channels=1, timesteps=10, beta_schedule='linear', objective='pred_noise', min_snr_loss_weight=True)\n",
    "\n"
   ]
  },
  {
   "cell_type": "code",
   "execution_count": 3,
   "metadata": {},
   "outputs": [
    {
     "name": "stdout",
     "output_type": "stream",
     "text": [
      "Epoch: 1\n"
     ]
    },
    {
     "name": "stderr",
     "output_type": "stream",
     "text": [
      "Training Loop:  28%|██▊       | 263/938 [28:05<1:08:36,  6.10s/it]"
     ]
    }
   ],
   "source": [
    "trainer = Trainer(diffusion_model=diffusion_model, optimizer=optimizer, use_ema=True, use_guided_diff=True, nb_epochs=1, batch_size=64, device='cpu')\n",
    "trainer.train_loop()\n",
    "# model saved with this:\n",
    "# unet_model = Unet(dim=128, channels=1, dim_mults=(1, 2, 4), resnet_block_groups=8, num_classes=num_classes, use_sinposemb=False) \n",
    "# diffusion_model = DiffusionModel(model=unet_model, image_size=32, in_channels=1, timesteps=1000, beta_schedule='linear')\n",
    "# trainer.load(\"checkpoints/saved_epoch_1_model.pt\")\n",
    "# trainer.sampling(epoch=1, n_samples=16)\n",
    "\n",
    "\"\"\"\n",
    "trainer.load(\"checkpoints/epoch_0_model.pt\")\n",
    "trainer.sampling(epoch=1)\n",
    "trainer.nb_epochs = 2\n",
    "trainer.train_loop()\n",
    "trainer.load(\"checkpoints/epoch_1_model.pt\")\n",
    "print(\"trainer.diffusion_model.timesteps\", trainer.diffusion_model.timesteps)\n",
    "\"\"\"\n"
   ]
  },
  {
   "cell_type": "code",
   "execution_count": null,
   "metadata": {},
   "outputs": [],
   "source": [
    "\n",
    "image = torch.randn(10, 1, 32, 32)\n",
    "t = (torch.rand(10) * 10).long()\n",
    "unet = Unet(dim=128, dim_mults=(1, 2, 2), channels=1, resnet_block_groups=8, learned_sinusoidal_dim=18, num_classes=None)\n",
    "num_param = sum([p.numel() for p in unet.parameters()])\n",
    "print(num_param)\n",
    "x_after = unet(image, t)\n",
    "print(x_after.shape)\n"
   ]
  }
 ],
 "metadata": {
  "kernelspec": {
   "display_name": "diffvenv",
   "language": "python",
   "name": "python3"
  },
  "language_info": {
   "codemirror_mode": {
    "name": "ipython",
    "version": 3
   },
   "file_extension": ".py",
   "mimetype": "text/x-python",
   "name": "python",
   "nbconvert_exporter": "python",
   "pygments_lexer": "ipython3",
   "version": "3.10.4"
  },
  "orig_nbformat": 4
 },
 "nbformat": 4,
 "nbformat_minor": 2
}
