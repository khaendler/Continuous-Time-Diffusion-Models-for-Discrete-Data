{
 "cells": [
  {
   "cell_type": "code",
   "execution_count": 1,
   "metadata": {},
   "outputs": [],
   "source": [
    "from unet import Unet\n",
    "from diffusion_model import DiffusionModel\n",
    "from utils import load_config_from_file"
   ]
  },
  {
   "cell_type": "code",
   "execution_count": null,
   "metadata": {},
   "outputs": [],
   "source": [
    "# Loading the configurations\n",
    "unet_config = load_config_from_file('checkpoints/unet_config_epoch1.json')\n",
    "diffusion_config = load_config_from_file('checkpoints/diffusion_model_epoch1_config.json')\n",
    "\n",
    "# create instance of unet\n",
    "unet_instance = Unet(**unet_config)\n",
    "\n",
    "# create instance of DiffusionModel\n",
    "diffusion_instance = DiffusionModel(unet_instance, **diffusion_config)"
   ]
  }
 ],
 "metadata": {
  "kernelspec": {
   "display_name": "diffvenv",
   "language": "python",
   "name": "python3"
  },
  "language_info": {
   "codemirror_mode": {
    "name": "ipython",
    "version": 3
   },
   "file_extension": ".py",
   "mimetype": "text/x-python",
   "name": "python",
   "nbconvert_exporter": "python",
   "pygments_lexer": "ipython3",
   "version": "3.10.4"
  },
  "orig_nbformat": 4
 },
 "nbformat": 4,
 "nbformat_minor": 2
}
