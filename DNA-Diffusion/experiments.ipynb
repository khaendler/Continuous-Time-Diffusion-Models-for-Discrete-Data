{
 "cells": [
  {
   "cell_type": "code",
   "execution_count": 8,
   "metadata": {},
   "outputs": [
    {
     "name": "stdout",
     "output_type": "stream",
     "text": [
      "(200, 1)\n",
      "x_seq torch.Size([16, 4])\n",
      "y torch.Size([16, 1])\n",
      "x_seq torch.Size([16, 4])\n",
      "y torch.Size([16, 1])\n",
      "x_seq torch.Size([16, 4])\n",
      "y torch.Size([16, 1])\n",
      "x_seq torch.Size([16, 4])\n",
      "y torch.Size([16, 1])\n",
      "x_seq torch.Size([16, 4])\n",
      "y torch.Size([16, 1])\n",
      "x_seq torch.Size([16, 4])\n",
      "y torch.Size([16, 1])\n",
      "x_seq torch.Size([16, 4])\n",
      "y torch.Size([16, 1])\n",
      "x_seq torch.Size([16, 4])\n",
      "y torch.Size([16, 1])\n",
      "x_seq torch.Size([16, 4])\n",
      "y torch.Size([16, 1])\n",
      "x_seq torch.Size([16, 4])\n",
      "y torch.Size([16, 1])\n",
      "x_seq torch.Size([16, 4])\n",
      "y torch.Size([16, 1])\n",
      "x_seq torch.Size([16, 4])\n",
      "y torch.Size([16, 1])\n",
      "x_seq torch.Size([8, 4])\n",
      "y torch.Size([8, 1])\n"
     ]
    }
   ],
   "source": [
    "import numpy as np\n",
    "import torch\n",
    "from data import SequenceDataset\n",
    "from torchvision import transforms \n",
    "from torch.utils.data import DataLoader\n",
    "x = np.random.randn(200, 4)\n",
    "y = np.arange(0, 200).reshape(-1, 1)\n",
    "print(y.shape)\n",
    "from torchvision.transforms import Lambda\n",
    "\n",
    "# Definieren einer benutzerdefinierten Transformationsfunktion\n",
    "tf = transforms.Compose([Lambda(lambda x: torch.tensor(x).float())])\n",
    "#tf = transforms.Compose([transforms.ToTensor()])\n",
    "seq_dataset = SequenceDataset(sequence=x, labels=y, transform=tf)\n",
    "train_dl = DataLoader(seq_dataset, batch_size=16, shuffle=True, num_workers=0, pin_memory=True)\n",
    "\n",
    "for step, batch in enumerate(train_dl):\n",
    "    x_seq, y = batch\n",
    "    print(\"x_seq\", x_seq.shape) # x_seq torch.Size([16, 4]), las 8,4 \n",
    "    print(\"y\", y.shape) # y torch.Size([16, 1]), last 8, 1\n",
    "    "
   ]
  }
 ],
 "metadata": {
  "kernelspec": {
   "display_name": "diffvenv",
   "language": "python",
   "name": "python3"
  },
  "language_info": {
   "codemirror_mode": {
    "name": "ipython",
    "version": 3
   },
   "file_extension": ".py",
   "mimetype": "text/x-python",
   "name": "python",
   "nbconvert_exporter": "python",
   "pygments_lexer": "ipython3",
   "version": "3.10.4"
  },
  "orig_nbformat": 4
 },
 "nbformat": 4,
 "nbformat_minor": 2
}
