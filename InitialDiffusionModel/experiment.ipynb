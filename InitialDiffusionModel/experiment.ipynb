{
 "cells": [
  {
   "cell_type": "code",
   "execution_count": null,
   "metadata": {},
   "outputs": [],
   "source": [
    "import numpy as np\n",
    "import matplotlib.pyplot as plt\n",
    "from initialdiffusionmodel import InitialDiffusionModel\n",
    "import torch\n",
    "import utils\n",
    "from layers import MLP\n"
   ]
  },
  {
   "cell_type": "code",
   "execution_count": null,
   "metadata": {},
   "outputs": [],
   "source": [
    "x0 = utils.sample_batch(5000)\n",
    "plt.scatter(x0[:, 0], x0[:, 1])\n",
    "plt.show()"
   ]
  },
  {
   "cell_type": "code",
   "execution_count": null,
   "metadata": {},
   "outputs": [],
   "source": [
    "T = 40\n",
    "#device = 'cuda'\n",
    "device = 'cpu'\n",
    "mlp_model = MLP(hidden_dim=128).to(device)\n",
    "betas = torch.sigmoid(torch.linspace(-18, 10, T)) * (3e-1 - 1e-5) + 1e-5\n",
    "model = InitialDiffusionModel(T=40, betas=betas, model=mlp_model)\n",
    "optimizer = torch.optim.Adam(mlp_model.parameters(), lr=1e-4)\n"
   ]
  },
  {
   "cell_type": "code",
   "execution_count": null,
   "metadata": {},
   "outputs": [],
   "source": [
    "model, loss = utils.train_loop(diffusion_model=model, optimizer=optimizer, batch_size=64000, nb_epochs=1000, device='cpu')"
   ]
  },
  {
   "cell_type": "code",
   "execution_count": null,
   "metadata": {},
   "outputs": [],
   "source": [
    "T2= int(T / 2)\n",
    "xT2_forw = model.forward_process(x0=x0, t=T2)[-1]\n",
    "xT_forw = model.forward_process(x0=x0, t=T)[-1]\n",
    "utils.create_3_subplots(x0=x0, xT2=xT2_forw, xT=xT_forw)\n",
    "samples = model.sample(5000) #, device=device)\n",
    "x0_back = samples[0]\n",
    "xT2_back = samples[T2]\n",
    "xT_back = samples[T]\n",
    "utils.create_3_subplots(x0=x0_back, xT2=xT2_back, xT=xT_back, use_forw=False)\n",
    "\n"
   ]
  }
 ],
 "metadata": {
  "kernelspec": {
   "display_name": "diffvenv",
   "language": "python",
   "name": "python3"
  },
  "language_info": {
   "codemirror_mode": {
    "name": "ipython",
    "version": 3
   },
   "file_extension": ".py",
   "mimetype": "text/x-python",
   "name": "python",
   "nbconvert_exporter": "python",
   "pygments_lexer": "ipython3",
   "version": "3.10.4"
  },
  "orig_nbformat": 4
 },
 "nbformat": 4,
 "nbformat_minor": 2
}
