{
 "cells": [
  {
   "cell_type": "code",
   "execution_count": 6,
   "metadata": {},
   "outputs": [],
   "source": [
    "import numpy as np\n",
    "import torch"
   ]
  },
  {
   "cell_type": "code",
   "execution_count": 9,
   "metadata": {},
   "outputs": [
    {
     "name": "stdout",
     "output_type": "stream",
     "text": [
      "torch.Size([1, 10, 10])\n"
     ]
    },
    {
     "ename": "AttributeError",
     "evalue": "'int' object has no attribute 'view'",
     "output_type": "error",
     "traceback": [
      "\u001b[0;31m---------------------------------------------------------------------------\u001b[0m",
      "\u001b[0;31mAttributeError\u001b[0m                            Traceback (most recent call last)",
      "Cell \u001b[0;32mIn[9], line 9\u001b[0m\n\u001b[1;32m      7\u001b[0m rate_scalars \u001b[39m=\u001b[39m \u001b[39m3\u001b[39m\n\u001b[1;32m      8\u001b[0m \u001b[39mprint\u001b[39m(base_rate\u001b[39m.\u001b[39mview(\u001b[39m1\u001b[39m, S, S)\u001b[39m.\u001b[39mshape)\n\u001b[0;32m----> 9\u001b[0m new_b \u001b[39m=\u001b[39m base_rate\u001b[39m.\u001b[39mview(\u001b[39m1\u001b[39m, S, S) \u001b[39m*\u001b[39m rate_scalars\u001b[39m.\u001b[39;49mview(B, \u001b[39m1\u001b[39m, \u001b[39m1\u001b[39m)\n\u001b[1;32m     12\u001b[0m \u001b[39mprint\u001b[39m(base_rate)\n\u001b[1;32m     13\u001b[0m \u001b[39mprint\u001b[39m(new_b)\n",
      "\u001b[0;31mAttributeError\u001b[0m: 'int' object has no attribute 'view'"
     ]
    }
   ],
   "source": [
    "S = 10\n",
    "B = 2\n",
    "base_rate = np.diag(np.ones((S-1,)), 1)\n",
    "base_rate += np.diag(np.ones((S-1,)), -1)\n",
    "base_rate -= np.diag(np.sum(base_rate, axis=1))\n",
    "base_rate = torch.from_numpy(base_rate).float()\n",
    "rate_scalars = 3\n",
    "print(base_rate.view(1, S, S).shape)\n",
    "new_b = base_rate.view(1, S, S) * rate_scalars.view(B, 1, 1)\n",
    "\n",
    "\n",
    "print(base_rate)\n",
    "print(new_b)\n"
   ]
  }
 ],
 "metadata": {
  "kernelspec": {
   "display_name": "diffvenv",
   "language": "python",
   "name": "python3"
  },
  "language_info": {
   "codemirror_mode": {
    "name": "ipython",
    "version": 3
   },
   "file_extension": ".py",
   "mimetype": "text/x-python",
   "name": "python",
   "nbconvert_exporter": "python",
   "pygments_lexer": "ipython3",
   "version": "3.10.4"
  },
  "orig_nbformat": 4
 },
 "nbformat": 4,
 "nbformat_minor": 2
}
